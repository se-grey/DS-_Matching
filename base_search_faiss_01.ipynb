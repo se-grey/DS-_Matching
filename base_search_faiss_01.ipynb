{
  "nbformat": 4,
  "nbformat_minor": 0,
  "metadata": {
    "colab": {
      "provenance": [],
      "toc_visible": true
    },
    "kernelspec": {
      "name": "python3",
      "display_name": "Python 3"
    },
    "language_info": {
      "name": "python"
    }
  },
  "cells": [
    {
      "cell_type": "markdown",
      "source": [
        "# Мастерская 2 (DS20+). Решение задачи мэтчинга для \"склада товаров\""
      ],
      "metadata": {
        "id": "5OBZgAFqZAFU"
      }
    },
    {
      "cell_type": "markdown",
      "source": [],
      "metadata": {
        "id": "DnDg7hPCHKHH"
      }
    },
    {
      "cell_type": "markdown",
      "source": [
        "Входные данные:\n",
        "- `base.csv` - анонимизированный набор товаров. Каждый товар представлен как уникальный id (0-base, 1-base, 2-base) и вектор признаков размерностью 72.\n",
        "- `target.csv` - обучающий датасет. Каждая строчка - один товар, для которого известен уникальный id (0-query, 1-query, …), вектор признаков И id товара из base.csv, который максимально похож на него (по мнению экспертов).\n",
        "- `validation.csv` - датасет с товарами (уникальный id и вектор признаков), для которых надо найти наиболее близкие товары из base.csv\n",
        "- `validation_answer.csv` - правильные ответы к предыдущему файлу.\n"
      ],
      "metadata": {
        "id": "TS9Vri6GZM4y"
      }
    },
    {
      "cell_type": "markdown",
      "source": [
        "Задачи:\n",
        "- разработать алгоритм, который для всех товаров из `validation.csv` предложит несколько вариантов наиболее похожих товаров из `base`\n",
        "\n",
        "- оценить качество алгоритма по метрике **accuracy@5**\n",
        "\n",
        "- *деплой: разработать REST API сервис, который по предложенным данным будем предлагать несколько похожих товаров."
      ],
      "metadata": {
        "id": "3s-60YCEZheM"
      }
    },
    {
      "cell_type": "markdown",
      "source": [
        "Основная задача матчинга будет решаться алгоритмом приближённого поиска ближайших соседей с помощью библиотеки `FAISS`."
      ],
      "metadata": {
        "id": "YSKEh_JwZx2l"
      }
    },
    {
      "cell_type": "markdown",
      "source": [
        "## Подготовка среды"
      ],
      "metadata": {
        "id": "phPZmE3IcsN4"
      }
    },
    {
      "cell_type": "markdown",
      "source": [
        "### Импорт библиотек"
      ],
      "metadata": {
        "id": "sqXsbrp7dANS"
      }
    },
    {
      "cell_type": "code",
      "execution_count": 1,
      "metadata": {
        "colab": {
          "base_uri": "https://localhost:8080/"
        },
        "id": "XdjFOtk8Dboj",
        "outputId": "99aa4489-abcc-4f3d-fa20-924bd3da45d4"
      },
      "outputs": [
        {
          "output_type": "stream",
          "name": "stdout",
          "text": [
            "Requirement already satisfied: faiss-cpu in /usr/local/lib/python3.10/dist-packages (1.7.4)\n"
          ]
        }
      ],
      "source": [
        "!pip install faiss-cpu"
      ]
    },
    {
      "cell_type": "code",
      "source": [
        "import pandas as pd\n",
        "import numpy as np\n",
        "import faiss\n",
        "# from tqdm.notebook import tqdm\n",
        "from sklearn.preprocessing import RobustScaler, StandardScaler, MinMaxScaler"
      ],
      "metadata": {
        "id": "qlRy310fD_cx"
      },
      "execution_count": 2,
      "outputs": []
    },
    {
      "cell_type": "code",
      "source": [
        "# библиотеки, необходимые для загрузки из облака архива с данными\n",
        "# и его распаковки в текущую файловую систему\n",
        "import zipfile\n",
        "import requests\n",
        "from urllib.parse import urlencode\n",
        "import os.path"
      ],
      "metadata": {
        "id": "W6gcZIbsEKzy"
      },
      "execution_count": 3,
      "outputs": []
    },
    {
      "cell_type": "code",
      "source": [
        "pip install catboost"
      ],
      "metadata": {
        "id": "LxjHZZOP6PYz",
        "colab": {
          "base_uri": "https://localhost:8080/"
        },
        "outputId": "5fc68d57-230e-4b6e-dfb0-fdb18d6afa1e"
      },
      "execution_count": 4,
      "outputs": [
        {
          "output_type": "stream",
          "name": "stdout",
          "text": [
            "Requirement already satisfied: catboost in /usr/local/lib/python3.10/dist-packages (1.2.2)\n",
            "Requirement already satisfied: graphviz in /usr/local/lib/python3.10/dist-packages (from catboost) (0.20.1)\n",
            "Requirement already satisfied: matplotlib in /usr/local/lib/python3.10/dist-packages (from catboost) (3.7.1)\n",
            "Requirement already satisfied: numpy>=1.16.0 in /usr/local/lib/python3.10/dist-packages (from catboost) (1.23.5)\n",
            "Requirement already satisfied: pandas>=0.24 in /usr/local/lib/python3.10/dist-packages (from catboost) (1.5.3)\n",
            "Requirement already satisfied: scipy in /usr/local/lib/python3.10/dist-packages (from catboost) (1.11.3)\n",
            "Requirement already satisfied: plotly in /usr/local/lib/python3.10/dist-packages (from catboost) (5.15.0)\n",
            "Requirement already satisfied: six in /usr/local/lib/python3.10/dist-packages (from catboost) (1.16.0)\n",
            "Requirement already satisfied: python-dateutil>=2.8.1 in /usr/local/lib/python3.10/dist-packages (from pandas>=0.24->catboost) (2.8.2)\n",
            "Requirement already satisfied: pytz>=2020.1 in /usr/local/lib/python3.10/dist-packages (from pandas>=0.24->catboost) (2023.3.post1)\n",
            "Requirement already satisfied: contourpy>=1.0.1 in /usr/local/lib/python3.10/dist-packages (from matplotlib->catboost) (1.1.1)\n",
            "Requirement already satisfied: cycler>=0.10 in /usr/local/lib/python3.10/dist-packages (from matplotlib->catboost) (0.12.0)\n",
            "Requirement already satisfied: fonttools>=4.22.0 in /usr/local/lib/python3.10/dist-packages (from matplotlib->catboost) (4.43.0)\n",
            "Requirement already satisfied: kiwisolver>=1.0.1 in /usr/local/lib/python3.10/dist-packages (from matplotlib->catboost) (1.4.5)\n",
            "Requirement already satisfied: packaging>=20.0 in /usr/local/lib/python3.10/dist-packages (from matplotlib->catboost) (23.1)\n",
            "Requirement already satisfied: pillow>=6.2.0 in /usr/local/lib/python3.10/dist-packages (from matplotlib->catboost) (9.4.0)\n",
            "Requirement already satisfied: pyparsing>=2.3.1 in /usr/local/lib/python3.10/dist-packages (from matplotlib->catboost) (3.1.1)\n",
            "Requirement already satisfied: tenacity>=6.2.0 in /usr/local/lib/python3.10/dist-packages (from plotly->catboost) (8.2.3)\n"
          ]
        }
      ]
    },
    {
      "cell_type": "code",
      "source": [
        "from sklearn.model_selection import train_test_split\n",
        "from catboost import CatBoostClassifier\n",
        "from catboost import cv, Pool\n",
        "from sklearn.metrics import roc_auc_score, roc_curve\n",
        "from joblib import dump, load\n",
        "import matplotlib.pyplot as plt"
      ],
      "metadata": {
        "id": "602vuP-f6ZdC"
      },
      "execution_count": 5,
      "outputs": []
    },
    {
      "cell_type": "markdown",
      "source": [
        "### Загрузка данных из облака"
      ],
      "metadata": {
        "id": "aH8RkWdFEUrT"
      }
    },
    {
      "cell_type": "markdown",
      "source": [
        "Загрузим архив с данными из облака yandex.drive и распакуем файлы на виртуальный диск Colab"
      ],
      "metadata": {
        "id": "58fYegZ4diMd"
      }
    },
    {
      "cell_type": "code",
      "source": [
        "base_url = 'https://cloud-api.yandex.net/v1/disk/public/resources/download?'\n",
        "public_key = 'https://disk.yandex.ru/d/BBEphK0EHSJ5Jw'\n",
        "zip_path = '/content/drive/MyDrive/data.zip'\n",
        "#zip_path = '/content/data.zip'\n",
        "\n",
        "final_url = base_url + urlencode(dict(public_key=public_key))\n",
        "response = requests.get(final_url)\n",
        "download_url = response.json()['href']"
      ],
      "metadata": {
        "id": "7Z9fiOddfR6u"
      },
      "execution_count": 6,
      "outputs": []
    },
    {
      "cell_type": "code",
      "source": [
        "if not os.path.exists(zip_path):\n",
        "  download_response = requests.get(download_url)\n",
        "  with open(zip_path, 'wb') as f:\n",
        "    f.write(download_response.content)"
      ],
      "metadata": {
        "id": "O4UnJDRhEb4T"
      },
      "execution_count": 7,
      "outputs": []
    },
    {
      "cell_type": "code",
      "source": [
        "# Распаковка zip-архива\n",
        "if not os.path.exists('/content/base.csv'):\n",
        "  with zipfile.ZipFile(zip_path, 'r') as zip_ref:\n",
        "    zip_ref.extractall()"
      ],
      "metadata": {
        "id": "bBJbAVJwjTpJ"
      },
      "execution_count": 8,
      "outputs": []
    },
    {
      "cell_type": "markdown",
      "source": [
        "### Чтение датасетов"
      ],
      "metadata": {
        "id": "-27Ru9snjf06"
      }
    },
    {
      "cell_type": "markdown",
      "source": [
        "Подготовим словарь для корректной загрузки типов данных. По умолчанию загружается float64, мы используем float32."
      ],
      "metadata": {
        "id": "yDly8PMGE8ea"
      }
    },
    {
      "cell_type": "code",
      "source": [
        "dict_base = {}\n",
        "for i in range(72):\n",
        "    dict_base[str(i)] = 'float32'\n",
        "\n",
        "dict_train = dict_base.copy()\n",
        "dict_train['Target'] = 'str'"
      ],
      "metadata": {
        "id": "xLCSiaXKE9oI"
      },
      "execution_count": 9,
      "outputs": []
    },
    {
      "cell_type": "markdown",
      "source": [
        "Загрузка основного датасета `base.csv`"
      ],
      "metadata": {
        "id": "rUrirCtCFJFM"
      }
    },
    {
      "cell_type": "code",
      "source": [
        "df_base = pd.read_csv(\"/content/base.csv\", index_col=0, dtype=dict_base)\n",
        "df_base.sample(5)"
      ],
      "metadata": {
        "colab": {
          "base_uri": "https://localhost:8080/",
          "height": 374
        },
        "id": "TL7jRf7qFMlb",
        "outputId": "0edb9eb7-8d27-4fd5-b431-3d65131c1d54"
      },
      "execution_count": 10,
      "outputs": [
        {
          "output_type": "execute_result",
          "data": {
            "text/plain": [
              "                       0          1           2           3           4  \\\n",
              "Id                                                                        \n",
              "284530-base   -79.616257  -0.450382   77.687073 -158.627823  136.897461   \n",
              "2319113-base  -56.560768  15.642746  -57.586929 -119.791550  108.444847   \n",
              "2311030-base -100.692444  11.026220    1.049137 -170.453140  193.436707   \n",
              "231970-base   -77.699585   7.839599   50.463646 -123.651947   51.148983   \n",
              "3531602-base  -53.069176   7.658435 -117.526321 -124.371025  124.765793   \n",
              "\n",
              "                       5           6          7           8           9  ...  \\\n",
              "Id                                                                       ...   \n",
              "284530-base  -107.410217 -224.696381  97.063560  137.126236  154.108337  ...   \n",
              "2319113-base -130.147903 -759.626038  31.498629  126.343117  187.631714  ...   \n",
              "2311030-base  -63.800365 -207.028671   3.003248  129.651062  183.088120  ...   \n",
              "231970-base   -50.896927 -759.626038 -20.151285  123.066475  116.143005  ...   \n",
              "3531602-base  -55.893261 -606.931335  12.045328  126.421913  219.864365  ...   \n",
              "\n",
              "                      62         63          64          65         66  \\\n",
              "Id                                                                       \n",
              "284530-base   -82.157806  24.438972 -165.631104  122.627609  68.991364   \n",
              "2319113-base -116.798920  14.712795 -141.073532 -137.183945  69.775711   \n",
              "2311030-base  -88.253075  48.478619 -106.724823  -59.119354  70.663139   \n",
              "231970-base    -2.184578  76.346634 -134.710022 -134.441010  64.566513   \n",
              "3531602-base  -99.893074  25.126053 -147.254929  -76.936104  68.461273   \n",
              "\n",
              "                     67         68          69           70          71  \n",
              "Id                                                                       \n",
              "284530-base    0.970984  46.590046  119.468765 -1074.464844 -133.674255  \n",
              "2319113-base -39.610870  -2.749245  138.141296  -998.319824  -58.718086  \n",
              "2311030-base  46.492470  47.921036   97.982880  -511.342438  -91.318886  \n",
              "231970-base  -55.968403   3.494137  126.438042  -395.255432  -74.235992  \n",
              "3531602-base  40.856461  25.486137  102.071037 -1074.464844  -45.365246  \n",
              "\n",
              "[5 rows x 72 columns]"
            ],
            "text/html": [
              "\n",
              "  <div id=\"df-71443e56-6105-4f9d-8578-ad106904982e\" class=\"colab-df-container\">\n",
              "    <div>\n",
              "<style scoped>\n",
              "    .dataframe tbody tr th:only-of-type {\n",
              "        vertical-align: middle;\n",
              "    }\n",
              "\n",
              "    .dataframe tbody tr th {\n",
              "        vertical-align: top;\n",
              "    }\n",
              "\n",
              "    .dataframe thead th {\n",
              "        text-align: right;\n",
              "    }\n",
              "</style>\n",
              "<table border=\"1\" class=\"dataframe\">\n",
              "  <thead>\n",
              "    <tr style=\"text-align: right;\">\n",
              "      <th></th>\n",
              "      <th>0</th>\n",
              "      <th>1</th>\n",
              "      <th>2</th>\n",
              "      <th>3</th>\n",
              "      <th>4</th>\n",
              "      <th>5</th>\n",
              "      <th>6</th>\n",
              "      <th>7</th>\n",
              "      <th>8</th>\n",
              "      <th>9</th>\n",
              "      <th>...</th>\n",
              "      <th>62</th>\n",
              "      <th>63</th>\n",
              "      <th>64</th>\n",
              "      <th>65</th>\n",
              "      <th>66</th>\n",
              "      <th>67</th>\n",
              "      <th>68</th>\n",
              "      <th>69</th>\n",
              "      <th>70</th>\n",
              "      <th>71</th>\n",
              "    </tr>\n",
              "    <tr>\n",
              "      <th>Id</th>\n",
              "      <th></th>\n",
              "      <th></th>\n",
              "      <th></th>\n",
              "      <th></th>\n",
              "      <th></th>\n",
              "      <th></th>\n",
              "      <th></th>\n",
              "      <th></th>\n",
              "      <th></th>\n",
              "      <th></th>\n",
              "      <th></th>\n",
              "      <th></th>\n",
              "      <th></th>\n",
              "      <th></th>\n",
              "      <th></th>\n",
              "      <th></th>\n",
              "      <th></th>\n",
              "      <th></th>\n",
              "      <th></th>\n",
              "      <th></th>\n",
              "      <th></th>\n",
              "    </tr>\n",
              "  </thead>\n",
              "  <tbody>\n",
              "    <tr>\n",
              "      <th>284530-base</th>\n",
              "      <td>-79.616257</td>\n",
              "      <td>-0.450382</td>\n",
              "      <td>77.687073</td>\n",
              "      <td>-158.627823</td>\n",
              "      <td>136.897461</td>\n",
              "      <td>-107.410217</td>\n",
              "      <td>-224.696381</td>\n",
              "      <td>97.063560</td>\n",
              "      <td>137.126236</td>\n",
              "      <td>154.108337</td>\n",
              "      <td>...</td>\n",
              "      <td>-82.157806</td>\n",
              "      <td>24.438972</td>\n",
              "      <td>-165.631104</td>\n",
              "      <td>122.627609</td>\n",
              "      <td>68.991364</td>\n",
              "      <td>0.970984</td>\n",
              "      <td>46.590046</td>\n",
              "      <td>119.468765</td>\n",
              "      <td>-1074.464844</td>\n",
              "      <td>-133.674255</td>\n",
              "    </tr>\n",
              "    <tr>\n",
              "      <th>2319113-base</th>\n",
              "      <td>-56.560768</td>\n",
              "      <td>15.642746</td>\n",
              "      <td>-57.586929</td>\n",
              "      <td>-119.791550</td>\n",
              "      <td>108.444847</td>\n",
              "      <td>-130.147903</td>\n",
              "      <td>-759.626038</td>\n",
              "      <td>31.498629</td>\n",
              "      <td>126.343117</td>\n",
              "      <td>187.631714</td>\n",
              "      <td>...</td>\n",
              "      <td>-116.798920</td>\n",
              "      <td>14.712795</td>\n",
              "      <td>-141.073532</td>\n",
              "      <td>-137.183945</td>\n",
              "      <td>69.775711</td>\n",
              "      <td>-39.610870</td>\n",
              "      <td>-2.749245</td>\n",
              "      <td>138.141296</td>\n",
              "      <td>-998.319824</td>\n",
              "      <td>-58.718086</td>\n",
              "    </tr>\n",
              "    <tr>\n",
              "      <th>2311030-base</th>\n",
              "      <td>-100.692444</td>\n",
              "      <td>11.026220</td>\n",
              "      <td>1.049137</td>\n",
              "      <td>-170.453140</td>\n",
              "      <td>193.436707</td>\n",
              "      <td>-63.800365</td>\n",
              "      <td>-207.028671</td>\n",
              "      <td>3.003248</td>\n",
              "      <td>129.651062</td>\n",
              "      <td>183.088120</td>\n",
              "      <td>...</td>\n",
              "      <td>-88.253075</td>\n",
              "      <td>48.478619</td>\n",
              "      <td>-106.724823</td>\n",
              "      <td>-59.119354</td>\n",
              "      <td>70.663139</td>\n",
              "      <td>46.492470</td>\n",
              "      <td>47.921036</td>\n",
              "      <td>97.982880</td>\n",
              "      <td>-511.342438</td>\n",
              "      <td>-91.318886</td>\n",
              "    </tr>\n",
              "    <tr>\n",
              "      <th>231970-base</th>\n",
              "      <td>-77.699585</td>\n",
              "      <td>7.839599</td>\n",
              "      <td>50.463646</td>\n",
              "      <td>-123.651947</td>\n",
              "      <td>51.148983</td>\n",
              "      <td>-50.896927</td>\n",
              "      <td>-759.626038</td>\n",
              "      <td>-20.151285</td>\n",
              "      <td>123.066475</td>\n",
              "      <td>116.143005</td>\n",
              "      <td>...</td>\n",
              "      <td>-2.184578</td>\n",
              "      <td>76.346634</td>\n",
              "      <td>-134.710022</td>\n",
              "      <td>-134.441010</td>\n",
              "      <td>64.566513</td>\n",
              "      <td>-55.968403</td>\n",
              "      <td>3.494137</td>\n",
              "      <td>126.438042</td>\n",
              "      <td>-395.255432</td>\n",
              "      <td>-74.235992</td>\n",
              "    </tr>\n",
              "    <tr>\n",
              "      <th>3531602-base</th>\n",
              "      <td>-53.069176</td>\n",
              "      <td>7.658435</td>\n",
              "      <td>-117.526321</td>\n",
              "      <td>-124.371025</td>\n",
              "      <td>124.765793</td>\n",
              "      <td>-55.893261</td>\n",
              "      <td>-606.931335</td>\n",
              "      <td>12.045328</td>\n",
              "      <td>126.421913</td>\n",
              "      <td>219.864365</td>\n",
              "      <td>...</td>\n",
              "      <td>-99.893074</td>\n",
              "      <td>25.126053</td>\n",
              "      <td>-147.254929</td>\n",
              "      <td>-76.936104</td>\n",
              "      <td>68.461273</td>\n",
              "      <td>40.856461</td>\n",
              "      <td>25.486137</td>\n",
              "      <td>102.071037</td>\n",
              "      <td>-1074.464844</td>\n",
              "      <td>-45.365246</td>\n",
              "    </tr>\n",
              "  </tbody>\n",
              "</table>\n",
              "<p>5 rows × 72 columns</p>\n",
              "</div>\n",
              "    <div class=\"colab-df-buttons\">\n",
              "\n",
              "  <div class=\"colab-df-container\">\n",
              "    <button class=\"colab-df-convert\" onclick=\"convertToInteractive('df-71443e56-6105-4f9d-8578-ad106904982e')\"\n",
              "            title=\"Convert this dataframe to an interactive table.\"\n",
              "            style=\"display:none;\">\n",
              "\n",
              "  <svg xmlns=\"http://www.w3.org/2000/svg\" height=\"24px\" viewBox=\"0 -960 960 960\">\n",
              "    <path d=\"M120-120v-720h720v720H120Zm60-500h600v-160H180v160Zm220 220h160v-160H400v160Zm0 220h160v-160H400v160ZM180-400h160v-160H180v160Zm440 0h160v-160H620v160ZM180-180h160v-160H180v160Zm440 0h160v-160H620v160Z\"/>\n",
              "  </svg>\n",
              "    </button>\n",
              "\n",
              "  <style>\n",
              "    .colab-df-container {\n",
              "      display:flex;\n",
              "      gap: 12px;\n",
              "    }\n",
              "\n",
              "    .colab-df-convert {\n",
              "      background-color: #E8F0FE;\n",
              "      border: none;\n",
              "      border-radius: 50%;\n",
              "      cursor: pointer;\n",
              "      display: none;\n",
              "      fill: #1967D2;\n",
              "      height: 32px;\n",
              "      padding: 0 0 0 0;\n",
              "      width: 32px;\n",
              "    }\n",
              "\n",
              "    .colab-df-convert:hover {\n",
              "      background-color: #E2EBFA;\n",
              "      box-shadow: 0px 1px 2px rgba(60, 64, 67, 0.3), 0px 1px 3px 1px rgba(60, 64, 67, 0.15);\n",
              "      fill: #174EA6;\n",
              "    }\n",
              "\n",
              "    .colab-df-buttons div {\n",
              "      margin-bottom: 4px;\n",
              "    }\n",
              "\n",
              "    [theme=dark] .colab-df-convert {\n",
              "      background-color: #3B4455;\n",
              "      fill: #D2E3FC;\n",
              "    }\n",
              "\n",
              "    [theme=dark] .colab-df-convert:hover {\n",
              "      background-color: #434B5C;\n",
              "      box-shadow: 0px 1px 3px 1px rgba(0, 0, 0, 0.15);\n",
              "      filter: drop-shadow(0px 1px 2px rgba(0, 0, 0, 0.3));\n",
              "      fill: #FFFFFF;\n",
              "    }\n",
              "  </style>\n",
              "\n",
              "    <script>\n",
              "      const buttonEl =\n",
              "        document.querySelector('#df-71443e56-6105-4f9d-8578-ad106904982e button.colab-df-convert');\n",
              "      buttonEl.style.display =\n",
              "        google.colab.kernel.accessAllowed ? 'block' : 'none';\n",
              "\n",
              "      async function convertToInteractive(key) {\n",
              "        const element = document.querySelector('#df-71443e56-6105-4f9d-8578-ad106904982e');\n",
              "        const dataTable =\n",
              "          await google.colab.kernel.invokeFunction('convertToInteractive',\n",
              "                                                    [key], {});\n",
              "        if (!dataTable) return;\n",
              "\n",
              "        const docLinkHtml = 'Like what you see? Visit the ' +\n",
              "          '<a target=\"_blank\" href=https://colab.research.google.com/notebooks/data_table.ipynb>data table notebook</a>'\n",
              "          + ' to learn more about interactive tables.';\n",
              "        element.innerHTML = '';\n",
              "        dataTable['output_type'] = 'display_data';\n",
              "        await google.colab.output.renderOutput(dataTable, element);\n",
              "        const docLink = document.createElement('div');\n",
              "        docLink.innerHTML = docLinkHtml;\n",
              "        element.appendChild(docLink);\n",
              "      }\n",
              "    </script>\n",
              "  </div>\n",
              "\n",
              "\n",
              "<div id=\"df-be9d00e2-7c14-4070-96ab-580a169d658a\">\n",
              "  <button class=\"colab-df-quickchart\" onclick=\"quickchart('df-be9d00e2-7c14-4070-96ab-580a169d658a')\"\n",
              "            title=\"Suggest charts.\"\n",
              "            style=\"display:none;\">\n",
              "\n",
              "<svg xmlns=\"http://www.w3.org/2000/svg\" height=\"24px\"viewBox=\"0 0 24 24\"\n",
              "     width=\"24px\">\n",
              "    <g>\n",
              "        <path d=\"M19 3H5c-1.1 0-2 .9-2 2v14c0 1.1.9 2 2 2h14c1.1 0 2-.9 2-2V5c0-1.1-.9-2-2-2zM9 17H7v-7h2v7zm4 0h-2V7h2v10zm4 0h-2v-4h2v4z\"/>\n",
              "    </g>\n",
              "</svg>\n",
              "  </button>\n",
              "\n",
              "<style>\n",
              "  .colab-df-quickchart {\n",
              "      --bg-color: #E8F0FE;\n",
              "      --fill-color: #1967D2;\n",
              "      --hover-bg-color: #E2EBFA;\n",
              "      --hover-fill-color: #174EA6;\n",
              "      --disabled-fill-color: #AAA;\n",
              "      --disabled-bg-color: #DDD;\n",
              "  }\n",
              "\n",
              "  [theme=dark] .colab-df-quickchart {\n",
              "      --bg-color: #3B4455;\n",
              "      --fill-color: #D2E3FC;\n",
              "      --hover-bg-color: #434B5C;\n",
              "      --hover-fill-color: #FFFFFF;\n",
              "      --disabled-bg-color: #3B4455;\n",
              "      --disabled-fill-color: #666;\n",
              "  }\n",
              "\n",
              "  .colab-df-quickchart {\n",
              "    background-color: var(--bg-color);\n",
              "    border: none;\n",
              "    border-radius: 50%;\n",
              "    cursor: pointer;\n",
              "    display: none;\n",
              "    fill: var(--fill-color);\n",
              "    height: 32px;\n",
              "    padding: 0;\n",
              "    width: 32px;\n",
              "  }\n",
              "\n",
              "  .colab-df-quickchart:hover {\n",
              "    background-color: var(--hover-bg-color);\n",
              "    box-shadow: 0 1px 2px rgba(60, 64, 67, 0.3), 0 1px 3px 1px rgba(60, 64, 67, 0.15);\n",
              "    fill: var(--button-hover-fill-color);\n",
              "  }\n",
              "\n",
              "  .colab-df-quickchart-complete:disabled,\n",
              "  .colab-df-quickchart-complete:disabled:hover {\n",
              "    background-color: var(--disabled-bg-color);\n",
              "    fill: var(--disabled-fill-color);\n",
              "    box-shadow: none;\n",
              "  }\n",
              "\n",
              "  .colab-df-spinner {\n",
              "    border: 2px solid var(--fill-color);\n",
              "    border-color: transparent;\n",
              "    border-bottom-color: var(--fill-color);\n",
              "    animation:\n",
              "      spin 1s steps(1) infinite;\n",
              "  }\n",
              "\n",
              "  @keyframes spin {\n",
              "    0% {\n",
              "      border-color: transparent;\n",
              "      border-bottom-color: var(--fill-color);\n",
              "      border-left-color: var(--fill-color);\n",
              "    }\n",
              "    20% {\n",
              "      border-color: transparent;\n",
              "      border-left-color: var(--fill-color);\n",
              "      border-top-color: var(--fill-color);\n",
              "    }\n",
              "    30% {\n",
              "      border-color: transparent;\n",
              "      border-left-color: var(--fill-color);\n",
              "      border-top-color: var(--fill-color);\n",
              "      border-right-color: var(--fill-color);\n",
              "    }\n",
              "    40% {\n",
              "      border-color: transparent;\n",
              "      border-right-color: var(--fill-color);\n",
              "      border-top-color: var(--fill-color);\n",
              "    }\n",
              "    60% {\n",
              "      border-color: transparent;\n",
              "      border-right-color: var(--fill-color);\n",
              "    }\n",
              "    80% {\n",
              "      border-color: transparent;\n",
              "      border-right-color: var(--fill-color);\n",
              "      border-bottom-color: var(--fill-color);\n",
              "    }\n",
              "    90% {\n",
              "      border-color: transparent;\n",
              "      border-bottom-color: var(--fill-color);\n",
              "    }\n",
              "  }\n",
              "</style>\n",
              "\n",
              "  <script>\n",
              "    async function quickchart(key) {\n",
              "      const quickchartButtonEl =\n",
              "        document.querySelector('#' + key + ' button');\n",
              "      quickchartButtonEl.disabled = true;  // To prevent multiple clicks.\n",
              "      quickchartButtonEl.classList.add('colab-df-spinner');\n",
              "      try {\n",
              "        const charts = await google.colab.kernel.invokeFunction(\n",
              "            'suggestCharts', [key], {});\n",
              "      } catch (error) {\n",
              "        console.error('Error during call to suggestCharts:', error);\n",
              "      }\n",
              "      quickchartButtonEl.classList.remove('colab-df-spinner');\n",
              "      quickchartButtonEl.classList.add('colab-df-quickchart-complete');\n",
              "    }\n",
              "    (() => {\n",
              "      let quickchartButtonEl =\n",
              "        document.querySelector('#df-be9d00e2-7c14-4070-96ab-580a169d658a button');\n",
              "      quickchartButtonEl.style.display =\n",
              "        google.colab.kernel.accessAllowed ? 'block' : 'none';\n",
              "    })();\n",
              "  </script>\n",
              "</div>\n",
              "    </div>\n",
              "  </div>\n"
            ]
          },
          "metadata": {},
          "execution_count": 10
        }
      ]
    },
    {
      "cell_type": "code",
      "source": [
        "df_base.shape"
      ],
      "metadata": {
        "colab": {
          "base_uri": "https://localhost:8080/"
        },
        "id": "iCitbPgxFOZl",
        "outputId": "27753a74-c528-4fa1-f616-4eb81a9bd2b1"
      },
      "execution_count": 11,
      "outputs": [
        {
          "output_type": "execute_result",
          "data": {
            "text/plain": [
              "(2918139, 72)"
            ]
          },
          "metadata": {},
          "execution_count": 11
        }
      ]
    },
    {
      "cell_type": "code",
      "source": [
        "df_base[['0','32','71']].info()"
      ],
      "metadata": {
        "colab": {
          "base_uri": "https://localhost:8080/"
        },
        "id": "Yu32UhxpFRqE",
        "outputId": "3ea32021-035c-4b83-fbb3-f9238c4eef92"
      },
      "execution_count": 12,
      "outputs": [
        {
          "output_type": "stream",
          "name": "stdout",
          "text": [
            "<class 'pandas.core.frame.DataFrame'>\n",
            "Index: 2918139 entries, 0-base to 4744766-base\n",
            "Data columns (total 3 columns):\n",
            " #   Column  Dtype  \n",
            "---  ------  -----  \n",
            " 0   0       float32\n",
            " 1   32      float32\n",
            " 2   71      float32\n",
            "dtypes: float32(3)\n",
            "memory usage: 55.7+ MB\n"
          ]
        }
      ]
    },
    {
      "cell_type": "markdown",
      "source": [
        "Загрузка датасета с таргетами `train.csv`"
      ],
      "metadata": {
        "id": "OQn3HRo-FXKp"
      }
    },
    {
      "cell_type": "code",
      "source": [
        "df_train = pd.read_csv(\"/content/train.csv\", index_col=0, dtype=dict_train)\n",
        "df_train.sample()"
      ],
      "metadata": {
        "colab": {
          "base_uri": "https://localhost:8080/",
          "height": 179
        },
        "id": "t0Vuni4xFXnP",
        "outputId": "6b5d49f0-a579-4889-a035-b7d3a280bd9d"
      },
      "execution_count": 13,
      "outputs": [
        {
          "output_type": "execute_result",
          "data": {
            "text/plain": [
              "                     0         1          2           3          4         5  \\\n",
              "Id                                                                             \n",
              "54009-query -44.456882  6.417444 -40.913433 -154.034683  70.546387 -90.28389   \n",
              "\n",
              "                      6         7          8          9  ...         63  \\\n",
              "Id                                                       ...              \n",
              "54009-query -376.754517  25.10906  127.79599  74.979073  ...  33.727509   \n",
              "\n",
              "                     64       65         66         67         68          69  \\\n",
              "Id                                                                              \n",
              "54009-query -202.535889  0.22846  68.464668  48.002937  71.623383  126.543015   \n",
              "\n",
              "                      70         71        Target  \n",
              "Id                                                 \n",
              "54009-query -1074.464844 -42.848087  2669165-base  \n",
              "\n",
              "[1 rows x 73 columns]"
            ],
            "text/html": [
              "\n",
              "  <div id=\"df-34d79dc8-d5bf-45b5-96e2-794c5a312a26\" class=\"colab-df-container\">\n",
              "    <div>\n",
              "<style scoped>\n",
              "    .dataframe tbody tr th:only-of-type {\n",
              "        vertical-align: middle;\n",
              "    }\n",
              "\n",
              "    .dataframe tbody tr th {\n",
              "        vertical-align: top;\n",
              "    }\n",
              "\n",
              "    .dataframe thead th {\n",
              "        text-align: right;\n",
              "    }\n",
              "</style>\n",
              "<table border=\"1\" class=\"dataframe\">\n",
              "  <thead>\n",
              "    <tr style=\"text-align: right;\">\n",
              "      <th></th>\n",
              "      <th>0</th>\n",
              "      <th>1</th>\n",
              "      <th>2</th>\n",
              "      <th>3</th>\n",
              "      <th>4</th>\n",
              "      <th>5</th>\n",
              "      <th>6</th>\n",
              "      <th>7</th>\n",
              "      <th>8</th>\n",
              "      <th>9</th>\n",
              "      <th>...</th>\n",
              "      <th>63</th>\n",
              "      <th>64</th>\n",
              "      <th>65</th>\n",
              "      <th>66</th>\n",
              "      <th>67</th>\n",
              "      <th>68</th>\n",
              "      <th>69</th>\n",
              "      <th>70</th>\n",
              "      <th>71</th>\n",
              "      <th>Target</th>\n",
              "    </tr>\n",
              "    <tr>\n",
              "      <th>Id</th>\n",
              "      <th></th>\n",
              "      <th></th>\n",
              "      <th></th>\n",
              "      <th></th>\n",
              "      <th></th>\n",
              "      <th></th>\n",
              "      <th></th>\n",
              "      <th></th>\n",
              "      <th></th>\n",
              "      <th></th>\n",
              "      <th></th>\n",
              "      <th></th>\n",
              "      <th></th>\n",
              "      <th></th>\n",
              "      <th></th>\n",
              "      <th></th>\n",
              "      <th></th>\n",
              "      <th></th>\n",
              "      <th></th>\n",
              "      <th></th>\n",
              "      <th></th>\n",
              "    </tr>\n",
              "  </thead>\n",
              "  <tbody>\n",
              "    <tr>\n",
              "      <th>54009-query</th>\n",
              "      <td>-44.456882</td>\n",
              "      <td>6.417444</td>\n",
              "      <td>-40.913433</td>\n",
              "      <td>-154.034683</td>\n",
              "      <td>70.546387</td>\n",
              "      <td>-90.28389</td>\n",
              "      <td>-376.754517</td>\n",
              "      <td>25.10906</td>\n",
              "      <td>127.79599</td>\n",
              "      <td>74.979073</td>\n",
              "      <td>...</td>\n",
              "      <td>33.727509</td>\n",
              "      <td>-202.535889</td>\n",
              "      <td>0.22846</td>\n",
              "      <td>68.464668</td>\n",
              "      <td>48.002937</td>\n",
              "      <td>71.623383</td>\n",
              "      <td>126.543015</td>\n",
              "      <td>-1074.464844</td>\n",
              "      <td>-42.848087</td>\n",
              "      <td>2669165-base</td>\n",
              "    </tr>\n",
              "  </tbody>\n",
              "</table>\n",
              "<p>1 rows × 73 columns</p>\n",
              "</div>\n",
              "    <div class=\"colab-df-buttons\">\n",
              "\n",
              "  <div class=\"colab-df-container\">\n",
              "    <button class=\"colab-df-convert\" onclick=\"convertToInteractive('df-34d79dc8-d5bf-45b5-96e2-794c5a312a26')\"\n",
              "            title=\"Convert this dataframe to an interactive table.\"\n",
              "            style=\"display:none;\">\n",
              "\n",
              "  <svg xmlns=\"http://www.w3.org/2000/svg\" height=\"24px\" viewBox=\"0 -960 960 960\">\n",
              "    <path d=\"M120-120v-720h720v720H120Zm60-500h600v-160H180v160Zm220 220h160v-160H400v160Zm0 220h160v-160H400v160ZM180-400h160v-160H180v160Zm440 0h160v-160H620v160ZM180-180h160v-160H180v160Zm440 0h160v-160H620v160Z\"/>\n",
              "  </svg>\n",
              "    </button>\n",
              "\n",
              "  <style>\n",
              "    .colab-df-container {\n",
              "      display:flex;\n",
              "      gap: 12px;\n",
              "    }\n",
              "\n",
              "    .colab-df-convert {\n",
              "      background-color: #E8F0FE;\n",
              "      border: none;\n",
              "      border-radius: 50%;\n",
              "      cursor: pointer;\n",
              "      display: none;\n",
              "      fill: #1967D2;\n",
              "      height: 32px;\n",
              "      padding: 0 0 0 0;\n",
              "      width: 32px;\n",
              "    }\n",
              "\n",
              "    .colab-df-convert:hover {\n",
              "      background-color: #E2EBFA;\n",
              "      box-shadow: 0px 1px 2px rgba(60, 64, 67, 0.3), 0px 1px 3px 1px rgba(60, 64, 67, 0.15);\n",
              "      fill: #174EA6;\n",
              "    }\n",
              "\n",
              "    .colab-df-buttons div {\n",
              "      margin-bottom: 4px;\n",
              "    }\n",
              "\n",
              "    [theme=dark] .colab-df-convert {\n",
              "      background-color: #3B4455;\n",
              "      fill: #D2E3FC;\n",
              "    }\n",
              "\n",
              "    [theme=dark] .colab-df-convert:hover {\n",
              "      background-color: #434B5C;\n",
              "      box-shadow: 0px 1px 3px 1px rgba(0, 0, 0, 0.15);\n",
              "      filter: drop-shadow(0px 1px 2px rgba(0, 0, 0, 0.3));\n",
              "      fill: #FFFFFF;\n",
              "    }\n",
              "  </style>\n",
              "\n",
              "    <script>\n",
              "      const buttonEl =\n",
              "        document.querySelector('#df-34d79dc8-d5bf-45b5-96e2-794c5a312a26 button.colab-df-convert');\n",
              "      buttonEl.style.display =\n",
              "        google.colab.kernel.accessAllowed ? 'block' : 'none';\n",
              "\n",
              "      async function convertToInteractive(key) {\n",
              "        const element = document.querySelector('#df-34d79dc8-d5bf-45b5-96e2-794c5a312a26');\n",
              "        const dataTable =\n",
              "          await google.colab.kernel.invokeFunction('convertToInteractive',\n",
              "                                                    [key], {});\n",
              "        if (!dataTable) return;\n",
              "\n",
              "        const docLinkHtml = 'Like what you see? Visit the ' +\n",
              "          '<a target=\"_blank\" href=https://colab.research.google.com/notebooks/data_table.ipynb>data table notebook</a>'\n",
              "          + ' to learn more about interactive tables.';\n",
              "        element.innerHTML = '';\n",
              "        dataTable['output_type'] = 'display_data';\n",
              "        await google.colab.output.renderOutput(dataTable, element);\n",
              "        const docLink = document.createElement('div');\n",
              "        docLink.innerHTML = docLinkHtml;\n",
              "        element.appendChild(docLink);\n",
              "      }\n",
              "    </script>\n",
              "  </div>\n",
              "\n",
              "    </div>\n",
              "  </div>\n"
            ]
          },
          "metadata": {},
          "execution_count": 13
        }
      ]
    },
    {
      "cell_type": "code",
      "source": [
        "df_train.shape"
      ],
      "metadata": {
        "id": "y8U5DlPBFZyC",
        "colab": {
          "base_uri": "https://localhost:8080/"
        },
        "outputId": "b9e20435-9407-4e57-a571-9c91a16037cd"
      },
      "execution_count": 14,
      "outputs": [
        {
          "output_type": "execute_result",
          "data": {
            "text/plain": [
              "(100000, 73)"
            ]
          },
          "metadata": {},
          "execution_count": 14
        }
      ]
    },
    {
      "cell_type": "markdown",
      "source": [
        "Загрузка датасета с заданием `validation.csv`"
      ],
      "metadata": {
        "id": "Dj1L1BHSlsRT"
      }
    },
    {
      "cell_type": "code",
      "source": [
        "df_validation = pd.read_csv(\"/content/validation.csv\", index_col=0, dtype=dict_train)\n",
        "df_validation.sample()"
      ],
      "metadata": {
        "colab": {
          "base_uri": "https://localhost:8080/",
          "height": 179
        },
        "outputId": "9c278390-ca8c-4cc7-f9bd-bd935ee95674",
        "id": "ONQpJXSWlsRV"
      },
      "execution_count": 15,
      "outputs": [
        {
          "output_type": "execute_result",
          "data": {
            "text/plain": [
              "                      0         1          2           3         4          5  \\\n",
              "Id                                                                              \n",
              "145896-query -56.365593  5.259336  33.474525 -153.865021  78.89357 -88.697205   \n",
              "\n",
              "                       6          7           8          9  ...         62  \\\n",
              "Id                                                          ...              \n",
              "145896-query -759.626038  47.095947  116.125175  28.020721  ... -77.686729   \n",
              "\n",
              "                     63          64         65         66         67  \\\n",
              "Id                                                                     \n",
              "145896-query  18.580898 -182.334839 -77.497543  64.543388  75.433098   \n",
              "\n",
              "                      68          69          70         71  \n",
              "Id                                                           \n",
              "145896-query  115.510414  140.857346 -407.019379 -37.315666  \n",
              "\n",
              "[1 rows x 72 columns]"
            ],
            "text/html": [
              "\n",
              "  <div id=\"df-c0db2a07-5d72-4f32-b604-72544b6bfeda\" class=\"colab-df-container\">\n",
              "    <div>\n",
              "<style scoped>\n",
              "    .dataframe tbody tr th:only-of-type {\n",
              "        vertical-align: middle;\n",
              "    }\n",
              "\n",
              "    .dataframe tbody tr th {\n",
              "        vertical-align: top;\n",
              "    }\n",
              "\n",
              "    .dataframe thead th {\n",
              "        text-align: right;\n",
              "    }\n",
              "</style>\n",
              "<table border=\"1\" class=\"dataframe\">\n",
              "  <thead>\n",
              "    <tr style=\"text-align: right;\">\n",
              "      <th></th>\n",
              "      <th>0</th>\n",
              "      <th>1</th>\n",
              "      <th>2</th>\n",
              "      <th>3</th>\n",
              "      <th>4</th>\n",
              "      <th>5</th>\n",
              "      <th>6</th>\n",
              "      <th>7</th>\n",
              "      <th>8</th>\n",
              "      <th>9</th>\n",
              "      <th>...</th>\n",
              "      <th>62</th>\n",
              "      <th>63</th>\n",
              "      <th>64</th>\n",
              "      <th>65</th>\n",
              "      <th>66</th>\n",
              "      <th>67</th>\n",
              "      <th>68</th>\n",
              "      <th>69</th>\n",
              "      <th>70</th>\n",
              "      <th>71</th>\n",
              "    </tr>\n",
              "    <tr>\n",
              "      <th>Id</th>\n",
              "      <th></th>\n",
              "      <th></th>\n",
              "      <th></th>\n",
              "      <th></th>\n",
              "      <th></th>\n",
              "      <th></th>\n",
              "      <th></th>\n",
              "      <th></th>\n",
              "      <th></th>\n",
              "      <th></th>\n",
              "      <th></th>\n",
              "      <th></th>\n",
              "      <th></th>\n",
              "      <th></th>\n",
              "      <th></th>\n",
              "      <th></th>\n",
              "      <th></th>\n",
              "      <th></th>\n",
              "      <th></th>\n",
              "      <th></th>\n",
              "      <th></th>\n",
              "    </tr>\n",
              "  </thead>\n",
              "  <tbody>\n",
              "    <tr>\n",
              "      <th>145896-query</th>\n",
              "      <td>-56.365593</td>\n",
              "      <td>5.259336</td>\n",
              "      <td>33.474525</td>\n",
              "      <td>-153.865021</td>\n",
              "      <td>78.89357</td>\n",
              "      <td>-88.697205</td>\n",
              "      <td>-759.626038</td>\n",
              "      <td>47.095947</td>\n",
              "      <td>116.125175</td>\n",
              "      <td>28.020721</td>\n",
              "      <td>...</td>\n",
              "      <td>-77.686729</td>\n",
              "      <td>18.580898</td>\n",
              "      <td>-182.334839</td>\n",
              "      <td>-77.497543</td>\n",
              "      <td>64.543388</td>\n",
              "      <td>75.433098</td>\n",
              "      <td>115.510414</td>\n",
              "      <td>140.857346</td>\n",
              "      <td>-407.019379</td>\n",
              "      <td>-37.315666</td>\n",
              "    </tr>\n",
              "  </tbody>\n",
              "</table>\n",
              "<p>1 rows × 72 columns</p>\n",
              "</div>\n",
              "    <div class=\"colab-df-buttons\">\n",
              "\n",
              "  <div class=\"colab-df-container\">\n",
              "    <button class=\"colab-df-convert\" onclick=\"convertToInteractive('df-c0db2a07-5d72-4f32-b604-72544b6bfeda')\"\n",
              "            title=\"Convert this dataframe to an interactive table.\"\n",
              "            style=\"display:none;\">\n",
              "\n",
              "  <svg xmlns=\"http://www.w3.org/2000/svg\" height=\"24px\" viewBox=\"0 -960 960 960\">\n",
              "    <path d=\"M120-120v-720h720v720H120Zm60-500h600v-160H180v160Zm220 220h160v-160H400v160Zm0 220h160v-160H400v160ZM180-400h160v-160H180v160Zm440 0h160v-160H620v160ZM180-180h160v-160H180v160Zm440 0h160v-160H620v160Z\"/>\n",
              "  </svg>\n",
              "    </button>\n",
              "\n",
              "  <style>\n",
              "    .colab-df-container {\n",
              "      display:flex;\n",
              "      gap: 12px;\n",
              "    }\n",
              "\n",
              "    .colab-df-convert {\n",
              "      background-color: #E8F0FE;\n",
              "      border: none;\n",
              "      border-radius: 50%;\n",
              "      cursor: pointer;\n",
              "      display: none;\n",
              "      fill: #1967D2;\n",
              "      height: 32px;\n",
              "      padding: 0 0 0 0;\n",
              "      width: 32px;\n",
              "    }\n",
              "\n",
              "    .colab-df-convert:hover {\n",
              "      background-color: #E2EBFA;\n",
              "      box-shadow: 0px 1px 2px rgba(60, 64, 67, 0.3), 0px 1px 3px 1px rgba(60, 64, 67, 0.15);\n",
              "      fill: #174EA6;\n",
              "    }\n",
              "\n",
              "    .colab-df-buttons div {\n",
              "      margin-bottom: 4px;\n",
              "    }\n",
              "\n",
              "    [theme=dark] .colab-df-convert {\n",
              "      background-color: #3B4455;\n",
              "      fill: #D2E3FC;\n",
              "    }\n",
              "\n",
              "    [theme=dark] .colab-df-convert:hover {\n",
              "      background-color: #434B5C;\n",
              "      box-shadow: 0px 1px 3px 1px rgba(0, 0, 0, 0.15);\n",
              "      filter: drop-shadow(0px 1px 2px rgba(0, 0, 0, 0.3));\n",
              "      fill: #FFFFFF;\n",
              "    }\n",
              "  </style>\n",
              "\n",
              "    <script>\n",
              "      const buttonEl =\n",
              "        document.querySelector('#df-c0db2a07-5d72-4f32-b604-72544b6bfeda button.colab-df-convert');\n",
              "      buttonEl.style.display =\n",
              "        google.colab.kernel.accessAllowed ? 'block' : 'none';\n",
              "\n",
              "      async function convertToInteractive(key) {\n",
              "        const element = document.querySelector('#df-c0db2a07-5d72-4f32-b604-72544b6bfeda');\n",
              "        const dataTable =\n",
              "          await google.colab.kernel.invokeFunction('convertToInteractive',\n",
              "                                                    [key], {});\n",
              "        if (!dataTable) return;\n",
              "\n",
              "        const docLinkHtml = 'Like what you see? Visit the ' +\n",
              "          '<a target=\"_blank\" href=https://colab.research.google.com/notebooks/data_table.ipynb>data table notebook</a>'\n",
              "          + ' to learn more about interactive tables.';\n",
              "        element.innerHTML = '';\n",
              "        dataTable['output_type'] = 'display_data';\n",
              "        await google.colab.output.renderOutput(dataTable, element);\n",
              "        const docLink = document.createElement('div');\n",
              "        docLink.innerHTML = docLinkHtml;\n",
              "        element.appendChild(docLink);\n",
              "      }\n",
              "    </script>\n",
              "  </div>\n",
              "\n",
              "    </div>\n",
              "  </div>\n"
            ]
          },
          "metadata": {},
          "execution_count": 15
        }
      ]
    },
    {
      "cell_type": "code",
      "source": [
        "#df_validation.iloc[0, :].tolist()"
      ],
      "metadata": {
        "id": "2yO8MoQMUEFT"
      },
      "execution_count": 16,
      "outputs": []
    },
    {
      "cell_type": "code",
      "source": [
        "df_validation.shape"
      ],
      "metadata": {
        "colab": {
          "base_uri": "https://localhost:8080/"
        },
        "outputId": "bab5cf44-93ae-4fd7-a52f-ee04db824b96",
        "id": "0nAvEaaelsRW"
      },
      "execution_count": 17,
      "outputs": [
        {
          "output_type": "execute_result",
          "data": {
            "text/plain": [
              "(100000, 72)"
            ]
          },
          "metadata": {},
          "execution_count": 17
        }
      ]
    },
    {
      "cell_type": "markdown",
      "source": [
        "Загрузка датасета с ответами `validation_answer.csv`"
      ],
      "metadata": {
        "id": "kgr39CDOltzZ"
      }
    },
    {
      "cell_type": "code",
      "source": [
        "df_validation_answer = pd.read_csv(\"/content/validation_answer.csv\", index_col=0, dtype=dict_train)\n",
        "df_validation_answer.sample()"
      ],
      "metadata": {
        "colab": {
          "base_uri": "https://localhost:8080/",
          "height": 112
        },
        "outputId": "21b404b1-d3b7-46cb-8fba-6b24381e0048",
        "id": "qvJIoM0Jlt0F"
      },
      "execution_count": 18,
      "outputs": [
        {
          "output_type": "execute_result",
          "data": {
            "text/plain": [
              "                  Expected\n",
              "Id                        \n",
              "153590-query  1462550-base"
            ],
            "text/html": [
              "\n",
              "  <div id=\"df-2f0b65d1-7e4e-4046-8fb4-d0555f8f7642\" class=\"colab-df-container\">\n",
              "    <div>\n",
              "<style scoped>\n",
              "    .dataframe tbody tr th:only-of-type {\n",
              "        vertical-align: middle;\n",
              "    }\n",
              "\n",
              "    .dataframe tbody tr th {\n",
              "        vertical-align: top;\n",
              "    }\n",
              "\n",
              "    .dataframe thead th {\n",
              "        text-align: right;\n",
              "    }\n",
              "</style>\n",
              "<table border=\"1\" class=\"dataframe\">\n",
              "  <thead>\n",
              "    <tr style=\"text-align: right;\">\n",
              "      <th></th>\n",
              "      <th>Expected</th>\n",
              "    </tr>\n",
              "    <tr>\n",
              "      <th>Id</th>\n",
              "      <th></th>\n",
              "    </tr>\n",
              "  </thead>\n",
              "  <tbody>\n",
              "    <tr>\n",
              "      <th>153590-query</th>\n",
              "      <td>1462550-base</td>\n",
              "    </tr>\n",
              "  </tbody>\n",
              "</table>\n",
              "</div>\n",
              "    <div class=\"colab-df-buttons\">\n",
              "\n",
              "  <div class=\"colab-df-container\">\n",
              "    <button class=\"colab-df-convert\" onclick=\"convertToInteractive('df-2f0b65d1-7e4e-4046-8fb4-d0555f8f7642')\"\n",
              "            title=\"Convert this dataframe to an interactive table.\"\n",
              "            style=\"display:none;\">\n",
              "\n",
              "  <svg xmlns=\"http://www.w3.org/2000/svg\" height=\"24px\" viewBox=\"0 -960 960 960\">\n",
              "    <path d=\"M120-120v-720h720v720H120Zm60-500h600v-160H180v160Zm220 220h160v-160H400v160Zm0 220h160v-160H400v160ZM180-400h160v-160H180v160Zm440 0h160v-160H620v160ZM180-180h160v-160H180v160Zm440 0h160v-160H620v160Z\"/>\n",
              "  </svg>\n",
              "    </button>\n",
              "\n",
              "  <style>\n",
              "    .colab-df-container {\n",
              "      display:flex;\n",
              "      gap: 12px;\n",
              "    }\n",
              "\n",
              "    .colab-df-convert {\n",
              "      background-color: #E8F0FE;\n",
              "      border: none;\n",
              "      border-radius: 50%;\n",
              "      cursor: pointer;\n",
              "      display: none;\n",
              "      fill: #1967D2;\n",
              "      height: 32px;\n",
              "      padding: 0 0 0 0;\n",
              "      width: 32px;\n",
              "    }\n",
              "\n",
              "    .colab-df-convert:hover {\n",
              "      background-color: #E2EBFA;\n",
              "      box-shadow: 0px 1px 2px rgba(60, 64, 67, 0.3), 0px 1px 3px 1px rgba(60, 64, 67, 0.15);\n",
              "      fill: #174EA6;\n",
              "    }\n",
              "\n",
              "    .colab-df-buttons div {\n",
              "      margin-bottom: 4px;\n",
              "    }\n",
              "\n",
              "    [theme=dark] .colab-df-convert {\n",
              "      background-color: #3B4455;\n",
              "      fill: #D2E3FC;\n",
              "    }\n",
              "\n",
              "    [theme=dark] .colab-df-convert:hover {\n",
              "      background-color: #434B5C;\n",
              "      box-shadow: 0px 1px 3px 1px rgba(0, 0, 0, 0.15);\n",
              "      filter: drop-shadow(0px 1px 2px rgba(0, 0, 0, 0.3));\n",
              "      fill: #FFFFFF;\n",
              "    }\n",
              "  </style>\n",
              "\n",
              "    <script>\n",
              "      const buttonEl =\n",
              "        document.querySelector('#df-2f0b65d1-7e4e-4046-8fb4-d0555f8f7642 button.colab-df-convert');\n",
              "      buttonEl.style.display =\n",
              "        google.colab.kernel.accessAllowed ? 'block' : 'none';\n",
              "\n",
              "      async function convertToInteractive(key) {\n",
              "        const element = document.querySelector('#df-2f0b65d1-7e4e-4046-8fb4-d0555f8f7642');\n",
              "        const dataTable =\n",
              "          await google.colab.kernel.invokeFunction('convertToInteractive',\n",
              "                                                    [key], {});\n",
              "        if (!dataTable) return;\n",
              "\n",
              "        const docLinkHtml = 'Like what you see? Visit the ' +\n",
              "          '<a target=\"_blank\" href=https://colab.research.google.com/notebooks/data_table.ipynb>data table notebook</a>'\n",
              "          + ' to learn more about interactive tables.';\n",
              "        element.innerHTML = '';\n",
              "        dataTable['output_type'] = 'display_data';\n",
              "        await google.colab.output.renderOutput(dataTable, element);\n",
              "        const docLink = document.createElement('div');\n",
              "        docLink.innerHTML = docLinkHtml;\n",
              "        element.appendChild(docLink);\n",
              "      }\n",
              "    </script>\n",
              "  </div>\n",
              "\n",
              "    </div>\n",
              "  </div>\n"
            ]
          },
          "metadata": {},
          "execution_count": 18
        }
      ]
    },
    {
      "cell_type": "code",
      "source": [
        "df_validation_answer.shape"
      ],
      "metadata": {
        "colab": {
          "base_uri": "https://localhost:8080/"
        },
        "outputId": "d281326d-4333-4b8c-e8cd-e343f39a5cd1",
        "id": "vO6-Fn0slt0F"
      },
      "execution_count": 19,
      "outputs": [
        {
          "output_type": "execute_result",
          "data": {
            "text/plain": [
              "(100000, 1)"
            ]
          },
          "metadata": {},
          "execution_count": 19
        }
      ]
    },
    {
      "cell_type": "code",
      "source": [
        "df_validation_answer_all = df_validation.join(df_validation_answer)"
      ],
      "metadata": {
        "id": "yvjkLvM-mqe0"
      },
      "execution_count": 20,
      "outputs": []
    },
    {
      "cell_type": "code",
      "source": [
        "df_validation_answer_all.sample()"
      ],
      "metadata": {
        "colab": {
          "base_uri": "https://localhost:8080/",
          "height": 179
        },
        "id": "tZLpI9sEm1sa",
        "outputId": "cbb4b5a6-7c61-45e1-9ae2-a9c2acae8990"
      },
      "execution_count": 21,
      "outputs": [
        {
          "output_type": "execute_result",
          "data": {
            "text/plain": [
              "                      0         1          2           3          4  \\\n",
              "Id                                                                    \n",
              "101402-query -69.433846 -3.490777 -86.770447 -141.101318  62.417179   \n",
              "\n",
              "                      5           6         7           8          9  ...  \\\n",
              "Id                                                                    ...   \n",
              "101402-query -95.186134 -215.378113  88.96109  112.018845  38.179688  ...   \n",
              "\n",
              "                     63         64       65         66        67         68  \\\n",
              "Id                                                                            \n",
              "101402-query  75.540321 -172.82019 -43.0359  66.134827  94.83078  40.327881   \n",
              "\n",
              "                      69          70        71      Expected  \n",
              "Id                                                            \n",
              "101402-query  114.508369 -144.411606 -0.321671  1940083-base  \n",
              "\n",
              "[1 rows x 73 columns]"
            ],
            "text/html": [
              "\n",
              "  <div id=\"df-5f8ea265-0f5b-4996-9a25-288382c41fc5\" class=\"colab-df-container\">\n",
              "    <div>\n",
              "<style scoped>\n",
              "    .dataframe tbody tr th:only-of-type {\n",
              "        vertical-align: middle;\n",
              "    }\n",
              "\n",
              "    .dataframe tbody tr th {\n",
              "        vertical-align: top;\n",
              "    }\n",
              "\n",
              "    .dataframe thead th {\n",
              "        text-align: right;\n",
              "    }\n",
              "</style>\n",
              "<table border=\"1\" class=\"dataframe\">\n",
              "  <thead>\n",
              "    <tr style=\"text-align: right;\">\n",
              "      <th></th>\n",
              "      <th>0</th>\n",
              "      <th>1</th>\n",
              "      <th>2</th>\n",
              "      <th>3</th>\n",
              "      <th>4</th>\n",
              "      <th>5</th>\n",
              "      <th>6</th>\n",
              "      <th>7</th>\n",
              "      <th>8</th>\n",
              "      <th>9</th>\n",
              "      <th>...</th>\n",
              "      <th>63</th>\n",
              "      <th>64</th>\n",
              "      <th>65</th>\n",
              "      <th>66</th>\n",
              "      <th>67</th>\n",
              "      <th>68</th>\n",
              "      <th>69</th>\n",
              "      <th>70</th>\n",
              "      <th>71</th>\n",
              "      <th>Expected</th>\n",
              "    </tr>\n",
              "    <tr>\n",
              "      <th>Id</th>\n",
              "      <th></th>\n",
              "      <th></th>\n",
              "      <th></th>\n",
              "      <th></th>\n",
              "      <th></th>\n",
              "      <th></th>\n",
              "      <th></th>\n",
              "      <th></th>\n",
              "      <th></th>\n",
              "      <th></th>\n",
              "      <th></th>\n",
              "      <th></th>\n",
              "      <th></th>\n",
              "      <th></th>\n",
              "      <th></th>\n",
              "      <th></th>\n",
              "      <th></th>\n",
              "      <th></th>\n",
              "      <th></th>\n",
              "      <th></th>\n",
              "      <th></th>\n",
              "    </tr>\n",
              "  </thead>\n",
              "  <tbody>\n",
              "    <tr>\n",
              "      <th>101402-query</th>\n",
              "      <td>-69.433846</td>\n",
              "      <td>-3.490777</td>\n",
              "      <td>-86.770447</td>\n",
              "      <td>-141.101318</td>\n",
              "      <td>62.417179</td>\n",
              "      <td>-95.186134</td>\n",
              "      <td>-215.378113</td>\n",
              "      <td>88.96109</td>\n",
              "      <td>112.018845</td>\n",
              "      <td>38.179688</td>\n",
              "      <td>...</td>\n",
              "      <td>75.540321</td>\n",
              "      <td>-172.82019</td>\n",
              "      <td>-43.0359</td>\n",
              "      <td>66.134827</td>\n",
              "      <td>94.83078</td>\n",
              "      <td>40.327881</td>\n",
              "      <td>114.508369</td>\n",
              "      <td>-144.411606</td>\n",
              "      <td>-0.321671</td>\n",
              "      <td>1940083-base</td>\n",
              "    </tr>\n",
              "  </tbody>\n",
              "</table>\n",
              "<p>1 rows × 73 columns</p>\n",
              "</div>\n",
              "    <div class=\"colab-df-buttons\">\n",
              "\n",
              "  <div class=\"colab-df-container\">\n",
              "    <button class=\"colab-df-convert\" onclick=\"convertToInteractive('df-5f8ea265-0f5b-4996-9a25-288382c41fc5')\"\n",
              "            title=\"Convert this dataframe to an interactive table.\"\n",
              "            style=\"display:none;\">\n",
              "\n",
              "  <svg xmlns=\"http://www.w3.org/2000/svg\" height=\"24px\" viewBox=\"0 -960 960 960\">\n",
              "    <path d=\"M120-120v-720h720v720H120Zm60-500h600v-160H180v160Zm220 220h160v-160H400v160Zm0 220h160v-160H400v160ZM180-400h160v-160H180v160Zm440 0h160v-160H620v160ZM180-180h160v-160H180v160Zm440 0h160v-160H620v160Z\"/>\n",
              "  </svg>\n",
              "    </button>\n",
              "\n",
              "  <style>\n",
              "    .colab-df-container {\n",
              "      display:flex;\n",
              "      gap: 12px;\n",
              "    }\n",
              "\n",
              "    .colab-df-convert {\n",
              "      background-color: #E8F0FE;\n",
              "      border: none;\n",
              "      border-radius: 50%;\n",
              "      cursor: pointer;\n",
              "      display: none;\n",
              "      fill: #1967D2;\n",
              "      height: 32px;\n",
              "      padding: 0 0 0 0;\n",
              "      width: 32px;\n",
              "    }\n",
              "\n",
              "    .colab-df-convert:hover {\n",
              "      background-color: #E2EBFA;\n",
              "      box-shadow: 0px 1px 2px rgba(60, 64, 67, 0.3), 0px 1px 3px 1px rgba(60, 64, 67, 0.15);\n",
              "      fill: #174EA6;\n",
              "    }\n",
              "\n",
              "    .colab-df-buttons div {\n",
              "      margin-bottom: 4px;\n",
              "    }\n",
              "\n",
              "    [theme=dark] .colab-df-convert {\n",
              "      background-color: #3B4455;\n",
              "      fill: #D2E3FC;\n",
              "    }\n",
              "\n",
              "    [theme=dark] .colab-df-convert:hover {\n",
              "      background-color: #434B5C;\n",
              "      box-shadow: 0px 1px 3px 1px rgba(0, 0, 0, 0.15);\n",
              "      filter: drop-shadow(0px 1px 2px rgba(0, 0, 0, 0.3));\n",
              "      fill: #FFFFFF;\n",
              "    }\n",
              "  </style>\n",
              "\n",
              "    <script>\n",
              "      const buttonEl =\n",
              "        document.querySelector('#df-5f8ea265-0f5b-4996-9a25-288382c41fc5 button.colab-df-convert');\n",
              "      buttonEl.style.display =\n",
              "        google.colab.kernel.accessAllowed ? 'block' : 'none';\n",
              "\n",
              "      async function convertToInteractive(key) {\n",
              "        const element = document.querySelector('#df-5f8ea265-0f5b-4996-9a25-288382c41fc5');\n",
              "        const dataTable =\n",
              "          await google.colab.kernel.invokeFunction('convertToInteractive',\n",
              "                                                    [key], {});\n",
              "        if (!dataTable) return;\n",
              "\n",
              "        const docLinkHtml = 'Like what you see? Visit the ' +\n",
              "          '<a target=\"_blank\" href=https://colab.research.google.com/notebooks/data_table.ipynb>data table notebook</a>'\n",
              "          + ' to learn more about interactive tables.';\n",
              "        element.innerHTML = '';\n",
              "        dataTable['output_type'] = 'display_data';\n",
              "        await google.colab.output.renderOutput(dataTable, element);\n",
              "        const docLink = document.createElement('div');\n",
              "        docLink.innerHTML = docLinkHtml;\n",
              "        element.appendChild(docLink);\n",
              "      }\n",
              "    </script>\n",
              "  </div>\n",
              "\n",
              "    </div>\n",
              "  </div>\n"
            ]
          },
          "metadata": {},
          "execution_count": 21
        }
      ]
    },
    {
      "cell_type": "markdown",
      "source": [
        "### Сборка результатов"
      ],
      "metadata": {
        "id": "-ZsajroJvhx2"
      }
    },
    {
      "cell_type": "markdown",
      "source": [
        "Напишем функцию для подсчета метрики и сохранения промежуточных результатов."
      ],
      "metadata": {
        "id": "rContEizbW0o"
      }
    },
    {
      "cell_type": "code",
      "source": [
        "overall_scores = {'Кластеры': [],\n",
        "                  'Поиск в соседних': [],\n",
        "                  'Опции': [],\n",
        "                  'accuracy@5': []}\n",
        "\n",
        "def accuracy_aggregator(targets, idx, base_index, \\\n",
        "                        n_cells, nprobe, comment=''):\n",
        "  overall_scores['Кластеры'].append(n_cells)\n",
        "  overall_scores['Поиск в соседних'].append(nprobe)\n",
        "  overall_scores['Опции'].append(comment)\n",
        "  acc = 0\n",
        "  for target, el in zip(targets.values.tolist(), idx.tolist()):\n",
        "    acc += int(target in [base_index[r] for r in el])\n",
        "  result = 100 * acc / len(idx)\n",
        "  overall_scores['accuracy@5'].append(result)\n",
        "  print(f'Кластеры: {n_cells}, nprobe: {nprobe}, accuracy@5: {result} %')"
      ],
      "metadata": {
        "id": "vw1UNPnovulJ"
      },
      "execution_count": 22,
      "outputs": []
    },
    {
      "cell_type": "markdown",
      "source": [
        "## Реализация приближенного поиска"
      ],
      "metadata": {
        "id": "76HLnTP72H8E"
      }
    },
    {
      "cell_type": "markdown",
      "source": [
        "### Baseline поиск"
      ],
      "metadata": {
        "id": "_n-dAGOEFb2R"
      }
    },
    {
      "cell_type": "markdown",
      "source": [
        "Создаём индекс."
      ],
      "metadata": {
        "id": "RHcw7mLUpzLt"
      }
    },
    {
      "cell_type": "code",
      "source": [
        "dims = df_base.shape[1]\n",
        "n_cells = 100 # количество центроидов\n",
        "quantizer = faiss.IndexFlatL2(dims)\n",
        "idx_l2 = faiss.IndexIVFFlat(quantizer, dims, n_cells)"
      ],
      "metadata": {
        "id": "Vwuf_-CgFc2d"
      },
      "execution_count": 23,
      "outputs": []
    },
    {
      "cell_type": "markdown",
      "source": [
        "Размечаем индекс, добавляем в него вектора."
      ],
      "metadata": {
        "id": "xKqwz0tMcCli"
      }
    },
    {
      "cell_type": "code",
      "source": [
        "idx_l2.train(np.ascontiguousarray(df_base.values).astype('float32'))\n",
        "idx_l2.add(np.ascontiguousarray(df_base.values).astype('float32'))"
      ],
      "metadata": {
        "id": "wjryIbraFf4S"
      },
      "execution_count": 24,
      "outputs": []
    },
    {
      "cell_type": "code",
      "source": [
        "base_index = {k: v for k, v in enumerate(df_base.index.to_list())}"
      ],
      "metadata": {
        "id": "y1Fyt3kZFhqv"
      },
      "execution_count": 25,
      "outputs": []
    },
    {
      "cell_type": "code",
      "source": [
        "targets = df_train[\"Target\"]\n",
        "df_train.drop(\"Target\", axis=1, inplace=True)"
      ],
      "metadata": {
        "id": "kS_JwzeqFlh7"
      },
      "execution_count": 26,
      "outputs": []
    },
    {
      "cell_type": "markdown",
      "source": [
        "Осуществляем поиск 5 ближайших соседей и считаем метрику."
      ],
      "metadata": {
        "id": "HanSeNuccrSF"
      }
    },
    {
      "cell_type": "code",
      "source": [
        "vecs, idx = idx_l2.search(np.ascontiguousarray(df_train.values).astype('float32'), 5)\n",
        "accuracy_aggregator(targets, idx, base_index, n_cells, 1, 'baseline')"
      ],
      "metadata": {
        "colab": {
          "base_uri": "https://localhost:8080/"
        },
        "id": "gD0Ea3UGFnNW",
        "outputId": "b8d3a16d-4847-4525-9578-7635434e308a"
      },
      "execution_count": 27,
      "outputs": [
        {
          "output_type": "stream",
          "name": "stdout",
          "text": [
            "Кластеры: 100, nprobe: 1, accuracy@5: 7.631 %\n"
          ]
        }
      ]
    },
    {
      "cell_type": "markdown",
      "source": [
        "### Поиск с различными параметрами"
      ],
      "metadata": {
        "id": "MqKYvQQ3h0vM"
      }
    },
    {
      "cell_type": "markdown",
      "source": [
        "Посчитаем метрику для различного количества кластеров в индексе и для различного количества кластеров, в которых будет осуществляться поиск. Надо учитывать, что заведомо максимальная метрика может быть получена только за заведомо максимальное время."
      ],
      "metadata": {
        "id": "IU9oE5NWa4y8"
      }
    },
    {
      "cell_type": "code",
      "source": [
        "dims = df_base.shape[1] #кол-во признаков\n",
        "base_index = {k: v for k, v in enumerate(df_base.index.to_list())}\n",
        "k = 5 #кол-во ближайших соседей\n",
        "\n",
        "n_cells_list = [1000, 500, 200] #кол-во ячеек в индексе\n",
        "nprobe_list = [1, 2, 10] #кол-во кластеров для поиска"
      ],
      "metadata": {
        "id": "yF-kUhYzqwLc"
      },
      "execution_count": 28,
      "outputs": []
    },
    {
      "cell_type": "code",
      "source": [
        "# неоптимальный перебор параметров по циклу\n",
        "# нехватает учета времени для каждой итерации\n",
        "for n_cells in n_cells_list:\n",
        "  for nprobe in nprobe_list:\n",
        "    quantizer = faiss.IndexFlatL2(dims)\n",
        "    idx_l2 = faiss.IndexIVFFlat(quantizer, dims, n_cells)\n",
        "    idx_l2.train(np.ascontiguousarray(df_base.values).astype('float32'))\n",
        "    idx_l2.add(np.ascontiguousarray(df_base.values).astype('float32'))\n",
        "    idx_l2.nprobe = nprobe\n",
        "    r, idx = idx_l2.search(np.ascontiguousarray(df_train.values).astype('float32'), k)\n",
        "    accuracy_aggregator(targets, idx, base_index, n_cells, nprobe, 'search')"
      ],
      "metadata": {
        "id": "mvPwprU6rSxm",
        "colab": {
          "base_uri": "https://localhost:8080/"
        },
        "outputId": "ed30f950-f68f-41a9-b53e-bdec93eae64a"
      },
      "execution_count": 29,
      "outputs": [
        {
          "output_type": "stream",
          "name": "stdout",
          "text": [
            "Кластеры: 1000, nprobe: 1, accuracy@5: 4.369 %\n",
            "Кластеры: 1000, nprobe: 2, accuracy@5: 6.196 %\n",
            "Кластеры: 1000, nprobe: 10, accuracy@5: 11.19 %\n",
            "Кластеры: 500, nprobe: 1, accuracy@5: 5.194 %\n",
            "Кластеры: 500, nprobe: 2, accuracy@5: 7.368 %\n",
            "Кластеры: 500, nprobe: 10, accuracy@5: 12.288 %\n",
            "Кластеры: 200, nprobe: 1, accuracy@5: 6.552 %\n",
            "Кластеры: 200, nprobe: 2, accuracy@5: 8.98 %\n",
            "Кластеры: 200, nprobe: 10, accuracy@5: 13.26 %\n"
          ]
        }
      ]
    },
    {
      "cell_type": "markdown",
      "source": [
        "Были и другие эксперименты. Не все из них закончились. Вообще."
      ],
      "metadata": {
        "id": "aEchxCVclwZu"
      }
    },
    {
      "cell_type": "markdown",
      "source": [
        "### Промежуточные результаты"
      ],
      "metadata": {
        "id": "dxE1DqDZ7aw5"
      }
    },
    {
      "cell_type": "code",
      "source": [
        "my_metrics = pd.DataFrame(overall_scores)\n",
        "my_metrics"
      ],
      "metadata": {
        "id": "gUqpw4fGx20F",
        "colab": {
          "base_uri": "https://localhost:8080/",
          "height": 363
        },
        "outputId": "96580c65-4030-4058-a5e0-3bee7d82f509"
      },
      "execution_count": 30,
      "outputs": [
        {
          "output_type": "execute_result",
          "data": {
            "text/plain": [
              "   Кластеры  Поиск в соседних     Опции  accuracy@5\n",
              "0       100                 1  baseline       7.631\n",
              "1      1000                 1    search       4.369\n",
              "2      1000                 2    search       6.196\n",
              "3      1000                10    search      11.190\n",
              "4       500                 1    search       5.194\n",
              "5       500                 2    search       7.368\n",
              "6       500                10    search      12.288\n",
              "7       200                 1    search       6.552\n",
              "8       200                 2    search       8.980\n",
              "9       200                10    search      13.260"
            ],
            "text/html": [
              "\n",
              "  <div id=\"df-f5d48b59-eaed-40e0-aae3-711ccfb1ab4d\" class=\"colab-df-container\">\n",
              "    <div>\n",
              "<style scoped>\n",
              "    .dataframe tbody tr th:only-of-type {\n",
              "        vertical-align: middle;\n",
              "    }\n",
              "\n",
              "    .dataframe tbody tr th {\n",
              "        vertical-align: top;\n",
              "    }\n",
              "\n",
              "    .dataframe thead th {\n",
              "        text-align: right;\n",
              "    }\n",
              "</style>\n",
              "<table border=\"1\" class=\"dataframe\">\n",
              "  <thead>\n",
              "    <tr style=\"text-align: right;\">\n",
              "      <th></th>\n",
              "      <th>Кластеры</th>\n",
              "      <th>Поиск в соседних</th>\n",
              "      <th>Опции</th>\n",
              "      <th>accuracy@5</th>\n",
              "    </tr>\n",
              "  </thead>\n",
              "  <tbody>\n",
              "    <tr>\n",
              "      <th>0</th>\n",
              "      <td>100</td>\n",
              "      <td>1</td>\n",
              "      <td>baseline</td>\n",
              "      <td>7.631</td>\n",
              "    </tr>\n",
              "    <tr>\n",
              "      <th>1</th>\n",
              "      <td>1000</td>\n",
              "      <td>1</td>\n",
              "      <td>search</td>\n",
              "      <td>4.369</td>\n",
              "    </tr>\n",
              "    <tr>\n",
              "      <th>2</th>\n",
              "      <td>1000</td>\n",
              "      <td>2</td>\n",
              "      <td>search</td>\n",
              "      <td>6.196</td>\n",
              "    </tr>\n",
              "    <tr>\n",
              "      <th>3</th>\n",
              "      <td>1000</td>\n",
              "      <td>10</td>\n",
              "      <td>search</td>\n",
              "      <td>11.190</td>\n",
              "    </tr>\n",
              "    <tr>\n",
              "      <th>4</th>\n",
              "      <td>500</td>\n",
              "      <td>1</td>\n",
              "      <td>search</td>\n",
              "      <td>5.194</td>\n",
              "    </tr>\n",
              "    <tr>\n",
              "      <th>5</th>\n",
              "      <td>500</td>\n",
              "      <td>2</td>\n",
              "      <td>search</td>\n",
              "      <td>7.368</td>\n",
              "    </tr>\n",
              "    <tr>\n",
              "      <th>6</th>\n",
              "      <td>500</td>\n",
              "      <td>10</td>\n",
              "      <td>search</td>\n",
              "      <td>12.288</td>\n",
              "    </tr>\n",
              "    <tr>\n",
              "      <th>7</th>\n",
              "      <td>200</td>\n",
              "      <td>1</td>\n",
              "      <td>search</td>\n",
              "      <td>6.552</td>\n",
              "    </tr>\n",
              "    <tr>\n",
              "      <th>8</th>\n",
              "      <td>200</td>\n",
              "      <td>2</td>\n",
              "      <td>search</td>\n",
              "      <td>8.980</td>\n",
              "    </tr>\n",
              "    <tr>\n",
              "      <th>9</th>\n",
              "      <td>200</td>\n",
              "      <td>10</td>\n",
              "      <td>search</td>\n",
              "      <td>13.260</td>\n",
              "    </tr>\n",
              "  </tbody>\n",
              "</table>\n",
              "</div>\n",
              "    <div class=\"colab-df-buttons\">\n",
              "\n",
              "  <div class=\"colab-df-container\">\n",
              "    <button class=\"colab-df-convert\" onclick=\"convertToInteractive('df-f5d48b59-eaed-40e0-aae3-711ccfb1ab4d')\"\n",
              "            title=\"Convert this dataframe to an interactive table.\"\n",
              "            style=\"display:none;\">\n",
              "\n",
              "  <svg xmlns=\"http://www.w3.org/2000/svg\" height=\"24px\" viewBox=\"0 -960 960 960\">\n",
              "    <path d=\"M120-120v-720h720v720H120Zm60-500h600v-160H180v160Zm220 220h160v-160H400v160Zm0 220h160v-160H400v160ZM180-400h160v-160H180v160Zm440 0h160v-160H620v160ZM180-180h160v-160H180v160Zm440 0h160v-160H620v160Z\"/>\n",
              "  </svg>\n",
              "    </button>\n",
              "\n",
              "  <style>\n",
              "    .colab-df-container {\n",
              "      display:flex;\n",
              "      gap: 12px;\n",
              "    }\n",
              "\n",
              "    .colab-df-convert {\n",
              "      background-color: #E8F0FE;\n",
              "      border: none;\n",
              "      border-radius: 50%;\n",
              "      cursor: pointer;\n",
              "      display: none;\n",
              "      fill: #1967D2;\n",
              "      height: 32px;\n",
              "      padding: 0 0 0 0;\n",
              "      width: 32px;\n",
              "    }\n",
              "\n",
              "    .colab-df-convert:hover {\n",
              "      background-color: #E2EBFA;\n",
              "      box-shadow: 0px 1px 2px rgba(60, 64, 67, 0.3), 0px 1px 3px 1px rgba(60, 64, 67, 0.15);\n",
              "      fill: #174EA6;\n",
              "    }\n",
              "\n",
              "    .colab-df-buttons div {\n",
              "      margin-bottom: 4px;\n",
              "    }\n",
              "\n",
              "    [theme=dark] .colab-df-convert {\n",
              "      background-color: #3B4455;\n",
              "      fill: #D2E3FC;\n",
              "    }\n",
              "\n",
              "    [theme=dark] .colab-df-convert:hover {\n",
              "      background-color: #434B5C;\n",
              "      box-shadow: 0px 1px 3px 1px rgba(0, 0, 0, 0.15);\n",
              "      filter: drop-shadow(0px 1px 2px rgba(0, 0, 0, 0.3));\n",
              "      fill: #FFFFFF;\n",
              "    }\n",
              "  </style>\n",
              "\n",
              "    <script>\n",
              "      const buttonEl =\n",
              "        document.querySelector('#df-f5d48b59-eaed-40e0-aae3-711ccfb1ab4d button.colab-df-convert');\n",
              "      buttonEl.style.display =\n",
              "        google.colab.kernel.accessAllowed ? 'block' : 'none';\n",
              "\n",
              "      async function convertToInteractive(key) {\n",
              "        const element = document.querySelector('#df-f5d48b59-eaed-40e0-aae3-711ccfb1ab4d');\n",
              "        const dataTable =\n",
              "          await google.colab.kernel.invokeFunction('convertToInteractive',\n",
              "                                                    [key], {});\n",
              "        if (!dataTable) return;\n",
              "\n",
              "        const docLinkHtml = 'Like what you see? Visit the ' +\n",
              "          '<a target=\"_blank\" href=https://colab.research.google.com/notebooks/data_table.ipynb>data table notebook</a>'\n",
              "          + ' to learn more about interactive tables.';\n",
              "        element.innerHTML = '';\n",
              "        dataTable['output_type'] = 'display_data';\n",
              "        await google.colab.output.renderOutput(dataTable, element);\n",
              "        const docLink = document.createElement('div');\n",
              "        docLink.innerHTML = docLinkHtml;\n",
              "        element.appendChild(docLink);\n",
              "      }\n",
              "    </script>\n",
              "  </div>\n",
              "\n",
              "\n",
              "<div id=\"df-f9186c51-4a3a-4869-a1f5-c534788afe10\">\n",
              "  <button class=\"colab-df-quickchart\" onclick=\"quickchart('df-f9186c51-4a3a-4869-a1f5-c534788afe10')\"\n",
              "            title=\"Suggest charts.\"\n",
              "            style=\"display:none;\">\n",
              "\n",
              "<svg xmlns=\"http://www.w3.org/2000/svg\" height=\"24px\"viewBox=\"0 0 24 24\"\n",
              "     width=\"24px\">\n",
              "    <g>\n",
              "        <path d=\"M19 3H5c-1.1 0-2 .9-2 2v14c0 1.1.9 2 2 2h14c1.1 0 2-.9 2-2V5c0-1.1-.9-2-2-2zM9 17H7v-7h2v7zm4 0h-2V7h2v10zm4 0h-2v-4h2v4z\"/>\n",
              "    </g>\n",
              "</svg>\n",
              "  </button>\n",
              "\n",
              "<style>\n",
              "  .colab-df-quickchart {\n",
              "      --bg-color: #E8F0FE;\n",
              "      --fill-color: #1967D2;\n",
              "      --hover-bg-color: #E2EBFA;\n",
              "      --hover-fill-color: #174EA6;\n",
              "      --disabled-fill-color: #AAA;\n",
              "      --disabled-bg-color: #DDD;\n",
              "  }\n",
              "\n",
              "  [theme=dark] .colab-df-quickchart {\n",
              "      --bg-color: #3B4455;\n",
              "      --fill-color: #D2E3FC;\n",
              "      --hover-bg-color: #434B5C;\n",
              "      --hover-fill-color: #FFFFFF;\n",
              "      --disabled-bg-color: #3B4455;\n",
              "      --disabled-fill-color: #666;\n",
              "  }\n",
              "\n",
              "  .colab-df-quickchart {\n",
              "    background-color: var(--bg-color);\n",
              "    border: none;\n",
              "    border-radius: 50%;\n",
              "    cursor: pointer;\n",
              "    display: none;\n",
              "    fill: var(--fill-color);\n",
              "    height: 32px;\n",
              "    padding: 0;\n",
              "    width: 32px;\n",
              "  }\n",
              "\n",
              "  .colab-df-quickchart:hover {\n",
              "    background-color: var(--hover-bg-color);\n",
              "    box-shadow: 0 1px 2px rgba(60, 64, 67, 0.3), 0 1px 3px 1px rgba(60, 64, 67, 0.15);\n",
              "    fill: var(--button-hover-fill-color);\n",
              "  }\n",
              "\n",
              "  .colab-df-quickchart-complete:disabled,\n",
              "  .colab-df-quickchart-complete:disabled:hover {\n",
              "    background-color: var(--disabled-bg-color);\n",
              "    fill: var(--disabled-fill-color);\n",
              "    box-shadow: none;\n",
              "  }\n",
              "\n",
              "  .colab-df-spinner {\n",
              "    border: 2px solid var(--fill-color);\n",
              "    border-color: transparent;\n",
              "    border-bottom-color: var(--fill-color);\n",
              "    animation:\n",
              "      spin 1s steps(1) infinite;\n",
              "  }\n",
              "\n",
              "  @keyframes spin {\n",
              "    0% {\n",
              "      border-color: transparent;\n",
              "      border-bottom-color: var(--fill-color);\n",
              "      border-left-color: var(--fill-color);\n",
              "    }\n",
              "    20% {\n",
              "      border-color: transparent;\n",
              "      border-left-color: var(--fill-color);\n",
              "      border-top-color: var(--fill-color);\n",
              "    }\n",
              "    30% {\n",
              "      border-color: transparent;\n",
              "      border-left-color: var(--fill-color);\n",
              "      border-top-color: var(--fill-color);\n",
              "      border-right-color: var(--fill-color);\n",
              "    }\n",
              "    40% {\n",
              "      border-color: transparent;\n",
              "      border-right-color: var(--fill-color);\n",
              "      border-top-color: var(--fill-color);\n",
              "    }\n",
              "    60% {\n",
              "      border-color: transparent;\n",
              "      border-right-color: var(--fill-color);\n",
              "    }\n",
              "    80% {\n",
              "      border-color: transparent;\n",
              "      border-right-color: var(--fill-color);\n",
              "      border-bottom-color: var(--fill-color);\n",
              "    }\n",
              "    90% {\n",
              "      border-color: transparent;\n",
              "      border-bottom-color: var(--fill-color);\n",
              "    }\n",
              "  }\n",
              "</style>\n",
              "\n",
              "  <script>\n",
              "    async function quickchart(key) {\n",
              "      const quickchartButtonEl =\n",
              "        document.querySelector('#' + key + ' button');\n",
              "      quickchartButtonEl.disabled = true;  // To prevent multiple clicks.\n",
              "      quickchartButtonEl.classList.add('colab-df-spinner');\n",
              "      try {\n",
              "        const charts = await google.colab.kernel.invokeFunction(\n",
              "            'suggestCharts', [key], {});\n",
              "      } catch (error) {\n",
              "        console.error('Error during call to suggestCharts:', error);\n",
              "      }\n",
              "      quickchartButtonEl.classList.remove('colab-df-spinner');\n",
              "      quickchartButtonEl.classList.add('colab-df-quickchart-complete');\n",
              "    }\n",
              "    (() => {\n",
              "      let quickchartButtonEl =\n",
              "        document.querySelector('#df-f9186c51-4a3a-4869-a1f5-c534788afe10 button');\n",
              "      quickchartButtonEl.style.display =\n",
              "        google.colab.kernel.accessAllowed ? 'block' : 'none';\n",
              "    })();\n",
              "  </script>\n",
              "</div>\n",
              "    </div>\n",
              "  </div>\n"
            ]
          },
          "metadata": {},
          "execution_count": 30
        }
      ]
    },
    {
      "cell_type": "markdown",
      "source": [
        "Чем больше кластеров в индексе и быстрее поиск, тем хуже качество поиска. Чем больше соседних кластеров привлекается для поиска, тем качество поиска лучше."
      ],
      "metadata": {
        "id": "dOii2_BzlsTB"
      }
    },
    {
      "cell_type": "markdown",
      "source": [
        "## Оптимизация"
      ],
      "metadata": {
        "id": "qd3WBxi12lTF"
      }
    },
    {
      "cell_type": "markdown",
      "source": [
        "### EDA"
      ],
      "metadata": {
        "id": "nn27L6WSGION"
      }
    },
    {
      "cell_type": "markdown",
      "source": [
        "Посмотрим на распределения признаков в базе `df_base`."
      ],
      "metadata": {
        "id": "dQPsWdesen5O"
      }
    },
    {
      "cell_type": "code",
      "source": [
        "df_samples = df_base.sample(10000)"
      ],
      "metadata": {
        "id": "xDP_t1iKYVuD"
      },
      "execution_count": 31,
      "outputs": []
    },
    {
      "cell_type": "code",
      "source": [
        "df_samples.hist(figsize=[40, 20], bins=50);"
      ],
      "metadata": {
        "colab": {
          "base_uri": "https://localhost:8080/",
          "height": 613
        },
        "id": "jtplwHsrYXeZ",
        "outputId": "344ba4b0-71fb-4e77-ad5f-c74a577f6f79"
      },
      "execution_count": 32,
      "outputs": [
        {
          "output_type": "display_data",
          "data": {
            "text/plain": [
              "<Figure size 4000x2000 with 72 Axes>"
            ],
            "image/png": "[encoded data removed]"
          },
          "metadata": {}
        }
      ]
    },
    {
      "cell_type": "code",
      "source": [
        "df_samples = df_train[:5000]"
      ],
      "metadata": {
        "id": "SL6KHHEbFpko"
      },
      "execution_count": 33,
      "outputs": []
    },
    {
      "cell_type": "code",
      "source": [
        "df_samples.hist(figsize=[40, 20], bins=50);"
      ],
      "metadata": {
        "colab": {
          "base_uri": "https://localhost:8080/",
          "height": 614
        },
        "id": "TCnYGs0_GMjb",
        "outputId": "a55825b6-0351-4948-8127-2ce9274dbd8f"
      },
      "execution_count": 34,
      "outputs": [
        {
          "output_type": "display_data",
          "data": {
            "text/plain": [
              "<Figure size 4000x2000 with 72 Axes>"
            ],
            "image/png": "[encoded data removed]"
          },
          "metadata": {}
        }
      ]
    },
    {
      "cell_type": "markdown",
      "source": [
        "В `df_train` распределения выглядят аналогичным образом. Отметим, что в столбцах '6', '21', '25', '33', '44', '65', '70' распределения признаков значительно отличаются от нормальных."
      ],
      "metadata": {
        "id": "sFqMvvxHGPbq"
      }
    },
    {
      "cell_type": "markdown",
      "source": [
        "### Оптимизация данных"
      ],
      "metadata": {
        "id": "IZfSHQnRGTbR"
      }
    },
    {
      "cell_type": "markdown",
      "source": [
        "Проведём несколько экспериментов, чтобы понять, как отразятся на метрике удаление отдельных признаков, а также различные варианты масштабирования признаков."
      ],
      "metadata": {
        "id": "nAsvC4OjA2gp"
      }
    },
    {
      "cell_type": "code",
      "source": [
        "scaler_MM = MinMaxScaler()\n",
        "df_base_MM = scaler_MM.fit_transform(df_base)\n",
        "df_train_MM = scaler_MM.transform(df_train)"
      ],
      "metadata": {
        "id": "8KB7GOw9hHXl"
      },
      "execution_count": 35,
      "outputs": []
    },
    {
      "cell_type": "code",
      "source": [
        "%%time\n",
        "dims = df_base_MM.shape[1] #кол-во признаков\n",
        "k = 5 #кол-во ближайших соседей\n",
        "n_cells = 1000 #кол-во ячеек в индексе\n",
        "nprobe = 10 #кол-во кластеров для поиска\n",
        "\n",
        "quantizer = faiss.IndexFlatL2(dims)\n",
        "idx_l2 = faiss.IndexIVFFlat(quantizer, dims, n_cells)\n",
        "idx_l2.train(np.ascontiguousarray(df_base_MM).astype('float32'))\n",
        "idx_l2.add(np.ascontiguousarray(df_base_MM).astype('float32'))\n",
        "idx_l2.nprobe = nprobe\n",
        "r, idx = idx_l2.search(np.ascontiguousarray(df_train_MM).astype('float32'), k)\n",
        "accuracy_aggregator(targets, idx, base_index, n_cells, nprobe, 'MinMaxScaler')"
      ],
      "metadata": {
        "colab": {
          "base_uri": "https://localhost:8080/"
        },
        "id": "2vYwyWOvhebx",
        "outputId": "508ce0cc-ed68-4aef-b516-25529a144edd"
      },
      "execution_count": 36,
      "outputs": [
        {
          "output_type": "stream",
          "name": "stdout",
          "text": [
            "Кластеры: 1000, nprobe: 10, accuracy@5: 20.33 %\n",
            "CPU times: user 3min 50s, sys: 3.3 s, total: 3min 53s\n",
            "Wall time: 2min 21s\n"
          ]
        }
      ]
    },
    {
      "cell_type": "code",
      "source": [
        "del df_base_MM\n",
        "del df_train_MM"
      ],
      "metadata": {
        "id": "MDfplyd6hgCN"
      },
      "execution_count": 37,
      "outputs": []
    },
    {
      "cell_type": "code",
      "source": [
        "unnormal_columns = ['6', '21', '25', '33', '44', '65', '70']\n",
        "df_base_drop = df_base.copy()\n",
        "df_train_drop = df_train.copy()\n",
        "\n",
        "for df in [df_base_drop, df_train_drop]:\n",
        "  for column in unnormal_columns:\n",
        "    df.drop(column, axis=1, inplace=True)"
      ],
      "metadata": {
        "id": "R4QequRqzFRV"
      },
      "execution_count": 38,
      "outputs": []
    },
    {
      "cell_type": "code",
      "source": [
        "%%time\n",
        "dims = df_base_drop.shape[1] #кол-во признаков\n",
        "k = 5 #кол-во ближайших соседей\n",
        "n_cells = 1000 #кол-во ячеек в индексе\n",
        "nprobe = 10 #кол-во кластеров для поиска\n",
        "\n",
        "quantizer = faiss.IndexFlatL2(dims)\n",
        "idx_l2 = faiss.IndexIVFFlat(quantizer, dims, n_cells)\n",
        "idx_l2.train(np.ascontiguousarray(df_base_drop.values).astype('float32'))\n",
        "idx_l2.add(np.ascontiguousarray(df_base_drop.values).astype('float32'))\n",
        "idx_l2.nprobe = nprobe\n",
        "r, idx = idx_l2.search(np.ascontiguousarray(df_train_drop.values).astype('float32'), k)\n",
        "accuracy_aggregator(targets, idx, base_index, n_cells, nprobe, 'Drop Unnormal')"
      ],
      "metadata": {
        "colab": {
          "base_uri": "https://localhost:8080/"
        },
        "id": "jq3ZuLMlzoLo",
        "outputId": "c31cc368-9c4e-46c7-853e-2b8af0a85f71"
      },
      "execution_count": 39,
      "outputs": [
        {
          "output_type": "stream",
          "name": "stdout",
          "text": [
            "Кластеры: 1000, nprobe: 10, accuracy@5: 25.903 %\n",
            "CPU times: user 3min 15s, sys: 1.38 s, total: 3min 16s\n",
            "Wall time: 2min 1s\n"
          ]
        }
      ]
    },
    {
      "cell_type": "code",
      "source": [
        "# important_columns = ['7', '17', '3', '28', '34', '4', '42',\n",
        "#                      '27', '13', '49', '20', '10', '29', '41',\n",
        "#                      '55', '62', '58', '24', '16']\n",
        "important_columns = ['6', '70', '33', '27', '65', '21', '68',\n",
        "                     '34', '31', '8', '42', '50', '43', '4',\n",
        "                     '41', '62']\n",
        "df_base_drop = df_base[important_columns]\n",
        "df_train_drop = df_train[important_columns]"
      ],
      "metadata": {
        "id": "6yOfBPT8xO99"
      },
      "execution_count": 40,
      "outputs": []
    },
    {
      "cell_type": "code",
      "source": [
        "%%time\n",
        "dims = df_base_drop.shape[1] #кол-во признаков\n",
        "k = 5 #кол-во ближайших соседей\n",
        "n_cells = 1000 #кол-во ячеек в индексе\n",
        "nprobe = 10 #кол-во кластеров для поиска\n",
        "\n",
        "quantizer = faiss.IndexFlatL2(dims)\n",
        "idx_l2 = faiss.IndexIVFFlat(quantizer, dims, n_cells)\n",
        "idx_l2.train(np.ascontiguousarray(df_base_drop.values).astype('float32'))\n",
        "idx_l2.add(np.ascontiguousarray(df_base_drop.values).astype('float32'))\n",
        "idx_l2.nprobe = nprobe\n",
        "r, idx = idx_l2.search(np.ascontiguousarray(df_train_drop.values).astype('float32'), k)\n",
        "accuracy_aggregator(targets, idx, base_index, n_cells, nprobe, 'Drop Unimportant (Catboost-2)')"
      ],
      "metadata": {
        "colab": {
          "base_uri": "https://localhost:8080/"
        },
        "outputId": "7573c872-09e3-4962-da1f-20e08da66a23",
        "id": "CDDCTNSpxO-U"
      },
      "execution_count": 41,
      "outputs": [
        {
          "output_type": "stream",
          "name": "stdout",
          "text": [
            "Кластеры: 1000, nprobe: 10, accuracy@5: 10.573 %\n",
            "CPU times: user 1min, sys: 385 ms, total: 1min 1s\n",
            "Wall time: 36.4 s\n"
          ]
        }
      ]
    },
    {
      "cell_type": "code",
      "source": [
        "scaler_RS = RobustScaler()\n",
        "df_base_RS = scaler_RS.fit_transform(df_base)\n",
        "df_train_RS = scaler_RS.transform(df_train)"
      ],
      "metadata": {
        "id": "TPiuWzPGAwki"
      },
      "execution_count": 42,
      "outputs": []
    },
    {
      "cell_type": "code",
      "source": [
        "%%time\n",
        "dims = df_base_RS.shape[1] #кол-во признаков\n",
        "#base_index = {k: v for k, v in enumerate(df_base.index.to_list())}\n",
        "k = 5 #кол-во ближайших соседей\n",
        "n_cells = 1000 #кол-во ячеек в индексе\n",
        "nprobe = 10 #кол-во кластеров для поиска\n",
        "\n",
        "quantizer = faiss.IndexFlatL2(dims)\n",
        "idx_l2 = faiss.IndexIVFFlat(quantizer, dims, n_cells)\n",
        "idx_l2.train(np.ascontiguousarray(df_base_RS).astype('float32'))\n",
        "idx_l2.add(np.ascontiguousarray(df_base_RS).astype('float32'))\n",
        "idx_l2.nprobe = nprobe\n",
        "r, idx = idx_l2.search(np.ascontiguousarray(df_train_RS).astype('float32'), k)\n",
        "accuracy_aggregator(targets, idx, base_index, n_cells, nprobe, 'RobustScaler')"
      ],
      "metadata": {
        "colab": {
          "base_uri": "https://localhost:8080/"
        },
        "id": "4AV0ok37vrOp",
        "outputId": "8827ebdc-1c2d-47f4-b3a8-d36640213923"
      },
      "execution_count": 43,
      "outputs": [
        {
          "output_type": "stream",
          "name": "stdout",
          "text": [
            "Кластеры: 1000, nprobe: 10, accuracy@5: 52.55 %\n",
            "CPU times: user 3min 26s, sys: 1.51 s, total: 3min 28s\n",
            "Wall time: 2min 5s\n"
          ]
        }
      ]
    },
    {
      "cell_type": "code",
      "source": [
        "del df_base_RS\n",
        "del df_train_RS"
      ],
      "metadata": {
        "id": "S5KL4IruwY_k"
      },
      "execution_count": 44,
      "outputs": []
    },
    {
      "cell_type": "code",
      "source": [
        "scaler_SS = StandardScaler()\n",
        "df_base_SS = scaler_SS.fit_transform(df_base)\n",
        "df_train_SS = scaler_SS.transform(df_train)\n",
        "scaler_filename = '/content/drive/MyDrive/std_scale_1.bin'\n",
        "dump(scaler_SS, scaler_filename, compress=True)\n",
        "\n",
        "df_base_drop_SS = scaler_SS.fit_transform(df_base_drop)\n",
        "df_train_drop_SS = scaler_SS.transform(df_train_drop)"
      ],
      "metadata": {
        "id": "oo4TBHQbLaLk"
      },
      "execution_count": 45,
      "outputs": []
    },
    {
      "cell_type": "code",
      "source": [
        "del df_base_drop\n",
        "del df_train_drop"
      ],
      "metadata": {
        "id": "xCEn1pmWDkGO"
      },
      "execution_count": 46,
      "outputs": []
    },
    {
      "cell_type": "code",
      "source": [
        "%%time\n",
        "dims = df_base_SS.shape[1] #кол-во признаков\n",
        "k = 5 #кол-во ближайших соседей\n",
        "n_cells = 1000 #кол-во ячеек в индексе\n",
        "nprobe = 10 #кол-во кластеров для поиска\n",
        "\n",
        "quantizer = faiss.IndexFlatL2(dims)\n",
        "idx_l2 = faiss.IndexIVFFlat(quantizer, dims, n_cells)\n",
        "idx_l2.train(np.ascontiguousarray(df_base_SS).astype('float32'))\n",
        "idx_l2.add(np.ascontiguousarray(df_base_SS).astype('float32'))\n",
        "idx_l2.nprobe = nprobe\n",
        "r, idx = idx_l2.search(np.ascontiguousarray(df_train_SS).astype('float32'), k)\n",
        "accuracy_aggregator(targets, idx, base_index, n_cells, nprobe, 'StandardScaler')"
      ],
      "metadata": {
        "colab": {
          "base_uri": "https://localhost:8080/"
        },
        "id": "4_jz768Nxa_u",
        "outputId": "71c8ea3c-612b-4694-b917-a89ce879b4ed"
      },
      "execution_count": 47,
      "outputs": [
        {
          "output_type": "stream",
          "name": "stdout",
          "text": [
            "Кластеры: 1000, nprobe: 10, accuracy@5: 63.748 %\n",
            "CPU times: user 3min 39s, sys: 1.53 s, total: 3min 41s\n",
            "Wall time: 2min 15s\n"
          ]
        }
      ]
    },
    {
      "cell_type": "code",
      "source": [
        "%%time\n",
        "dims = df_base_drop_SS.shape[1] #кол-во признаков\n",
        "k = 5 #кол-во ближайших соседей\n",
        "n_cells = 1000 #кол-во ячеек в индексе\n",
        "nprobe = 10 #кол-во кластеров для поиска\n",
        "\n",
        "quantizer = faiss.IndexFlatL2(dims)\n",
        "idx_l2 = faiss.IndexIVFFlat(quantizer, dims, n_cells)\n",
        "idx_l2.train(np.ascontiguousarray(df_base_drop_SS).astype('float32'))\n",
        "idx_l2.add(np.ascontiguousarray(df_base_drop_SS).astype('float32'))\n",
        "idx_l2.nprobe = nprobe\n",
        "r, idx = idx_l2.search(np.ascontiguousarray(df_train_drop_SS).astype('float32'), k)\n",
        "accuracy_aggregator(targets, idx, base_index, n_cells, nprobe, \\\n",
        "                    'StandardScaler, Drop Unimportant')"
      ],
      "metadata": {
        "colab": {
          "base_uri": "https://localhost:8080/"
        },
        "id": "_HFaZHezzHHC",
        "outputId": "30d0745d-6b91-475d-a6cf-0c18cb59406f"
      },
      "execution_count": 48,
      "outputs": [
        {
          "output_type": "stream",
          "name": "stdout",
          "text": [
            "Кластеры: 1000, nprobe: 10, accuracy@5: 27.923 %\n",
            "CPU times: user 60 s, sys: 590 ms, total: 1min\n",
            "Wall time: 38.5 s\n"
          ]
        }
      ]
    },
    {
      "cell_type": "code",
      "source": [
        "del df_base_drop_SS\n",
        "del df_train_drop_SS\n",
        "# del df_base_SS\n",
        "# del df_train_SS"
      ],
      "metadata": {
        "id": "hanG8uomzL48"
      },
      "execution_count": 49,
      "outputs": []
    },
    {
      "cell_type": "markdown",
      "source": [
        "### Промежуточные результаты - 2"
      ],
      "metadata": {
        "id": "0NI6CuwSVo0X"
      }
    },
    {
      "cell_type": "code",
      "source": [
        "my_metrics = pd.DataFrame(overall_scores)\n",
        "my_metrics"
      ],
      "metadata": {
        "id": "9FlbsP0chSAe",
        "colab": {
          "base_uri": "https://localhost:8080/",
          "height": 551
        },
        "outputId": "e55d2a30-b52d-4ba2-c46c-c6ecfabc0c53"
      },
      "execution_count": 50,
      "outputs": [
        {
          "output_type": "execute_result",
          "data": {
            "text/plain": [
              "    Кластеры  Поиск в соседних                             Опции  accuracy@5\n",
              "0        100                 1                          baseline       7.631\n",
              "1       1000                 1                            search       4.369\n",
              "2       1000                 2                            search       6.196\n",
              "3       1000                10                            search      11.190\n",
              "4        500                 1                            search       5.194\n",
              "5        500                 2                            search       7.368\n",
              "6        500                10                            search      12.288\n",
              "7        200                 1                            search       6.552\n",
              "8        200                 2                            search       8.980\n",
              "9        200                10                            search      13.260\n",
              "10      1000                10                      MinMaxScaler      20.330\n",
              "11      1000                10                     Drop Unnormal      25.903\n",
              "12      1000                10     Drop Unimportant (Catboost-2)      10.573\n",
              "13      1000                10                      RobustScaler      52.550\n",
              "14      1000                10                    StandardScaler      63.748\n",
              "15      1000                10  StandardScaler, Drop Unimportant      27.923"
            ],
            "text/html": [
              "\n",
              "  <div id=\"df-e56d6dba-a3f8-4d81-9781-e2fa393e4e11\" class=\"colab-df-container\">\n",
              "    <div>\n",
              "<style scoped>\n",
              "    .dataframe tbody tr th:only-of-type {\n",
              "        vertical-align: middle;\n",
              "    }\n",
              "\n",
              "    .dataframe tbody tr th {\n",
              "        vertical-align: top;\n",
              "    }\n",
              "\n",
              "    .dataframe thead th {\n",
              "        text-align: right;\n",
              "    }\n",
              "</style>\n",
              "<table border=\"1\" class=\"dataframe\">\n",
              "  <thead>\n",
              "    <tr style=\"text-align: right;\">\n",
              "      <th></th>\n",
              "      <th>Кластеры</th>\n",
              "      <th>Поиск в соседних</th>\n",
              "      <th>Опции</th>\n",
              "      <th>accuracy@5</th>\n",
              "    </tr>\n",
              "  </thead>\n",
              "  <tbody>\n",
              "    <tr>\n",
              "      <th>0</th>\n",
              "      <td>100</td>\n",
              "      <td>1</td>\n",
              "      <td>baseline</td>\n",
              "      <td>7.631</td>\n",
              "    </tr>\n",
              "    <tr>\n",
              "      <th>1</th>\n",
              "      <td>1000</td>\n",
              "      <td>1</td>\n",
              "      <td>search</td>\n",
              "      <td>4.369</td>\n",
              "    </tr>\n",
              "    <tr>\n",
              "      <th>2</th>\n",
              "      <td>1000</td>\n",
              "      <td>2</td>\n",
              "      <td>search</td>\n",
              "      <td>6.196</td>\n",
              "    </tr>\n",
              "    <tr>\n",
              "      <th>3</th>\n",
              "      <td>1000</td>\n",
              "      <td>10</td>\n",
              "      <td>search</td>\n",
              "      <td>11.190</td>\n",
              "    </tr>\n",
              "    <tr>\n",
              "      <th>4</th>\n",
              "      <td>500</td>\n",
              "      <td>1</td>\n",
              "      <td>search</td>\n",
              "      <td>5.194</td>\n",
              "    </tr>\n",
              "    <tr>\n",
              "      <th>5</th>\n",
              "      <td>500</td>\n",
              "      <td>2</td>\n",
              "      <td>search</td>\n",
              "      <td>7.368</td>\n",
              "    </tr>\n",
              "    <tr>\n",
              "      <th>6</th>\n",
              "      <td>500</td>\n",
              "      <td>10</td>\n",
              "      <td>search</td>\n",
              "      <td>12.288</td>\n",
              "    </tr>\n",
              "    <tr>\n",
              "      <th>7</th>\n",
              "      <td>200</td>\n",
              "      <td>1</td>\n",
              "      <td>search</td>\n",
              "      <td>6.552</td>\n",
              "    </tr>\n",
              "    <tr>\n",
              "      <th>8</th>\n",
              "      <td>200</td>\n",
              "      <td>2</td>\n",
              "      <td>search</td>\n",
              "      <td>8.980</td>\n",
              "    </tr>\n",
              "    <tr>\n",
              "      <th>9</th>\n",
              "      <td>200</td>\n",
              "      <td>10</td>\n",
              "      <td>search</td>\n",
              "      <td>13.260</td>\n",
              "    </tr>\n",
              "    <tr>\n",
              "      <th>10</th>\n",
              "      <td>1000</td>\n",
              "      <td>10</td>\n",
              "      <td>MinMaxScaler</td>\n",
              "      <td>20.330</td>\n",
              "    </tr>\n",
              "    <tr>\n",
              "      <th>11</th>\n",
              "      <td>1000</td>\n",
              "      <td>10</td>\n",
              "      <td>Drop Unnormal</td>\n",
              "      <td>25.903</td>\n",
              "    </tr>\n",
              "    <tr>\n",
              "      <th>12</th>\n",
              "      <td>1000</td>\n",
              "      <td>10</td>\n",
              "      <td>Drop Unimportant (Catboost-2)</td>\n",
              "      <td>10.573</td>\n",
              "    </tr>\n",
              "    <tr>\n",
              "      <th>13</th>\n",
              "      <td>1000</td>\n",
              "      <td>10</td>\n",
              "      <td>RobustScaler</td>\n",
              "      <td>52.550</td>\n",
              "    </tr>\n",
              "    <tr>\n",
              "      <th>14</th>\n",
              "      <td>1000</td>\n",
              "      <td>10</td>\n",
              "      <td>StandardScaler</td>\n",
              "      <td>63.748</td>\n",
              "    </tr>\n",
              "    <tr>\n",
              "      <th>15</th>\n",
              "      <td>1000</td>\n",
              "      <td>10</td>\n",
              "      <td>StandardScaler, Drop Unimportant</td>\n",
              "      <td>27.923</td>\n",
              "    </tr>\n",
              "  </tbody>\n",
              "</table>\n",
              "</div>\n",
              "    <div class=\"colab-df-buttons\">\n",
              "\n",
              "  <div class=\"colab-df-container\">\n",
              "    <button class=\"colab-df-convert\" onclick=\"convertToInteractive('df-e56d6dba-a3f8-4d81-9781-e2fa393e4e11')\"\n",
              "            title=\"Convert this dataframe to an interactive table.\"\n",
              "            style=\"display:none;\">\n",
              "\n",
              "  <svg xmlns=\"http://www.w3.org/2000/svg\" height=\"24px\" viewBox=\"0 -960 960 960\">\n",
              "    <path d=\"M120-120v-720h720v720H120Zm60-500h600v-160H180v160Zm220 220h160v-160H400v160Zm0 220h160v-160H400v160ZM180-400h160v-160H180v160Zm440 0h160v-160H620v160ZM180-180h160v-160H180v160Zm440 0h160v-160H620v160Z\"/>\n",
              "  </svg>\n",
              "    </button>\n",
              "\n",
              "  <style>\n",
              "    .colab-df-container {\n",
              "      display:flex;\n",
              "      gap: 12px;\n",
              "    }\n",
              "\n",
              "    .colab-df-convert {\n",
              "      background-color: #E8F0FE;\n",
              "      border: none;\n",
              "      border-radius: 50%;\n",
              "      cursor: pointer;\n",
              "      display: none;\n",
              "      fill: #1967D2;\n",
              "      height: 32px;\n",
              "      padding: 0 0 0 0;\n",
              "      width: 32px;\n",
              "    }\n",
              "\n",
              "    .colab-df-convert:hover {\n",
              "      background-color: #E2EBFA;\n",
              "      box-shadow: 0px 1px 2px rgba(60, 64, 67, 0.3), 0px 1px 3px 1px rgba(60, 64, 67, 0.15);\n",
              "      fill: #174EA6;\n",
              "    }\n",
              "\n",
              "    .colab-df-buttons div {\n",
              "      margin-bottom: 4px;\n",
              "    }\n",
              "\n",
              "    [theme=dark] .colab-df-convert {\n",
              "      background-color: #3B4455;\n",
              "      fill: #D2E3FC;\n",
              "    }\n",
              "\n",
              "    [theme=dark] .colab-df-convert:hover {\n",
              "      background-color: #434B5C;\n",
              "      box-shadow: 0px 1px 3px 1px rgba(0, 0, 0, 0.15);\n",
              "      filter: drop-shadow(0px 1px 2px rgba(0, 0, 0, 0.3));\n",
              "      fill: #FFFFFF;\n",
              "    }\n",
              "  </style>\n",
              "\n",
              "    <script>\n",
              "      const buttonEl =\n",
              "        document.querySelector('#df-e56d6dba-a3f8-4d81-9781-e2fa393e4e11 button.colab-df-convert');\n",
              "      buttonEl.style.display =\n",
              "        google.colab.kernel.accessAllowed ? 'block' : 'none';\n",
              "\n",
              "      async function convertToInteractive(key) {\n",
              "        const element = document.querySelector('#df-e56d6dba-a3f8-4d81-9781-e2fa393e4e11');\n",
              "        const dataTable =\n",
              "          await google.colab.kernel.invokeFunction('convertToInteractive',\n",
              "                                                    [key], {});\n",
              "        if (!dataTable) return;\n",
              "\n",
              "        const docLinkHtml = 'Like what you see? Visit the ' +\n",
              "          '<a target=\"_blank\" href=https://colab.research.google.com/notebooks/data_table.ipynb>data table notebook</a>'\n",
              "          + ' to learn more about interactive tables.';\n",
              "        element.innerHTML = '';\n",
              "        dataTable['output_type'] = 'display_data';\n",
              "        await google.colab.output.renderOutput(dataTable, element);\n",
              "        const docLink = document.createElement('div');\n",
              "        docLink.innerHTML = docLinkHtml;\n",
              "        element.appendChild(docLink);\n",
              "      }\n",
              "    </script>\n",
              "  </div>\n",
              "\n",
              "\n",
              "<div id=\"df-4510d140-d753-49d3-8afd-a2697f17a6b6\">\n",
              "  <button class=\"colab-df-quickchart\" onclick=\"quickchart('df-4510d140-d753-49d3-8afd-a2697f17a6b6')\"\n",
              "            title=\"Suggest charts.\"\n",
              "            style=\"display:none;\">\n",
              "\n",
              "<svg xmlns=\"http://www.w3.org/2000/svg\" height=\"24px\"viewBox=\"0 0 24 24\"\n",
              "     width=\"24px\">\n",
              "    <g>\n",
              "        <path d=\"M19 3H5c-1.1 0-2 .9-2 2v14c0 1.1.9 2 2 2h14c1.1 0 2-.9 2-2V5c0-1.1-.9-2-2-2zM9 17H7v-7h2v7zm4 0h-2V7h2v10zm4 0h-2v-4h2v4z\"/>\n",
              "    </g>\n",
              "</svg>\n",
              "  </button>\n",
              "\n",
              "<style>\n",
              "  .colab-df-quickchart {\n",
              "      --bg-color: #E8F0FE;\n",
              "      --fill-color: #1967D2;\n",
              "      --hover-bg-color: #E2EBFA;\n",
              "      --hover-fill-color: #174EA6;\n",
              "      --disabled-fill-color: #AAA;\n",
              "      --disabled-bg-color: #DDD;\n",
              "  }\n",
              "\n",
              "  [theme=dark] .colab-df-quickchart {\n",
              "      --bg-color: #3B4455;\n",
              "      --fill-color: #D2E3FC;\n",
              "      --hover-bg-color: #434B5C;\n",
              "      --hover-fill-color: #FFFFFF;\n",
              "      --disabled-bg-color: #3B4455;\n",
              "      --disabled-fill-color: #666;\n",
              "  }\n",
              "\n",
              "  .colab-df-quickchart {\n",
              "    background-color: var(--bg-color);\n",
              "    border: none;\n",
              "    border-radius: 50%;\n",
              "    cursor: pointer;\n",
              "    display: none;\n",
              "    fill: var(--fill-color);\n",
              "    height: 32px;\n",
              "    padding: 0;\n",
              "    width: 32px;\n",
              "  }\n",
              "\n",
              "  .colab-df-quickchart:hover {\n",
              "    background-color: var(--hover-bg-color);\n",
              "    box-shadow: 0 1px 2px rgba(60, 64, 67, 0.3), 0 1px 3px 1px rgba(60, 64, 67, 0.15);\n",
              "    fill: var(--button-hover-fill-color);\n",
              "  }\n",
              "\n",
              "  .colab-df-quickchart-complete:disabled,\n",
              "  .colab-df-quickchart-complete:disabled:hover {\n",
              "    background-color: var(--disabled-bg-color);\n",
              "    fill: var(--disabled-fill-color);\n",
              "    box-shadow: none;\n",
              "  }\n",
              "\n",
              "  .colab-df-spinner {\n",
              "    border: 2px solid var(--fill-color);\n",
              "    border-color: transparent;\n",
              "    border-bottom-color: var(--fill-color);\n",
              "    animation:\n",
              "      spin 1s steps(1) infinite;\n",
              "  }\n",
              "\n",
              "  @keyframes spin {\n",
              "    0% {\n",
              "      border-color: transparent;\n",
              "      border-bottom-color: var(--fill-color);\n",
              "      border-left-color: var(--fill-color);\n",
              "    }\n",
              "    20% {\n",
              "      border-color: transparent;\n",
              "      border-left-color: var(--fill-color);\n",
              "      border-top-color: var(--fill-color);\n",
              "    }\n",
              "    30% {\n",
              "      border-color: transparent;\n",
              "      border-left-color: var(--fill-color);\n",
              "      border-top-color: var(--fill-color);\n",
              "      border-right-color: var(--fill-color);\n",
              "    }\n",
              "    40% {\n",
              "      border-color: transparent;\n",
              "      border-right-color: var(--fill-color);\n",
              "      border-top-color: var(--fill-color);\n",
              "    }\n",
              "    60% {\n",
              "      border-color: transparent;\n",
              "      border-right-color: var(--fill-color);\n",
              "    }\n",
              "    80% {\n",
              "      border-color: transparent;\n",
              "      border-right-color: var(--fill-color);\n",
              "      border-bottom-color: var(--fill-color);\n",
              "    }\n",
              "    90% {\n",
              "      border-color: transparent;\n",
              "      border-bottom-color: var(--fill-color);\n",
              "    }\n",
              "  }\n",
              "</style>\n",
              "\n",
              "  <script>\n",
              "    async function quickchart(key) {\n",
              "      const quickchartButtonEl =\n",
              "        document.querySelector('#' + key + ' button');\n",
              "      quickchartButtonEl.disabled = true;  // To prevent multiple clicks.\n",
              "      quickchartButtonEl.classList.add('colab-df-spinner');\n",
              "      try {\n",
              "        const charts = await google.colab.kernel.invokeFunction(\n",
              "            'suggestCharts', [key], {});\n",
              "      } catch (error) {\n",
              "        console.error('Error during call to suggestCharts:', error);\n",
              "      }\n",
              "      quickchartButtonEl.classList.remove('colab-df-spinner');\n",
              "      quickchartButtonEl.classList.add('colab-df-quickchart-complete');\n",
              "    }\n",
              "    (() => {\n",
              "      let quickchartButtonEl =\n",
              "        document.querySelector('#df-4510d140-d753-49d3-8afd-a2697f17a6b6 button');\n",
              "      quickchartButtonEl.style.display =\n",
              "        google.colab.kernel.accessAllowed ? 'block' : 'none';\n",
              "    })();\n",
              "  </script>\n",
              "</div>\n",
              "    </div>\n",
              "  </div>\n"
            ]
          },
          "metadata": {},
          "execution_count": 50
        }
      ]
    },
    {
      "cell_type": "markdown",
      "source": [
        "Наилучшие показатели у данных, отмасштабированных с помощью StandardScaler. Будем работать с этими данными дальше.\n",
        "\n",
        "Вообще такой большой прирост качества \"из коробки\" намекает, что работой с признаками можно ещё сильнее улучшить метрику."
      ],
      "metadata": {
        "id": "idjCU86Jpngu"
      }
    },
    {
      "cell_type": "markdown",
      "source": [
        "## Ранжирование (IMPLEMENTED BUT NOT WORKING)"
      ],
      "metadata": {
        "id": "K_m_lZpS24Bd"
      }
    },
    {
      "cell_type": "markdown",
      "source": [
        "### Catboost в качестве ранжирующей модели"
      ],
      "metadata": {
        "id": "bg00vxjs57S5"
      }
    },
    {
      "cell_type": "markdown",
      "source": [
        "Соберём большее количество соседей. Для экономии времени была выбрана не самая оптимальная конфигурация."
      ],
      "metadata": {
        "id": "sHptfadtjbaR"
      }
    },
    {
      "cell_type": "code",
      "source": [
        "# здесь подобрать оптимальные параметры для будущего использования\n",
        "\n",
        "dims = df_base.shape[1] #кол-во признаков\n",
        "k = 50 #кол-во ближайших соседей\n",
        "n_cells = 200 #кол-во ячеек в индексе\n",
        "nprobe = 20 #кол-во кластеров для поиска\n",
        "index_filename = f'/content/drive/MyDrive/idx_l2_{n_cells}_{nprobe}.index'"
      ],
      "metadata": {
        "id": "3QRCqR96jbld"
      },
      "execution_count": 51,
      "outputs": []
    },
    {
      "cell_type": "markdown",
      "source": [
        "Сохраним индекс на диске. В будущем можно будет им пользоваться, не проводя предварительные вычисления."
      ],
      "metadata": {
        "id": "kFSkSLWWtMLq"
      }
    },
    {
      "cell_type": "code",
      "source": [
        "%%time\n",
        "if not os.path.exists(index_filename):\n",
        "  quantizer = faiss.IndexFlatL2(dims)\n",
        "  idx_l2 = faiss.IndexIVFFlat(quantizer, dims, n_cells)\n",
        "  idx_l2.train(np.ascontiguousarray(df_base_SS).astype('float32'))\n",
        "  idx_l2.add(np.ascontiguousarray(df_base_SS).astype('float32'))\n",
        "  idx_l2.nprobe = nprobe\n",
        "  r, idx = idx_l2.search(np.ascontiguousarray(df_train_SS).astype('float32'), k)\n",
        "  accuracy_aggregator(targets, idx, base_index, n_cells, nprobe, 'StandardScaler, 50 Neighbours')\n",
        "  faiss.write_index(idx_l2, index_filename)\n",
        "else:\n",
        "  idx_l2 = faiss.read_index(index_filename)"
      ],
      "metadata": {
        "id": "pIti0BiXtEdT",
        "colab": {
          "base_uri": "https://localhost:8080/"
        },
        "outputId": "d7ed4a22-ff07-4404-acba-559b41915214"
      },
      "execution_count": 52,
      "outputs": [
        {
          "output_type": "stream",
          "name": "stdout",
          "text": [
            "CPU times: user 254 ms, sys: 504 ms, total: 758 ms\n",
            "Wall time: 9.52 s\n"
          ]
        }
      ]
    },
    {
      "cell_type": "code",
      "source": [
        "%%time\n",
        "r, idx = idx_l2.search(np.ascontiguousarray(df_train_SS).astype('float32'), 50)\n",
        "accuracy_aggregator(targets, idx, base_index, n_cells, nprobe, 'StandardScaler, 50 Neighbours')"
      ],
      "metadata": {
        "colab": {
          "base_uri": "https://localhost:8080/"
        },
        "id": "9q6Gm6p-FzT1",
        "outputId": "1db87eb8-61bc-4e39-e051-6d90383fe714"
      },
      "execution_count": 53,
      "outputs": [
        {
          "output_type": "stream",
          "name": "stdout",
          "text": [
            "Кластеры: 200, nprobe: 20, accuracy@5: 75.136 %\n",
            "CPU times: user 26min 30s, sys: 2.53 s, total: 26min 33s\n",
            "Wall time: 16min 20s\n"
          ]
        }
      ]
    },
    {
      "cell_type": "code",
      "source": [
        "my_metrics = pd.DataFrame(overall_scores)\n",
        "my_metrics.tail(1)"
      ],
      "metadata": {
        "colab": {
          "base_uri": "https://localhost:8080/",
          "height": 81
        },
        "id": "qM73KEMWqaK7",
        "outputId": "079daac4-43f8-4452-ae6a-dbe84c6da772"
      },
      "execution_count": 54,
      "outputs": [
        {
          "output_type": "execute_result",
          "data": {
            "text/plain": [
              "    Кластеры  Поиск в соседних                          Опции  accuracy@5\n",
              "16       200                20  StandardScaler, 50 Neighbours      75.136"
            ],
            "text/html": [
              "\n",
              "  <div id=\"df-0fa9f12d-7438-4a81-a91b-89fb0bb8ed17\" class=\"colab-df-container\">\n",
              "    <div>\n",
              "<style scoped>\n",
              "    .dataframe tbody tr th:only-of-type {\n",
              "        vertical-align: middle;\n",
              "    }\n",
              "\n",
              "    .dataframe tbody tr th {\n",
              "        vertical-align: top;\n",
              "    }\n",
              "\n",
              "    .dataframe thead th {\n",
              "        text-align: right;\n",
              "    }\n",
              "</style>\n",
              "<table border=\"1\" class=\"dataframe\">\n",
              "  <thead>\n",
              "    <tr style=\"text-align: right;\">\n",
              "      <th></th>\n",
              "      <th>Кластеры</th>\n",
              "      <th>Поиск в соседних</th>\n",
              "      <th>Опции</th>\n",
              "      <th>accuracy@5</th>\n",
              "    </tr>\n",
              "  </thead>\n",
              "  <tbody>\n",
              "    <tr>\n",
              "      <th>16</th>\n",
              "      <td>200</td>\n",
              "      <td>20</td>\n",
              "      <td>StandardScaler, 50 Neighbours</td>\n",
              "      <td>75.136</td>\n",
              "    </tr>\n",
              "  </tbody>\n",
              "</table>\n",
              "</div>\n",
              "    <div class=\"colab-df-buttons\">\n",
              "\n",
              "  <div class=\"colab-df-container\">\n",
              "    <button class=\"colab-df-convert\" onclick=\"convertToInteractive('df-0fa9f12d-7438-4a81-a91b-89fb0bb8ed17')\"\n",
              "            title=\"Convert this dataframe to an interactive table.\"\n",
              "            style=\"display:none;\">\n",
              "\n",
              "  <svg xmlns=\"http://www.w3.org/2000/svg\" height=\"24px\" viewBox=\"0 -960 960 960\">\n",
              "    <path d=\"M120-120v-720h720v720H120Zm60-500h600v-160H180v160Zm220 220h160v-160H400v160Zm0 220h160v-160H400v160ZM180-400h160v-160H180v160Zm440 0h160v-160H620v160ZM180-180h160v-160H180v160Zm440 0h160v-160H620v160Z\"/>\n",
              "  </svg>\n",
              "    </button>\n",
              "\n",
              "  <style>\n",
              "    .colab-df-container {\n",
              "      display:flex;\n",
              "      gap: 12px;\n",
              "    }\n",
              "\n",
              "    .colab-df-convert {\n",
              "      background-color: #E8F0FE;\n",
              "      border: none;\n",
              "      border-radius: 50%;\n",
              "      cursor: pointer;\n",
              "      display: none;\n",
              "      fill: #1967D2;\n",
              "      height: 32px;\n",
              "      padding: 0 0 0 0;\n",
              "      width: 32px;\n",
              "    }\n",
              "\n",
              "    .colab-df-convert:hover {\n",
              "      background-color: #E2EBFA;\n",
              "      box-shadow: 0px 1px 2px rgba(60, 64, 67, 0.3), 0px 1px 3px 1px rgba(60, 64, 67, 0.15);\n",
              "      fill: #174EA6;\n",
              "    }\n",
              "\n",
              "    .colab-df-buttons div {\n",
              "      margin-bottom: 4px;\n",
              "    }\n",
              "\n",
              "    [theme=dark] .colab-df-convert {\n",
              "      background-color: #3B4455;\n",
              "      fill: #D2E3FC;\n",
              "    }\n",
              "\n",
              "    [theme=dark] .colab-df-convert:hover {\n",
              "      background-color: #434B5C;\n",
              "      box-shadow: 0px 1px 3px 1px rgba(0, 0, 0, 0.15);\n",
              "      filter: drop-shadow(0px 1px 2px rgba(0, 0, 0, 0.3));\n",
              "      fill: #FFFFFF;\n",
              "    }\n",
              "  </style>\n",
              "\n",
              "    <script>\n",
              "      const buttonEl =\n",
              "        document.querySelector('#df-0fa9f12d-7438-4a81-a91b-89fb0bb8ed17 button.colab-df-convert');\n",
              "      buttonEl.style.display =\n",
              "        google.colab.kernel.accessAllowed ? 'block' : 'none';\n",
              "\n",
              "      async function convertToInteractive(key) {\n",
              "        const element = document.querySelector('#df-0fa9f12d-7438-4a81-a91b-89fb0bb8ed17');\n",
              "        const dataTable =\n",
              "          await google.colab.kernel.invokeFunction('convertToInteractive',\n",
              "                                                    [key], {});\n",
              "        if (!dataTable) return;\n",
              "\n",
              "        const docLinkHtml = 'Like what you see? Visit the ' +\n",
              "          '<a target=\"_blank\" href=https://colab.research.google.com/notebooks/data_table.ipynb>data table notebook</a>'\n",
              "          + ' to learn more about interactive tables.';\n",
              "        element.innerHTML = '';\n",
              "        dataTable['output_type'] = 'display_data';\n",
              "        await google.colab.output.renderOutput(dataTable, element);\n",
              "        const docLink = document.createElement('div');\n",
              "        docLink.innerHTML = docLinkHtml;\n",
              "        element.appendChild(docLink);\n",
              "      }\n",
              "    </script>\n",
              "  </div>\n",
              "\n",
              "    </div>\n",
              "  </div>\n"
            ]
          },
          "metadata": {},
          "execution_count": 54
        }
      ]
    },
    {
      "cell_type": "code",
      "source": [
        "len(idx)"
      ],
      "metadata": {
        "colab": {
          "base_uri": "https://localhost:8080/"
        },
        "id": "_NVCb0zysqQ6",
        "outputId": "64718972-ab03-4d45-b0f2-2deb99a12f0d"
      },
      "execution_count": 55,
      "outputs": [
        {
          "output_type": "execute_result",
          "data": {
            "text/plain": [
              "100000"
            ]
          },
          "metadata": {},
          "execution_count": 55
        }
      ]
    },
    {
      "cell_type": "code",
      "source": [
        "len(idx[0])"
      ],
      "metadata": {
        "colab": {
          "base_uri": "https://localhost:8080/"
        },
        "id": "7CXIptMaMKMe",
        "outputId": "fd93301d-fa29-4829-d680-55ee4b322790"
      },
      "execution_count": 56,
      "outputs": [
        {
          "output_type": "execute_result",
          "data": {
            "text/plain": [
              "50"
            ]
          },
          "metadata": {},
          "execution_count": 56
        }
      ]
    },
    {
      "cell_type": "code",
      "source": [
        "targets.head()"
      ],
      "metadata": {
        "colab": {
          "base_uri": "https://localhost:8080/"
        },
        "id": "JXt3rchgyJaE",
        "outputId": "811f2205-65d2-463a-ed57-37511539880e"
      },
      "execution_count": 57,
      "outputs": [
        {
          "output_type": "execute_result",
          "data": {
            "text/plain": [
              "Id\n",
              "0-query     675816-base\n",
              "1-query     366656-base\n",
              "2-query    1447819-base\n",
              "3-query    1472602-base\n",
              "4-query     717819-base\n",
              "Name: Target, dtype: object"
            ]
          },
          "metadata": {},
          "execution_count": 57
        }
      ]
    },
    {
      "cell_type": "code",
      "source": [
        "# формирование списка названия колонок для обучающего датафрейма\n",
        "columns=df_base.columns.tolist()\n",
        "all_columns = columns\n",
        "new_columns = [f'{col}_search' for col in columns]\n",
        "all_columns.extend(new_columns)\n",
        "all_columns.extend(['is_neighbour'])"
      ],
      "metadata": {
        "id": "v0dMZ2LZUMXK"
      },
      "execution_count": 58,
      "outputs": []
    },
    {
      "cell_type": "code",
      "source": [
        "# Далее идет совершенно неправильный способ задания обучающего датафрейма.\n",
        "# df_base_cat = pd.DataFrame(columns=all_columns)\n",
        "# columns=df_base.columns.tolist()\n",
        "# df_base_cat"
      ],
      "metadata": {
        "id": "Bkybtdq9H2du"
      },
      "execution_count": 59,
      "outputs": []
    },
    {
      "cell_type": "code",
      "source": [
        "# инициализация матриц для внесения сравниваемых признаков\n",
        "np_base_SS = np.empty(72)\n",
        "np_train_SS = np.empty(72)\n",
        "\n",
        "results = []\n",
        "base_names = []"
      ],
      "metadata": {
        "id": "XOpcnK4PEi11"
      },
      "execution_count": 60,
      "outputs": []
    },
    {
      "cell_type": "code",
      "source": [
        "%%time\n",
        "sycle = 0\n",
        "# Берём ограниченный объём данных.\n",
        "for target, el in zip(targets.values.tolist()[:2000], idx.tolist()[:2000]):\n",
        "  for r in el:\n",
        "    #если делать так, всё очень медленно\n",
        "    #df_base_cat.loc[sycle, columns] = df_base_SS[r]\n",
        "    #df_base_cat.loc[sycle, new_columns] = df_train_SS[sycle]\n",
        "    #df_base_cat.loc[sycle, 'result'] = base_index[r]\n",
        "\n",
        "    if target == base_index[r]:\n",
        "      #df_base_cat.loc[sycle, 'is_neighbour'] = 1\n",
        "      results.append(1)\n",
        "    else:\n",
        "      #df_base_cat.loc[sycle, 'is_neighbour'] = 0\n",
        "      results.append(0)\n",
        "\n",
        "    np_base_SS = np.vstack([np_base_SS, df_base_SS[r]])\n",
        "    np_train_SS = np.vstack([np_train_SS, df_train_SS[sycle]])\n",
        "    base_names.append(base_index[r])\n",
        "    sycle+=1\n",
        "\n",
        "sycle"
      ],
      "metadata": {
        "id": "8KMonHc_tDLx",
        "colab": {
          "base_uri": "https://localhost:8080/"
        },
        "outputId": "e1c003fa-590b-4a72-f24b-3a5876d1b1e5"
      },
      "execution_count": 61,
      "outputs": [
        {
          "output_type": "stream",
          "name": "stdout",
          "text": [
            "CPU times: user 20min 22s, sys: 14min 40s, total: 35min 2s\n",
            "Wall time: 35min 5s\n"
          ]
        },
        {
          "output_type": "execute_result",
          "data": {
            "text/plain": [
              "100000"
            ]
          },
          "metadata": {},
          "execution_count": 61
        }
      ]
    },
    {
      "cell_type": "code",
      "source": [
        "sum(results)"
      ],
      "metadata": {
        "colab": {
          "base_uri": "https://localhost:8080/"
        },
        "id": "puTA3AwJsmAb",
        "outputId": "26ae3957-cf4f-4d76-f734-acbd95946bb1"
      },
      "execution_count": 62,
      "outputs": [
        {
          "output_type": "execute_result",
          "data": {
            "text/plain": [
              "1497"
            ]
          },
          "metadata": {},
          "execution_count": 62
        }
      ]
    },
    {
      "cell_type": "code",
      "source": [
        "# соединяем матрицы, удаляем первую строку (возникла при инициализации)\n",
        "cat_array = np.hstack([np_base_SS, np_train_SS])\n",
        "cat_array = np.delete(cat_array, (0), axis=0)\n",
        "cat_array.shape"
      ],
      "metadata": {
        "colab": {
          "base_uri": "https://localhost:8080/"
        },
        "id": "ynQ7GFglu2F5",
        "outputId": "df182dac-c8e6-4be5-8c88-6c17a2fcfe20"
      },
      "execution_count": 63,
      "outputs": [
        {
          "output_type": "execute_result",
          "data": {
            "text/plain": [
              "(100000, 144)"
            ]
          },
          "metadata": {},
          "execution_count": 63
        }
      ]
    },
    {
      "cell_type": "code",
      "source": [
        "# добаляем столбец с таргетом\n",
        "cat_array = np.insert (cat_array, 144, results, axis=1)"
      ],
      "metadata": {
        "id": "aJWSq9tVvdyd"
      },
      "execution_count": 64,
      "outputs": []
    },
    {
      "cell_type": "code",
      "source": [
        "# матрица становится датафреймом\n",
        "df_base_cat = pd.DataFrame(data=cat_array, columns=all_columns, index=base_names)\n",
        "df_base_cat.shape"
      ],
      "metadata": {
        "colab": {
          "base_uri": "https://localhost:8080/"
        },
        "id": "_7ut7bU5wJJm",
        "outputId": "6460cf36-7847-414a-cd46-699ebe87dc5e"
      },
      "execution_count": 65,
      "outputs": [
        {
          "output_type": "execute_result",
          "data": {
            "text/plain": [
              "(100000, 145)"
            ]
          },
          "metadata": {},
          "execution_count": 65
        }
      ]
    },
    {
      "cell_type": "code",
      "source": [
        "# df_base_cat['result'] = base_names\n",
        "# df_base_cat = df_base_cat.set_index('result')"
      ],
      "metadata": {
        "id": "IkAwJqoQlAZi"
      },
      "execution_count": 66,
      "outputs": []
    },
    {
      "cell_type": "code",
      "source": [
        "# df_base_cat.shape"
      ],
      "metadata": {
        "id": "67ZPsa8kIUUw"
      },
      "execution_count": 67,
      "outputs": []
    },
    {
      "cell_type": "code",
      "source": [
        "df_base_cat[df_base_cat['is_neighbour']==1].sample()"
      ],
      "metadata": {
        "id": "R6MIAM3eCnRk",
        "colab": {
          "base_uri": "https://localhost:8080/",
          "height": 147
        },
        "outputId": "23cd813e-4cd7-4cce-9df4-e71c0b0ef3ad"
      },
      "execution_count": 68,
      "outputs": [
        {
          "output_type": "execute_result",
          "data": {
            "text/plain": [
              "                  0         1         2         3         4         5  \\\n",
              "9331-base  1.803287  0.990929 -0.205005 -1.534359  0.131804  0.275746   \n",
              "\n",
              "                  6         7         8         9  ...  63_search  64_search  \\\n",
              "9331-base -1.352459  1.549478 -1.114749 -1.484287  ...   0.162973   0.064828   \n",
              "\n",
              "           65_search  66_search  67_search  68_search  69_search  70_search  \\\n",
              "9331-base   0.162422   0.006194  -0.061588   0.215724  -0.855546    0.89324   \n",
              "\n",
              "           71_search  is_neighbour  \n",
              "9331-base   1.729637           1.0  \n",
              "\n",
              "[1 rows x 145 columns]"
            ],
            "text/html": [
              "\n",
              "  <div id=\"df-35f4746d-937d-49f4-8e65-36462f9ed131\" class=\"colab-df-container\">\n",
              "    <div>\n",
              "<style scoped>\n",
              "    .dataframe tbody tr th:only-of-type {\n",
              "        vertical-align: middle;\n",
              "    }\n",
              "\n",
              "    .dataframe tbody tr th {\n",
              "        vertical-align: top;\n",
              "    }\n",
              "\n",
              "    .dataframe thead th {\n",
              "        text-align: right;\n",
              "    }\n",
              "</style>\n",
              "<table border=\"1\" class=\"dataframe\">\n",
              "  <thead>\n",
              "    <tr style=\"text-align: right;\">\n",
              "      <th></th>\n",
              "      <th>0</th>\n",
              "      <th>1</th>\n",
              "      <th>2</th>\n",
              "      <th>3</th>\n",
              "      <th>4</th>\n",
              "      <th>5</th>\n",
              "      <th>6</th>\n",
              "      <th>7</th>\n",
              "      <th>8</th>\n",
              "      <th>9</th>\n",
              "      <th>...</th>\n",
              "      <th>63_search</th>\n",
              "      <th>64_search</th>\n",
              "      <th>65_search</th>\n",
              "      <th>66_search</th>\n",
              "      <th>67_search</th>\n",
              "      <th>68_search</th>\n",
              "      <th>69_search</th>\n",
              "      <th>70_search</th>\n",
              "      <th>71_search</th>\n",
              "      <th>is_neighbour</th>\n",
              "    </tr>\n",
              "  </thead>\n",
              "  <tbody>\n",
              "    <tr>\n",
              "      <th>9331-base</th>\n",
              "      <td>1.803287</td>\n",
              "      <td>0.990929</td>\n",
              "      <td>-0.205005</td>\n",
              "      <td>-1.534359</td>\n",
              "      <td>0.131804</td>\n",
              "      <td>0.275746</td>\n",
              "      <td>-1.352459</td>\n",
              "      <td>1.549478</td>\n",
              "      <td>-1.114749</td>\n",
              "      <td>-1.484287</td>\n",
              "      <td>...</td>\n",
              "      <td>0.162973</td>\n",
              "      <td>0.064828</td>\n",
              "      <td>0.162422</td>\n",
              "      <td>0.006194</td>\n",
              "      <td>-0.061588</td>\n",
              "      <td>0.215724</td>\n",
              "      <td>-0.855546</td>\n",
              "      <td>0.89324</td>\n",
              "      <td>1.729637</td>\n",
              "      <td>1.0</td>\n",
              "    </tr>\n",
              "  </tbody>\n",
              "</table>\n",
              "<p>1 rows × 145 columns</p>\n",
              "</div>\n",
              "    <div class=\"colab-df-buttons\">\n",
              "\n",
              "  <div class=\"colab-df-container\">\n",
              "    <button class=\"colab-df-convert\" onclick=\"convertToInteractive('df-35f4746d-937d-49f4-8e65-36462f9ed131')\"\n",
              "            title=\"Convert this dataframe to an interactive table.\"\n",
              "            style=\"display:none;\">\n",
              "\n",
              "  <svg xmlns=\"http://www.w3.org/2000/svg\" height=\"24px\" viewBox=\"0 -960 960 960\">\n",
              "    <path d=\"M120-120v-720h720v720H120Zm60-500h600v-160H180v160Zm220 220h160v-160H400v160Zm0 220h160v-160H400v160ZM180-400h160v-160H180v160Zm440 0h160v-160H620v160ZM180-180h160v-160H180v160Zm440 0h160v-160H620v160Z\"/>\n",
              "  </svg>\n",
              "    </button>\n",
              "\n",
              "  <style>\n",
              "    .colab-df-container {\n",
              "      display:flex;\n",
              "      gap: 12px;\n",
              "    }\n",
              "\n",
              "    .colab-df-convert {\n",
              "      background-color: #E8F0FE;\n",
              "      border: none;\n",
              "      border-radius: 50%;\n",
              "      cursor: pointer;\n",
              "      display: none;\n",
              "      fill: #1967D2;\n",
              "      height: 32px;\n",
              "      padding: 0 0 0 0;\n",
              "      width: 32px;\n",
              "    }\n",
              "\n",
              "    .colab-df-convert:hover {\n",
              "      background-color: #E2EBFA;\n",
              "      box-shadow: 0px 1px 2px rgba(60, 64, 67, 0.3), 0px 1px 3px 1px rgba(60, 64, 67, 0.15);\n",
              "      fill: #174EA6;\n",
              "    }\n",
              "\n",
              "    .colab-df-buttons div {\n",
              "      margin-bottom: 4px;\n",
              "    }\n",
              "\n",
              "    [theme=dark] .colab-df-convert {\n",
              "      background-color: #3B4455;\n",
              "      fill: #D2E3FC;\n",
              "    }\n",
              "\n",
              "    [theme=dark] .colab-df-convert:hover {\n",
              "      background-color: #434B5C;\n",
              "      box-shadow: 0px 1px 3px 1px rgba(0, 0, 0, 0.15);\n",
              "      filter: drop-shadow(0px 1px 2px rgba(0, 0, 0, 0.3));\n",
              "      fill: #FFFFFF;\n",
              "    }\n",
              "  </style>\n",
              "\n",
              "    <script>\n",
              "      const buttonEl =\n",
              "        document.querySelector('#df-35f4746d-937d-49f4-8e65-36462f9ed131 button.colab-df-convert');\n",
              "      buttonEl.style.display =\n",
              "        google.colab.kernel.accessAllowed ? 'block' : 'none';\n",
              "\n",
              "      async function convertToInteractive(key) {\n",
              "        const element = document.querySelector('#df-35f4746d-937d-49f4-8e65-36462f9ed131');\n",
              "        const dataTable =\n",
              "          await google.colab.kernel.invokeFunction('convertToInteractive',\n",
              "                                                    [key], {});\n",
              "        if (!dataTable) return;\n",
              "\n",
              "        const docLinkHtml = 'Like what you see? Visit the ' +\n",
              "          '<a target=\"_blank\" href=https://colab.research.google.com/notebooks/data_table.ipynb>data table notebook</a>'\n",
              "          + ' to learn more about interactive tables.';\n",
              "        element.innerHTML = '';\n",
              "        dataTable['output_type'] = 'display_data';\n",
              "        await google.colab.output.renderOutput(dataTable, element);\n",
              "        const docLink = document.createElement('div');\n",
              "        docLink.innerHTML = docLinkHtml;\n",
              "        element.appendChild(docLink);\n",
              "      }\n",
              "    </script>\n",
              "  </div>\n",
              "\n",
              "    </div>\n",
              "  </div>\n"
            ]
          },
          "metadata": {},
          "execution_count": 68
        }
      ]
    },
    {
      "cell_type": "code",
      "source": [
        "# Очень мало целевого признака\n",
        "df_base_cat['is_neighbour'].sum()/df_base_cat.shape[0]"
      ],
      "metadata": {
        "id": "57s-DX7ubPUy",
        "colab": {
          "base_uri": "https://localhost:8080/"
        },
        "outputId": "745e4813-d333-4424-e7a4-45772057e63d"
      },
      "execution_count": 69,
      "outputs": [
        {
          "output_type": "execute_result",
          "data": {
            "text/plain": [
              "0.01497"
            ]
          },
          "metadata": {},
          "execution_count": 69
        }
      ]
    },
    {
      "cell_type": "code",
      "source": [
        "X_train, X_test, y_train, y_test = train_test_split(\n",
        "    df_base_cat.drop(['is_neighbour'] , axis=1),\n",
        "    df_base_cat['is_neighbour'],\n",
        "    test_size=0.25,\n",
        "    random_state=2007,\n",
        "    stratify=df_base_cat['is_neighbour']\n",
        "    )"
      ],
      "metadata": {
        "id": "OZGMdN5qAQei"
      },
      "execution_count": 70,
      "outputs": []
    },
    {
      "cell_type": "code",
      "source": [
        "X_train.sample()"
      ],
      "metadata": {
        "colab": {
          "base_uri": "https://localhost:8080/",
          "height": 147
        },
        "id": "_OApxi_eo1pX",
        "outputId": "7b3a2b62-80f7-42c1-8b6c-529f944b6249"
      },
      "execution_count": 71,
      "outputs": [
        {
          "output_type": "execute_result",
          "data": {
            "text/plain": [
              "                     0         1         2         3         4         5  \\\n",
              "1510475-base -1.188506 -1.960247  0.768775 -1.051757 -1.570234  0.296086   \n",
              "\n",
              "                     6         7         8         9  ...  62_search  \\\n",
              "1510475-base -1.030584  2.886694  1.717281 -0.195111  ...  -1.102213   \n",
              "\n",
              "              63_search  64_search  65_search  66_search  67_search  \\\n",
              "1510475-base   0.494324  -0.567354   -1.34687  -0.854797   0.329056   \n",
              "\n",
              "              68_search  69_search  70_search  71_search  \n",
              "1510475-base  -0.435161  -0.275496  -0.713847  -0.522641  \n",
              "\n",
              "[1 rows x 144 columns]"
            ],
            "text/html": [
              "\n",
              "  <div id=\"df-0833a3ae-5fdf-4d5d-99e4-af62304740d6\" class=\"colab-df-container\">\n",
              "    <div>\n",
              "<style scoped>\n",
              "    .dataframe tbody tr th:only-of-type {\n",
              "        vertical-align: middle;\n",
              "    }\n",
              "\n",
              "    .dataframe tbody tr th {\n",
              "        vertical-align: top;\n",
              "    }\n",
              "\n",
              "    .dataframe thead th {\n",
              "        text-align: right;\n",
              "    }\n",
              "</style>\n",
              "<table border=\"1\" class=\"dataframe\">\n",
              "  <thead>\n",
              "    <tr style=\"text-align: right;\">\n",
              "      <th></th>\n",
              "      <th>0</th>\n",
              "      <th>1</th>\n",
              "      <th>2</th>\n",
              "      <th>3</th>\n",
              "      <th>4</th>\n",
              "      <th>5</th>\n",
              "      <th>6</th>\n",
              "      <th>7</th>\n",
              "      <th>8</th>\n",
              "      <th>9</th>\n",
              "      <th>...</th>\n",
              "      <th>62_search</th>\n",
              "      <th>63_search</th>\n",
              "      <th>64_search</th>\n",
              "      <th>65_search</th>\n",
              "      <th>66_search</th>\n",
              "      <th>67_search</th>\n",
              "      <th>68_search</th>\n",
              "      <th>69_search</th>\n",
              "      <th>70_search</th>\n",
              "      <th>71_search</th>\n",
              "    </tr>\n",
              "  </thead>\n",
              "  <tbody>\n",
              "    <tr>\n",
              "      <th>1510475-base</th>\n",
              "      <td>-1.188506</td>\n",
              "      <td>-1.960247</td>\n",
              "      <td>0.768775</td>\n",
              "      <td>-1.051757</td>\n",
              "      <td>-1.570234</td>\n",
              "      <td>0.296086</td>\n",
              "      <td>-1.030584</td>\n",
              "      <td>2.886694</td>\n",
              "      <td>1.717281</td>\n",
              "      <td>-0.195111</td>\n",
              "      <td>...</td>\n",
              "      <td>-1.102213</td>\n",
              "      <td>0.494324</td>\n",
              "      <td>-0.567354</td>\n",
              "      <td>-1.34687</td>\n",
              "      <td>-0.854797</td>\n",
              "      <td>0.329056</td>\n",
              "      <td>-0.435161</td>\n",
              "      <td>-0.275496</td>\n",
              "      <td>-0.713847</td>\n",
              "      <td>-0.522641</td>\n",
              "    </tr>\n",
              "  </tbody>\n",
              "</table>\n",
              "<p>1 rows × 144 columns</p>\n",
              "</div>\n",
              "    <div class=\"colab-df-buttons\">\n",
              "\n",
              "  <div class=\"colab-df-container\">\n",
              "    <button class=\"colab-df-convert\" onclick=\"convertToInteractive('df-0833a3ae-5fdf-4d5d-99e4-af62304740d6')\"\n",
              "            title=\"Convert this dataframe to an interactive table.\"\n",
              "            style=\"display:none;\">\n",
              "\n",
              "  <svg xmlns=\"http://www.w3.org/2000/svg\" height=\"24px\" viewBox=\"0 -960 960 960\">\n",
              "    <path d=\"M120-120v-720h720v720H120Zm60-500h600v-160H180v160Zm220 220h160v-160H400v160Zm0 220h160v-160H400v160ZM180-400h160v-160H180v160Zm440 0h160v-160H620v160ZM180-180h160v-160H180v160Zm440 0h160v-160H620v160Z\"/>\n",
              "  </svg>\n",
              "    </button>\n",
              "\n",
              "  <style>\n",
              "    .colab-df-container {\n",
              "      display:flex;\n",
              "      gap: 12px;\n",
              "    }\n",
              "\n",
              "    .colab-df-convert {\n",
              "      background-color: #E8F0FE;\n",
              "      border: none;\n",
              "      border-radius: 50%;\n",
              "      cursor: pointer;\n",
              "      display: none;\n",
              "      fill: #1967D2;\n",
              "      height: 32px;\n",
              "      padding: 0 0 0 0;\n",
              "      width: 32px;\n",
              "    }\n",
              "\n",
              "    .colab-df-convert:hover {\n",
              "      background-color: #E2EBFA;\n",
              "      box-shadow: 0px 1px 2px rgba(60, 64, 67, 0.3), 0px 1px 3px 1px rgba(60, 64, 67, 0.15);\n",
              "      fill: #174EA6;\n",
              "    }\n",
              "\n",
              "    .colab-df-buttons div {\n",
              "      margin-bottom: 4px;\n",
              "    }\n",
              "\n",
              "    [theme=dark] .colab-df-convert {\n",
              "      background-color: #3B4455;\n",
              "      fill: #D2E3FC;\n",
              "    }\n",
              "\n",
              "    [theme=dark] .colab-df-convert:hover {\n",
              "      background-color: #434B5C;\n",
              "      box-shadow: 0px 1px 3px 1px rgba(0, 0, 0, 0.15);\n",
              "      filter: drop-shadow(0px 1px 2px rgba(0, 0, 0, 0.3));\n",
              "      fill: #FFFFFF;\n",
              "    }\n",
              "  </style>\n",
              "\n",
              "    <script>\n",
              "      const buttonEl =\n",
              "        document.querySelector('#df-0833a3ae-5fdf-4d5d-99e4-af62304740d6 button.colab-df-convert');\n",
              "      buttonEl.style.display =\n",
              "        google.colab.kernel.accessAllowed ? 'block' : 'none';\n",
              "\n",
              "      async function convertToInteractive(key) {\n",
              "        const element = document.querySelector('#df-0833a3ae-5fdf-4d5d-99e4-af62304740d6');\n",
              "        const dataTable =\n",
              "          await google.colab.kernel.invokeFunction('convertToInteractive',\n",
              "                                                    [key], {});\n",
              "        if (!dataTable) return;\n",
              "\n",
              "        const docLinkHtml = 'Like what you see? Visit the ' +\n",
              "          '<a target=\"_blank\" href=https://colab.research.google.com/notebooks/data_table.ipynb>data table notebook</a>'\n",
              "          + ' to learn more about interactive tables.';\n",
              "        element.innerHTML = '';\n",
              "        dataTable['output_type'] = 'display_data';\n",
              "        await google.colab.output.renderOutput(dataTable, element);\n",
              "        const docLink = document.createElement('div');\n",
              "        docLink.innerHTML = docLinkHtml;\n",
              "        element.appendChild(docLink);\n",
              "      }\n",
              "    </script>\n",
              "  </div>\n",
              "\n",
              "    </div>\n",
              "  </div>\n"
            ]
          },
          "metadata": {},
          "execution_count": 71
        }
      ]
    },
    {
      "cell_type": "code",
      "source": [
        "cat_features = []"
      ],
      "metadata": {
        "id": "0JcETi3VAMsC"
      },
      "execution_count": 72,
      "outputs": []
    },
    {
      "cell_type": "code",
      "source": [
        "train_data = Pool(data=X_train,\n",
        "                  label=y_train,\n",
        "                  cat_features=cat_features\n",
        "                 )"
      ],
      "metadata": {
        "id": "mJuYBKPFAMzN"
      },
      "execution_count": 73,
      "outputs": []
    },
    {
      "cell_type": "code",
      "source": [
        "test_data = Pool(data=X_test,\n",
        "                  label=y_test,\n",
        "                  cat_features=cat_features\n",
        "                 )"
      ],
      "metadata": {
        "id": "aySUvUboAXBF"
      },
      "execution_count": 74,
      "outputs": []
    },
    {
      "cell_type": "code",
      "source": [
        "params = {'cat_features': cat_features,\n",
        "          'eval_metric': 'AUC',\n",
        "          'loss_function': 'Logloss',\n",
        "          #'learning_rate': 0.01,\n",
        "          'random_seed': 2007,\n",
        "          'verbose':100\n",
        "          }"
      ],
      "metadata": {
        "id": "-nUpWEoaAZg6"
      },
      "execution_count": 75,
      "outputs": []
    },
    {
      "cell_type": "code",
      "source": [
        "cv_data = cv(\n",
        "    params = params,\n",
        "    pool = train_data,\n",
        "    fold_count=5,\n",
        "    shuffle=True,\n",
        "    partition_random_seed=0,\n",
        "    stratified=True,\n",
        "    verbose=False,\n",
        "    #early_stopping_rounds=200\n",
        ")"
      ],
      "metadata": {
        "id": "DHTFTIdeAbvw",
        "colab": {
          "base_uri": "https://localhost:8080/"
        },
        "outputId": "6719cfda-b5c0-4bde-e50f-7c4e2e3538ac"
      },
      "execution_count": 76,
      "outputs": [
        {
          "output_type": "stream",
          "name": "stdout",
          "text": [
            "Training on fold [0/5]\n",
            "\n",
            "bestTest = 0.6626815256\n",
            "bestIteration = 406\n",
            "\n",
            "Training on fold [1/5]\n",
            "\n",
            "bestTest = 0.6353468086\n",
            "bestIteration = 211\n",
            "\n",
            "Training on fold [2/5]\n",
            "\n",
            "bestTest = 0.6429133296\n",
            "bestIteration = 371\n",
            "\n",
            "Training on fold [3/5]\n",
            "\n",
            "bestTest = 0.6346896906\n",
            "bestIteration = 270\n",
            "\n",
            "Training on fold [4/5]\n",
            "\n",
            "bestTest = 0.6356305898\n",
            "bestIteration = 329\n",
            "\n"
          ]
        }
      ]
    },
    {
      "cell_type": "code",
      "source": [
        "model = CatBoostClassifier(**params)"
      ],
      "metadata": {
        "id": "7tFNJVnIAM83"
      },
      "execution_count": 77,
      "outputs": []
    },
    {
      "cell_type": "code",
      "source": [
        "model.fit(train_data)"
      ],
      "metadata": {
        "id": "N2t9No_kANBr",
        "colab": {
          "base_uri": "https://localhost:8080/"
        },
        "outputId": "bae63f59-b6ce-4e00-c1d2-06fe3edd8b75"
      },
      "execution_count": 78,
      "outputs": [
        {
          "output_type": "stream",
          "name": "stdout",
          "text": [
            "Learning rate set to 0.065101\n",
            "0:\ttotal: 98.5ms\tremaining: 1m 38s\n",
            "100:\ttotal: 9.71s\tremaining: 1m 26s\n",
            "200:\ttotal: 17.5s\tremaining: 1m 9s\n",
            "300:\ttotal: 26.9s\tremaining: 1m 2s\n",
            "400:\ttotal: 34.1s\tremaining: 51s\n",
            "500:\ttotal: 43.4s\tremaining: 43.2s\n",
            "600:\ttotal: 52s\tremaining: 34.5s\n",
            "700:\ttotal: 60s\tremaining: 25.6s\n",
            "800:\ttotal: 1m 9s\tremaining: 17.3s\n",
            "900:\ttotal: 1m 16s\tremaining: 8.45s\n",
            "999:\ttotal: 1m 26s\tremaining: 0us\n"
          ]
        },
        {
          "output_type": "execute_result",
          "data": {
            "text/plain": [
              "<catboost.core.CatBoostClassifier at 0x7d8a94e000a0>"
            ]
          },
          "metadata": {},
          "execution_count": 78
        }
      ]
    },
    {
      "cell_type": "code",
      "source": [
        "# может быть это будет полезно для оптимизации поиска.\n",
        "# проверено. В первом случае помогло, во втором - наоборот\n",
        "model.get_feature_importance(prettified=True).head(20)"
      ],
      "metadata": {
        "id": "DqvqnewFwEU2",
        "colab": {
          "base_uri": "https://localhost:8080/",
          "height": 677
        },
        "outputId": "36163f84-e5e0-4d0a-9f30-fa0c22c292d7"
      },
      "execution_count": 79,
      "outputs": [
        {
          "output_type": "execute_result",
          "data": {
            "text/plain": [
              "   Feature Id  Importances\n",
              "0           6     3.118518\n",
              "1          70     3.052050\n",
              "2          33     2.073040\n",
              "3          27     1.602399\n",
              "4          65     1.535582\n",
              "5          21     1.233081\n",
              "6          68     1.228448\n",
              "7   34_search     1.209491\n",
              "8          31     1.206455\n",
              "9           8     1.072907\n",
              "10  42_search     1.020890\n",
              "11  50_search     0.988846\n",
              "12  43_search     0.987788\n",
              "13          4     0.973408\n",
              "14  41_search     0.965211\n",
              "15  62_search     0.950988\n",
              "16         37     0.931396\n",
              "17         46     0.901373\n",
              "18          5     0.887354\n",
              "19         20     0.865993"
            ],
            "text/html": [
              "\n",
              "  <div id=\"df-f146dd08-5f86-44fc-a636-308450bf22a6\" class=\"colab-df-container\">\n",
              "    <div>\n",
              "<style scoped>\n",
              "    .dataframe tbody tr th:only-of-type {\n",
              "        vertical-align: middle;\n",
              "    }\n",
              "\n",
              "    .dataframe tbody tr th {\n",
              "        vertical-align: top;\n",
              "    }\n",
              "\n",
              "    .dataframe thead th {\n",
              "        text-align: right;\n",
              "    }\n",
              "</style>\n",
              "<table border=\"1\" class=\"dataframe\">\n",
              "  <thead>\n",
              "    <tr style=\"text-align: right;\">\n",
              "      <th></th>\n",
              "      <th>Feature Id</th>\n",
              "      <th>Importances</th>\n",
              "    </tr>\n",
              "  </thead>\n",
              "  <tbody>\n",
              "    <tr>\n",
              "      <th>0</th>\n",
              "      <td>6</td>\n",
              "      <td>3.118518</td>\n",
              "    </tr>\n",
              "    <tr>\n",
              "      <th>1</th>\n",
              "      <td>70</td>\n",
              "      <td>3.052050</td>\n",
              "    </tr>\n",
              "    <tr>\n",
              "      <th>2</th>\n",
              "      <td>33</td>\n",
              "      <td>2.073040</td>\n",
              "    </tr>\n",
              "    <tr>\n",
              "      <th>3</th>\n",
              "      <td>27</td>\n",
              "      <td>1.602399</td>\n",
              "    </tr>\n",
              "    <tr>\n",
              "      <th>4</th>\n",
              "      <td>65</td>\n",
              "      <td>1.535582</td>\n",
              "    </tr>\n",
              "    <tr>\n",
              "      <th>5</th>\n",
              "      <td>21</td>\n",
              "      <td>1.233081</td>\n",
              "    </tr>\n",
              "    <tr>\n",
              "      <th>6</th>\n",
              "      <td>68</td>\n",
              "      <td>1.228448</td>\n",
              "    </tr>\n",
              "    <tr>\n",
              "      <th>7</th>\n",
              "      <td>34_search</td>\n",
              "      <td>1.209491</td>\n",
              "    </tr>\n",
              "    <tr>\n",
              "      <th>8</th>\n",
              "      <td>31</td>\n",
              "      <td>1.206455</td>\n",
              "    </tr>\n",
              "    <tr>\n",
              "      <th>9</th>\n",
              "      <td>8</td>\n",
              "      <td>1.072907</td>\n",
              "    </tr>\n",
              "    <tr>\n",
              "      <th>10</th>\n",
              "      <td>42_search</td>\n",
              "      <td>1.020890</td>\n",
              "    </tr>\n",
              "    <tr>\n",
              "      <th>11</th>\n",
              "      <td>50_search</td>\n",
              "      <td>0.988846</td>\n",
              "    </tr>\n",
              "    <tr>\n",
              "      <th>12</th>\n",
              "      <td>43_search</td>\n",
              "      <td>0.987788</td>\n",
              "    </tr>\n",
              "    <tr>\n",
              "      <th>13</th>\n",
              "      <td>4</td>\n",
              "      <td>0.973408</td>\n",
              "    </tr>\n",
              "    <tr>\n",
              "      <th>14</th>\n",
              "      <td>41_search</td>\n",
              "      <td>0.965211</td>\n",
              "    </tr>\n",
              "    <tr>\n",
              "      <th>15</th>\n",
              "      <td>62_search</td>\n",
              "      <td>0.950988</td>\n",
              "    </tr>\n",
              "    <tr>\n",
              "      <th>16</th>\n",
              "      <td>37</td>\n",
              "      <td>0.931396</td>\n",
              "    </tr>\n",
              "    <tr>\n",
              "      <th>17</th>\n",
              "      <td>46</td>\n",
              "      <td>0.901373</td>\n",
              "    </tr>\n",
              "    <tr>\n",
              "      <th>18</th>\n",
              "      <td>5</td>\n",
              "      <td>0.887354</td>\n",
              "    </tr>\n",
              "    <tr>\n",
              "      <th>19</th>\n",
              "      <td>20</td>\n",
              "      <td>0.865993</td>\n",
              "    </tr>\n",
              "  </tbody>\n",
              "</table>\n",
              "</div>\n",
              "    <div class=\"colab-df-buttons\">\n",
              "\n",
              "  <div class=\"colab-df-container\">\n",
              "    <button class=\"colab-df-convert\" onclick=\"convertToInteractive('df-f146dd08-5f86-44fc-a636-308450bf22a6')\"\n",
              "            title=\"Convert this dataframe to an interactive table.\"\n",
              "            style=\"display:none;\">\n",
              "\n",
              "  <svg xmlns=\"http://www.w3.org/2000/svg\" height=\"24px\" viewBox=\"0 -960 960 960\">\n",
              "    <path d=\"M120-120v-720h720v720H120Zm60-500h600v-160H180v160Zm220 220h160v-160H400v160Zm0 220h160v-160H400v160ZM180-400h160v-160H180v160Zm440 0h160v-160H620v160ZM180-180h160v-160H180v160Zm440 0h160v-160H620v160Z\"/>\n",
              "  </svg>\n",
              "    </button>\n",
              "\n",
              "  <style>\n",
              "    .colab-df-container {\n",
              "      display:flex;\n",
              "      gap: 12px;\n",
              "    }\n",
              "\n",
              "    .colab-df-convert {\n",
              "      background-color: #E8F0FE;\n",
              "      border: none;\n",
              "      border-radius: 50%;\n",
              "      cursor: pointer;\n",
              "      display: none;\n",
              "      fill: #1967D2;\n",
              "      height: 32px;\n",
              "      padding: 0 0 0 0;\n",
              "      width: 32px;\n",
              "    }\n",
              "\n",
              "    .colab-df-convert:hover {\n",
              "      background-color: #E2EBFA;\n",
              "      box-shadow: 0px 1px 2px rgba(60, 64, 67, 0.3), 0px 1px 3px 1px rgba(60, 64, 67, 0.15);\n",
              "      fill: #174EA6;\n",
              "    }\n",
              "\n",
              "    .colab-df-buttons div {\n",
              "      margin-bottom: 4px;\n",
              "    }\n",
              "\n",
              "    [theme=dark] .colab-df-convert {\n",
              "      background-color: #3B4455;\n",
              "      fill: #D2E3FC;\n",
              "    }\n",
              "\n",
              "    [theme=dark] .colab-df-convert:hover {\n",
              "      background-color: #434B5C;\n",
              "      box-shadow: 0px 1px 3px 1px rgba(0, 0, 0, 0.15);\n",
              "      filter: drop-shadow(0px 1px 2px rgba(0, 0, 0, 0.3));\n",
              "      fill: #FFFFFF;\n",
              "    }\n",
              "  </style>\n",
              "\n",
              "    <script>\n",
              "      const buttonEl =\n",
              "        document.querySelector('#df-f146dd08-5f86-44fc-a636-308450bf22a6 button.colab-df-convert');\n",
              "      buttonEl.style.display =\n",
              "        google.colab.kernel.accessAllowed ? 'block' : 'none';\n",
              "\n",
              "      async function convertToInteractive(key) {\n",
              "        const element = document.querySelector('#df-f146dd08-5f86-44fc-a636-308450bf22a6');\n",
              "        const dataTable =\n",
              "          await google.colab.kernel.invokeFunction('convertToInteractive',\n",
              "                                                    [key], {});\n",
              "        if (!dataTable) return;\n",
              "\n",
              "        const docLinkHtml = 'Like what you see? Visit the ' +\n",
              "          '<a target=\"_blank\" href=https://colab.research.google.com/notebooks/data_table.ipynb>data table notebook</a>'\n",
              "          + ' to learn more about interactive tables.';\n",
              "        element.innerHTML = '';\n",
              "        dataTable['output_type'] = 'display_data';\n",
              "        await google.colab.output.renderOutput(dataTable, element);\n",
              "        const docLink = document.createElement('div');\n",
              "        docLink.innerHTML = docLinkHtml;\n",
              "        element.appendChild(docLink);\n",
              "      }\n",
              "    </script>\n",
              "  </div>\n",
              "\n",
              "\n",
              "<div id=\"df-514883c9-029e-4ecb-a398-e869102f20ee\">\n",
              "  <button class=\"colab-df-quickchart\" onclick=\"quickchart('df-514883c9-029e-4ecb-a398-e869102f20ee')\"\n",
              "            title=\"Suggest charts.\"\n",
              "            style=\"display:none;\">\n",
              "\n",
              "<svg xmlns=\"http://www.w3.org/2000/svg\" height=\"24px\"viewBox=\"0 0 24 24\"\n",
              "     width=\"24px\">\n",
              "    <g>\n",
              "        <path d=\"M19 3H5c-1.1 0-2 .9-2 2v14c0 1.1.9 2 2 2h14c1.1 0 2-.9 2-2V5c0-1.1-.9-2-2-2zM9 17H7v-7h2v7zm4 0h-2V7h2v10zm4 0h-2v-4h2v4z\"/>\n",
              "    </g>\n",
              "</svg>\n",
              "  </button>\n",
              "\n",
              "<style>\n",
              "  .colab-df-quickchart {\n",
              "      --bg-color: #E8F0FE;\n",
              "      --fill-color: #1967D2;\n",
              "      --hover-bg-color: #E2EBFA;\n",
              "      --hover-fill-color: #174EA6;\n",
              "      --disabled-fill-color: #AAA;\n",
              "      --disabled-bg-color: #DDD;\n",
              "  }\n",
              "\n",
              "  [theme=dark] .colab-df-quickchart {\n",
              "      --bg-color: #3B4455;\n",
              "      --fill-color: #D2E3FC;\n",
              "      --hover-bg-color: #434B5C;\n",
              "      --hover-fill-color: #FFFFFF;\n",
              "      --disabled-bg-color: #3B4455;\n",
              "      --disabled-fill-color: #666;\n",
              "  }\n",
              "\n",
              "  .colab-df-quickchart {\n",
              "    background-color: var(--bg-color);\n",
              "    border: none;\n",
              "    border-radius: 50%;\n",
              "    cursor: pointer;\n",
              "    display: none;\n",
              "    fill: var(--fill-color);\n",
              "    height: 32px;\n",
              "    padding: 0;\n",
              "    width: 32px;\n",
              "  }\n",
              "\n",
              "  .colab-df-quickchart:hover {\n",
              "    background-color: var(--hover-bg-color);\n",
              "    box-shadow: 0 1px 2px rgba(60, 64, 67, 0.3), 0 1px 3px 1px rgba(60, 64, 67, 0.15);\n",
              "    fill: var(--button-hover-fill-color);\n",
              "  }\n",
              "\n",
              "  .colab-df-quickchart-complete:disabled,\n",
              "  .colab-df-quickchart-complete:disabled:hover {\n",
              "    background-color: var(--disabled-bg-color);\n",
              "    fill: var(--disabled-fill-color);\n",
              "    box-shadow: none;\n",
              "  }\n",
              "\n",
              "  .colab-df-spinner {\n",
              "    border: 2px solid var(--fill-color);\n",
              "    border-color: transparent;\n",
              "    border-bottom-color: var(--fill-color);\n",
              "    animation:\n",
              "      spin 1s steps(1) infinite;\n",
              "  }\n",
              "\n",
              "  @keyframes spin {\n",
              "    0% {\n",
              "      border-color: transparent;\n",
              "      border-bottom-color: var(--fill-color);\n",
              "      border-left-color: var(--fill-color);\n",
              "    }\n",
              "    20% {\n",
              "      border-color: transparent;\n",
              "      border-left-color: var(--fill-color);\n",
              "      border-top-color: var(--fill-color);\n",
              "    }\n",
              "    30% {\n",
              "      border-color: transparent;\n",
              "      border-left-color: var(--fill-color);\n",
              "      border-top-color: var(--fill-color);\n",
              "      border-right-color: var(--fill-color);\n",
              "    }\n",
              "    40% {\n",
              "      border-color: transparent;\n",
              "      border-right-color: var(--fill-color);\n",
              "      border-top-color: var(--fill-color);\n",
              "    }\n",
              "    60% {\n",
              "      border-color: transparent;\n",
              "      border-right-color: var(--fill-color);\n",
              "    }\n",
              "    80% {\n",
              "      border-color: transparent;\n",
              "      border-right-color: var(--fill-color);\n",
              "      border-bottom-color: var(--fill-color);\n",
              "    }\n",
              "    90% {\n",
              "      border-color: transparent;\n",
              "      border-bottom-color: var(--fill-color);\n",
              "    }\n",
              "  }\n",
              "</style>\n",
              "\n",
              "  <script>\n",
              "    async function quickchart(key) {\n",
              "      const quickchartButtonEl =\n",
              "        document.querySelector('#' + key + ' button');\n",
              "      quickchartButtonEl.disabled = true;  // To prevent multiple clicks.\n",
              "      quickchartButtonEl.classList.add('colab-df-spinner');\n",
              "      try {\n",
              "        const charts = await google.colab.kernel.invokeFunction(\n",
              "            'suggestCharts', [key], {});\n",
              "      } catch (error) {\n",
              "        console.error('Error during call to suggestCharts:', error);\n",
              "      }\n",
              "      quickchartButtonEl.classList.remove('colab-df-spinner');\n",
              "      quickchartButtonEl.classList.add('colab-df-quickchart-complete');\n",
              "    }\n",
              "    (() => {\n",
              "      let quickchartButtonEl =\n",
              "        document.querySelector('#df-514883c9-029e-4ecb-a398-e869102f20ee button');\n",
              "      quickchartButtonEl.style.display =\n",
              "        google.colab.kernel.accessAllowed ? 'block' : 'none';\n",
              "    })();\n",
              "  </script>\n",
              "</div>\n",
              "    </div>\n",
              "  </div>\n"
            ]
          },
          "metadata": {},
          "execution_count": 79
        }
      ]
    },
    {
      "cell_type": "code",
      "source": [
        "# Сохраним модель для будущего использования\n",
        "model_filename = f'/content/drive/MyDrive/cbm_big.cbm'\n",
        "model.save_model(model_filename,\n",
        "           format=\"cbm\",\n",
        "           export_parameters=None,\n",
        "           pool=None)"
      ],
      "metadata": {
        "id": "sxFhjXYavkWL"
      },
      "execution_count": 80,
      "outputs": []
    },
    {
      "cell_type": "code",
      "source": [
        "y_pr = model.predict_proba(test_data)[:, 1]\n",
        "#np.argsort(y_pr)"
      ],
      "metadata": {
        "id": "akSxuAGwAoRn"
      },
      "execution_count": 81,
      "outputs": []
    },
    {
      "cell_type": "code",
      "source": [
        "X_test['is_neighbour'] = y_test\n",
        "X_test['is_neighbour_proba'] = y_pr\n",
        "roc_auc_score(X_test['is_neighbour'],X_test['is_neighbour_proba'])"
      ],
      "metadata": {
        "id": "YVolXX9k1QEh",
        "colab": {
          "base_uri": "https://localhost:8080/"
        },
        "outputId": "0d12dc5b-d491-4395-8e7c-87916eecd2fd"
      },
      "execution_count": 82,
      "outputs": [
        {
          "output_type": "execute_result",
          "data": {
            "text/plain": [
              "0.5993420935483604"
            ]
          },
          "metadata": {},
          "execution_count": 82
        }
      ]
    },
    {
      "cell_type": "code",
      "source": [
        "fpr, tpr, thresholds = roc_curve(X_test['is_neighbour'], X_test['is_neighbour_proba'])\n",
        "plt.figure()\n",
        "plt.plot(fpr, tpr)\n",
        "plt.plot([0, 1], [0, 1], linestyle='--')\n",
        "plt.ylim([0.0, 1.0])\n",
        "plt.xlim([0.0, 1.0])\n",
        "plt.xlabel('False Positive Rate')\n",
        "plt.ylabel('True Positive Rate')\n",
        "plt.title('ROC-кривая')\n",
        "plt.show()"
      ],
      "metadata": {
        "colab": {
          "base_uri": "https://localhost:8080/",
          "height": 472
        },
        "id": "D5fRKri2Qq3H",
        "outputId": "28c212a6-1073-46ce-d028-6ba7607ff6b6"
      },
      "execution_count": 83,
      "outputs": [
        {
          "output_type": "display_data",
          "data": {
            "text/plain": [
              "<Figure size 640x480 with 1 Axes>"
            ],
            "image/png": "[encoded data removed]"
          },
          "metadata": {}
        }
      ]
    },
    {
      "cell_type": "markdown",
      "source": [
        "Модель требует дополнительной настройки и в данном виде неприменима для улучшения метрики."
      ],
      "metadata": {
        "id": "gWbxVz5_2gN1"
      }
    },
    {
      "cell_type": "markdown",
      "source": [
        "### Промежуточные результаты - 3"
      ],
      "metadata": {
        "id": "flsxcP00WYcw"
      }
    },
    {
      "cell_type": "code",
      "source": [
        "my_metrics = pd.DataFrame(overall_scores)\n",
        "my_metrics"
      ],
      "metadata": {
        "id": "_cAPVrzIWdKU",
        "colab": {
          "base_uri": "https://localhost:8080/",
          "height": 582
        },
        "outputId": "417232a3-1c9f-47c4-a53b-7dfe0e759358"
      },
      "execution_count": 84,
      "outputs": [
        {
          "output_type": "execute_result",
          "data": {
            "text/plain": [
              "    Кластеры  Поиск в соседних                             Опции  accuracy@5\n",
              "0        100                 1                          baseline       7.631\n",
              "1       1000                 1                            search       4.369\n",
              "2       1000                 2                            search       6.196\n",
              "3       1000                10                            search      11.190\n",
              "4        500                 1                            search       5.194\n",
              "5        500                 2                            search       7.368\n",
              "6        500                10                            search      12.288\n",
              "7        200                 1                            search       6.552\n",
              "8        200                 2                            search       8.980\n",
              "9        200                10                            search      13.260\n",
              "10      1000                10                      MinMaxScaler      20.330\n",
              "11      1000                10                     Drop Unnormal      25.903\n",
              "12      1000                10     Drop Unimportant (Catboost-2)      10.573\n",
              "13      1000                10                      RobustScaler      52.550\n",
              "14      1000                10                    StandardScaler      63.748\n",
              "15      1000                10  StandardScaler, Drop Unimportant      27.923\n",
              "16       200                20     StandardScaler, 50 Neighbours      75.136"
            ],
            "text/html": [
              "\n",
              "  <div id=\"df-ad7969c5-dac7-47b2-a97b-7807c77da692\" class=\"colab-df-container\">\n",
              "    <div>\n",
              "<style scoped>\n",
              "    .dataframe tbody tr th:only-of-type {\n",
              "        vertical-align: middle;\n",
              "    }\n",
              "\n",
              "    .dataframe tbody tr th {\n",
              "        vertical-align: top;\n",
              "    }\n",
              "\n",
              "    .dataframe thead th {\n",
              "        text-align: right;\n",
              "    }\n",
              "</style>\n",
              "<table border=\"1\" class=\"dataframe\">\n",
              "  <thead>\n",
              "    <tr style=\"text-align: right;\">\n",
              "      <th></th>\n",
              "      <th>Кластеры</th>\n",
              "      <th>Поиск в соседних</th>\n",
              "      <th>Опции</th>\n",
              "      <th>accuracy@5</th>\n",
              "    </tr>\n",
              "  </thead>\n",
              "  <tbody>\n",
              "    <tr>\n",
              "      <th>0</th>\n",
              "      <td>100</td>\n",
              "      <td>1</td>\n",
              "      <td>baseline</td>\n",
              "      <td>7.631</td>\n",
              "    </tr>\n",
              "    <tr>\n",
              "      <th>1</th>\n",
              "      <td>1000</td>\n",
              "      <td>1</td>\n",
              "      <td>search</td>\n",
              "      <td>4.369</td>\n",
              "    </tr>\n",
              "    <tr>\n",
              "      <th>2</th>\n",
              "      <td>1000</td>\n",
              "      <td>2</td>\n",
              "      <td>search</td>\n",
              "      <td>6.196</td>\n",
              "    </tr>\n",
              "    <tr>\n",
              "      <th>3</th>\n",
              "      <td>1000</td>\n",
              "      <td>10</td>\n",
              "      <td>search</td>\n",
              "      <td>11.190</td>\n",
              "    </tr>\n",
              "    <tr>\n",
              "      <th>4</th>\n",
              "      <td>500</td>\n",
              "      <td>1</td>\n",
              "      <td>search</td>\n",
              "      <td>5.194</td>\n",
              "    </tr>\n",
              "    <tr>\n",
              "      <th>5</th>\n",
              "      <td>500</td>\n",
              "      <td>2</td>\n",
              "      <td>search</td>\n",
              "      <td>7.368</td>\n",
              "    </tr>\n",
              "    <tr>\n",
              "      <th>6</th>\n",
              "      <td>500</td>\n",
              "      <td>10</td>\n",
              "      <td>search</td>\n",
              "      <td>12.288</td>\n",
              "    </tr>\n",
              "    <tr>\n",
              "      <th>7</th>\n",
              "      <td>200</td>\n",
              "      <td>1</td>\n",
              "      <td>search</td>\n",
              "      <td>6.552</td>\n",
              "    </tr>\n",
              "    <tr>\n",
              "      <th>8</th>\n",
              "      <td>200</td>\n",
              "      <td>2</td>\n",
              "      <td>search</td>\n",
              "      <td>8.980</td>\n",
              "    </tr>\n",
              "    <tr>\n",
              "      <th>9</th>\n",
              "      <td>200</td>\n",
              "      <td>10</td>\n",
              "      <td>search</td>\n",
              "      <td>13.260</td>\n",
              "    </tr>\n",
              "    <tr>\n",
              "      <th>10</th>\n",
              "      <td>1000</td>\n",
              "      <td>10</td>\n",
              "      <td>MinMaxScaler</td>\n",
              "      <td>20.330</td>\n",
              "    </tr>\n",
              "    <tr>\n",
              "      <th>11</th>\n",
              "      <td>1000</td>\n",
              "      <td>10</td>\n",
              "      <td>Drop Unnormal</td>\n",
              "      <td>25.903</td>\n",
              "    </tr>\n",
              "    <tr>\n",
              "      <th>12</th>\n",
              "      <td>1000</td>\n",
              "      <td>10</td>\n",
              "      <td>Drop Unimportant (Catboost-2)</td>\n",
              "      <td>10.573</td>\n",
              "    </tr>\n",
              "    <tr>\n",
              "      <th>13</th>\n",
              "      <td>1000</td>\n",
              "      <td>10</td>\n",
              "      <td>RobustScaler</td>\n",
              "      <td>52.550</td>\n",
              "    </tr>\n",
              "    <tr>\n",
              "      <th>14</th>\n",
              "      <td>1000</td>\n",
              "      <td>10</td>\n",
              "      <td>StandardScaler</td>\n",
              "      <td>63.748</td>\n",
              "    </tr>\n",
              "    <tr>\n",
              "      <th>15</th>\n",
              "      <td>1000</td>\n",
              "      <td>10</td>\n",
              "      <td>StandardScaler, Drop Unimportant</td>\n",
              "      <td>27.923</td>\n",
              "    </tr>\n",
              "    <tr>\n",
              "      <th>16</th>\n",
              "      <td>200</td>\n",
              "      <td>20</td>\n",
              "      <td>StandardScaler, 50 Neighbours</td>\n",
              "      <td>75.136</td>\n",
              "    </tr>\n",
              "  </tbody>\n",
              "</table>\n",
              "</div>\n",
              "    <div class=\"colab-df-buttons\">\n",
              "\n",
              "  <div class=\"colab-df-container\">\n",
              "    <button class=\"colab-df-convert\" onclick=\"convertToInteractive('df-ad7969c5-dac7-47b2-a97b-7807c77da692')\"\n",
              "            title=\"Convert this dataframe to an interactive table.\"\n",
              "            style=\"display:none;\">\n",
              "\n",
              "  <svg xmlns=\"http://www.w3.org/2000/svg\" height=\"24px\" viewBox=\"0 -960 960 960\">\n",
              "    <path d=\"M120-120v-720h720v720H120Zm60-500h600v-160H180v160Zm220 220h160v-160H400v160Zm0 220h160v-160H400v160ZM180-400h160v-160H180v160Zm440 0h160v-160H620v160ZM180-180h160v-160H180v160Zm440 0h160v-160H620v160Z\"/>\n",
              "  </svg>\n",
              "    </button>\n",
              "\n",
              "  <style>\n",
              "    .colab-df-container {\n",
              "      display:flex;\n",
              "      gap: 12px;\n",
              "    }\n",
              "\n",
              "    .colab-df-convert {\n",
              "      background-color: #E8F0FE;\n",
              "      border: none;\n",
              "      border-radius: 50%;\n",
              "      cursor: pointer;\n",
              "      display: none;\n",
              "      fill: #1967D2;\n",
              "      height: 32px;\n",
              "      padding: 0 0 0 0;\n",
              "      width: 32px;\n",
              "    }\n",
              "\n",
              "    .colab-df-convert:hover {\n",
              "      background-color: #E2EBFA;\n",
              "      box-shadow: 0px 1px 2px rgba(60, 64, 67, 0.3), 0px 1px 3px 1px rgba(60, 64, 67, 0.15);\n",
              "      fill: #174EA6;\n",
              "    }\n",
              "\n",
              "    .colab-df-buttons div {\n",
              "      margin-bottom: 4px;\n",
              "    }\n",
              "\n",
              "    [theme=dark] .colab-df-convert {\n",
              "      background-color: #3B4455;\n",
              "      fill: #D2E3FC;\n",
              "    }\n",
              "\n",
              "    [theme=dark] .colab-df-convert:hover {\n",
              "      background-color: #434B5C;\n",
              "      box-shadow: 0px 1px 3px 1px rgba(0, 0, 0, 0.15);\n",
              "      filter: drop-shadow(0px 1px 2px rgba(0, 0, 0, 0.3));\n",
              "      fill: #FFFFFF;\n",
              "    }\n",
              "  </style>\n",
              "\n",
              "    <script>\n",
              "      const buttonEl =\n",
              "        document.querySelector('#df-ad7969c5-dac7-47b2-a97b-7807c77da692 button.colab-df-convert');\n",
              "      buttonEl.style.display =\n",
              "        google.colab.kernel.accessAllowed ? 'block' : 'none';\n",
              "\n",
              "      async function convertToInteractive(key) {\n",
              "        const element = document.querySelector('#df-ad7969c5-dac7-47b2-a97b-7807c77da692');\n",
              "        const dataTable =\n",
              "          await google.colab.kernel.invokeFunction('convertToInteractive',\n",
              "                                                    [key], {});\n",
              "        if (!dataTable) return;\n",
              "\n",
              "        const docLinkHtml = 'Like what you see? Visit the ' +\n",
              "          '<a target=\"_blank\" href=https://colab.research.google.com/notebooks/data_table.ipynb>data table notebook</a>'\n",
              "          + ' to learn more about interactive tables.';\n",
              "        element.innerHTML = '';\n",
              "        dataTable['output_type'] = 'display_data';\n",
              "        await google.colab.output.renderOutput(dataTable, element);\n",
              "        const docLink = document.createElement('div');\n",
              "        docLink.innerHTML = docLinkHtml;\n",
              "        element.appendChild(docLink);\n",
              "      }\n",
              "    </script>\n",
              "  </div>\n",
              "\n",
              "\n",
              "<div id=\"df-b276287f-1b37-491c-bb35-b7847811caff\">\n",
              "  <button class=\"colab-df-quickchart\" onclick=\"quickchart('df-b276287f-1b37-491c-bb35-b7847811caff')\"\n",
              "            title=\"Suggest charts.\"\n",
              "            style=\"display:none;\">\n",
              "\n",
              "<svg xmlns=\"http://www.w3.org/2000/svg\" height=\"24px\"viewBox=\"0 0 24 24\"\n",
              "     width=\"24px\">\n",
              "    <g>\n",
              "        <path d=\"M19 3H5c-1.1 0-2 .9-2 2v14c0 1.1.9 2 2 2h14c1.1 0 2-.9 2-2V5c0-1.1-.9-2-2-2zM9 17H7v-7h2v7zm4 0h-2V7h2v10zm4 0h-2v-4h2v4z\"/>\n",
              "    </g>\n",
              "</svg>\n",
              "  </button>\n",
              "\n",
              "<style>\n",
              "  .colab-df-quickchart {\n",
              "      --bg-color: #E8F0FE;\n",
              "      --fill-color: #1967D2;\n",
              "      --hover-bg-color: #E2EBFA;\n",
              "      --hover-fill-color: #174EA6;\n",
              "      --disabled-fill-color: #AAA;\n",
              "      --disabled-bg-color: #DDD;\n",
              "  }\n",
              "\n",
              "  [theme=dark] .colab-df-quickchart {\n",
              "      --bg-color: #3B4455;\n",
              "      --fill-color: #D2E3FC;\n",
              "      --hover-bg-color: #434B5C;\n",
              "      --hover-fill-color: #FFFFFF;\n",
              "      --disabled-bg-color: #3B4455;\n",
              "      --disabled-fill-color: #666;\n",
              "  }\n",
              "\n",
              "  .colab-df-quickchart {\n",
              "    background-color: var(--bg-color);\n",
              "    border: none;\n",
              "    border-radius: 50%;\n",
              "    cursor: pointer;\n",
              "    display: none;\n",
              "    fill: var(--fill-color);\n",
              "    height: 32px;\n",
              "    padding: 0;\n",
              "    width: 32px;\n",
              "  }\n",
              "\n",
              "  .colab-df-quickchart:hover {\n",
              "    background-color: var(--hover-bg-color);\n",
              "    box-shadow: 0 1px 2px rgba(60, 64, 67, 0.3), 0 1px 3px 1px rgba(60, 64, 67, 0.15);\n",
              "    fill: var(--button-hover-fill-color);\n",
              "  }\n",
              "\n",
              "  .colab-df-quickchart-complete:disabled,\n",
              "  .colab-df-quickchart-complete:disabled:hover {\n",
              "    background-color: var(--disabled-bg-color);\n",
              "    fill: var(--disabled-fill-color);\n",
              "    box-shadow: none;\n",
              "  }\n",
              "\n",
              "  .colab-df-spinner {\n",
              "    border: 2px solid var(--fill-color);\n",
              "    border-color: transparent;\n",
              "    border-bottom-color: var(--fill-color);\n",
              "    animation:\n",
              "      spin 1s steps(1) infinite;\n",
              "  }\n",
              "\n",
              "  @keyframes spin {\n",
              "    0% {\n",
              "      border-color: transparent;\n",
              "      border-bottom-color: var(--fill-color);\n",
              "      border-left-color: var(--fill-color);\n",
              "    }\n",
              "    20% {\n",
              "      border-color: transparent;\n",
              "      border-left-color: var(--fill-color);\n",
              "      border-top-color: var(--fill-color);\n",
              "    }\n",
              "    30% {\n",
              "      border-color: transparent;\n",
              "      border-left-color: var(--fill-color);\n",
              "      border-top-color: var(--fill-color);\n",
              "      border-right-color: var(--fill-color);\n",
              "    }\n",
              "    40% {\n",
              "      border-color: transparent;\n",
              "      border-right-color: var(--fill-color);\n",
              "      border-top-color: var(--fill-color);\n",
              "    }\n",
              "    60% {\n",
              "      border-color: transparent;\n",
              "      border-right-color: var(--fill-color);\n",
              "    }\n",
              "    80% {\n",
              "      border-color: transparent;\n",
              "      border-right-color: var(--fill-color);\n",
              "      border-bottom-color: var(--fill-color);\n",
              "    }\n",
              "    90% {\n",
              "      border-color: transparent;\n",
              "      border-bottom-color: var(--fill-color);\n",
              "    }\n",
              "  }\n",
              "</style>\n",
              "\n",
              "  <script>\n",
              "    async function quickchart(key) {\n",
              "      const quickchartButtonEl =\n",
              "        document.querySelector('#' + key + ' button');\n",
              "      quickchartButtonEl.disabled = true;  // To prevent multiple clicks.\n",
              "      quickchartButtonEl.classList.add('colab-df-spinner');\n",
              "      try {\n",
              "        const charts = await google.colab.kernel.invokeFunction(\n",
              "            'suggestCharts', [key], {});\n",
              "      } catch (error) {\n",
              "        console.error('Error during call to suggestCharts:', error);\n",
              "      }\n",
              "      quickchartButtonEl.classList.remove('colab-df-spinner');\n",
              "      quickchartButtonEl.classList.add('colab-df-quickchart-complete');\n",
              "    }\n",
              "    (() => {\n",
              "      let quickchartButtonEl =\n",
              "        document.querySelector('#df-b276287f-1b37-491c-bb35-b7847811caff button');\n",
              "      quickchartButtonEl.style.display =\n",
              "        google.colab.kernel.accessAllowed ? 'block' : 'none';\n",
              "    })();\n",
              "  </script>\n",
              "</div>\n",
              "    </div>\n",
              "  </div>\n"
            ]
          },
          "metadata": {},
          "execution_count": 84
        }
      ]
    },
    {
      "cell_type": "markdown",
      "source": [
        "Как показывает тестирование, модель в состоянии указать на наиболее важные признаки, которым можно будет уделять дополнительное внимание."
      ],
      "metadata": {
        "id": "fZo8uhcD25Nh"
      }
    },
    {
      "cell_type": "markdown",
      "source": [
        "## Решение задачи"
      ],
      "metadata": {
        "id": "HP-E9bcYWkhd"
      }
    },
    {
      "cell_type": "markdown",
      "source": [
        "Загрузим сохранённые ранее индекс, скейлер и модель и проведём поиск 5 ближайших соседей для всех товаров из `validation.csv`."
      ],
      "metadata": {
        "id": "8LPIn3cgJRC9"
      }
    },
    {
      "cell_type": "code",
      "source": [
        "idx_l2 = faiss.read_index('/content/drive/MyDrive/idx_l2_200_20.index')\n",
        "nprobe = idx_l2.nprobe"
      ],
      "metadata": {
        "id": "UlIMOXDwWs78"
      },
      "execution_count": 85,
      "outputs": []
    },
    {
      "cell_type": "code",
      "source": [
        "# ответы у нас уже есть\n",
        "answers = df_validation_answer.squeeze()\n",
        "# не забываем масштабирование\n",
        "scaler_SS=load('/content/drive/MyDrive/std_scale_1.bin')\n",
        "df_validation_SS = scaler_SS.transform(df_validation)"
      ],
      "metadata": {
        "id": "ywQYMcf2noz4"
      },
      "execution_count": 86,
      "outputs": []
    },
    {
      "cell_type": "code",
      "source": [
        "# загрузка модели CatBoostClassifier\n",
        "model = CatBoostClassifier()\n",
        "model.load_model('/content/drive/MyDrive/cbm_big.cbm')\n",
        "print(model.get_params())"
      ],
      "metadata": {
        "colab": {
          "base_uri": "https://localhost:8080/"
        },
        "id": "6Sryi2rGZU9F",
        "outputId": "a79f8dda-101b-4449-9aad-96ef7610c3a9"
      },
      "execution_count": 101,
      "outputs": [
        {
          "output_type": "stream",
          "name": "stdout",
          "text": [
            "{'eval_metric': 'AUC', 'random_seed': 2007, 'loss_function': 'Logloss', 'verbose': 100}\n"
          ]
        }
      ]
    },
    {
      "cell_type": "markdown",
      "source": [
        "Найдём 20 ближайших соседей для валидационной выборки. Посчитаем сначала метрику без ранжирующей модели."
      ],
      "metadata": {
        "id": "PagSH_2ieULN"
      }
    },
    {
      "cell_type": "code",
      "source": [
        "%%time\n",
        "r, idx = idx_l2.search(np.ascontiguousarray(df_validation_SS).astype('float32'), 20)\n",
        "idx_cat = idx # для ранжирующей модели возьмем всех найденных 20 соседей\n",
        "idx = np.delete(idx, list(range(5, 20)), 1)\n",
        "idx.shape"
      ],
      "metadata": {
        "colab": {
          "base_uri": "https://localhost:8080/"
        },
        "id": "81O90Yncno4Y",
        "outputId": "aa8bf516-8832-47bf-e9db-96d5f90f97cc"
      },
      "execution_count": 87,
      "outputs": [
        {
          "output_type": "stream",
          "name": "stdout",
          "text": [
            "CPU times: user 26min 37s, sys: 2.14 s, total: 26min 39s\n",
            "Wall time: 18min 3s\n"
          ]
        },
        {
          "output_type": "execute_result",
          "data": {
            "text/plain": [
              "(100000, 5)"
            ]
          },
          "metadata": {},
          "execution_count": 87
        }
      ]
    },
    {
      "cell_type": "code",
      "source": [
        "accuracy_aggregator(\n",
        "    answers, idx, base_index, 200, nprobe, 'Validation, 5 Neigbours')"
      ],
      "metadata": {
        "colab": {
          "base_uri": "https://localhost:8080/"
        },
        "id": "fZ9YOZEBwAuc",
        "outputId": "5e2d2ac6-897a-4b53-f8ba-cb6c7c8e591b"
      },
      "execution_count": 88,
      "outputs": [
        {
          "output_type": "stream",
          "name": "stdout",
          "text": [
            "Кластеры: 200, nprobe: 20, accuracy@5: 64.801 %\n"
          ]
        }
      ]
    },
    {
      "cell_type": "code",
      "source": [
        "accuracy_aggregator(\n",
        "    answers, idx_cat, base_index, 200, nprobe, 'Validation, 20 Neigbours')"
      ],
      "metadata": {
        "colab": {
          "base_uri": "https://localhost:8080/"
        },
        "id": "TFLMsIgK0q34",
        "outputId": "e215166f-37d8-413e-c522-d4b8e50cfe65"
      },
      "execution_count": 89,
      "outputs": [
        {
          "output_type": "stream",
          "name": "stdout",
          "text": [
            "Кластеры: 200, nprobe: 20, accuracy@5: 71.656 %\n"
          ]
        }
      ]
    },
    {
      "cell_type": "code",
      "source": [
        "idx_cat.shape"
      ],
      "metadata": {
        "colab": {
          "base_uri": "https://localhost:8080/"
        },
        "id": "NxpKsW-wuhti",
        "outputId": "f7f4e048-1886-4915-f789-a07bfb94df5f"
      },
      "execution_count": 91,
      "outputs": [
        {
          "output_type": "execute_result",
          "data": {
            "text/plain": [
              "(100000, 20)"
            ]
          },
          "metadata": {},
          "execution_count": 91
        }
      ]
    },
    {
      "cell_type": "markdown",
      "source": [
        "Теперь с помощью ранжирующей модели выберем из 20 соседей лучших 5 по мнению модели. Посчитаем метрику."
      ],
      "metadata": {
        "id": "v0_UME4Ke0hS"
      }
    },
    {
      "cell_type": "code",
      "source": [
        "# подготовка к инициализации датафрейма df_base_cat,\n",
        "# который подаётся на вход модели Catboost\n",
        "columns=df_base.columns.tolist()\n",
        "all_columns = columns\n",
        "new_columns = [f'{col}_search' for col in columns]\n",
        "all_columns.extend(new_columns)\n",
        "df_base_cat = pd.DataFrame(columns=all_columns)\n",
        "columns=df_base.columns.tolist()\n",
        "idx_cat_cut = np.empty(5, dtype=int)"
      ],
      "metadata": {
        "id": "tJipRGsJrDX6"
      },
      "execution_count": 92,
      "outputs": []
    },
    {
      "cell_type": "code",
      "source": [
        "# здесь опять медленный способ работы, нужно исправить.\n",
        "# опять работа на ограниченном наборе данных\n",
        "for step in range(20000):\n",
        "  df_base_cat = pd.DataFrame(columns=all_columns)\n",
        "  cycle = 0\n",
        "  for el in idx_cat[step]:\n",
        "    df_base_cat.loc[cycle, columns] = df_base_SS[el]\n",
        "    df_base_cat.loc[cycle, new_columns] = df_validation_SS[step]\n",
        "    cycle += 1\n",
        "  z_pr = model.predict_proba(df_base_cat)[:, 1]\n",
        "  idx_cat_cut = np.vstack([idx_cat_cut, np.delete(idx_cat[step], np.argsort(z_pr)[:15], 0)])"
      ],
      "metadata": {
        "id": "6_eyKMh2578p"
      },
      "execution_count": 93,
      "outputs": []
    },
    {
      "cell_type": "code",
      "source": [
        "# удаление лишней первой строки\n",
        "idx_cat_cut = np.delete(idx_cat_cut, 0, axis=0)"
      ],
      "metadata": {
        "id": "joiORCgh7lsW"
      },
      "execution_count": 94,
      "outputs": []
    },
    {
      "cell_type": "code",
      "source": [
        "idx_cat_cut.shape"
      ],
      "metadata": {
        "colab": {
          "base_uri": "https://localhost:8080/"
        },
        "id": "3aileuLQ6Yj5",
        "outputId": "7c096a00-dbf5-405e-ec9b-bc9bd8cabfa0"
      },
      "execution_count": 95,
      "outputs": [
        {
          "output_type": "execute_result",
          "data": {
            "text/plain": [
              "(20000, 5)"
            ]
          },
          "metadata": {},
          "execution_count": 95
        }
      ]
    },
    {
      "cell_type": "code",
      "source": [
        "accuracy_aggregator(\n",
        "    answers[:20000], idx_cat_cut, base_index, 200, nprobe, 'Validation, 5 Neigbours, CatBoost')"
      ],
      "metadata": {
        "colab": {
          "base_uri": "https://localhost:8080/"
        },
        "id": "U0kb3iyXtsGH",
        "outputId": "082a00b9-cc5c-41aa-950f-1fd41af49d90"
      },
      "execution_count": 99,
      "outputs": [
        {
          "output_type": "stream",
          "name": "stdout",
          "text": [
            "Кластеры: 200, nprobe: 20, accuracy@5: 27.625 %\n"
          ]
        }
      ]
    },
    {
      "cell_type": "code",
      "source": [
        "my_metrics = pd.DataFrame(overall_scores)\n",
        "my_metrics.tail(3)"
      ],
      "metadata": {
        "id": "j6UX0YNwno_6",
        "colab": {
          "base_uri": "https://localhost:8080/",
          "height": 143
        },
        "outputId": "397b37b6-c278-4387-966f-1ca76e29179f"
      },
      "execution_count": 100,
      "outputs": [
        {
          "output_type": "execute_result",
          "data": {
            "text/plain": [
              "    Кластеры  Поиск в соседних                              Опции  accuracy@5\n",
              "17       200                20            Validation, 5 Neigbours      64.801\n",
              "18       200                20           Validation, 20 Neigbours      71.656\n",
              "19       200                20  Validation, 5 Neigbours, CatBoost      27.625"
            ],
            "text/html": [
              "\n",
              "  <div id=\"df-4e2ab387-70e1-4381-9b47-7ec458d89643\" class=\"colab-df-container\">\n",
              "    <div>\n",
              "<style scoped>\n",
              "    .dataframe tbody tr th:only-of-type {\n",
              "        vertical-align: middle;\n",
              "    }\n",
              "\n",
              "    .dataframe tbody tr th {\n",
              "        vertical-align: top;\n",
              "    }\n",
              "\n",
              "    .dataframe thead th {\n",
              "        text-align: right;\n",
              "    }\n",
              "</style>\n",
              "<table border=\"1\" class=\"dataframe\">\n",
              "  <thead>\n",
              "    <tr style=\"text-align: right;\">\n",
              "      <th></th>\n",
              "      <th>Кластеры</th>\n",
              "      <th>Поиск в соседних</th>\n",
              "      <th>Опции</th>\n",
              "      <th>accuracy@5</th>\n",
              "    </tr>\n",
              "  </thead>\n",
              "  <tbody>\n",
              "    <tr>\n",
              "      <th>17</th>\n",
              "      <td>200</td>\n",
              "      <td>20</td>\n",
              "      <td>Validation, 5 Neigbours</td>\n",
              "      <td>64.801</td>\n",
              "    </tr>\n",
              "    <tr>\n",
              "      <th>18</th>\n",
              "      <td>200</td>\n",
              "      <td>20</td>\n",
              "      <td>Validation, 20 Neigbours</td>\n",
              "      <td>71.656</td>\n",
              "    </tr>\n",
              "    <tr>\n",
              "      <th>19</th>\n",
              "      <td>200</td>\n",
              "      <td>20</td>\n",
              "      <td>Validation, 5 Neigbours, CatBoost</td>\n",
              "      <td>27.625</td>\n",
              "    </tr>\n",
              "  </tbody>\n",
              "</table>\n",
              "</div>\n",
              "    <div class=\"colab-df-buttons\">\n",
              "\n",
              "  <div class=\"colab-df-container\">\n",
              "    <button class=\"colab-df-convert\" onclick=\"convertToInteractive('df-4e2ab387-70e1-4381-9b47-7ec458d89643')\"\n",
              "            title=\"Convert this dataframe to an interactive table.\"\n",
              "            style=\"display:none;\">\n",
              "\n",
              "  <svg xmlns=\"http://www.w3.org/2000/svg\" height=\"24px\" viewBox=\"0 -960 960 960\">\n",
              "    <path d=\"M120-120v-720h720v720H120Zm60-500h600v-160H180v160Zm220 220h160v-160H400v160Zm0 220h160v-160H400v160ZM180-400h160v-160H180v160Zm440 0h160v-160H620v160ZM180-180h160v-160H180v160Zm440 0h160v-160H620v160Z\"/>\n",
              "  </svg>\n",
              "    </button>\n",
              "\n",
              "  <style>\n",
              "    .colab-df-container {\n",
              "      display:flex;\n",
              "      gap: 12px;\n",
              "    }\n",
              "\n",
              "    .colab-df-convert {\n",
              "      background-color: #E8F0FE;\n",
              "      border: none;\n",
              "      border-radius: 50%;\n",
              "      cursor: pointer;\n",
              "      display: none;\n",
              "      fill: #1967D2;\n",
              "      height: 32px;\n",
              "      padding: 0 0 0 0;\n",
              "      width: 32px;\n",
              "    }\n",
              "\n",
              "    .colab-df-convert:hover {\n",
              "      background-color: #E2EBFA;\n",
              "      box-shadow: 0px 1px 2px rgba(60, 64, 67, 0.3), 0px 1px 3px 1px rgba(60, 64, 67, 0.15);\n",
              "      fill: #174EA6;\n",
              "    }\n",
              "\n",
              "    .colab-df-buttons div {\n",
              "      margin-bottom: 4px;\n",
              "    }\n",
              "\n",
              "    [theme=dark] .colab-df-convert {\n",
              "      background-color: #3B4455;\n",
              "      fill: #D2E3FC;\n",
              "    }\n",
              "\n",
              "    [theme=dark] .colab-df-convert:hover {\n",
              "      background-color: #434B5C;\n",
              "      box-shadow: 0px 1px 3px 1px rgba(0, 0, 0, 0.15);\n",
              "      filter: drop-shadow(0px 1px 2px rgba(0, 0, 0, 0.3));\n",
              "      fill: #FFFFFF;\n",
              "    }\n",
              "  </style>\n",
              "\n",
              "    <script>\n",
              "      const buttonEl =\n",
              "        document.querySelector('#df-4e2ab387-70e1-4381-9b47-7ec458d89643 button.colab-df-convert');\n",
              "      buttonEl.style.display =\n",
              "        google.colab.kernel.accessAllowed ? 'block' : 'none';\n",
              "\n",
              "      async function convertToInteractive(key) {\n",
              "        const element = document.querySelector('#df-4e2ab387-70e1-4381-9b47-7ec458d89643');\n",
              "        const dataTable =\n",
              "          await google.colab.kernel.invokeFunction('convertToInteractive',\n",
              "                                                    [key], {});\n",
              "        if (!dataTable) return;\n",
              "\n",
              "        const docLinkHtml = 'Like what you see? Visit the ' +\n",
              "          '<a target=\"_blank\" href=https://colab.research.google.com/notebooks/data_table.ipynb>data table notebook</a>'\n",
              "          + ' to learn more about interactive tables.';\n",
              "        element.innerHTML = '';\n",
              "        dataTable['output_type'] = 'display_data';\n",
              "        await google.colab.output.renderOutput(dataTable, element);\n",
              "        const docLink = document.createElement('div');\n",
              "        docLink.innerHTML = docLinkHtml;\n",
              "        element.appendChild(docLink);\n",
              "      }\n",
              "    </script>\n",
              "  </div>\n",
              "\n",
              "\n",
              "<div id=\"df-65c1d334-5960-4368-a50a-d1a4678f509e\">\n",
              "  <button class=\"colab-df-quickchart\" onclick=\"quickchart('df-65c1d334-5960-4368-a50a-d1a4678f509e')\"\n",
              "            title=\"Suggest charts.\"\n",
              "            style=\"display:none;\">\n",
              "\n",
              "<svg xmlns=\"http://www.w3.org/2000/svg\" height=\"24px\"viewBox=\"0 0 24 24\"\n",
              "     width=\"24px\">\n",
              "    <g>\n",
              "        <path d=\"M19 3H5c-1.1 0-2 .9-2 2v14c0 1.1.9 2 2 2h14c1.1 0 2-.9 2-2V5c0-1.1-.9-2-2-2zM9 17H7v-7h2v7zm4 0h-2V7h2v10zm4 0h-2v-4h2v4z\"/>\n",
              "    </g>\n",
              "</svg>\n",
              "  </button>\n",
              "\n",
              "<style>\n",
              "  .colab-df-quickchart {\n",
              "      --bg-color: #E8F0FE;\n",
              "      --fill-color: #1967D2;\n",
              "      --hover-bg-color: #E2EBFA;\n",
              "      --hover-fill-color: #174EA6;\n",
              "      --disabled-fill-color: #AAA;\n",
              "      --disabled-bg-color: #DDD;\n",
              "  }\n",
              "\n",
              "  [theme=dark] .colab-df-quickchart {\n",
              "      --bg-color: #3B4455;\n",
              "      --fill-color: #D2E3FC;\n",
              "      --hover-bg-color: #434B5C;\n",
              "      --hover-fill-color: #FFFFFF;\n",
              "      --disabled-bg-color: #3B4455;\n",
              "      --disabled-fill-color: #666;\n",
              "  }\n",
              "\n",
              "  .colab-df-quickchart {\n",
              "    background-color: var(--bg-color);\n",
              "    border: none;\n",
              "    border-radius: 50%;\n",
              "    cursor: pointer;\n",
              "    display: none;\n",
              "    fill: var(--fill-color);\n",
              "    height: 32px;\n",
              "    padding: 0;\n",
              "    width: 32px;\n",
              "  }\n",
              "\n",
              "  .colab-df-quickchart:hover {\n",
              "    background-color: var(--hover-bg-color);\n",
              "    box-shadow: 0 1px 2px rgba(60, 64, 67, 0.3), 0 1px 3px 1px rgba(60, 64, 67, 0.15);\n",
              "    fill: var(--button-hover-fill-color);\n",
              "  }\n",
              "\n",
              "  .colab-df-quickchart-complete:disabled,\n",
              "  .colab-df-quickchart-complete:disabled:hover {\n",
              "    background-color: var(--disabled-bg-color);\n",
              "    fill: var(--disabled-fill-color);\n",
              "    box-shadow: none;\n",
              "  }\n",
              "\n",
              "  .colab-df-spinner {\n",
              "    border: 2px solid var(--fill-color);\n",
              "    border-color: transparent;\n",
              "    border-bottom-color: var(--fill-color);\n",
              "    animation:\n",
              "      spin 1s steps(1) infinite;\n",
              "  }\n",
              "\n",
              "  @keyframes spin {\n",
              "    0% {\n",
              "      border-color: transparent;\n",
              "      border-bottom-color: var(--fill-color);\n",
              "      border-left-color: var(--fill-color);\n",
              "    }\n",
              "    20% {\n",
              "      border-color: transparent;\n",
              "      border-left-color: var(--fill-color);\n",
              "      border-top-color: var(--fill-color);\n",
              "    }\n",
              "    30% {\n",
              "      border-color: transparent;\n",
              "      border-left-color: var(--fill-color);\n",
              "      border-top-color: var(--fill-color);\n",
              "      border-right-color: var(--fill-color);\n",
              "    }\n",
              "    40% {\n",
              "      border-color: transparent;\n",
              "      border-right-color: var(--fill-color);\n",
              "      border-top-color: var(--fill-color);\n",
              "    }\n",
              "    60% {\n",
              "      border-color: transparent;\n",
              "      border-right-color: var(--fill-color);\n",
              "    }\n",
              "    80% {\n",
              "      border-color: transparent;\n",
              "      border-right-color: var(--fill-color);\n",
              "      border-bottom-color: var(--fill-color);\n",
              "    }\n",
              "    90% {\n",
              "      border-color: transparent;\n",
              "      border-bottom-color: var(--fill-color);\n",
              "    }\n",
              "  }\n",
              "</style>\n",
              "\n",
              "  <script>\n",
              "    async function quickchart(key) {\n",
              "      const quickchartButtonEl =\n",
              "        document.querySelector('#' + key + ' button');\n",
              "      quickchartButtonEl.disabled = true;  // To prevent multiple clicks.\n",
              "      quickchartButtonEl.classList.add('colab-df-spinner');\n",
              "      try {\n",
              "        const charts = await google.colab.kernel.invokeFunction(\n",
              "            'suggestCharts', [key], {});\n",
              "      } catch (error) {\n",
              "        console.error('Error during call to suggestCharts:', error);\n",
              "      }\n",
              "      quickchartButtonEl.classList.remove('colab-df-spinner');\n",
              "      quickchartButtonEl.classList.add('colab-df-quickchart-complete');\n",
              "    }\n",
              "    (() => {\n",
              "      let quickchartButtonEl =\n",
              "        document.querySelector('#df-65c1d334-5960-4368-a50a-d1a4678f509e button');\n",
              "      quickchartButtonEl.style.display =\n",
              "        google.colab.kernel.accessAllowed ? 'block' : 'none';\n",
              "    })();\n",
              "  </script>\n",
              "</div>\n",
              "    </div>\n",
              "  </div>\n"
            ]
          },
          "metadata": {},
          "execution_count": 100
        }
      ]
    },
    {
      "cell_type": "markdown",
      "source": [
        "## Выводы"
      ],
      "metadata": {
        "id": "pz5DgBLgWuYd"
      }
    },
    {
      "cell_type": "markdown",
      "source": [
        "В проекте решалась **задача разработки алгоритма, который для всех товаров из `validation.csv` предложит несколько вариантов наиболее похожих товаров из `base.csv`**.\n",
        "\n",
        "При этом:\n",
        "- `base.csv` - анонимизированный набор товаров. Каждый товар представлен как уникальный id (0-base, 1-base, 2-base) и вектор признаков размерностью 72.\n",
        "- `validation.csv` - датасет с товарами (уникальный id и вектор признаков), для которых надо найти наиболее близкие товары из base.csv\n",
        "\n",
        "Для подбора оптимальных параметров приближенного поиска использовался обучающий датасет `target.csv`. Каждая строчка - один товар, для которого известен уникальный id (0-query, 1-query, …), вектор признаков и id товара из base.csv, который максимально похож на него (по мнению экспертов).\n",
        "\n",
        "- При решении задачи была использована библиотека для приближённого поиска ближайших соседей `FAISS`.\n",
        "\n",
        "- Проведён исследовательский анализ данных. В целях повышения метрики произведено масштабирование признаков с использованием `StandardScaler`.\n",
        "\n",
        "- Создан, обучен и сохранён на диск индекс для `FAISS` с оптимальными в рамках данного исследования параметрами.\n",
        "\n",
        "- В качестве демонстрации подхода обучена ранжирующая модель CatBoost. В дальнейшем модель позволит дополнительно оптимизировать поиск, а также выделить наиболее значимые признаки.\n",
        "\n",
        "- Время поиска 5 ближайших соседей для датасета `validation.csv` на этом индексе составило около **15 минут** (Colab, без подписки).\n",
        "\n",
        "- Качество предложенного алгоритма по метрике `accuracy@5` для датасета `validation.csv` составило **64,8%** (без применения ранжирующей модели).\n",
        "\n",
        "- Сохранённые индекс и модель позволяют реализовать развёртывание решения в виде микросервиса.\n"
      ],
      "metadata": {
        "id": "3wmVtWVTW1YX"
      }
    },
    {
      "cell_type": "markdown",
      "source": [
        "### Что нужно улучшить"
      ],
      "metadata": {
        "id": "VeqCwRWTG_AG"
      }
    },
    {
      "cell_type": "markdown",
      "source": [
        "- Для выбора оптимального индекса надо оценить время работы для каждого из них\n",
        "- Дальнейшая работа с признаками должна повысить метрику\n",
        "- От ранжирующей модели нужно получить большее качество, после этого её нужно применять для отбора более качественных соседей (если это будет оправдано с точки зрения производительности)\n",
        "- Полноценно реализовать решение в качестве микросервиса"
      ],
      "metadata": {
        "id": "EWDs7JzHjTnP"
      }
    },
    {
      "cell_type": "code",
      "source": [],
      "metadata": {
        "id": "r9bBB2TkknW0"
      },
      "execution_count": 100,
      "outputs": []
    }
  ]
}