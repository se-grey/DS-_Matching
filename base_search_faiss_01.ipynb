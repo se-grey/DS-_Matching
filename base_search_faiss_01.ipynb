{
  "nbformat": 4,
  "nbformat_minor": 0,
  "metadata": {
    "colab": {
      "provenance": [],
      "toc_visible": true,
      "mount_file_id": "1WCv1dYWzyJ7RwrV2kH9z1OObyFwyu2ir",
      "authorship_tag": "ABX9TyP/E8zfgWb6MNNKQokjX07D"
    },
    "kernelspec": {
      "name": "python3",
      "display_name": "Python 3"
    },
    "language_info": {
      "name": "python"
    }
  },
  "cells": [
    {
      "cell_type": "markdown",
      "source": [
        "# Мастерская 2 (DS20+). Решение задачи мэтчинга для \"склада товаров\""
      ],
      "metadata": {
        "id": "5OBZgAFqZAFU"
      }
    },
    {
      "cell_type": "markdown",
      "source": [],
      "metadata": {
        "id": "DnDg7hPCHKHH"
      }
    },
    {
      "cell_type": "markdown",
      "source": [
        "Входные данные:\n",
        "- `base.csv` - анонимизированный набор товаров. Каждый товар представлен как уникальный id (0-base, 1-base, 2-base) и вектор признаков размерностью 72.\n",
        "- `target.csv` - обучающий датасет. Каждая строчка - один товар, для которого известен уникальный id (0-query, 1-query, …), вектор признаков И id товара из base.csv, который максимально похож на него (по мнению экспертов).\n",
        "- `validation.csv` - датасет с товарами (уникальный id и вектор признаков), для которых надо найти наиболее близкие товары из base.csv\n",
        "- `validation_answer.csv` - правильные ответы к предыдущему файлу.\n"
      ],
      "metadata": {
        "id": "TS9Vri6GZM4y"
      }
    },
    {
      "cell_type": "markdown",
      "source": [
        "Задачи:\n",
        "- разработать алгоритм, который для всех товаров из `validation.csv` предложит несколько вариантов наиболее похожих товаров из `base`\n",
        "\n",
        "- оценить качество алгоритма по метрике **accuracy@5**\n",
        "\n",
        "- *деплой: разработать REST API сервис, который по предложенным данным будем предлагать несколько похожих товаров."
      ],
      "metadata": {
        "id": "3s-60YCEZheM"
      }
    },
    {
      "cell_type": "markdown",
      "source": [
        "Основная задача матчинга будет решаться алгоритмом приближённого поиска ближайших соседей с помощью библиотеки `FAISS`."
      ],
      "metadata": {
        "id": "YSKEh_JwZx2l"
      }
    },
    {
      "cell_type": "markdown",
      "source": [
        "## Подготовка среды"
      ],
      "metadata": {
        "id": "phPZmE3IcsN4"
      }
    },
    {
      "cell_type": "markdown",
      "source": [
        "### Импорт библиотек"
      ],
      "metadata": {
        "id": "sqXsbrp7dANS"
      }
    },
    {
      "cell_type": "code",
      "execution_count": 1,
      "metadata": {
        "colab": {
          "base_uri": "https://localhost:8080/"
        },
        "id": "XdjFOtk8Dboj",
        "outputId": "358ec50c-6ac6-458f-d246-b85e6c521a50"
      },
      "outputs": [
        {
          "output_type": "stream",
          "name": "stdout",
          "text": [
            "Requirement already satisfied: faiss-cpu in /usr/local/lib/python3.10/dist-packages (1.7.4)\n"
          ]
        }
      ],
      "source": [
        "!pip install faiss-cpu"
      ]
    },
    {
      "cell_type": "code",
      "source": [
        "import pandas as pd\n",
        "import numpy as np\n",
        "import faiss\n",
        "# from tqdm.notebook import tqdm\n",
        "from sklearn.preprocessing import RobustScaler, StandardScaler, MinMaxScaler"
      ],
      "metadata": {
        "id": "qlRy310fD_cx"
      },
      "execution_count": 2,
      "outputs": []
    },
    {
      "cell_type": "code",
      "source": [
        "# библиотеки, необходимые для загрузки из облака архива с данными\n",
        "# и его распаковки в текущую файловую систему\n",
        "import zipfile\n",
        "import requests\n",
        "from urllib.parse import urlencode\n",
        "import os.path"
      ],
      "metadata": {
        "id": "W6gcZIbsEKzy"
      },
      "execution_count": 3,
      "outputs": []
    },
    {
      "cell_type": "code",
      "source": [
        "pip install catboost"
      ],
      "metadata": {
        "id": "LxjHZZOP6PYz",
        "colab": {
          "base_uri": "https://localhost:8080/"
        },
        "outputId": "a7286422-42c3-46e0-a0cb-441924b7aacc"
      },
      "execution_count": 4,
      "outputs": [
        {
          "output_type": "stream",
          "name": "stdout",
          "text": [
            "Requirement already satisfied: catboost in /usr/local/lib/python3.10/dist-packages (1.2.2)\n",
            "Requirement already satisfied: graphviz in /usr/local/lib/python3.10/dist-packages (from catboost) (0.20.1)\n",
            "Requirement already satisfied: matplotlib in /usr/local/lib/python3.10/dist-packages (from catboost) (3.7.1)\n",
            "Requirement already satisfied: numpy>=1.16.0 in /usr/local/lib/python3.10/dist-packages (from catboost) (1.23.5)\n",
            "Requirement already satisfied: pandas>=0.24 in /usr/local/lib/python3.10/dist-packages (from catboost) (1.5.3)\n",
            "Requirement already satisfied: scipy in /usr/local/lib/python3.10/dist-packages (from catboost) (1.11.2)\n",
            "Requirement already satisfied: plotly in /usr/local/lib/python3.10/dist-packages (from catboost) (5.15.0)\n",
            "Requirement already satisfied: six in /usr/local/lib/python3.10/dist-packages (from catboost) (1.16.0)\n",
            "Requirement already satisfied: python-dateutil>=2.8.1 in /usr/local/lib/python3.10/dist-packages (from pandas>=0.24->catboost) (2.8.2)\n",
            "Requirement already satisfied: pytz>=2020.1 in /usr/local/lib/python3.10/dist-packages (from pandas>=0.24->catboost) (2023.3.post1)\n",
            "Requirement already satisfied: contourpy>=1.0.1 in /usr/local/lib/python3.10/dist-packages (from matplotlib->catboost) (1.1.0)\n",
            "Requirement already satisfied: cycler>=0.10 in /usr/local/lib/python3.10/dist-packages (from matplotlib->catboost) (0.11.0)\n",
            "Requirement already satisfied: fonttools>=4.22.0 in /usr/local/lib/python3.10/dist-packages (from matplotlib->catboost) (4.42.1)\n",
            "Requirement already satisfied: kiwisolver>=1.0.1 in /usr/local/lib/python3.10/dist-packages (from matplotlib->catboost) (1.4.5)\n",
            "Requirement already satisfied: packaging>=20.0 in /usr/local/lib/python3.10/dist-packages (from matplotlib->catboost) (23.1)\n",
            "Requirement already satisfied: pillow>=6.2.0 in /usr/local/lib/python3.10/dist-packages (from matplotlib->catboost) (9.4.0)\n",
            "Requirement already satisfied: pyparsing>=2.3.1 in /usr/local/lib/python3.10/dist-packages (from matplotlib->catboost) (3.1.1)\n",
            "Requirement already satisfied: tenacity>=6.2.0 in /usr/local/lib/python3.10/dist-packages (from plotly->catboost) (8.2.3)\n"
          ]
        }
      ]
    },
    {
      "cell_type": "code",
      "source": [
        "from sklearn.model_selection import train_test_split\n",
        "from catboost import CatBoostClassifier\n",
        "from catboost import cv, Pool\n",
        "from sklearn.metrics import roc_auc_score\n",
        "from joblib import dump, load"
      ],
      "metadata": {
        "id": "602vuP-f6ZdC"
      },
      "execution_count": 94,
      "outputs": []
    },
    {
      "cell_type": "markdown",
      "source": [
        "### Загрузка данных из облака"
      ],
      "metadata": {
        "id": "aH8RkWdFEUrT"
      }
    },
    {
      "cell_type": "markdown",
      "source": [
        "Загрузим архив с данными из облака yandex.drive и распакуем файлы на виртуальный диск Colab"
      ],
      "metadata": {
        "id": "58fYegZ4diMd"
      }
    },
    {
      "cell_type": "code",
      "source": [
        "base_url = 'https://cloud-api.yandex.net/v1/disk/public/resources/download?'\n",
        "public_key = 'https://disk.yandex.ru/d/BBEphK0EHSJ5Jw'\n",
        "zip_path = '/content/drive/MyDrive/data.zip'\n",
        "#zip_path = '/content/data.zip'\n",
        "\n",
        "final_url = base_url + urlencode(dict(public_key=public_key))\n",
        "response = requests.get(final_url)\n",
        "download_url = response.json()['href']"
      ],
      "metadata": {
        "id": "7Z9fiOddfR6u"
      },
      "execution_count": 6,
      "outputs": []
    },
    {
      "cell_type": "code",
      "source": [
        "if not os.path.exists(zip_path):\n",
        "  download_response = requests.get(download_url)\n",
        "  with open(zip_path, 'wb') as f:\n",
        "    f.write(download_response.content)"
      ],
      "metadata": {
        "id": "O4UnJDRhEb4T"
      },
      "execution_count": 7,
      "outputs": []
    },
    {
      "cell_type": "code",
      "source": [
        "# Распаковка zip-архива\n",
        "if not os.path.exists('/content/base.csv'):\n",
        "  with zipfile.ZipFile(zip_path, 'r') as zip_ref:\n",
        "    zip_ref.extractall()"
      ],
      "metadata": {
        "id": "bBJbAVJwjTpJ"
      },
      "execution_count": 8,
      "outputs": []
    },
    {
      "cell_type": "markdown",
      "source": [
        "### Чтение датасетов"
      ],
      "metadata": {
        "id": "-27Ru9snjf06"
      }
    },
    {
      "cell_type": "markdown",
      "source": [
        "Подготовим словарь для корректной загрузки типов данных. По умолчанию загружается float64, мы используем float32."
      ],
      "metadata": {
        "id": "yDly8PMGE8ea"
      }
    },
    {
      "cell_type": "code",
      "source": [
        "dict_base = {}\n",
        "for i in range(72):\n",
        "    dict_base[str(i)] = 'float32'\n",
        "\n",
        "dict_train = dict_base.copy()\n",
        "dict_train['Target'] = 'str'"
      ],
      "metadata": {
        "id": "xLCSiaXKE9oI"
      },
      "execution_count": 9,
      "outputs": []
    },
    {
      "cell_type": "markdown",
      "source": [
        "Загрузка основного датасета `base.csv`"
      ],
      "metadata": {
        "id": "rUrirCtCFJFM"
      }
    },
    {
      "cell_type": "code",
      "source": [
        "df_base = pd.read_csv(\"/content/base.csv\", index_col=0, dtype=dict_base)\n",
        "df_base.sample(5)"
      ],
      "metadata": {
        "colab": {
          "base_uri": "https://localhost:8080/",
          "height": 374
        },
        "id": "TL7jRf7qFMlb",
        "outputId": "7aae4eea-2f51-43d4-f807-6faca0760490"
      },
      "execution_count": 10,
      "outputs": [
        {
          "output_type": "execute_result",
          "data": {
            "text/plain": [
              "                       0          1          2           3           4  \\\n",
              "Id                                                                       \n",
              "105939-base   -77.987846  15.074545 -45.659576 -148.266968   98.016617   \n",
              "187743-base  -114.331108  11.621432 -56.707249 -136.842667  126.705406   \n",
              "2062023-base  -77.375755   5.503790 -46.945145 -179.129364  143.984192   \n",
              "2531005-base  -85.798134  13.568428 -53.606682 -149.432907  138.078217   \n",
              "2968252-base  -80.585365  11.575529 -77.083382 -114.335922  118.499420   \n",
              "\n",
              "                       5           6           7           8           9  ...  \\\n",
              "Id                                                                        ...   \n",
              "105939-base  -114.873566 -604.358765  -17.662687  130.678040  206.392761  ...   \n",
              "187743-base   -66.646072 -644.492310   31.529060  125.389427   46.083138  ...   \n",
              "2062023-base  -69.301605  -73.905800   41.278702  117.060242   77.615967  ...   \n",
              "2531005-base  -72.410309   26.414146   44.749210  125.561195  143.459885  ...   \n",
              "2968252-base  -89.317375 -320.681244  118.346764  113.141006  169.126007  ...   \n",
              "\n",
              "                      62         63          64          65         66  \\\n",
              "Id                                                                       \n",
              "105939-base   -65.667610  42.516079 -214.034515   -9.925874  65.858620   \n",
              "187743-base   -86.769333  14.074669 -102.944427  102.635681  67.742439   \n",
              "2062023-base -111.562698  70.999405 -131.287689  106.451485  67.241104   \n",
              "2531005-base  -24.284641  38.535736 -199.945633  -21.533007  68.202240   \n",
              "2968252-base  -59.781273 -22.050457 -142.392807  -51.620872  66.381279   \n",
              "\n",
              "                      67          68          69           70          71  \n",
              "Id                                                                         \n",
              "105939-base     1.777658   15.903370  107.861488 -1074.464844  -88.011780  \n",
              "187743-base    14.114362   -7.668129  127.330765  -781.714294 -100.219986  \n",
              "2062023-base  109.534744   63.569424  109.886093  -103.763184  -62.235680  \n",
              "2531005-base   11.909060  112.319519  122.295074 -1074.464844  -46.379013  \n",
              "2968252-base   93.367752   54.914684  129.004654  -854.289856  -75.077881  \n",
              "\n",
              "[5 rows x 72 columns]"
            ],
            "text/html": [
              "\n",
              "  <div id=\"df-6cab138a-2f6f-40bf-8843-ced903053c32\" class=\"colab-df-container\">\n",
              "    <div>\n",
              "<style scoped>\n",
              "    .dataframe tbody tr th:only-of-type {\n",
              "        vertical-align: middle;\n",
              "    }\n",
              "\n",
              "    .dataframe tbody tr th {\n",
              "        vertical-align: top;\n",
              "    }\n",
              "\n",
              "    .dataframe thead th {\n",
              "        text-align: right;\n",
              "    }\n",
              "</style>\n",
              "<table border=\"1\" class=\"dataframe\">\n",
              "  <thead>\n",
              "    <tr style=\"text-align: right;\">\n",
              "      <th></th>\n",
              "      <th>0</th>\n",
              "      <th>1</th>\n",
              "      <th>2</th>\n",
              "      <th>3</th>\n",
              "      <th>4</th>\n",
              "      <th>5</th>\n",
              "      <th>6</th>\n",
              "      <th>7</th>\n",
              "      <th>8</th>\n",
              "      <th>9</th>\n",
              "      <th>...</th>\n",
              "      <th>62</th>\n",
              "      <th>63</th>\n",
              "      <th>64</th>\n",
              "      <th>65</th>\n",
              "      <th>66</th>\n",
              "      <th>67</th>\n",
              "      <th>68</th>\n",
              "      <th>69</th>\n",
              "      <th>70</th>\n",
              "      <th>71</th>\n",
              "    </tr>\n",
              "    <tr>\n",
              "      <th>Id</th>\n",
              "      <th></th>\n",
              "      <th></th>\n",
              "      <th></th>\n",
              "      <th></th>\n",
              "      <th></th>\n",
              "      <th></th>\n",
              "      <th></th>\n",
              "      <th></th>\n",
              "      <th></th>\n",
              "      <th></th>\n",
              "      <th></th>\n",
              "      <th></th>\n",
              "      <th></th>\n",
              "      <th></th>\n",
              "      <th></th>\n",
              "      <th></th>\n",
              "      <th></th>\n",
              "      <th></th>\n",
              "      <th></th>\n",
              "      <th></th>\n",
              "      <th></th>\n",
              "    </tr>\n",
              "  </thead>\n",
              "  <tbody>\n",
              "    <tr>\n",
              "      <th>105939-base</th>\n",
              "      <td>-77.987846</td>\n",
              "      <td>15.074545</td>\n",
              "      <td>-45.659576</td>\n",
              "      <td>-148.266968</td>\n",
              "      <td>98.016617</td>\n",
              "      <td>-114.873566</td>\n",
              "      <td>-604.358765</td>\n",
              "      <td>-17.662687</td>\n",
              "      <td>130.678040</td>\n",
              "      <td>206.392761</td>\n",
              "      <td>...</td>\n",
              "      <td>-65.667610</td>\n",
              "      <td>42.516079</td>\n",
              "      <td>-214.034515</td>\n",
              "      <td>-9.925874</td>\n",
              "      <td>65.858620</td>\n",
              "      <td>1.777658</td>\n",
              "      <td>15.903370</td>\n",
              "      <td>107.861488</td>\n",
              "      <td>-1074.464844</td>\n",
              "      <td>-88.011780</td>\n",
              "    </tr>\n",
              "    <tr>\n",
              "      <th>187743-base</th>\n",
              "      <td>-114.331108</td>\n",
              "      <td>11.621432</td>\n",
              "      <td>-56.707249</td>\n",
              "      <td>-136.842667</td>\n",
              "      <td>126.705406</td>\n",
              "      <td>-66.646072</td>\n",
              "      <td>-644.492310</td>\n",
              "      <td>31.529060</td>\n",
              "      <td>125.389427</td>\n",
              "      <td>46.083138</td>\n",
              "      <td>...</td>\n",
              "      <td>-86.769333</td>\n",
              "      <td>14.074669</td>\n",
              "      <td>-102.944427</td>\n",
              "      <td>102.635681</td>\n",
              "      <td>67.742439</td>\n",
              "      <td>14.114362</td>\n",
              "      <td>-7.668129</td>\n",
              "      <td>127.330765</td>\n",
              "      <td>-781.714294</td>\n",
              "      <td>-100.219986</td>\n",
              "    </tr>\n",
              "    <tr>\n",
              "      <th>2062023-base</th>\n",
              "      <td>-77.375755</td>\n",
              "      <td>5.503790</td>\n",
              "      <td>-46.945145</td>\n",
              "      <td>-179.129364</td>\n",
              "      <td>143.984192</td>\n",
              "      <td>-69.301605</td>\n",
              "      <td>-73.905800</td>\n",
              "      <td>41.278702</td>\n",
              "      <td>117.060242</td>\n",
              "      <td>77.615967</td>\n",
              "      <td>...</td>\n",
              "      <td>-111.562698</td>\n",
              "      <td>70.999405</td>\n",
              "      <td>-131.287689</td>\n",
              "      <td>106.451485</td>\n",
              "      <td>67.241104</td>\n",
              "      <td>109.534744</td>\n",
              "      <td>63.569424</td>\n",
              "      <td>109.886093</td>\n",
              "      <td>-103.763184</td>\n",
              "      <td>-62.235680</td>\n",
              "    </tr>\n",
              "    <tr>\n",
              "      <th>2531005-base</th>\n",
              "      <td>-85.798134</td>\n",
              "      <td>13.568428</td>\n",
              "      <td>-53.606682</td>\n",
              "      <td>-149.432907</td>\n",
              "      <td>138.078217</td>\n",
              "      <td>-72.410309</td>\n",
              "      <td>26.414146</td>\n",
              "      <td>44.749210</td>\n",
              "      <td>125.561195</td>\n",
              "      <td>143.459885</td>\n",
              "      <td>...</td>\n",
              "      <td>-24.284641</td>\n",
              "      <td>38.535736</td>\n",
              "      <td>-199.945633</td>\n",
              "      <td>-21.533007</td>\n",
              "      <td>68.202240</td>\n",
              "      <td>11.909060</td>\n",
              "      <td>112.319519</td>\n",
              "      <td>122.295074</td>\n",
              "      <td>-1074.464844</td>\n",
              "      <td>-46.379013</td>\n",
              "    </tr>\n",
              "    <tr>\n",
              "      <th>2968252-base</th>\n",
              "      <td>-80.585365</td>\n",
              "      <td>11.575529</td>\n",
              "      <td>-77.083382</td>\n",
              "      <td>-114.335922</td>\n",
              "      <td>118.499420</td>\n",
              "      <td>-89.317375</td>\n",
              "      <td>-320.681244</td>\n",
              "      <td>118.346764</td>\n",
              "      <td>113.141006</td>\n",
              "      <td>169.126007</td>\n",
              "      <td>...</td>\n",
              "      <td>-59.781273</td>\n",
              "      <td>-22.050457</td>\n",
              "      <td>-142.392807</td>\n",
              "      <td>-51.620872</td>\n",
              "      <td>66.381279</td>\n",
              "      <td>93.367752</td>\n",
              "      <td>54.914684</td>\n",
              "      <td>129.004654</td>\n",
              "      <td>-854.289856</td>\n",
              "      <td>-75.077881</td>\n",
              "    </tr>\n",
              "  </tbody>\n",
              "</table>\n",
              "<p>5 rows × 72 columns</p>\n",
              "</div>\n",
              "    <div class=\"colab-df-buttons\">\n",
              "\n",
              "  <div class=\"colab-df-container\">\n",
              "    <button class=\"colab-df-convert\" onclick=\"convertToInteractive('df-6cab138a-2f6f-40bf-8843-ced903053c32')\"\n",
              "            title=\"Convert this dataframe to an interactive table.\"\n",
              "            style=\"display:none;\">\n",
              "\n",
              "  <svg xmlns=\"http://www.w3.org/2000/svg\" height=\"24px\" viewBox=\"0 -960 960 960\">\n",
              "    <path d=\"M120-120v-720h720v720H120Zm60-500h600v-160H180v160Zm220 220h160v-160H400v160Zm0 220h160v-160H400v160ZM180-400h160v-160H180v160Zm440 0h160v-160H620v160ZM180-180h160v-160H180v160Zm440 0h160v-160H620v160Z\"/>\n",
              "  </svg>\n",
              "    </button>\n",
              "\n",
              "  <style>\n",
              "    .colab-df-container {\n",
              "      display:flex;\n",
              "      gap: 12px;\n",
              "    }\n",
              "\n",
              "    .colab-df-convert {\n",
              "      background-color: #E8F0FE;\n",
              "      border: none;\n",
              "      border-radius: 50%;\n",
              "      cursor: pointer;\n",
              "      display: none;\n",
              "      fill: #1967D2;\n",
              "      height: 32px;\n",
              "      padding: 0 0 0 0;\n",
              "      width: 32px;\n",
              "    }\n",
              "\n",
              "    .colab-df-convert:hover {\n",
              "      background-color: #E2EBFA;\n",
              "      box-shadow: 0px 1px 2px rgba(60, 64, 67, 0.3), 0px 1px 3px 1px rgba(60, 64, 67, 0.15);\n",
              "      fill: #174EA6;\n",
              "    }\n",
              "\n",
              "    .colab-df-buttons div {\n",
              "      margin-bottom: 4px;\n",
              "    }\n",
              "\n",
              "    [theme=dark] .colab-df-convert {\n",
              "      background-color: #3B4455;\n",
              "      fill: #D2E3FC;\n",
              "    }\n",
              "\n",
              "    [theme=dark] .colab-df-convert:hover {\n",
              "      background-color: #434B5C;\n",
              "      box-shadow: 0px 1px 3px 1px rgba(0, 0, 0, 0.15);\n",
              "      filter: drop-shadow(0px 1px 2px rgba(0, 0, 0, 0.3));\n",
              "      fill: #FFFFFF;\n",
              "    }\n",
              "  </style>\n",
              "\n",
              "    <script>\n",
              "      const buttonEl =\n",
              "        document.querySelector('#df-6cab138a-2f6f-40bf-8843-ced903053c32 button.colab-df-convert');\n",
              "      buttonEl.style.display =\n",
              "        google.colab.kernel.accessAllowed ? 'block' : 'none';\n",
              "\n",
              "      async function convertToInteractive(key) {\n",
              "        const element = document.querySelector('#df-6cab138a-2f6f-40bf-8843-ced903053c32');\n",
              "        const dataTable =\n",
              "          await google.colab.kernel.invokeFunction('convertToInteractive',\n",
              "                                                    [key], {});\n",
              "        if (!dataTable) return;\n",
              "\n",
              "        const docLinkHtml = 'Like what you see? Visit the ' +\n",
              "          '<a target=\"_blank\" href=https://colab.research.google.com/notebooks/data_table.ipynb>data table notebook</a>'\n",
              "          + ' to learn more about interactive tables.';\n",
              "        element.innerHTML = '';\n",
              "        dataTable['output_type'] = 'display_data';\n",
              "        await google.colab.output.renderOutput(dataTable, element);\n",
              "        const docLink = document.createElement('div');\n",
              "        docLink.innerHTML = docLinkHtml;\n",
              "        element.appendChild(docLink);\n",
              "      }\n",
              "    </script>\n",
              "  </div>\n",
              "\n",
              "\n",
              "<div id=\"df-a67781a2-8995-41db-b34f-6038a8cedb69\">\n",
              "  <button class=\"colab-df-quickchart\" onclick=\"quickchart('df-a67781a2-8995-41db-b34f-6038a8cedb69')\"\n",
              "            title=\"Suggest charts.\"\n",
              "            style=\"display:none;\">\n",
              "\n",
              "<svg xmlns=\"http://www.w3.org/2000/svg\" height=\"24px\"viewBox=\"0 0 24 24\"\n",
              "     width=\"24px\">\n",
              "    <g>\n",
              "        <path d=\"M19 3H5c-1.1 0-2 .9-2 2v14c0 1.1.9 2 2 2h14c1.1 0 2-.9 2-2V5c0-1.1-.9-2-2-2zM9 17H7v-7h2v7zm4 0h-2V7h2v10zm4 0h-2v-4h2v4z\"/>\n",
              "    </g>\n",
              "</svg>\n",
              "  </button>\n",
              "\n",
              "<style>\n",
              "  .colab-df-quickchart {\n",
              "      --bg-color: #E8F0FE;\n",
              "      --fill-color: #1967D2;\n",
              "      --hover-bg-color: #E2EBFA;\n",
              "      --hover-fill-color: #174EA6;\n",
              "      --disabled-fill-color: #AAA;\n",
              "      --disabled-bg-color: #DDD;\n",
              "  }\n",
              "\n",
              "  [theme=dark] .colab-df-quickchart {\n",
              "      --bg-color: #3B4455;\n",
              "      --fill-color: #D2E3FC;\n",
              "      --hover-bg-color: #434B5C;\n",
              "      --hover-fill-color: #FFFFFF;\n",
              "      --disabled-bg-color: #3B4455;\n",
              "      --disabled-fill-color: #666;\n",
              "  }\n",
              "\n",
              "  .colab-df-quickchart {\n",
              "    background-color: var(--bg-color);\n",
              "    border: none;\n",
              "    border-radius: 50%;\n",
              "    cursor: pointer;\n",
              "    display: none;\n",
              "    fill: var(--fill-color);\n",
              "    height: 32px;\n",
              "    padding: 0;\n",
              "    width: 32px;\n",
              "  }\n",
              "\n",
              "  .colab-df-quickchart:hover {\n",
              "    background-color: var(--hover-bg-color);\n",
              "    box-shadow: 0 1px 2px rgba(60, 64, 67, 0.3), 0 1px 3px 1px rgba(60, 64, 67, 0.15);\n",
              "    fill: var(--button-hover-fill-color);\n",
              "  }\n",
              "\n",
              "  .colab-df-quickchart-complete:disabled,\n",
              "  .colab-df-quickchart-complete:disabled:hover {\n",
              "    background-color: var(--disabled-bg-color);\n",
              "    fill: var(--disabled-fill-color);\n",
              "    box-shadow: none;\n",
              "  }\n",
              "\n",
              "  .colab-df-spinner {\n",
              "    border: 2px solid var(--fill-color);\n",
              "    border-color: transparent;\n",
              "    border-bottom-color: var(--fill-color);\n",
              "    animation:\n",
              "      spin 1s steps(1) infinite;\n",
              "  }\n",
              "\n",
              "  @keyframes spin {\n",
              "    0% {\n",
              "      border-color: transparent;\n",
              "      border-bottom-color: var(--fill-color);\n",
              "      border-left-color: var(--fill-color);\n",
              "    }\n",
              "    20% {\n",
              "      border-color: transparent;\n",
              "      border-left-color: var(--fill-color);\n",
              "      border-top-color: var(--fill-color);\n",
              "    }\n",
              "    30% {\n",
              "      border-color: transparent;\n",
              "      border-left-color: var(--fill-color);\n",
              "      border-top-color: var(--fill-color);\n",
              "      border-right-color: var(--fill-color);\n",
              "    }\n",
              "    40% {\n",
              "      border-color: transparent;\n",
              "      border-right-color: var(--fill-color);\n",
              "      border-top-color: var(--fill-color);\n",
              "    }\n",
              "    60% {\n",
              "      border-color: transparent;\n",
              "      border-right-color: var(--fill-color);\n",
              "    }\n",
              "    80% {\n",
              "      border-color: transparent;\n",
              "      border-right-color: var(--fill-color);\n",
              "      border-bottom-color: var(--fill-color);\n",
              "    }\n",
              "    90% {\n",
              "      border-color: transparent;\n",
              "      border-bottom-color: var(--fill-color);\n",
              "    }\n",
              "  }\n",
              "</style>\n",
              "\n",
              "  <script>\n",
              "    async function quickchart(key) {\n",
              "      const quickchartButtonEl =\n",
              "        document.querySelector('#' + key + ' button');\n",
              "      quickchartButtonEl.disabled = true;  // To prevent multiple clicks.\n",
              "      quickchartButtonEl.classList.add('colab-df-spinner');\n",
              "      try {\n",
              "        const charts = await google.colab.kernel.invokeFunction(\n",
              "            'suggestCharts', [key], {});\n",
              "      } catch (error) {\n",
              "        console.error('Error during call to suggestCharts:', error);\n",
              "      }\n",
              "      quickchartButtonEl.classList.remove('colab-df-spinner');\n",
              "      quickchartButtonEl.classList.add('colab-df-quickchart-complete');\n",
              "    }\n",
              "    (() => {\n",
              "      let quickchartButtonEl =\n",
              "        document.querySelector('#df-a67781a2-8995-41db-b34f-6038a8cedb69 button');\n",
              "      quickchartButtonEl.style.display =\n",
              "        google.colab.kernel.accessAllowed ? 'block' : 'none';\n",
              "    })();\n",
              "  </script>\n",
              "</div>\n",
              "    </div>\n",
              "  </div>\n"
            ]
          },
          "metadata": {},
          "execution_count": 10
        }
      ]
    },
    {
      "cell_type": "code",
      "source": [
        "df_base.shape"
      ],
      "metadata": {
        "colab": {
          "base_uri": "https://localhost:8080/"
        },
        "id": "iCitbPgxFOZl",
        "outputId": "962aeeb7-9f7a-4df9-e216-5623055f2b6f"
      },
      "execution_count": 11,
      "outputs": [
        {
          "output_type": "execute_result",
          "data": {
            "text/plain": [
              "(2918139, 72)"
            ]
          },
          "metadata": {},
          "execution_count": 11
        }
      ]
    },
    {
      "cell_type": "code",
      "source": [
        "df_base[['0','32','71']].info()"
      ],
      "metadata": {
        "colab": {
          "base_uri": "https://localhost:8080/"
        },
        "id": "Yu32UhxpFRqE",
        "outputId": "71a24c94-af3e-4f1f-9c5d-a5cd6a7a7df0"
      },
      "execution_count": 12,
      "outputs": [
        {
          "output_type": "stream",
          "name": "stdout",
          "text": [
            "<class 'pandas.core.frame.DataFrame'>\n",
            "Index: 2918139 entries, 0-base to 4744766-base\n",
            "Data columns (total 3 columns):\n",
            " #   Column  Dtype  \n",
            "---  ------  -----  \n",
            " 0   0       float32\n",
            " 1   32      float32\n",
            " 2   71      float32\n",
            "dtypes: float32(3)\n",
            "memory usage: 55.7+ MB\n"
          ]
        }
      ]
    },
    {
      "cell_type": "markdown",
      "source": [
        "Загрузка датасета с таргетами `train.csv`"
      ],
      "metadata": {
        "id": "OQn3HRo-FXKp"
      }
    },
    {
      "cell_type": "code",
      "source": [
        "df_train = pd.read_csv(\"/content/train.csv\", index_col=0, dtype=dict_train)\n",
        "df_train.sample()"
      ],
      "metadata": {
        "colab": {
          "base_uri": "https://localhost:8080/",
          "height": 179
        },
        "id": "t0Vuni4xFXnP",
        "outputId": "b1e50fac-feee-45ba-afe4-5247d6f61028"
      },
      "execution_count": 13,
      "outputs": [
        {
          "output_type": "execute_result",
          "data": {
            "text/plain": [
              "                     0       1          2           3          4          5  \\\n",
              "Id                                                                            \n",
              "96577-query -24.637184  13.782 -69.065002 -184.424301  86.947678 -92.392204   \n",
              "\n",
              "                      6          7           8           9  ...         63  \\\n",
              "Id                                                          ...              \n",
              "96577-query -296.958221 -93.549988  115.723213  200.179565  ...  32.991913   \n",
              "\n",
              "                     64          65         66        67          68  \\\n",
              "Id                                                                     \n",
              "96577-query -175.481934  127.973976  68.945702  5.008123  126.304756   \n",
              "\n",
              "                    69           70          71        Target  \n",
              "Id                                                             \n",
              "96577-query  120.89225 -1141.939087 -135.402054  2220645-base  \n",
              "\n",
              "[1 rows x 73 columns]"
            ],
            "text/html": [
              "\n",
              "  <div id=\"df-22add3ae-5e74-43a4-b784-4f125a3d0012\" class=\"colab-df-container\">\n",
              "    <div>\n",
              "<style scoped>\n",
              "    .dataframe tbody tr th:only-of-type {\n",
              "        vertical-align: middle;\n",
              "    }\n",
              "\n",
              "    .dataframe tbody tr th {\n",
              "        vertical-align: top;\n",
              "    }\n",
              "\n",
              "    .dataframe thead th {\n",
              "        text-align: right;\n",
              "    }\n",
              "</style>\n",
              "<table border=\"1\" class=\"dataframe\">\n",
              "  <thead>\n",
              "    <tr style=\"text-align: right;\">\n",
              "      <th></th>\n",
              "      <th>0</th>\n",
              "      <th>1</th>\n",
              "      <th>2</th>\n",
              "      <th>3</th>\n",
              "      <th>4</th>\n",
              "      <th>5</th>\n",
              "      <th>6</th>\n",
              "      <th>7</th>\n",
              "      <th>8</th>\n",
              "      <th>9</th>\n",
              "      <th>...</th>\n",
              "      <th>63</th>\n",
              "      <th>64</th>\n",
              "      <th>65</th>\n",
              "      <th>66</th>\n",
              "      <th>67</th>\n",
              "      <th>68</th>\n",
              "      <th>69</th>\n",
              "      <th>70</th>\n",
              "      <th>71</th>\n",
              "      <th>Target</th>\n",
              "    </tr>\n",
              "    <tr>\n",
              "      <th>Id</th>\n",
              "      <th></th>\n",
              "      <th></th>\n",
              "      <th></th>\n",
              "      <th></th>\n",
              "      <th></th>\n",
              "      <th></th>\n",
              "      <th></th>\n",
              "      <th></th>\n",
              "      <th></th>\n",
              "      <th></th>\n",
              "      <th></th>\n",
              "      <th></th>\n",
              "      <th></th>\n",
              "      <th></th>\n",
              "      <th></th>\n",
              "      <th></th>\n",
              "      <th></th>\n",
              "      <th></th>\n",
              "      <th></th>\n",
              "      <th></th>\n",
              "      <th></th>\n",
              "    </tr>\n",
              "  </thead>\n",
              "  <tbody>\n",
              "    <tr>\n",
              "      <th>96577-query</th>\n",
              "      <td>-24.637184</td>\n",
              "      <td>13.782</td>\n",
              "      <td>-69.065002</td>\n",
              "      <td>-184.424301</td>\n",
              "      <td>86.947678</td>\n",
              "      <td>-92.392204</td>\n",
              "      <td>-296.958221</td>\n",
              "      <td>-93.549988</td>\n",
              "      <td>115.723213</td>\n",
              "      <td>200.179565</td>\n",
              "      <td>...</td>\n",
              "      <td>32.991913</td>\n",
              "      <td>-175.481934</td>\n",
              "      <td>127.973976</td>\n",
              "      <td>68.945702</td>\n",
              "      <td>5.008123</td>\n",
              "      <td>126.304756</td>\n",
              "      <td>120.89225</td>\n",
              "      <td>-1141.939087</td>\n",
              "      <td>-135.402054</td>\n",
              "      <td>2220645-base</td>\n",
              "    </tr>\n",
              "  </tbody>\n",
              "</table>\n",
              "<p>1 rows × 73 columns</p>\n",
              "</div>\n",
              "    <div class=\"colab-df-buttons\">\n",
              "\n",
              "  <div class=\"colab-df-container\">\n",
              "    <button class=\"colab-df-convert\" onclick=\"convertToInteractive('df-22add3ae-5e74-43a4-b784-4f125a3d0012')\"\n",
              "            title=\"Convert this dataframe to an interactive table.\"\n",
              "            style=\"display:none;\">\n",
              "\n",
              "  <svg xmlns=\"http://www.w3.org/2000/svg\" height=\"24px\" viewBox=\"0 -960 960 960\">\n",
              "    <path d=\"M120-120v-720h720v720H120Zm60-500h600v-160H180v160Zm220 220h160v-160H400v160Zm0 220h160v-160H400v160ZM180-400h160v-160H180v160Zm440 0h160v-160H620v160ZM180-180h160v-160H180v160Zm440 0h160v-160H620v160Z\"/>\n",
              "  </svg>\n",
              "    </button>\n",
              "\n",
              "  <style>\n",
              "    .colab-df-container {\n",
              "      display:flex;\n",
              "      gap: 12px;\n",
              "    }\n",
              "\n",
              "    .colab-df-convert {\n",
              "      background-color: #E8F0FE;\n",
              "      border: none;\n",
              "      border-radius: 50%;\n",
              "      cursor: pointer;\n",
              "      display: none;\n",
              "      fill: #1967D2;\n",
              "      height: 32px;\n",
              "      padding: 0 0 0 0;\n",
              "      width: 32px;\n",
              "    }\n",
              "\n",
              "    .colab-df-convert:hover {\n",
              "      background-color: #E2EBFA;\n",
              "      box-shadow: 0px 1px 2px rgba(60, 64, 67, 0.3), 0px 1px 3px 1px rgba(60, 64, 67, 0.15);\n",
              "      fill: #174EA6;\n",
              "    }\n",
              "\n",
              "    .colab-df-buttons div {\n",
              "      margin-bottom: 4px;\n",
              "    }\n",
              "\n",
              "    [theme=dark] .colab-df-convert {\n",
              "      background-color: #3B4455;\n",
              "      fill: #D2E3FC;\n",
              "    }\n",
              "\n",
              "    [theme=dark] .colab-df-convert:hover {\n",
              "      background-color: #434B5C;\n",
              "      box-shadow: 0px 1px 3px 1px rgba(0, 0, 0, 0.15);\n",
              "      filter: drop-shadow(0px 1px 2px rgba(0, 0, 0, 0.3));\n",
              "      fill: #FFFFFF;\n",
              "    }\n",
              "  </style>\n",
              "\n",
              "    <script>\n",
              "      const buttonEl =\n",
              "        document.querySelector('#df-22add3ae-5e74-43a4-b784-4f125a3d0012 button.colab-df-convert');\n",
              "      buttonEl.style.display =\n",
              "        google.colab.kernel.accessAllowed ? 'block' : 'none';\n",
              "\n",
              "      async function convertToInteractive(key) {\n",
              "        const element = document.querySelector('#df-22add3ae-5e74-43a4-b784-4f125a3d0012');\n",
              "        const dataTable =\n",
              "          await google.colab.kernel.invokeFunction('convertToInteractive',\n",
              "                                                    [key], {});\n",
              "        if (!dataTable) return;\n",
              "\n",
              "        const docLinkHtml = 'Like what you see? Visit the ' +\n",
              "          '<a target=\"_blank\" href=https://colab.research.google.com/notebooks/data_table.ipynb>data table notebook</a>'\n",
              "          + ' to learn more about interactive tables.';\n",
              "        element.innerHTML = '';\n",
              "        dataTable['output_type'] = 'display_data';\n",
              "        await google.colab.output.renderOutput(dataTable, element);\n",
              "        const docLink = document.createElement('div');\n",
              "        docLink.innerHTML = docLinkHtml;\n",
              "        element.appendChild(docLink);\n",
              "      }\n",
              "    </script>\n",
              "  </div>\n",
              "\n",
              "    </div>\n",
              "  </div>\n"
            ]
          },
          "metadata": {},
          "execution_count": 13
        }
      ]
    },
    {
      "cell_type": "code",
      "source": [
        "df_train.shape"
      ],
      "metadata": {
        "id": "y8U5DlPBFZyC",
        "colab": {
          "base_uri": "https://localhost:8080/"
        },
        "outputId": "9b30880e-853c-49c2-dcde-c5460b658bf5"
      },
      "execution_count": 14,
      "outputs": [
        {
          "output_type": "execute_result",
          "data": {
            "text/plain": [
              "(100000, 73)"
            ]
          },
          "metadata": {},
          "execution_count": 14
        }
      ]
    },
    {
      "cell_type": "markdown",
      "source": [
        "Загрузка датасета с заданием `validation.csv`"
      ],
      "metadata": {
        "id": "Dj1L1BHSlsRT"
      }
    },
    {
      "cell_type": "code",
      "source": [
        "df_validation = pd.read_csv(\"/content/validation.csv\", index_col=0, dtype=dict_train)\n",
        "df_validation.sample()"
      ],
      "metadata": {
        "colab": {
          "base_uri": "https://localhost:8080/",
          "height": 179
        },
        "outputId": "5fe9f146-283c-445b-ead2-afae9c2b9484",
        "id": "ONQpJXSWlsRV"
      },
      "execution_count": 15,
      "outputs": [
        {
          "output_type": "execute_result",
          "data": {
            "text/plain": [
              "                      0         1          2           3          4        5  \\\n",
              "Id                                                                             \n",
              "103683-query -36.183163  9.597116 -25.092632 -122.876801  80.975372 -72.6147   \n",
              "\n",
              "                       6         7           8          9  ...          62  \\\n",
              "Id                                                         ...               \n",
              "103683-query -759.626038 -6.267447  114.399857  95.768143  ... -131.931473   \n",
              "\n",
              "                     63          64         65         66         67  \\\n",
              "Id                                                                     \n",
              "103683-query  30.858883 -137.749451  78.763222  69.444885 -46.221863   \n",
              "\n",
              "                     68          69          70         71  \n",
              "Id                                                          \n",
              "103683-query  36.583916  100.895378 -734.083069 -79.720322  \n",
              "\n",
              "[1 rows x 72 columns]"
            ],
            "text/html": [
              "\n",
              "  <div id=\"df-4f522f2e-a57b-4e9d-91b6-a5b858caeecb\" class=\"colab-df-container\">\n",
              "    <div>\n",
              "<style scoped>\n",
              "    .dataframe tbody tr th:only-of-type {\n",
              "        vertical-align: middle;\n",
              "    }\n",
              "\n",
              "    .dataframe tbody tr th {\n",
              "        vertical-align: top;\n",
              "    }\n",
              "\n",
              "    .dataframe thead th {\n",
              "        text-align: right;\n",
              "    }\n",
              "</style>\n",
              "<table border=\"1\" class=\"dataframe\">\n",
              "  <thead>\n",
              "    <tr style=\"text-align: right;\">\n",
              "      <th></th>\n",
              "      <th>0</th>\n",
              "      <th>1</th>\n",
              "      <th>2</th>\n",
              "      <th>3</th>\n",
              "      <th>4</th>\n",
              "      <th>5</th>\n",
              "      <th>6</th>\n",
              "      <th>7</th>\n",
              "      <th>8</th>\n",
              "      <th>9</th>\n",
              "      <th>...</th>\n",
              "      <th>62</th>\n",
              "      <th>63</th>\n",
              "      <th>64</th>\n",
              "      <th>65</th>\n",
              "      <th>66</th>\n",
              "      <th>67</th>\n",
              "      <th>68</th>\n",
              "      <th>69</th>\n",
              "      <th>70</th>\n",
              "      <th>71</th>\n",
              "    </tr>\n",
              "    <tr>\n",
              "      <th>Id</th>\n",
              "      <th></th>\n",
              "      <th></th>\n",
              "      <th></th>\n",
              "      <th></th>\n",
              "      <th></th>\n",
              "      <th></th>\n",
              "      <th></th>\n",
              "      <th></th>\n",
              "      <th></th>\n",
              "      <th></th>\n",
              "      <th></th>\n",
              "      <th></th>\n",
              "      <th></th>\n",
              "      <th></th>\n",
              "      <th></th>\n",
              "      <th></th>\n",
              "      <th></th>\n",
              "      <th></th>\n",
              "      <th></th>\n",
              "      <th></th>\n",
              "      <th></th>\n",
              "    </tr>\n",
              "  </thead>\n",
              "  <tbody>\n",
              "    <tr>\n",
              "      <th>103683-query</th>\n",
              "      <td>-36.183163</td>\n",
              "      <td>9.597116</td>\n",
              "      <td>-25.092632</td>\n",
              "      <td>-122.876801</td>\n",
              "      <td>80.975372</td>\n",
              "      <td>-72.6147</td>\n",
              "      <td>-759.626038</td>\n",
              "      <td>-6.267447</td>\n",
              "      <td>114.399857</td>\n",
              "      <td>95.768143</td>\n",
              "      <td>...</td>\n",
              "      <td>-131.931473</td>\n",
              "      <td>30.858883</td>\n",
              "      <td>-137.749451</td>\n",
              "      <td>78.763222</td>\n",
              "      <td>69.444885</td>\n",
              "      <td>-46.221863</td>\n",
              "      <td>36.583916</td>\n",
              "      <td>100.895378</td>\n",
              "      <td>-734.083069</td>\n",
              "      <td>-79.720322</td>\n",
              "    </tr>\n",
              "  </tbody>\n",
              "</table>\n",
              "<p>1 rows × 72 columns</p>\n",
              "</div>\n",
              "    <div class=\"colab-df-buttons\">\n",
              "\n",
              "  <div class=\"colab-df-container\">\n",
              "    <button class=\"colab-df-convert\" onclick=\"convertToInteractive('df-4f522f2e-a57b-4e9d-91b6-a5b858caeecb')\"\n",
              "            title=\"Convert this dataframe to an interactive table.\"\n",
              "            style=\"display:none;\">\n",
              "\n",
              "  <svg xmlns=\"http://www.w3.org/2000/svg\" height=\"24px\" viewBox=\"0 -960 960 960\">\n",
              "    <path d=\"M120-120v-720h720v720H120Zm60-500h600v-160H180v160Zm220 220h160v-160H400v160Zm0 220h160v-160H400v160ZM180-400h160v-160H180v160Zm440 0h160v-160H620v160ZM180-180h160v-160H180v160Zm440 0h160v-160H620v160Z\"/>\n",
              "  </svg>\n",
              "    </button>\n",
              "\n",
              "  <style>\n",
              "    .colab-df-container {\n",
              "      display:flex;\n",
              "      gap: 12px;\n",
              "    }\n",
              "\n",
              "    .colab-df-convert {\n",
              "      background-color: #E8F0FE;\n",
              "      border: none;\n",
              "      border-radius: 50%;\n",
              "      cursor: pointer;\n",
              "      display: none;\n",
              "      fill: #1967D2;\n",
              "      height: 32px;\n",
              "      padding: 0 0 0 0;\n",
              "      width: 32px;\n",
              "    }\n",
              "\n",
              "    .colab-df-convert:hover {\n",
              "      background-color: #E2EBFA;\n",
              "      box-shadow: 0px 1px 2px rgba(60, 64, 67, 0.3), 0px 1px 3px 1px rgba(60, 64, 67, 0.15);\n",
              "      fill: #174EA6;\n",
              "    }\n",
              "\n",
              "    .colab-df-buttons div {\n",
              "      margin-bottom: 4px;\n",
              "    }\n",
              "\n",
              "    [theme=dark] .colab-df-convert {\n",
              "      background-color: #3B4455;\n",
              "      fill: #D2E3FC;\n",
              "    }\n",
              "\n",
              "    [theme=dark] .colab-df-convert:hover {\n",
              "      background-color: #434B5C;\n",
              "      box-shadow: 0px 1px 3px 1px rgba(0, 0, 0, 0.15);\n",
              "      filter: drop-shadow(0px 1px 2px rgba(0, 0, 0, 0.3));\n",
              "      fill: #FFFFFF;\n",
              "    }\n",
              "  </style>\n",
              "\n",
              "    <script>\n",
              "      const buttonEl =\n",
              "        document.querySelector('#df-4f522f2e-a57b-4e9d-91b6-a5b858caeecb button.colab-df-convert');\n",
              "      buttonEl.style.display =\n",
              "        google.colab.kernel.accessAllowed ? 'block' : 'none';\n",
              "\n",
              "      async function convertToInteractive(key) {\n",
              "        const element = document.querySelector('#df-4f522f2e-a57b-4e9d-91b6-a5b858caeecb');\n",
              "        const dataTable =\n",
              "          await google.colab.kernel.invokeFunction('convertToInteractive',\n",
              "                                                    [key], {});\n",
              "        if (!dataTable) return;\n",
              "\n",
              "        const docLinkHtml = 'Like what you see? Visit the ' +\n",
              "          '<a target=\"_blank\" href=https://colab.research.google.com/notebooks/data_table.ipynb>data table notebook</a>'\n",
              "          + ' to learn more about interactive tables.';\n",
              "        element.innerHTML = '';\n",
              "        dataTable['output_type'] = 'display_data';\n",
              "        await google.colab.output.renderOutput(dataTable, element);\n",
              "        const docLink = document.createElement('div');\n",
              "        docLink.innerHTML = docLinkHtml;\n",
              "        element.appendChild(docLink);\n",
              "      }\n",
              "    </script>\n",
              "  </div>\n",
              "\n",
              "    </div>\n",
              "  </div>\n"
            ]
          },
          "metadata": {},
          "execution_count": 15
        }
      ]
    },
    {
      "cell_type": "code",
      "source": [
        "#df_validation.iloc[0, :].tolist()"
      ],
      "metadata": {
        "id": "2yO8MoQMUEFT"
      },
      "execution_count": 105,
      "outputs": []
    },
    {
      "cell_type": "code",
      "source": [
        "df_validation.shape"
      ],
      "metadata": {
        "colab": {
          "base_uri": "https://localhost:8080/"
        },
        "outputId": "a9c4c79f-669c-427a-ffb9-5d9024f2f56b",
        "id": "0nAvEaaelsRW"
      },
      "execution_count": 16,
      "outputs": [
        {
          "output_type": "execute_result",
          "data": {
            "text/plain": [
              "(100000, 72)"
            ]
          },
          "metadata": {},
          "execution_count": 16
        }
      ]
    },
    {
      "cell_type": "markdown",
      "source": [
        "Загрузка датасета с ответами `validation_answer.csv`"
      ],
      "metadata": {
        "id": "kgr39CDOltzZ"
      }
    },
    {
      "cell_type": "code",
      "source": [
        "df_validation_answer = pd.read_csv(\"/content/validation_answer.csv\", index_col=0, dtype=dict_train)\n",
        "df_validation_answer.sample()"
      ],
      "metadata": {
        "colab": {
          "base_uri": "https://localhost:8080/",
          "height": 112
        },
        "outputId": "8eac705f-b34d-4e4f-d887-3cb510e222bb",
        "id": "qvJIoM0Jlt0F"
      },
      "execution_count": 17,
      "outputs": [
        {
          "output_type": "execute_result",
          "data": {
            "text/plain": [
              "                 Expected\n",
              "Id                       \n",
              "120861-query  100447-base"
            ],
            "text/html": [
              "\n",
              "  <div id=\"df-7235ece5-b8f5-4cc1-85a3-584864cbd69e\" class=\"colab-df-container\">\n",
              "    <div>\n",
              "<style scoped>\n",
              "    .dataframe tbody tr th:only-of-type {\n",
              "        vertical-align: middle;\n",
              "    }\n",
              "\n",
              "    .dataframe tbody tr th {\n",
              "        vertical-align: top;\n",
              "    }\n",
              "\n",
              "    .dataframe thead th {\n",
              "        text-align: right;\n",
              "    }\n",
              "</style>\n",
              "<table border=\"1\" class=\"dataframe\">\n",
              "  <thead>\n",
              "    <tr style=\"text-align: right;\">\n",
              "      <th></th>\n",
              "      <th>Expected</th>\n",
              "    </tr>\n",
              "    <tr>\n",
              "      <th>Id</th>\n",
              "      <th></th>\n",
              "    </tr>\n",
              "  </thead>\n",
              "  <tbody>\n",
              "    <tr>\n",
              "      <th>120861-query</th>\n",
              "      <td>100447-base</td>\n",
              "    </tr>\n",
              "  </tbody>\n",
              "</table>\n",
              "</div>\n",
              "    <div class=\"colab-df-buttons\">\n",
              "\n",
              "  <div class=\"colab-df-container\">\n",
              "    <button class=\"colab-df-convert\" onclick=\"convertToInteractive('df-7235ece5-b8f5-4cc1-85a3-584864cbd69e')\"\n",
              "            title=\"Convert this dataframe to an interactive table.\"\n",
              "            style=\"display:none;\">\n",
              "\n",
              "  <svg xmlns=\"http://www.w3.org/2000/svg\" height=\"24px\" viewBox=\"0 -960 960 960\">\n",
              "    <path d=\"M120-120v-720h720v720H120Zm60-500h600v-160H180v160Zm220 220h160v-160H400v160Zm0 220h160v-160H400v160ZM180-400h160v-160H180v160Zm440 0h160v-160H620v160ZM180-180h160v-160H180v160Zm440 0h160v-160H620v160Z\"/>\n",
              "  </svg>\n",
              "    </button>\n",
              "\n",
              "  <style>\n",
              "    .colab-df-container {\n",
              "      display:flex;\n",
              "      gap: 12px;\n",
              "    }\n",
              "\n",
              "    .colab-df-convert {\n",
              "      background-color: #E8F0FE;\n",
              "      border: none;\n",
              "      border-radius: 50%;\n",
              "      cursor: pointer;\n",
              "      display: none;\n",
              "      fill: #1967D2;\n",
              "      height: 32px;\n",
              "      padding: 0 0 0 0;\n",
              "      width: 32px;\n",
              "    }\n",
              "\n",
              "    .colab-df-convert:hover {\n",
              "      background-color: #E2EBFA;\n",
              "      box-shadow: 0px 1px 2px rgba(60, 64, 67, 0.3), 0px 1px 3px 1px rgba(60, 64, 67, 0.15);\n",
              "      fill: #174EA6;\n",
              "    }\n",
              "\n",
              "    .colab-df-buttons div {\n",
              "      margin-bottom: 4px;\n",
              "    }\n",
              "\n",
              "    [theme=dark] .colab-df-convert {\n",
              "      background-color: #3B4455;\n",
              "      fill: #D2E3FC;\n",
              "    }\n",
              "\n",
              "    [theme=dark] .colab-df-convert:hover {\n",
              "      background-color: #434B5C;\n",
              "      box-shadow: 0px 1px 3px 1px rgba(0, 0, 0, 0.15);\n",
              "      filter: drop-shadow(0px 1px 2px rgba(0, 0, 0, 0.3));\n",
              "      fill: #FFFFFF;\n",
              "    }\n",
              "  </style>\n",
              "\n",
              "    <script>\n",
              "      const buttonEl =\n",
              "        document.querySelector('#df-7235ece5-b8f5-4cc1-85a3-584864cbd69e button.colab-df-convert');\n",
              "      buttonEl.style.display =\n",
              "        google.colab.kernel.accessAllowed ? 'block' : 'none';\n",
              "\n",
              "      async function convertToInteractive(key) {\n",
              "        const element = document.querySelector('#df-7235ece5-b8f5-4cc1-85a3-584864cbd69e');\n",
              "        const dataTable =\n",
              "          await google.colab.kernel.invokeFunction('convertToInteractive',\n",
              "                                                    [key], {});\n",
              "        if (!dataTable) return;\n",
              "\n",
              "        const docLinkHtml = 'Like what you see? Visit the ' +\n",
              "          '<a target=\"_blank\" href=https://colab.research.google.com/notebooks/data_table.ipynb>data table notebook</a>'\n",
              "          + ' to learn more about interactive tables.';\n",
              "        element.innerHTML = '';\n",
              "        dataTable['output_type'] = 'display_data';\n",
              "        await google.colab.output.renderOutput(dataTable, element);\n",
              "        const docLink = document.createElement('div');\n",
              "        docLink.innerHTML = docLinkHtml;\n",
              "        element.appendChild(docLink);\n",
              "      }\n",
              "    </script>\n",
              "  </div>\n",
              "\n",
              "    </div>\n",
              "  </div>\n"
            ]
          },
          "metadata": {},
          "execution_count": 17
        }
      ]
    },
    {
      "cell_type": "code",
      "source": [
        "df_validation_answer.shape"
      ],
      "metadata": {
        "colab": {
          "base_uri": "https://localhost:8080/"
        },
        "outputId": "23333d54-6f21-490d-98dd-a21d421d667b",
        "id": "vO6-Fn0slt0F"
      },
      "execution_count": 18,
      "outputs": [
        {
          "output_type": "execute_result",
          "data": {
            "text/plain": [
              "(100000, 1)"
            ]
          },
          "metadata": {},
          "execution_count": 18
        }
      ]
    },
    {
      "cell_type": "code",
      "source": [
        "df_validation_answer_all = df_validation.join(df_validation_answer)"
      ],
      "metadata": {
        "id": "yvjkLvM-mqe0"
      },
      "execution_count": 19,
      "outputs": []
    },
    {
      "cell_type": "code",
      "source": [
        "df_validation_answer_all.sample()"
      ],
      "metadata": {
        "colab": {
          "base_uri": "https://localhost:8080/",
          "height": 179
        },
        "id": "tZLpI9sEm1sa",
        "outputId": "e39e0879-3e94-4cc2-e859-95cb59b9afb4"
      },
      "execution_count": 20,
      "outputs": [
        {
          "output_type": "execute_result",
          "data": {
            "text/plain": [
              "                      0          1          2           3           4  \\\n",
              "Id                                                                      \n",
              "180940-query -79.009872  15.107468 -68.366463 -125.990524  101.606873   \n",
              "\n",
              "                      5           6          7          8           9  ...  \\\n",
              "Id                                                                     ...   \n",
              "180940-query -35.695995  107.283272  86.823219  128.66214  138.655457  ...   \n",
              "\n",
              "                     63          64         65       66         67  \\\n",
              "Id                                                                   \n",
              "180940-query  10.498564 -142.712677 -63.714378  65.9142 -32.778316   \n",
              "\n",
              "                      68         69          70        71    Expected  \n",
              "Id                                                                     \n",
              "180940-query  109.305725  88.790482 -969.088623 -8.430462  75779-base  \n",
              "\n",
              "[1 rows x 73 columns]"
            ],
            "text/html": [
              "\n",
              "  <div id=\"df-956efbad-333d-478d-9c0f-25fcb100d71f\" class=\"colab-df-container\">\n",
              "    <div>\n",
              "<style scoped>\n",
              "    .dataframe tbody tr th:only-of-type {\n",
              "        vertical-align: middle;\n",
              "    }\n",
              "\n",
              "    .dataframe tbody tr th {\n",
              "        vertical-align: top;\n",
              "    }\n",
              "\n",
              "    .dataframe thead th {\n",
              "        text-align: right;\n",
              "    }\n",
              "</style>\n",
              "<table border=\"1\" class=\"dataframe\">\n",
              "  <thead>\n",
              "    <tr style=\"text-align: right;\">\n",
              "      <th></th>\n",
              "      <th>0</th>\n",
              "      <th>1</th>\n",
              "      <th>2</th>\n",
              "      <th>3</th>\n",
              "      <th>4</th>\n",
              "      <th>5</th>\n",
              "      <th>6</th>\n",
              "      <th>7</th>\n",
              "      <th>8</th>\n",
              "      <th>9</th>\n",
              "      <th>...</th>\n",
              "      <th>63</th>\n",
              "      <th>64</th>\n",
              "      <th>65</th>\n",
              "      <th>66</th>\n",
              "      <th>67</th>\n",
              "      <th>68</th>\n",
              "      <th>69</th>\n",
              "      <th>70</th>\n",
              "      <th>71</th>\n",
              "      <th>Expected</th>\n",
              "    </tr>\n",
              "    <tr>\n",
              "      <th>Id</th>\n",
              "      <th></th>\n",
              "      <th></th>\n",
              "      <th></th>\n",
              "      <th></th>\n",
              "      <th></th>\n",
              "      <th></th>\n",
              "      <th></th>\n",
              "      <th></th>\n",
              "      <th></th>\n",
              "      <th></th>\n",
              "      <th></th>\n",
              "      <th></th>\n",
              "      <th></th>\n",
              "      <th></th>\n",
              "      <th></th>\n",
              "      <th></th>\n",
              "      <th></th>\n",
              "      <th></th>\n",
              "      <th></th>\n",
              "      <th></th>\n",
              "      <th></th>\n",
              "    </tr>\n",
              "  </thead>\n",
              "  <tbody>\n",
              "    <tr>\n",
              "      <th>180940-query</th>\n",
              "      <td>-79.009872</td>\n",
              "      <td>15.107468</td>\n",
              "      <td>-68.366463</td>\n",
              "      <td>-125.990524</td>\n",
              "      <td>101.606873</td>\n",
              "      <td>-35.695995</td>\n",
              "      <td>107.283272</td>\n",
              "      <td>86.823219</td>\n",
              "      <td>128.66214</td>\n",
              "      <td>138.655457</td>\n",
              "      <td>...</td>\n",
              "      <td>10.498564</td>\n",
              "      <td>-142.712677</td>\n",
              "      <td>-63.714378</td>\n",
              "      <td>65.9142</td>\n",
              "      <td>-32.778316</td>\n",
              "      <td>109.305725</td>\n",
              "      <td>88.790482</td>\n",
              "      <td>-969.088623</td>\n",
              "      <td>-8.430462</td>\n",
              "      <td>75779-base</td>\n",
              "    </tr>\n",
              "  </tbody>\n",
              "</table>\n",
              "<p>1 rows × 73 columns</p>\n",
              "</div>\n",
              "    <div class=\"colab-df-buttons\">\n",
              "\n",
              "  <div class=\"colab-df-container\">\n",
              "    <button class=\"colab-df-convert\" onclick=\"convertToInteractive('df-956efbad-333d-478d-9c0f-25fcb100d71f')\"\n",
              "            title=\"Convert this dataframe to an interactive table.\"\n",
              "            style=\"display:none;\">\n",
              "\n",
              "  <svg xmlns=\"http://www.w3.org/2000/svg\" height=\"24px\" viewBox=\"0 -960 960 960\">\n",
              "    <path d=\"M120-120v-720h720v720H120Zm60-500h600v-160H180v160Zm220 220h160v-160H400v160Zm0 220h160v-160H400v160ZM180-400h160v-160H180v160Zm440 0h160v-160H620v160ZM180-180h160v-160H180v160Zm440 0h160v-160H620v160Z\"/>\n",
              "  </svg>\n",
              "    </button>\n",
              "\n",
              "  <style>\n",
              "    .colab-df-container {\n",
              "      display:flex;\n",
              "      gap: 12px;\n",
              "    }\n",
              "\n",
              "    .colab-df-convert {\n",
              "      background-color: #E8F0FE;\n",
              "      border: none;\n",
              "      border-radius: 50%;\n",
              "      cursor: pointer;\n",
              "      display: none;\n",
              "      fill: #1967D2;\n",
              "      height: 32px;\n",
              "      padding: 0 0 0 0;\n",
              "      width: 32px;\n",
              "    }\n",
              "\n",
              "    .colab-df-convert:hover {\n",
              "      background-color: #E2EBFA;\n",
              "      box-shadow: 0px 1px 2px rgba(60, 64, 67, 0.3), 0px 1px 3px 1px rgba(60, 64, 67, 0.15);\n",
              "      fill: #174EA6;\n",
              "    }\n",
              "\n",
              "    .colab-df-buttons div {\n",
              "      margin-bottom: 4px;\n",
              "    }\n",
              "\n",
              "    [theme=dark] .colab-df-convert {\n",
              "      background-color: #3B4455;\n",
              "      fill: #D2E3FC;\n",
              "    }\n",
              "\n",
              "    [theme=dark] .colab-df-convert:hover {\n",
              "      background-color: #434B5C;\n",
              "      box-shadow: 0px 1px 3px 1px rgba(0, 0, 0, 0.15);\n",
              "      filter: drop-shadow(0px 1px 2px rgba(0, 0, 0, 0.3));\n",
              "      fill: #FFFFFF;\n",
              "    }\n",
              "  </style>\n",
              "\n",
              "    <script>\n",
              "      const buttonEl =\n",
              "        document.querySelector('#df-956efbad-333d-478d-9c0f-25fcb100d71f button.colab-df-convert');\n",
              "      buttonEl.style.display =\n",
              "        google.colab.kernel.accessAllowed ? 'block' : 'none';\n",
              "\n",
              "      async function convertToInteractive(key) {\n",
              "        const element = document.querySelector('#df-956efbad-333d-478d-9c0f-25fcb100d71f');\n",
              "        const dataTable =\n",
              "          await google.colab.kernel.invokeFunction('convertToInteractive',\n",
              "                                                    [key], {});\n",
              "        if (!dataTable) return;\n",
              "\n",
              "        const docLinkHtml = 'Like what you see? Visit the ' +\n",
              "          '<a target=\"_blank\" href=https://colab.research.google.com/notebooks/data_table.ipynb>data table notebook</a>'\n",
              "          + ' to learn more about interactive tables.';\n",
              "        element.innerHTML = '';\n",
              "        dataTable['output_type'] = 'display_data';\n",
              "        await google.colab.output.renderOutput(dataTable, element);\n",
              "        const docLink = document.createElement('div');\n",
              "        docLink.innerHTML = docLinkHtml;\n",
              "        element.appendChild(docLink);\n",
              "      }\n",
              "    </script>\n",
              "  </div>\n",
              "\n",
              "    </div>\n",
              "  </div>\n"
            ]
          },
          "metadata": {},
          "execution_count": 20
        }
      ]
    },
    {
      "cell_type": "markdown",
      "source": [
        "### Сборка результатов"
      ],
      "metadata": {
        "id": "-ZsajroJvhx2"
      }
    },
    {
      "cell_type": "markdown",
      "source": [
        "Напишем функцию для подсчета метрики и сохранения промежуточных результатов."
      ],
      "metadata": {
        "id": "rContEizbW0o"
      }
    },
    {
      "cell_type": "code",
      "source": [
        "overall_scores = {'Кластеры': [],\n",
        "                  'Поиск в соседних': [],\n",
        "                  'Опции': [],\n",
        "                  'accuracy@5': []}\n",
        "\n",
        "def accuracy_aggregator(targets, idx, base_index, \\\n",
        "                        n_cells, nprobe, comment=''):\n",
        "  overall_scores['Кластеры'].append(n_cells)\n",
        "  overall_scores['Поиск в соседних'].append(nprobe)\n",
        "  overall_scores['Опции'].append(comment)\n",
        "  acc = 0\n",
        "  for target, el in zip(targets.values.tolist(), idx.tolist()):\n",
        "    acc += int(target in [base_index[r] for r in el])\n",
        "  result = 100 * acc / len(idx)\n",
        "  overall_scores['accuracy@5'].append(result)\n",
        "  print(f'Кластеры: {n_cells}, nprobe: {nprobe}, accuracy@5: {result} %')"
      ],
      "metadata": {
        "id": "vw1UNPnovulJ"
      },
      "execution_count": 21,
      "outputs": []
    },
    {
      "cell_type": "markdown",
      "source": [
        "## Реализация приближенного поиска"
      ],
      "metadata": {
        "id": "76HLnTP72H8E"
      }
    },
    {
      "cell_type": "markdown",
      "source": [
        "### Baseline поиск"
      ],
      "metadata": {
        "id": "_n-dAGOEFb2R"
      }
    },
    {
      "cell_type": "markdown",
      "source": [
        "Создаём индекс."
      ],
      "metadata": {
        "id": "RHcw7mLUpzLt"
      }
    },
    {
      "cell_type": "code",
      "source": [
        "dims = df_base.shape[1]\n",
        "n_cells = 100 # количество центроидов\n",
        "quantizer = faiss.IndexFlatL2(dims)\n",
        "idx_l2 = faiss.IndexIVFFlat(quantizer, dims, n_cells)"
      ],
      "metadata": {
        "id": "Vwuf_-CgFc2d"
      },
      "execution_count": 22,
      "outputs": []
    },
    {
      "cell_type": "markdown",
      "source": [
        "Размечаем индекс, добавляем в него вектора."
      ],
      "metadata": {
        "id": "xKqwz0tMcCli"
      }
    },
    {
      "cell_type": "code",
      "source": [
        "idx_l2.train(np.ascontiguousarray(df_base.values).astype('float32'))\n",
        "idx_l2.add(np.ascontiguousarray(df_base.values).astype('float32'))"
      ],
      "metadata": {
        "id": "wjryIbraFf4S"
      },
      "execution_count": 23,
      "outputs": []
    },
    {
      "cell_type": "code",
      "source": [
        "base_index = {k: v for k, v in enumerate(df_base.index.to_list())}"
      ],
      "metadata": {
        "id": "y1Fyt3kZFhqv"
      },
      "execution_count": 24,
      "outputs": []
    },
    {
      "cell_type": "code",
      "source": [
        "targets = df_train[\"Target\"]\n",
        "df_train.drop(\"Target\", axis=1, inplace=True)"
      ],
      "metadata": {
        "id": "kS_JwzeqFlh7"
      },
      "execution_count": 25,
      "outputs": []
    },
    {
      "cell_type": "markdown",
      "source": [
        "Осуществляем поиск 5 ближайших соседей и считаем метрику."
      ],
      "metadata": {
        "id": "HanSeNuccrSF"
      }
    },
    {
      "cell_type": "code",
      "source": [
        "vecs, idx = idx_l2.search(np.ascontiguousarray(df_train.values).astype('float32'), 5)\n",
        "accuracy_aggregator(targets, idx, base_index, n_cells, 1, 'baseline')"
      ],
      "metadata": {
        "colab": {
          "base_uri": "https://localhost:8080/"
        },
        "id": "gD0Ea3UGFnNW",
        "outputId": "afbf56c8-9420-4967-d2a3-f848b288534d"
      },
      "execution_count": 26,
      "outputs": [
        {
          "output_type": "stream",
          "name": "stdout",
          "text": [
            "Кластеры: 100, nprobe: 1, accuracy@5: 7.631 %\n"
          ]
        }
      ]
    },
    {
      "cell_type": "markdown",
      "source": [
        "### Поиск с различными параметрами"
      ],
      "metadata": {
        "id": "MqKYvQQ3h0vM"
      }
    },
    {
      "cell_type": "markdown",
      "source": [
        "Посчитаем метрику для различного количества кластеров в индексе и для различного количества кластеров, в которых будет осуществляться поиск. Надо учитывать, что заведомо максимальная метрика может быть получена только за заведомо максимальное время."
      ],
      "metadata": {
        "id": "IU9oE5NWa4y8"
      }
    },
    {
      "cell_type": "code",
      "source": [
        "dims = df_base.shape[1] #кол-во признаков\n",
        "base_index = {k: v for k, v in enumerate(df_base.index.to_list())}\n",
        "k = 5 #кол-во ближайших соседей\n",
        "\n",
        "n_cells_list = [1000, 500, 200] #кол-во ячеек в индексе\n",
        "nprobe_list = [1, 2, 10] #кол-во кластеров для поиска"
      ],
      "metadata": {
        "id": "yF-kUhYzqwLc"
      },
      "execution_count": 27,
      "outputs": []
    },
    {
      "cell_type": "code",
      "source": [
        "# неоптимальный перебор параметров по циклу\n",
        "# нехватает учета времени для каждой итерации\n",
        "for n_cells in n_cells_list:\n",
        "  for nprobe in nprobe_list:\n",
        "    quantizer = faiss.IndexFlatL2(dims)\n",
        "    idx_l2 = faiss.IndexIVFFlat(quantizer, dims, n_cells)\n",
        "    idx_l2.train(np.ascontiguousarray(df_base.values).astype('float32'))\n",
        "    idx_l2.add(np.ascontiguousarray(df_base.values).astype('float32'))\n",
        "    idx_l2.nprobe = nprobe\n",
        "    r, idx = idx_l2.search(np.ascontiguousarray(df_train.values).astype('float32'), k)\n",
        "    accuracy_aggregator(targets, idx, base_index, n_cells, nprobe, 'search')"
      ],
      "metadata": {
        "id": "mvPwprU6rSxm",
        "colab": {
          "base_uri": "https://localhost:8080/"
        },
        "outputId": "ab9c35cd-834b-4f35-c1bf-edee7739da98"
      },
      "execution_count": 28,
      "outputs": [
        {
          "output_type": "stream",
          "name": "stdout",
          "text": [
            "Кластеры: 1000, nprobe: 1, accuracy@5: 4.369 %\n",
            "Кластеры: 1000, nprobe: 2, accuracy@5: 6.196 %\n",
            "Кластеры: 1000, nprobe: 10, accuracy@5: 11.19 %\n",
            "Кластеры: 500, nprobe: 1, accuracy@5: 5.194 %\n",
            "Кластеры: 500, nprobe: 2, accuracy@5: 7.368 %\n",
            "Кластеры: 500, nprobe: 10, accuracy@5: 12.288 %\n",
            "Кластеры: 200, nprobe: 1, accuracy@5: 6.552 %\n",
            "Кластеры: 200, nprobe: 2, accuracy@5: 8.98 %\n",
            "Кластеры: 200, nprobe: 10, accuracy@5: 13.26 %\n"
          ]
        }
      ]
    },
    {
      "cell_type": "markdown",
      "source": [
        "Были и другие эксперименты. Не все из них закончились. Вообще."
      ],
      "metadata": {
        "id": "aEchxCVclwZu"
      }
    },
    {
      "cell_type": "markdown",
      "source": [
        "### Промежуточные результаты"
      ],
      "metadata": {
        "id": "dxE1DqDZ7aw5"
      }
    },
    {
      "cell_type": "code",
      "source": [
        "my_metrics = pd.DataFrame(overall_scores)\n",
        "my_metrics"
      ],
      "metadata": {
        "id": "gUqpw4fGx20F",
        "colab": {
          "base_uri": "https://localhost:8080/",
          "height": 363
        },
        "outputId": "d23eaa71-6419-401b-ed39-0567367b0a9b"
      },
      "execution_count": 29,
      "outputs": [
        {
          "output_type": "execute_result",
          "data": {
            "text/plain": [
              "   Кластеры  Поиск в соседних     Опции  accuracy@5\n",
              "0       100                 1  baseline       7.631\n",
              "1      1000                 1    search       4.369\n",
              "2      1000                 2    search       6.196\n",
              "3      1000                10    search      11.190\n",
              "4       500                 1    search       5.194\n",
              "5       500                 2    search       7.368\n",
              "6       500                10    search      12.288\n",
              "7       200                 1    search       6.552\n",
              "8       200                 2    search       8.980\n",
              "9       200                10    search      13.260"
            ],
            "text/html": [
              "\n",
              "  <div id=\"df-3fdd0ef6-cb27-44f9-96a0-4911b1322aeb\" class=\"colab-df-container\">\n",
              "    <div>\n",
              "<style scoped>\n",
              "    .dataframe tbody tr th:only-of-type {\n",
              "        vertical-align: middle;\n",
              "    }\n",
              "\n",
              "    .dataframe tbody tr th {\n",
              "        vertical-align: top;\n",
              "    }\n",
              "\n",
              "    .dataframe thead th {\n",
              "        text-align: right;\n",
              "    }\n",
              "</style>\n",
              "<table border=\"1\" class=\"dataframe\">\n",
              "  <thead>\n",
              "    <tr style=\"text-align: right;\">\n",
              "      <th></th>\n",
              "      <th>Кластеры</th>\n",
              "      <th>Поиск в соседних</th>\n",
              "      <th>Опции</th>\n",
              "      <th>accuracy@5</th>\n",
              "    </tr>\n",
              "  </thead>\n",
              "  <tbody>\n",
              "    <tr>\n",
              "      <th>0</th>\n",
              "      <td>100</td>\n",
              "      <td>1</td>\n",
              "      <td>baseline</td>\n",
              "      <td>7.631</td>\n",
              "    </tr>\n",
              "    <tr>\n",
              "      <th>1</th>\n",
              "      <td>1000</td>\n",
              "      <td>1</td>\n",
              "      <td>search</td>\n",
              "      <td>4.369</td>\n",
              "    </tr>\n",
              "    <tr>\n",
              "      <th>2</th>\n",
              "      <td>1000</td>\n",
              "      <td>2</td>\n",
              "      <td>search</td>\n",
              "      <td>6.196</td>\n",
              "    </tr>\n",
              "    <tr>\n",
              "      <th>3</th>\n",
              "      <td>1000</td>\n",
              "      <td>10</td>\n",
              "      <td>search</td>\n",
              "      <td>11.190</td>\n",
              "    </tr>\n",
              "    <tr>\n",
              "      <th>4</th>\n",
              "      <td>500</td>\n",
              "      <td>1</td>\n",
              "      <td>search</td>\n",
              "      <td>5.194</td>\n",
              "    </tr>\n",
              "    <tr>\n",
              "      <th>5</th>\n",
              "      <td>500</td>\n",
              "      <td>2</td>\n",
              "      <td>search</td>\n",
              "      <td>7.368</td>\n",
              "    </tr>\n",
              "    <tr>\n",
              "      <th>6</th>\n",
              "      <td>500</td>\n",
              "      <td>10</td>\n",
              "      <td>search</td>\n",
              "      <td>12.288</td>\n",
              "    </tr>\n",
              "    <tr>\n",
              "      <th>7</th>\n",
              "      <td>200</td>\n",
              "      <td>1</td>\n",
              "      <td>search</td>\n",
              "      <td>6.552</td>\n",
              "    </tr>\n",
              "    <tr>\n",
              "      <th>8</th>\n",
              "      <td>200</td>\n",
              "      <td>2</td>\n",
              "      <td>search</td>\n",
              "      <td>8.980</td>\n",
              "    </tr>\n",
              "    <tr>\n",
              "      <th>9</th>\n",
              "      <td>200</td>\n",
              "      <td>10</td>\n",
              "      <td>search</td>\n",
              "      <td>13.260</td>\n",
              "    </tr>\n",
              "  </tbody>\n",
              "</table>\n",
              "</div>\n",
              "    <div class=\"colab-df-buttons\">\n",
              "\n",
              "  <div class=\"colab-df-container\">\n",
              "    <button class=\"colab-df-convert\" onclick=\"convertToInteractive('df-3fdd0ef6-cb27-44f9-96a0-4911b1322aeb')\"\n",
              "            title=\"Convert this dataframe to an interactive table.\"\n",
              "            style=\"display:none;\">\n",
              "\n",
              "  <svg xmlns=\"http://www.w3.org/2000/svg\" height=\"24px\" viewBox=\"0 -960 960 960\">\n",
              "    <path d=\"M120-120v-720h720v720H120Zm60-500h600v-160H180v160Zm220 220h160v-160H400v160Zm0 220h160v-160H400v160ZM180-400h160v-160H180v160Zm440 0h160v-160H620v160ZM180-180h160v-160H180v160Zm440 0h160v-160H620v160Z\"/>\n",
              "  </svg>\n",
              "    </button>\n",
              "\n",
              "  <style>\n",
              "    .colab-df-container {\n",
              "      display:flex;\n",
              "      gap: 12px;\n",
              "    }\n",
              "\n",
              "    .colab-df-convert {\n",
              "      background-color: #E8F0FE;\n",
              "      border: none;\n",
              "      border-radius: 50%;\n",
              "      cursor: pointer;\n",
              "      display: none;\n",
              "      fill: #1967D2;\n",
              "      height: 32px;\n",
              "      padding: 0 0 0 0;\n",
              "      width: 32px;\n",
              "    }\n",
              "\n",
              "    .colab-df-convert:hover {\n",
              "      background-color: #E2EBFA;\n",
              "      box-shadow: 0px 1px 2px rgba(60, 64, 67, 0.3), 0px 1px 3px 1px rgba(60, 64, 67, 0.15);\n",
              "      fill: #174EA6;\n",
              "    }\n",
              "\n",
              "    .colab-df-buttons div {\n",
              "      margin-bottom: 4px;\n",
              "    }\n",
              "\n",
              "    [theme=dark] .colab-df-convert {\n",
              "      background-color: #3B4455;\n",
              "      fill: #D2E3FC;\n",
              "    }\n",
              "\n",
              "    [theme=dark] .colab-df-convert:hover {\n",
              "      background-color: #434B5C;\n",
              "      box-shadow: 0px 1px 3px 1px rgba(0, 0, 0, 0.15);\n",
              "      filter: drop-shadow(0px 1px 2px rgba(0, 0, 0, 0.3));\n",
              "      fill: #FFFFFF;\n",
              "    }\n",
              "  </style>\n",
              "\n",
              "    <script>\n",
              "      const buttonEl =\n",
              "        document.querySelector('#df-3fdd0ef6-cb27-44f9-96a0-4911b1322aeb button.colab-df-convert');\n",
              "      buttonEl.style.display =\n",
              "        google.colab.kernel.accessAllowed ? 'block' : 'none';\n",
              "\n",
              "      async function convertToInteractive(key) {\n",
              "        const element = document.querySelector('#df-3fdd0ef6-cb27-44f9-96a0-4911b1322aeb');\n",
              "        const dataTable =\n",
              "          await google.colab.kernel.invokeFunction('convertToInteractive',\n",
              "                                                    [key], {});\n",
              "        if (!dataTable) return;\n",
              "\n",
              "        const docLinkHtml = 'Like what you see? Visit the ' +\n",
              "          '<a target=\"_blank\" href=https://colab.research.google.com/notebooks/data_table.ipynb>data table notebook</a>'\n",
              "          + ' to learn more about interactive tables.';\n",
              "        element.innerHTML = '';\n",
              "        dataTable['output_type'] = 'display_data';\n",
              "        await google.colab.output.renderOutput(dataTable, element);\n",
              "        const docLink = document.createElement('div');\n",
              "        docLink.innerHTML = docLinkHtml;\n",
              "        element.appendChild(docLink);\n",
              "      }\n",
              "    </script>\n",
              "  </div>\n",
              "\n",
              "\n",
              "<div id=\"df-abc787b8-a59d-458c-a60b-94eafafd13bb\">\n",
              "  <button class=\"colab-df-quickchart\" onclick=\"quickchart('df-abc787b8-a59d-458c-a60b-94eafafd13bb')\"\n",
              "            title=\"Suggest charts.\"\n",
              "            style=\"display:none;\">\n",
              "\n",
              "<svg xmlns=\"http://www.w3.org/2000/svg\" height=\"24px\"viewBox=\"0 0 24 24\"\n",
              "     width=\"24px\">\n",
              "    <g>\n",
              "        <path d=\"M19 3H5c-1.1 0-2 .9-2 2v14c0 1.1.9 2 2 2h14c1.1 0 2-.9 2-2V5c0-1.1-.9-2-2-2zM9 17H7v-7h2v7zm4 0h-2V7h2v10zm4 0h-2v-4h2v4z\"/>\n",
              "    </g>\n",
              "</svg>\n",
              "  </button>\n",
              "\n",
              "<style>\n",
              "  .colab-df-quickchart {\n",
              "      --bg-color: #E8F0FE;\n",
              "      --fill-color: #1967D2;\n",
              "      --hover-bg-color: #E2EBFA;\n",
              "      --hover-fill-color: #174EA6;\n",
              "      --disabled-fill-color: #AAA;\n",
              "      --disabled-bg-color: #DDD;\n",
              "  }\n",
              "\n",
              "  [theme=dark] .colab-df-quickchart {\n",
              "      --bg-color: #3B4455;\n",
              "      --fill-color: #D2E3FC;\n",
              "      --hover-bg-color: #434B5C;\n",
              "      --hover-fill-color: #FFFFFF;\n",
              "      --disabled-bg-color: #3B4455;\n",
              "      --disabled-fill-color: #666;\n",
              "  }\n",
              "\n",
              "  .colab-df-quickchart {\n",
              "    background-color: var(--bg-color);\n",
              "    border: none;\n",
              "    border-radius: 50%;\n",
              "    cursor: pointer;\n",
              "    display: none;\n",
              "    fill: var(--fill-color);\n",
              "    height: 32px;\n",
              "    padding: 0;\n",
              "    width: 32px;\n",
              "  }\n",
              "\n",
              "  .colab-df-quickchart:hover {\n",
              "    background-color: var(--hover-bg-color);\n",
              "    box-shadow: 0 1px 2px rgba(60, 64, 67, 0.3), 0 1px 3px 1px rgba(60, 64, 67, 0.15);\n",
              "    fill: var(--button-hover-fill-color);\n",
              "  }\n",
              "\n",
              "  .colab-df-quickchart-complete:disabled,\n",
              "  .colab-df-quickchart-complete:disabled:hover {\n",
              "    background-color: var(--disabled-bg-color);\n",
              "    fill: var(--disabled-fill-color);\n",
              "    box-shadow: none;\n",
              "  }\n",
              "\n",
              "  .colab-df-spinner {\n",
              "    border: 2px solid var(--fill-color);\n",
              "    border-color: transparent;\n",
              "    border-bottom-color: var(--fill-color);\n",
              "    animation:\n",
              "      spin 1s steps(1) infinite;\n",
              "  }\n",
              "\n",
              "  @keyframes spin {\n",
              "    0% {\n",
              "      border-color: transparent;\n",
              "      border-bottom-color: var(--fill-color);\n",
              "      border-left-color: var(--fill-color);\n",
              "    }\n",
              "    20% {\n",
              "      border-color: transparent;\n",
              "      border-left-color: var(--fill-color);\n",
              "      border-top-color: var(--fill-color);\n",
              "    }\n",
              "    30% {\n",
              "      border-color: transparent;\n",
              "      border-left-color: var(--fill-color);\n",
              "      border-top-color: var(--fill-color);\n",
              "      border-right-color: var(--fill-color);\n",
              "    }\n",
              "    40% {\n",
              "      border-color: transparent;\n",
              "      border-right-color: var(--fill-color);\n",
              "      border-top-color: var(--fill-color);\n",
              "    }\n",
              "    60% {\n",
              "      border-color: transparent;\n",
              "      border-right-color: var(--fill-color);\n",
              "    }\n",
              "    80% {\n",
              "      border-color: transparent;\n",
              "      border-right-color: var(--fill-color);\n",
              "      border-bottom-color: var(--fill-color);\n",
              "    }\n",
              "    90% {\n",
              "      border-color: transparent;\n",
              "      border-bottom-color: var(--fill-color);\n",
              "    }\n",
              "  }\n",
              "</style>\n",
              "\n",
              "  <script>\n",
              "    async function quickchart(key) {\n",
              "      const quickchartButtonEl =\n",
              "        document.querySelector('#' + key + ' button');\n",
              "      quickchartButtonEl.disabled = true;  // To prevent multiple clicks.\n",
              "      quickchartButtonEl.classList.add('colab-df-spinner');\n",
              "      try {\n",
              "        const charts = await google.colab.kernel.invokeFunction(\n",
              "            'suggestCharts', [key], {});\n",
              "      } catch (error) {\n",
              "        console.error('Error during call to suggestCharts:', error);\n",
              "      }\n",
              "      quickchartButtonEl.classList.remove('colab-df-spinner');\n",
              "      quickchartButtonEl.classList.add('colab-df-quickchart-complete');\n",
              "    }\n",
              "    (() => {\n",
              "      let quickchartButtonEl =\n",
              "        document.querySelector('#df-abc787b8-a59d-458c-a60b-94eafafd13bb button');\n",
              "      quickchartButtonEl.style.display =\n",
              "        google.colab.kernel.accessAllowed ? 'block' : 'none';\n",
              "    })();\n",
              "  </script>\n",
              "</div>\n",
              "    </div>\n",
              "  </div>\n"
            ]
          },
          "metadata": {},
          "execution_count": 29
        }
      ]
    },
    {
      "cell_type": "markdown",
      "source": [
        "Чем больше кластеров в индексе и быстрее поиск, тем хуже качество поиска. Чем больше соседних кластеров привлекается для поиска, тем качество поиска лучше."
      ],
      "metadata": {
        "id": "dOii2_BzlsTB"
      }
    },
    {
      "cell_type": "markdown",
      "source": [
        "## Оптимизация"
      ],
      "metadata": {
        "id": "qd3WBxi12lTF"
      }
    },
    {
      "cell_type": "markdown",
      "source": [
        "### EDA"
      ],
      "metadata": {
        "id": "nn27L6WSGION"
      }
    },
    {
      "cell_type": "markdown",
      "source": [
        "Посмотрим на распределения признаков в базе `df_base`."
      ],
      "metadata": {
        "id": "dQPsWdesen5O"
      }
    },
    {
      "cell_type": "code",
      "source": [
        "df_samples = df_base.sample(10000)"
      ],
      "metadata": {
        "id": "xDP_t1iKYVuD"
      },
      "execution_count": 30,
      "outputs": []
    },
    {
      "cell_type": "code",
      "source": [
        "df_samples.hist(figsize=[40, 20], bins=50);"
      ],
      "metadata": {
        "colab": {
          "base_uri": "https://localhost:8080/",
          "height": 613
        },
        "id": "jtplwHsrYXeZ",
        "outputId": "966853d6-a954-4626-c0ac-4383999ae967"
      },
      "execution_count": 31,
      "outputs": [
        {
          "output_type": "display_data",
          "data": {
            "text/plain": [
              "<Figure size 4000x2000 with 72 Axes>"
            ],
            "image/png": "[encoded data removed]"
          },
          "metadata": {}
        }
      ]
    },
    {
      "cell_type": "code",
      "source": [
        "df_samples = df_train[:5000]"
      ],
      "metadata": {
        "id": "SL6KHHEbFpko"
      },
      "execution_count": 32,
      "outputs": []
    },
    {
      "cell_type": "code",
      "source": [
        "df_samples.hist(figsize=[40, 20], bins=50);"
      ],
      "metadata": {
        "colab": {
          "base_uri": "https://localhost:8080/",
          "height": 614
        },
        "id": "TCnYGs0_GMjb",
        "outputId": "8ff11c21-a1c0-4443-af83-8fedd4828d19"
      },
      "execution_count": 33,
      "outputs": [
        {
          "output_type": "display_data",
          "data": {
            "text/plain": [
              "<Figure size 4000x2000 with 72 Axes>"
            ],
            "image/png": "[encoded data removed]"
          },
          "metadata": {}
        }
      ]
    },
    {
      "cell_type": "markdown",
      "source": [
        "В `df_train` распределения выглядят аналогичным образом. Отметим, что в столбцах '6', '21', '25', '33', '44', '65', '70' распределения признаков значительно отличаются от нормальных."
      ],
      "metadata": {
        "id": "sFqMvvxHGPbq"
      }
    },
    {
      "cell_type": "markdown",
      "source": [
        "### Оптимизация данных"
      ],
      "metadata": {
        "id": "IZfSHQnRGTbR"
      }
    },
    {
      "cell_type": "markdown",
      "source": [
        "Проведём несколько экспериментов, чтобы понять, как отразятся на метрике удаление отдельных признаков, а также различные варианты масштабирования признаков."
      ],
      "metadata": {
        "id": "nAsvC4OjA2gp"
      }
    },
    {
      "cell_type": "code",
      "source": [
        "scaler_MM = MinMaxScaler()\n",
        "df_base_MM = scaler_MM.fit_transform(df_base)\n",
        "df_train_MM = scaler_MM.transform(df_train)"
      ],
      "metadata": {
        "id": "8KB7GOw9hHXl"
      },
      "execution_count": 34,
      "outputs": []
    },
    {
      "cell_type": "code",
      "source": [
        "%%time\n",
        "dims = df_base_MM.shape[1] #кол-во признаков\n",
        "k = 5 #кол-во ближайших соседей\n",
        "n_cells = 1000 #кол-во ячеек в индексе\n",
        "nprobe = 10 #кол-во кластеров для поиска\n",
        "\n",
        "quantizer = faiss.IndexFlatL2(dims)\n",
        "idx_l2 = faiss.IndexIVFFlat(quantizer, dims, n_cells)\n",
        "idx_l2.train(np.ascontiguousarray(df_base_MM).astype('float32'))\n",
        "idx_l2.add(np.ascontiguousarray(df_base_MM).astype('float32'))\n",
        "idx_l2.nprobe = nprobe\n",
        "r, idx = idx_l2.search(np.ascontiguousarray(df_train_MM).astype('float32'), k)\n",
        "accuracy_aggregator(targets, idx, base_index, n_cells, nprobe, 'MinMaxScaler')"
      ],
      "metadata": {
        "colab": {
          "base_uri": "https://localhost:8080/"
        },
        "id": "2vYwyWOvhebx",
        "outputId": "9c37f5d3-0db9-49a9-bd5f-c87b6ae2e0be"
      },
      "execution_count": 35,
      "outputs": [
        {
          "output_type": "stream",
          "name": "stdout",
          "text": [
            "Кластеры: 1000, nprobe: 10, accuracy@5: 20.33 %\n",
            "CPU times: user 3min 47s, sys: 3.15 s, total: 3min 50s\n",
            "Wall time: 2min 35s\n"
          ]
        }
      ]
    },
    {
      "cell_type": "code",
      "source": [
        "del df_base_MM\n",
        "del df_train_MM"
      ],
      "metadata": {
        "id": "MDfplyd6hgCN"
      },
      "execution_count": 36,
      "outputs": []
    },
    {
      "cell_type": "code",
      "source": [
        "unnormal_columns = ['6', '21', '25', '33', '44', '65', '70']\n",
        "df_base_drop = df_base.copy()\n",
        "df_train_drop = df_train.copy()\n",
        "\n",
        "for df in [df_base_drop, df_train_drop]:\n",
        "  for column in unnormal_columns:\n",
        "    df.drop(column, axis=1, inplace=True)"
      ],
      "metadata": {
        "id": "R4QequRqzFRV"
      },
      "execution_count": 37,
      "outputs": []
    },
    {
      "cell_type": "code",
      "source": [
        "%%time\n",
        "dims = df_base_drop.shape[1] #кол-во признаков\n",
        "k = 5 #кол-во ближайших соседей\n",
        "n_cells = 1000 #кол-во ячеек в индексе\n",
        "nprobe = 10 #кол-во кластеров для поиска\n",
        "\n",
        "quantizer = faiss.IndexFlatL2(dims)\n",
        "idx_l2 = faiss.IndexIVFFlat(quantizer, dims, n_cells)\n",
        "idx_l2.train(np.ascontiguousarray(df_base_drop.values).astype('float32'))\n",
        "idx_l2.add(np.ascontiguousarray(df_base_drop.values).astype('float32'))\n",
        "idx_l2.nprobe = nprobe\n",
        "r, idx = idx_l2.search(np.ascontiguousarray(df_train_drop.values).astype('float32'), k)\n",
        "accuracy_aggregator(targets, idx, base_index, n_cells, nprobe, 'Drop Unnormal')"
      ],
      "metadata": {
        "colab": {
          "base_uri": "https://localhost:8080/"
        },
        "id": "jq3ZuLMlzoLo",
        "outputId": "cfeaec53-3b68-4b95-c2b9-5898df27c994"
      },
      "execution_count": 38,
      "outputs": [
        {
          "output_type": "stream",
          "name": "stdout",
          "text": [
            "Кластеры: 1000, nprobe: 10, accuracy@5: 25.903 %\n",
            "CPU times: user 3min 16s, sys: 1.31 s, total: 3min 17s\n",
            "Wall time: 2min 1s\n"
          ]
        }
      ]
    },
    {
      "cell_type": "code",
      "source": [
        "important_columns = ['7', '17', '3', '28', '34', '4', '42',\n",
        "                     '27', '13', '49', '20', '10', '29', '41',\n",
        "                     '55', '62', '58', '24', '16']\n",
        "df_base_drop = df_base[important_columns]\n",
        "df_train_drop = df_train[important_columns]"
      ],
      "metadata": {
        "id": "6yOfBPT8xO99"
      },
      "execution_count": 96,
      "outputs": []
    },
    {
      "cell_type": "code",
      "source": [
        "%%time\n",
        "dims = df_base_drop.shape[1] #кол-во признаков\n",
        "k = 5 #кол-во ближайших соседей\n",
        "n_cells = 1000 #кол-во ячеек в индексе\n",
        "nprobe = 10 #кол-во кластеров для поиска\n",
        "\n",
        "quantizer = faiss.IndexFlatL2(dims)\n",
        "idx_l2 = faiss.IndexIVFFlat(quantizer, dims, n_cells)\n",
        "idx_l2.train(np.ascontiguousarray(df_base_drop.values).astype('float32'))\n",
        "idx_l2.add(np.ascontiguousarray(df_base_drop.values).astype('float32'))\n",
        "idx_l2.nprobe = nprobe\n",
        "r, idx = idx_l2.search(np.ascontiguousarray(df_train_drop.values).astype('float32'), k)\n",
        "accuracy_aggregator(targets, idx, base_index, n_cells, nprobe, 'Drop Unimportant (Catboost)')"
      ],
      "metadata": {
        "colab": {
          "base_uri": "https://localhost:8080/"
        },
        "outputId": "63b4cd23-b7b4-41e4-f862-6e23ca126023",
        "id": "CDDCTNSpxO-U"
      },
      "execution_count": 40,
      "outputs": [
        {
          "output_type": "stream",
          "name": "stdout",
          "text": [
            "Кластеры: 1000, nprobe: 10, accuracy@5: 59.322 %\n",
            "CPU times: user 1min 26s, sys: 493 ms, total: 1min 27s\n",
            "Wall time: 53.8 s\n"
          ]
        }
      ]
    },
    {
      "cell_type": "code",
      "source": [
        "scaler_RS = RobustScaler()\n",
        "df_base_RS = scaler_RS.fit_transform(df_base)\n",
        "df_train_RS = scaler_RS.transform(df_train)"
      ],
      "metadata": {
        "id": "TPiuWzPGAwki"
      },
      "execution_count": 42,
      "outputs": []
    },
    {
      "cell_type": "code",
      "source": [
        "%%time\n",
        "dims = df_base_RS.shape[1] #кол-во признаков\n",
        "#base_index = {k: v for k, v in enumerate(df_base.index.to_list())}\n",
        "k = 5 #кол-во ближайших соседей\n",
        "n_cells = 1000 #кол-во ячеек в индексе\n",
        "nprobe = 10 #кол-во кластеров для поиска\n",
        "\n",
        "quantizer = faiss.IndexFlatL2(dims)\n",
        "idx_l2 = faiss.IndexIVFFlat(quantizer, dims, n_cells)\n",
        "idx_l2.train(np.ascontiguousarray(df_base_RS).astype('float32'))\n",
        "idx_l2.add(np.ascontiguousarray(df_base_RS).astype('float32'))\n",
        "idx_l2.nprobe = nprobe\n",
        "r, idx = idx_l2.search(np.ascontiguousarray(df_train_RS).astype('float32'), k)\n",
        "accuracy_aggregator(targets, idx, base_index, n_cells, nprobe, 'RobustScaler')"
      ],
      "metadata": {
        "colab": {
          "base_uri": "https://localhost:8080/"
        },
        "id": "4AV0ok37vrOp",
        "outputId": "b1d95457-5466-4fb6-de16-775374d1b87c"
      },
      "execution_count": 43,
      "outputs": [
        {
          "output_type": "stream",
          "name": "stdout",
          "text": [
            "Кластеры: 1000, nprobe: 10, accuracy@5: 52.55 %\n",
            "CPU times: user 3min 29s, sys: 2.13 s, total: 3min 31s\n",
            "Wall time: 2min 8s\n"
          ]
        }
      ]
    },
    {
      "cell_type": "code",
      "source": [
        "del df_base_RS\n",
        "del df_train_RS"
      ],
      "metadata": {
        "id": "S5KL4IruwY_k"
      },
      "execution_count": 44,
      "outputs": []
    },
    {
      "cell_type": "code",
      "source": [
        "scaler_SS = StandardScaler()\n",
        "df_base_SS = scaler_SS.fit_transform(df_base)\n",
        "df_train_SS = scaler_SS.transform(df_train)\n",
        "scaler_filename = f'/content/drive/MyDrive/std_scale_1.bin'\n",
        "dump(scaler_SS, scaler_filename, compress=True)\n",
        "\n",
        "df_base_drop_SS = scaler_SS.fit_transform(df_base_drop)\n",
        "df_train_drop_SS = scaler_SS.transform(df_train_drop)"
      ],
      "metadata": {
        "id": "oo4TBHQbLaLk"
      },
      "execution_count": 97,
      "outputs": []
    },
    {
      "cell_type": "code",
      "source": [
        "del df_base_drop\n",
        "del df_train_drop"
      ],
      "metadata": {
        "id": "xCEn1pmWDkGO"
      },
      "execution_count": 98,
      "outputs": []
    },
    {
      "cell_type": "code",
      "source": [
        "%%time\n",
        "dims = df_base_SS.shape[1] #кол-во признаков\n",
        "k = 5 #кол-во ближайших соседей\n",
        "n_cells = 1000 #кол-во ячеек в индексе\n",
        "nprobe = 10 #кол-во кластеров для поиска\n",
        "\n",
        "quantizer = faiss.IndexFlatL2(dims)\n",
        "idx_l2 = faiss.IndexIVFFlat(quantizer, dims, n_cells)\n",
        "idx_l2.train(np.ascontiguousarray(df_base_SS).astype('float32'))\n",
        "idx_l2.add(np.ascontiguousarray(df_base_SS).astype('float32'))\n",
        "idx_l2.nprobe = nprobe\n",
        "r, idx = idx_l2.search(np.ascontiguousarray(df_train_SS).astype('float32'), k)\n",
        "accuracy_aggregator(targets, idx, base_index, n_cells, nprobe, 'StandardScaler')"
      ],
      "metadata": {
        "colab": {
          "base_uri": "https://localhost:8080/"
        },
        "id": "4_jz768Nxa_u",
        "outputId": "46fbeea0-f870-4b52-fc6a-76e2c1573f70"
      },
      "execution_count": 49,
      "outputs": [
        {
          "output_type": "stream",
          "name": "stdout",
          "text": [
            "Кластеры: 1000, nprobe: 10, accuracy@5: 63.748 %\n",
            "CPU times: user 3min 38s, sys: 1.45 s, total: 3min 39s\n",
            "Wall time: 2min 19s\n"
          ]
        }
      ]
    },
    {
      "cell_type": "code",
      "source": [
        "%%time\n",
        "dims = df_base_drop_SS.shape[1] #кол-во признаков\n",
        "k = 5 #кол-во ближайших соседей\n",
        "n_cells = 1000 #кол-во ячеек в индексе\n",
        "nprobe = 10 #кол-во кластеров для поиска\n",
        "\n",
        "quantizer = faiss.IndexFlatL2(dims)\n",
        "idx_l2 = faiss.IndexIVFFlat(quantizer, dims, n_cells)\n",
        "idx_l2.train(np.ascontiguousarray(df_base_drop_SS).astype('float32'))\n",
        "idx_l2.add(np.ascontiguousarray(df_base_drop_SS).astype('float32'))\n",
        "idx_l2.nprobe = nprobe\n",
        "r, idx = idx_l2.search(np.ascontiguousarray(df_train_drop_SS).astype('float32'), k)\n",
        "accuracy_aggregator(targets, idx, base_index, n_cells, nprobe, \\\n",
        "                    'StandardScaler, Drop Unimportant')"
      ],
      "metadata": {
        "colab": {
          "base_uri": "https://localhost:8080/"
        },
        "id": "_HFaZHezzHHC",
        "outputId": "86db2c69-e499-455b-e938-4a8aad2a0a17"
      },
      "execution_count": 50,
      "outputs": [
        {
          "output_type": "stream",
          "name": "stdout",
          "text": [
            "Кластеры: 1000, nprobe: 10, accuracy@5: 63.282 %\n",
            "CPU times: user 1min 31s, sys: 483 ms, total: 1min 31s\n",
            "Wall time: 59.1 s\n"
          ]
        }
      ]
    },
    {
      "cell_type": "code",
      "source": [
        "del df_base_drop_SS\n",
        "del df_train_drop_SS\n",
        "# del df_base_SS\n",
        "# del df_train_SS"
      ],
      "metadata": {
        "id": "hanG8uomzL48"
      },
      "execution_count": 51,
      "outputs": []
    },
    {
      "cell_type": "markdown",
      "source": [
        "### Промежуточные результаты - 2"
      ],
      "metadata": {
        "id": "0NI6CuwSVo0X"
      }
    },
    {
      "cell_type": "code",
      "source": [
        "my_metrics = pd.DataFrame(overall_scores)\n",
        "my_metrics"
      ],
      "metadata": {
        "id": "9FlbsP0chSAe",
        "colab": {
          "base_uri": "https://localhost:8080/",
          "height": 551
        },
        "outputId": "637605ac-1b64-4622-bbbf-fd7756bbaca6"
      },
      "execution_count": 52,
      "outputs": [
        {
          "output_type": "execute_result",
          "data": {
            "text/plain": [
              "    Кластеры  Поиск в соседних                             Опции  accuracy@5\n",
              "0        100                 1                          baseline       7.631\n",
              "1       1000                 1                            search       4.369\n",
              "2       1000                 2                            search       6.196\n",
              "3       1000                10                            search      11.190\n",
              "4        500                 1                            search       5.194\n",
              "5        500                 2                            search       7.368\n",
              "6        500                10                            search      12.288\n",
              "7        200                 1                            search       6.552\n",
              "8        200                 2                            search       8.980\n",
              "9        200                10                            search      13.260\n",
              "10      1000                10                      MinMaxScaler      20.330\n",
              "11      1000                10                     Drop Unnormal      25.903\n",
              "12      1000                10       Drop Unimportant (Catboost)      59.322\n",
              "13      1000                10                      RobustScaler      52.550\n",
              "14      1000                10                    StandardScaler      63.748\n",
              "15      1000                10  StandardScaler, Drop Unimportant      63.282"
            ],
            "text/html": [
              "\n",
              "  <div id=\"df-9405e134-d350-40ed-bbb3-b6d2d5b2abe2\" class=\"colab-df-container\">\n",
              "    <div>\n",
              "<style scoped>\n",
              "    .dataframe tbody tr th:only-of-type {\n",
              "        vertical-align: middle;\n",
              "    }\n",
              "\n",
              "    .dataframe tbody tr th {\n",
              "        vertical-align: top;\n",
              "    }\n",
              "\n",
              "    .dataframe thead th {\n",
              "        text-align: right;\n",
              "    }\n",
              "</style>\n",
              "<table border=\"1\" class=\"dataframe\">\n",
              "  <thead>\n",
              "    <tr style=\"text-align: right;\">\n",
              "      <th></th>\n",
              "      <th>Кластеры</th>\n",
              "      <th>Поиск в соседних</th>\n",
              "      <th>Опции</th>\n",
              "      <th>accuracy@5</th>\n",
              "    </tr>\n",
              "  </thead>\n",
              "  <tbody>\n",
              "    <tr>\n",
              "      <th>0</th>\n",
              "      <td>100</td>\n",
              "      <td>1</td>\n",
              "      <td>baseline</td>\n",
              "      <td>7.631</td>\n",
              "    </tr>\n",
              "    <tr>\n",
              "      <th>1</th>\n",
              "      <td>1000</td>\n",
              "      <td>1</td>\n",
              "      <td>search</td>\n",
              "      <td>4.369</td>\n",
              "    </tr>\n",
              "    <tr>\n",
              "      <th>2</th>\n",
              "      <td>1000</td>\n",
              "      <td>2</td>\n",
              "      <td>search</td>\n",
              "      <td>6.196</td>\n",
              "    </tr>\n",
              "    <tr>\n",
              "      <th>3</th>\n",
              "      <td>1000</td>\n",
              "      <td>10</td>\n",
              "      <td>search</td>\n",
              "      <td>11.190</td>\n",
              "    </tr>\n",
              "    <tr>\n",
              "      <th>4</th>\n",
              "      <td>500</td>\n",
              "      <td>1</td>\n",
              "      <td>search</td>\n",
              "      <td>5.194</td>\n",
              "    </tr>\n",
              "    <tr>\n",
              "      <th>5</th>\n",
              "      <td>500</td>\n",
              "      <td>2</td>\n",
              "      <td>search</td>\n",
              "      <td>7.368</td>\n",
              "    </tr>\n",
              "    <tr>\n",
              "      <th>6</th>\n",
              "      <td>500</td>\n",
              "      <td>10</td>\n",
              "      <td>search</td>\n",
              "      <td>12.288</td>\n",
              "    </tr>\n",
              "    <tr>\n",
              "      <th>7</th>\n",
              "      <td>200</td>\n",
              "      <td>1</td>\n",
              "      <td>search</td>\n",
              "      <td>6.552</td>\n",
              "    </tr>\n",
              "    <tr>\n",
              "      <th>8</th>\n",
              "      <td>200</td>\n",
              "      <td>2</td>\n",
              "      <td>search</td>\n",
              "      <td>8.980</td>\n",
              "    </tr>\n",
              "    <tr>\n",
              "      <th>9</th>\n",
              "      <td>200</td>\n",
              "      <td>10</td>\n",
              "      <td>search</td>\n",
              "      <td>13.260</td>\n",
              "    </tr>\n",
              "    <tr>\n",
              "      <th>10</th>\n",
              "      <td>1000</td>\n",
              "      <td>10</td>\n",
              "      <td>MinMaxScaler</td>\n",
              "      <td>20.330</td>\n",
              "    </tr>\n",
              "    <tr>\n",
              "      <th>11</th>\n",
              "      <td>1000</td>\n",
              "      <td>10</td>\n",
              "      <td>Drop Unnormal</td>\n",
              "      <td>25.903</td>\n",
              "    </tr>\n",
              "    <tr>\n",
              "      <th>12</th>\n",
              "      <td>1000</td>\n",
              "      <td>10</td>\n",
              "      <td>Drop Unimportant (Catboost)</td>\n",
              "      <td>59.322</td>\n",
              "    </tr>\n",
              "    <tr>\n",
              "      <th>13</th>\n",
              "      <td>1000</td>\n",
              "      <td>10</td>\n",
              "      <td>RobustScaler</td>\n",
              "      <td>52.550</td>\n",
              "    </tr>\n",
              "    <tr>\n",
              "      <th>14</th>\n",
              "      <td>1000</td>\n",
              "      <td>10</td>\n",
              "      <td>StandardScaler</td>\n",
              "      <td>63.748</td>\n",
              "    </tr>\n",
              "    <tr>\n",
              "      <th>15</th>\n",
              "      <td>1000</td>\n",
              "      <td>10</td>\n",
              "      <td>StandardScaler, Drop Unimportant</td>\n",
              "      <td>63.282</td>\n",
              "    </tr>\n",
              "  </tbody>\n",
              "</table>\n",
              "</div>\n",
              "    <div class=\"colab-df-buttons\">\n",
              "\n",
              "  <div class=\"colab-df-container\">\n",
              "    <button class=\"colab-df-convert\" onclick=\"convertToInteractive('df-9405e134-d350-40ed-bbb3-b6d2d5b2abe2')\"\n",
              "            title=\"Convert this dataframe to an interactive table.\"\n",
              "            style=\"display:none;\">\n",
              "\n",
              "  <svg xmlns=\"http://www.w3.org/2000/svg\" height=\"24px\" viewBox=\"0 -960 960 960\">\n",
              "    <path d=\"M120-120v-720h720v720H120Zm60-500h600v-160H180v160Zm220 220h160v-160H400v160Zm0 220h160v-160H400v160ZM180-400h160v-160H180v160Zm440 0h160v-160H620v160ZM180-180h160v-160H180v160Zm440 0h160v-160H620v160Z\"/>\n",
              "  </svg>\n",
              "    </button>\n",
              "\n",
              "  <style>\n",
              "    .colab-df-container {\n",
              "      display:flex;\n",
              "      gap: 12px;\n",
              "    }\n",
              "\n",
              "    .colab-df-convert {\n",
              "      background-color: #E8F0FE;\n",
              "      border: none;\n",
              "      border-radius: 50%;\n",
              "      cursor: pointer;\n",
              "      display: none;\n",
              "      fill: #1967D2;\n",
              "      height: 32px;\n",
              "      padding: 0 0 0 0;\n",
              "      width: 32px;\n",
              "    }\n",
              "\n",
              "    .colab-df-convert:hover {\n",
              "      background-color: #E2EBFA;\n",
              "      box-shadow: 0px 1px 2px rgba(60, 64, 67, 0.3), 0px 1px 3px 1px rgba(60, 64, 67, 0.15);\n",
              "      fill: #174EA6;\n",
              "    }\n",
              "\n",
              "    .colab-df-buttons div {\n",
              "      margin-bottom: 4px;\n",
              "    }\n",
              "\n",
              "    [theme=dark] .colab-df-convert {\n",
              "      background-color: #3B4455;\n",
              "      fill: #D2E3FC;\n",
              "    }\n",
              "\n",
              "    [theme=dark] .colab-df-convert:hover {\n",
              "      background-color: #434B5C;\n",
              "      box-shadow: 0px 1px 3px 1px rgba(0, 0, 0, 0.15);\n",
              "      filter: drop-shadow(0px 1px 2px rgba(0, 0, 0, 0.3));\n",
              "      fill: #FFFFFF;\n",
              "    }\n",
              "  </style>\n",
              "\n",
              "    <script>\n",
              "      const buttonEl =\n",
              "        document.querySelector('#df-9405e134-d350-40ed-bbb3-b6d2d5b2abe2 button.colab-df-convert');\n",
              "      buttonEl.style.display =\n",
              "        google.colab.kernel.accessAllowed ? 'block' : 'none';\n",
              "\n",
              "      async function convertToInteractive(key) {\n",
              "        const element = document.querySelector('#df-9405e134-d350-40ed-bbb3-b6d2d5b2abe2');\n",
              "        const dataTable =\n",
              "          await google.colab.kernel.invokeFunction('convertToInteractive',\n",
              "                                                    [key], {});\n",
              "        if (!dataTable) return;\n",
              "\n",
              "        const docLinkHtml = 'Like what you see? Visit the ' +\n",
              "          '<a target=\"_blank\" href=https://colab.research.google.com/notebooks/data_table.ipynb>data table notebook</a>'\n",
              "          + ' to learn more about interactive tables.';\n",
              "        element.innerHTML = '';\n",
              "        dataTable['output_type'] = 'display_data';\n",
              "        await google.colab.output.renderOutput(dataTable, element);\n",
              "        const docLink = document.createElement('div');\n",
              "        docLink.innerHTML = docLinkHtml;\n",
              "        element.appendChild(docLink);\n",
              "      }\n",
              "    </script>\n",
              "  </div>\n",
              "\n",
              "\n",
              "<div id=\"df-d04d51ba-37b8-4e2b-8556-f4244fc2c5b6\">\n",
              "  <button class=\"colab-df-quickchart\" onclick=\"quickchart('df-d04d51ba-37b8-4e2b-8556-f4244fc2c5b6')\"\n",
              "            title=\"Suggest charts.\"\n",
              "            style=\"display:none;\">\n",
              "\n",
              "<svg xmlns=\"http://www.w3.org/2000/svg\" height=\"24px\"viewBox=\"0 0 24 24\"\n",
              "     width=\"24px\">\n",
              "    <g>\n",
              "        <path d=\"M19 3H5c-1.1 0-2 .9-2 2v14c0 1.1.9 2 2 2h14c1.1 0 2-.9 2-2V5c0-1.1-.9-2-2-2zM9 17H7v-7h2v7zm4 0h-2V7h2v10zm4 0h-2v-4h2v4z\"/>\n",
              "    </g>\n",
              "</svg>\n",
              "  </button>\n",
              "\n",
              "<style>\n",
              "  .colab-df-quickchart {\n",
              "      --bg-color: #E8F0FE;\n",
              "      --fill-color: #1967D2;\n",
              "      --hover-bg-color: #E2EBFA;\n",
              "      --hover-fill-color: #174EA6;\n",
              "      --disabled-fill-color: #AAA;\n",
              "      --disabled-bg-color: #DDD;\n",
              "  }\n",
              "\n",
              "  [theme=dark] .colab-df-quickchart {\n",
              "      --bg-color: #3B4455;\n",
              "      --fill-color: #D2E3FC;\n",
              "      --hover-bg-color: #434B5C;\n",
              "      --hover-fill-color: #FFFFFF;\n",
              "      --disabled-bg-color: #3B4455;\n",
              "      --disabled-fill-color: #666;\n",
              "  }\n",
              "\n",
              "  .colab-df-quickchart {\n",
              "    background-color: var(--bg-color);\n",
              "    border: none;\n",
              "    border-radius: 50%;\n",
              "    cursor: pointer;\n",
              "    display: none;\n",
              "    fill: var(--fill-color);\n",
              "    height: 32px;\n",
              "    padding: 0;\n",
              "    width: 32px;\n",
              "  }\n",
              "\n",
              "  .colab-df-quickchart:hover {\n",
              "    background-color: var(--hover-bg-color);\n",
              "    box-shadow: 0 1px 2px rgba(60, 64, 67, 0.3), 0 1px 3px 1px rgba(60, 64, 67, 0.15);\n",
              "    fill: var(--button-hover-fill-color);\n",
              "  }\n",
              "\n",
              "  .colab-df-quickchart-complete:disabled,\n",
              "  .colab-df-quickchart-complete:disabled:hover {\n",
              "    background-color: var(--disabled-bg-color);\n",
              "    fill: var(--disabled-fill-color);\n",
              "    box-shadow: none;\n",
              "  }\n",
              "\n",
              "  .colab-df-spinner {\n",
              "    border: 2px solid var(--fill-color);\n",
              "    border-color: transparent;\n",
              "    border-bottom-color: var(--fill-color);\n",
              "    animation:\n",
              "      spin 1s steps(1) infinite;\n",
              "  }\n",
              "\n",
              "  @keyframes spin {\n",
              "    0% {\n",
              "      border-color: transparent;\n",
              "      border-bottom-color: var(--fill-color);\n",
              "      border-left-color: var(--fill-color);\n",
              "    }\n",
              "    20% {\n",
              "      border-color: transparent;\n",
              "      border-left-color: var(--fill-color);\n",
              "      border-top-color: var(--fill-color);\n",
              "    }\n",
              "    30% {\n",
              "      border-color: transparent;\n",
              "      border-left-color: var(--fill-color);\n",
              "      border-top-color: var(--fill-color);\n",
              "      border-right-color: var(--fill-color);\n",
              "    }\n",
              "    40% {\n",
              "      border-color: transparent;\n",
              "      border-right-color: var(--fill-color);\n",
              "      border-top-color: var(--fill-color);\n",
              "    }\n",
              "    60% {\n",
              "      border-color: transparent;\n",
              "      border-right-color: var(--fill-color);\n",
              "    }\n",
              "    80% {\n",
              "      border-color: transparent;\n",
              "      border-right-color: var(--fill-color);\n",
              "      border-bottom-color: var(--fill-color);\n",
              "    }\n",
              "    90% {\n",
              "      border-color: transparent;\n",
              "      border-bottom-color: var(--fill-color);\n",
              "    }\n",
              "  }\n",
              "</style>\n",
              "\n",
              "  <script>\n",
              "    async function quickchart(key) {\n",
              "      const quickchartButtonEl =\n",
              "        document.querySelector('#' + key + ' button');\n",
              "      quickchartButtonEl.disabled = true;  // To prevent multiple clicks.\n",
              "      quickchartButtonEl.classList.add('colab-df-spinner');\n",
              "      try {\n",
              "        const charts = await google.colab.kernel.invokeFunction(\n",
              "            'suggestCharts', [key], {});\n",
              "      } catch (error) {\n",
              "        console.error('Error during call to suggestCharts:', error);\n",
              "      }\n",
              "      quickchartButtonEl.classList.remove('colab-df-spinner');\n",
              "      quickchartButtonEl.classList.add('colab-df-quickchart-complete');\n",
              "    }\n",
              "    (() => {\n",
              "      let quickchartButtonEl =\n",
              "        document.querySelector('#df-d04d51ba-37b8-4e2b-8556-f4244fc2c5b6 button');\n",
              "      quickchartButtonEl.style.display =\n",
              "        google.colab.kernel.accessAllowed ? 'block' : 'none';\n",
              "    })();\n",
              "  </script>\n",
              "</div>\n",
              "    </div>\n",
              "  </div>\n"
            ]
          },
          "metadata": {},
          "execution_count": 52
        }
      ]
    },
    {
      "cell_type": "markdown",
      "source": [
        "Наилучшие показатели у данных, отмасштабированных с помощью StandardScaler. Будем работать с этими данными дальше.\n",
        "\n",
        "Вообще такой большой прирост качества \"из коробки\" намекает, что работой с признаками можно ещё сильнее улучшить метрику."
      ],
      "metadata": {
        "id": "idjCU86Jpngu"
      }
    },
    {
      "cell_type": "markdown",
      "source": [
        "## Ранжирование (NOT IMPLEMENTED YET)"
      ],
      "metadata": {
        "id": "K_m_lZpS24Bd"
      }
    },
    {
      "cell_type": "markdown",
      "source": [
        "### Catboost в качестве ранжирующей модели"
      ],
      "metadata": {
        "id": "bg00vxjs57S5"
      }
    },
    {
      "cell_type": "markdown",
      "source": [
        "Соберём большее количество соседей. Для экономии времени была выбрана не самая оптимальная конфигурация."
      ],
      "metadata": {
        "id": "sHptfadtjbaR"
      }
    },
    {
      "cell_type": "code",
      "source": [
        "# здесь подобрать оптимальные параметры для будущего использования\n",
        "\n",
        "dims = df_base.shape[1] #кол-во признаков\n",
        "k = 50 #кол-во ближайших соседей\n",
        "n_cells = 200 #кол-во ячеек в индексе\n",
        "nprobe = 20 #кол-во кластеров для поиска\n",
        "index_filename = f'/content/drive/MyDrive/idx_l2_{n_cells}_{nprobe}.index'"
      ],
      "metadata": {
        "id": "3QRCqR96jbld"
      },
      "execution_count": 53,
      "outputs": []
    },
    {
      "cell_type": "markdown",
      "source": [
        "Сохраним индекс на диске. В будущем можно будет им пользоваться, не проводя предварительные вычисления."
      ],
      "metadata": {
        "id": "kFSkSLWWtMLq"
      }
    },
    {
      "cell_type": "code",
      "source": [
        "%%time\n",
        "if not os.path.exists(index_filename):\n",
        "  quantizer = faiss.IndexFlatL2(dims)\n",
        "  idx_l2 = faiss.IndexIVFFlat(quantizer, dims, n_cells)\n",
        "  idx_l2.train(np.ascontiguousarray(df_base_SS).astype('float32'))\n",
        "  idx_l2.add(np.ascontiguousarray(df_base_SS).astype('float32'))\n",
        "  idx_l2.nprobe = nprobe\n",
        "  r, idx = idx_l2.search(np.ascontiguousarray(df_train_SS).astype('float32'), k)\n",
        "  accuracy_aggregator(targets, idx, base_index, n_cells, nprobe, 'StandardScaler, 50 Neighbours')\n",
        "  faiss.write_index(idx_l2, index_filename)\n",
        "else:\n",
        "  idx_l2 = faiss.read_index(index_filename)"
      ],
      "metadata": {
        "id": "pIti0BiXtEdT",
        "colab": {
          "base_uri": "https://localhost:8080/"
        },
        "outputId": "7d8948f0-875e-4747-9234-7fd7364be2f6"
      },
      "execution_count": 54,
      "outputs": [
        {
          "output_type": "stream",
          "name": "stdout",
          "text": [
            "CPU times: user 264 ms, sys: 861 ms, total: 1.12 s\n",
            "Wall time: 12.3 s\n"
          ]
        }
      ]
    },
    {
      "cell_type": "code",
      "source": [
        "## считаем очень ограниченный объём запроса, для теста\n",
        "%%time\n",
        "r, idx = idx_l2.search(np.ascontiguousarray(df_train_SS[:40]).astype('float32'), 50)\n",
        "accuracy_aggregator(targets, idx, base_index, n_cells, nprobe, 'StandardScaler, 50 Neighbours')"
      ],
      "metadata": {
        "colab": {
          "base_uri": "https://localhost:8080/"
        },
        "id": "9q6Gm6p-FzT1",
        "outputId": "fd5e4c11-dc4a-4acf-f58e-0f72f9c635ce"
      },
      "execution_count": 55,
      "outputs": [
        {
          "output_type": "stream",
          "name": "stdout",
          "text": [
            "Кластеры: 200, nprobe: 20, accuracy@5: 80.0 %\n",
            "CPU times: user 666 ms, sys: 5.98 ms, total: 672 ms\n",
            "Wall time: 363 ms\n"
          ]
        }
      ]
    },
    {
      "cell_type": "code",
      "source": [
        "my_metrics = pd.DataFrame(overall_scores)\n",
        "my_metrics.tail(1)"
      ],
      "metadata": {
        "colab": {
          "base_uri": "https://localhost:8080/",
          "height": 81
        },
        "id": "qM73KEMWqaK7",
        "outputId": "eed4a32a-3238-4929-a56c-e49dba2c9cba"
      },
      "execution_count": 56,
      "outputs": [
        {
          "output_type": "execute_result",
          "data": {
            "text/plain": [
              "    Кластеры  Поиск в соседних                          Опции  accuracy@5\n",
              "16       200                20  StandardScaler, 50 Neighbours        80.0"
            ],
            "text/html": [
              "\n",
              "  <div id=\"df-4e0f2a9b-5093-4f2f-9fee-88b2e5c8f4d0\" class=\"colab-df-container\">\n",
              "    <div>\n",
              "<style scoped>\n",
              "    .dataframe tbody tr th:only-of-type {\n",
              "        vertical-align: middle;\n",
              "    }\n",
              "\n",
              "    .dataframe tbody tr th {\n",
              "        vertical-align: top;\n",
              "    }\n",
              "\n",
              "    .dataframe thead th {\n",
              "        text-align: right;\n",
              "    }\n",
              "</style>\n",
              "<table border=\"1\" class=\"dataframe\">\n",
              "  <thead>\n",
              "    <tr style=\"text-align: right;\">\n",
              "      <th></th>\n",
              "      <th>Кластеры</th>\n",
              "      <th>Поиск в соседних</th>\n",
              "      <th>Опции</th>\n",
              "      <th>accuracy@5</th>\n",
              "    </tr>\n",
              "  </thead>\n",
              "  <tbody>\n",
              "    <tr>\n",
              "      <th>16</th>\n",
              "      <td>200</td>\n",
              "      <td>20</td>\n",
              "      <td>StandardScaler, 50 Neighbours</td>\n",
              "      <td>80.0</td>\n",
              "    </tr>\n",
              "  </tbody>\n",
              "</table>\n",
              "</div>\n",
              "    <div class=\"colab-df-buttons\">\n",
              "\n",
              "  <div class=\"colab-df-container\">\n",
              "    <button class=\"colab-df-convert\" onclick=\"convertToInteractive('df-4e0f2a9b-5093-4f2f-9fee-88b2e5c8f4d0')\"\n",
              "            title=\"Convert this dataframe to an interactive table.\"\n",
              "            style=\"display:none;\">\n",
              "\n",
              "  <svg xmlns=\"http://www.w3.org/2000/svg\" height=\"24px\" viewBox=\"0 -960 960 960\">\n",
              "    <path d=\"M120-120v-720h720v720H120Zm60-500h600v-160H180v160Zm220 220h160v-160H400v160Zm0 220h160v-160H400v160ZM180-400h160v-160H180v160Zm440 0h160v-160H620v160ZM180-180h160v-160H180v160Zm440 0h160v-160H620v160Z\"/>\n",
              "  </svg>\n",
              "    </button>\n",
              "\n",
              "  <style>\n",
              "    .colab-df-container {\n",
              "      display:flex;\n",
              "      gap: 12px;\n",
              "    }\n",
              "\n",
              "    .colab-df-convert {\n",
              "      background-color: #E8F0FE;\n",
              "      border: none;\n",
              "      border-radius: 50%;\n",
              "      cursor: pointer;\n",
              "      display: none;\n",
              "      fill: #1967D2;\n",
              "      height: 32px;\n",
              "      padding: 0 0 0 0;\n",
              "      width: 32px;\n",
              "    }\n",
              "\n",
              "    .colab-df-convert:hover {\n",
              "      background-color: #E2EBFA;\n",
              "      box-shadow: 0px 1px 2px rgba(60, 64, 67, 0.3), 0px 1px 3px 1px rgba(60, 64, 67, 0.15);\n",
              "      fill: #174EA6;\n",
              "    }\n",
              "\n",
              "    .colab-df-buttons div {\n",
              "      margin-bottom: 4px;\n",
              "    }\n",
              "\n",
              "    [theme=dark] .colab-df-convert {\n",
              "      background-color: #3B4455;\n",
              "      fill: #D2E3FC;\n",
              "    }\n",
              "\n",
              "    [theme=dark] .colab-df-convert:hover {\n",
              "      background-color: #434B5C;\n",
              "      box-shadow: 0px 1px 3px 1px rgba(0, 0, 0, 0.15);\n",
              "      filter: drop-shadow(0px 1px 2px rgba(0, 0, 0, 0.3));\n",
              "      fill: #FFFFFF;\n",
              "    }\n",
              "  </style>\n",
              "\n",
              "    <script>\n",
              "      const buttonEl =\n",
              "        document.querySelector('#df-4e0f2a9b-5093-4f2f-9fee-88b2e5c8f4d0 button.colab-df-convert');\n",
              "      buttonEl.style.display =\n",
              "        google.colab.kernel.accessAllowed ? 'block' : 'none';\n",
              "\n",
              "      async function convertToInteractive(key) {\n",
              "        const element = document.querySelector('#df-4e0f2a9b-5093-4f2f-9fee-88b2e5c8f4d0');\n",
              "        const dataTable =\n",
              "          await google.colab.kernel.invokeFunction('convertToInteractive',\n",
              "                                                    [key], {});\n",
              "        if (!dataTable) return;\n",
              "\n",
              "        const docLinkHtml = 'Like what you see? Visit the ' +\n",
              "          '<a target=\"_blank\" href=https://colab.research.google.com/notebooks/data_table.ipynb>data table notebook</a>'\n",
              "          + ' to learn more about interactive tables.';\n",
              "        element.innerHTML = '';\n",
              "        dataTable['output_type'] = 'display_data';\n",
              "        await google.colab.output.renderOutput(dataTable, element);\n",
              "        const docLink = document.createElement('div');\n",
              "        docLink.innerHTML = docLinkHtml;\n",
              "        element.appendChild(docLink);\n",
              "      }\n",
              "    </script>\n",
              "  </div>\n",
              "\n",
              "    </div>\n",
              "  </div>\n"
            ]
          },
          "metadata": {},
          "execution_count": 56
        }
      ]
    },
    {
      "cell_type": "code",
      "source": [
        "len(idx)"
      ],
      "metadata": {
        "colab": {
          "base_uri": "https://localhost:8080/"
        },
        "id": "_NVCb0zysqQ6",
        "outputId": "995ca4c3-a26e-4167-abc8-822b4ca6408a"
      },
      "execution_count": 57,
      "outputs": [
        {
          "output_type": "execute_result",
          "data": {
            "text/plain": [
              "40"
            ]
          },
          "metadata": {},
          "execution_count": 57
        }
      ]
    },
    {
      "cell_type": "code",
      "source": [
        "len(idx[0])"
      ],
      "metadata": {
        "colab": {
          "base_uri": "https://localhost:8080/"
        },
        "id": "7CXIptMaMKMe",
        "outputId": "f2faa4e4-654b-45dc-ad13-14c43ad22e2f"
      },
      "execution_count": 58,
      "outputs": [
        {
          "output_type": "execute_result",
          "data": {
            "text/plain": [
              "50"
            ]
          },
          "metadata": {},
          "execution_count": 58
        }
      ]
    },
    {
      "cell_type": "code",
      "source": [
        "targets.head()"
      ],
      "metadata": {
        "colab": {
          "base_uri": "https://localhost:8080/"
        },
        "id": "JXt3rchgyJaE",
        "outputId": "4d5f30ac-866f-4ca8-fc72-c6dae4a2e513"
      },
      "execution_count": 59,
      "outputs": [
        {
          "output_type": "execute_result",
          "data": {
            "text/plain": [
              "Id\n",
              "0-query     675816-base\n",
              "1-query     366656-base\n",
              "2-query    1447819-base\n",
              "3-query    1472602-base\n",
              "4-query     717819-base\n",
              "Name: Target, dtype: object"
            ]
          },
          "metadata": {},
          "execution_count": 59
        }
      ]
    },
    {
      "cell_type": "code",
      "source": [
        "columns=df_base.columns.tolist()\n",
        "all_columns = columns\n",
        "new_columns = [f'{col}_search' for col in columns]\n",
        "all_columns.extend(new_columns)"
      ],
      "metadata": {
        "id": "v0dMZ2LZUMXK"
      },
      "execution_count": 60,
      "outputs": []
    },
    {
      "cell_type": "code",
      "source": [
        "# Далее идет совершенно неправильный способ задания обучающего датафрейма.\n",
        "df_base_cat = pd.DataFrame(columns=all_columns)"
      ],
      "metadata": {
        "id": "Bkybtdq9H2du"
      },
      "execution_count": 61,
      "outputs": []
    },
    {
      "cell_type": "code",
      "source": [
        "sycle = 0\n",
        "# Очень медленно. Другим способом пока что не получилось.\n",
        "for target, el in zip(targets.values.tolist()[:40], idx.tolist()):\n",
        "  for r in el:\n",
        "    if target == base_index[r]:\n",
        "      df_base_cat.loc[sycle] = df_base.loc[base_index[r]]\n",
        "      df_base_cat.loc[sycle, 'is_neighbour'] = 1\n",
        "      df_base_cat.loc[sycle, new_columns] = df_train_SS[sycle]\n",
        "    else:\n",
        "      df_base_cat.loc[sycle] = df_base.loc[base_index[r]]\n",
        "      df_base_cat.loc[sycle, 'is_neighbour'] = 0\n",
        "      df_base_cat.loc[sycle, new_columns] = df_train_SS[sycle]\n",
        "    df_base_cat.loc[sycle, 'result'] = base_index[r]\n",
        "    sycle+=1\n",
        "\n",
        "sycle"
      ],
      "metadata": {
        "id": "8KMonHc_tDLx",
        "colab": {
          "base_uri": "https://localhost:8080/"
        },
        "outputId": "d93c01de-60f4-4188-9d1d-64d39b12326f"
      },
      "execution_count": 62,
      "outputs": [
        {
          "output_type": "execute_result",
          "data": {
            "text/plain": [
              "2000"
            ]
          },
          "metadata": {},
          "execution_count": 62
        }
      ]
    },
    {
      "cell_type": "code",
      "source": [
        "df_base_cat = df_base_cat.set_index('result')"
      ],
      "metadata": {
        "id": "IkAwJqoQlAZi"
      },
      "execution_count": 63,
      "outputs": []
    },
    {
      "cell_type": "code",
      "source": [
        "df_base_cat.shape"
      ],
      "metadata": {
        "colab": {
          "base_uri": "https://localhost:8080/"
        },
        "id": "67ZPsa8kIUUw",
        "outputId": "613ac48b-e990-484d-df44-43aa08fe07a1"
      },
      "execution_count": 64,
      "outputs": [
        {
          "output_type": "execute_result",
          "data": {
            "text/plain": [
              "(2000, 145)"
            ]
          },
          "metadata": {},
          "execution_count": 64
        }
      ]
    },
    {
      "cell_type": "code",
      "source": [
        "# Ещё и в результате запихнул рядом масштабированные и немасштабированные данные\n",
        "\n",
        "#df_base_cat[columns] = scaler_SS.fit_transform(df_base_cat[columns])"
      ],
      "metadata": {
        "id": "SragZPHic6s6"
      },
      "execution_count": 65,
      "outputs": []
    },
    {
      "cell_type": "code",
      "source": [
        "df_base_cat[df_base_cat['is_neighbour']==1].sample()"
      ],
      "metadata": {
        "colab": {
          "base_uri": "https://localhost:8080/",
          "height": 179
        },
        "id": "R6MIAM3eCnRk",
        "outputId": "92920d3c-c1a0-4d36-94ab-946e4e0287f4"
      },
      "execution_count": 66,
      "outputs": [
        {
          "output_type": "execute_result",
          "data": {
            "text/plain": [
              "                      0        1           2           3         4          5  \\\n",
              "result                                                                          \n",
              "1472602-base -50.560276  6.85605 -116.298416 -134.443573  65.36528 -127.86235   \n",
              "\n",
              "                       6          7           8         9  ...  63_search  \\\n",
              "result                                                     ...              \n",
              "1472602-base -775.150146  93.207756  125.221085  269.0495  ...   0.494058   \n",
              "\n",
              "              64_search  65_search  66_search  67_search  68_search  \\\n",
              "result                                                                \n",
              "1472602-base   0.246555  -1.645563   0.442173   1.717478   1.533163   \n",
              "\n",
              "              69_search  70_search  71_search  is_neighbour  \n",
              "result                                                       \n",
              "1472602-base   0.097805   0.409531  -1.845699           1.0  \n",
              "\n",
              "[1 rows x 145 columns]"
            ],
            "text/html": [
              "\n",
              "  <div id=\"df-d9f8629e-d79b-453d-b946-df378c6fced9\" class=\"colab-df-container\">\n",
              "    <div>\n",
              "<style scoped>\n",
              "    .dataframe tbody tr th:only-of-type {\n",
              "        vertical-align: middle;\n",
              "    }\n",
              "\n",
              "    .dataframe tbody tr th {\n",
              "        vertical-align: top;\n",
              "    }\n",
              "\n",
              "    .dataframe thead th {\n",
              "        text-align: right;\n",
              "    }\n",
              "</style>\n",
              "<table border=\"1\" class=\"dataframe\">\n",
              "  <thead>\n",
              "    <tr style=\"text-align: right;\">\n",
              "      <th></th>\n",
              "      <th>0</th>\n",
              "      <th>1</th>\n",
              "      <th>2</th>\n",
              "      <th>3</th>\n",
              "      <th>4</th>\n",
              "      <th>5</th>\n",
              "      <th>6</th>\n",
              "      <th>7</th>\n",
              "      <th>8</th>\n",
              "      <th>9</th>\n",
              "      <th>...</th>\n",
              "      <th>63_search</th>\n",
              "      <th>64_search</th>\n",
              "      <th>65_search</th>\n",
              "      <th>66_search</th>\n",
              "      <th>67_search</th>\n",
              "      <th>68_search</th>\n",
              "      <th>69_search</th>\n",
              "      <th>70_search</th>\n",
              "      <th>71_search</th>\n",
              "      <th>is_neighbour</th>\n",
              "    </tr>\n",
              "    <tr>\n",
              "      <th>result</th>\n",
              "      <th></th>\n",
              "      <th></th>\n",
              "      <th></th>\n",
              "      <th></th>\n",
              "      <th></th>\n",
              "      <th></th>\n",
              "      <th></th>\n",
              "      <th></th>\n",
              "      <th></th>\n",
              "      <th></th>\n",
              "      <th></th>\n",
              "      <th></th>\n",
              "      <th></th>\n",
              "      <th></th>\n",
              "      <th></th>\n",
              "      <th></th>\n",
              "      <th></th>\n",
              "      <th></th>\n",
              "      <th></th>\n",
              "      <th></th>\n",
              "      <th></th>\n",
              "    </tr>\n",
              "  </thead>\n",
              "  <tbody>\n",
              "    <tr>\n",
              "      <th>1472602-base</th>\n",
              "      <td>-50.560276</td>\n",
              "      <td>6.85605</td>\n",
              "      <td>-116.298416</td>\n",
              "      <td>-134.443573</td>\n",
              "      <td>65.36528</td>\n",
              "      <td>-127.86235</td>\n",
              "      <td>-775.150146</td>\n",
              "      <td>93.207756</td>\n",
              "      <td>125.221085</td>\n",
              "      <td>269.0495</td>\n",
              "      <td>...</td>\n",
              "      <td>0.494058</td>\n",
              "      <td>0.246555</td>\n",
              "      <td>-1.645563</td>\n",
              "      <td>0.442173</td>\n",
              "      <td>1.717478</td>\n",
              "      <td>1.533163</td>\n",
              "      <td>0.097805</td>\n",
              "      <td>0.409531</td>\n",
              "      <td>-1.845699</td>\n",
              "      <td>1.0</td>\n",
              "    </tr>\n",
              "  </tbody>\n",
              "</table>\n",
              "<p>1 rows × 145 columns</p>\n",
              "</div>\n",
              "    <div class=\"colab-df-buttons\">\n",
              "\n",
              "  <div class=\"colab-df-container\">\n",
              "    <button class=\"colab-df-convert\" onclick=\"convertToInteractive('df-d9f8629e-d79b-453d-b946-df378c6fced9')\"\n",
              "            title=\"Convert this dataframe to an interactive table.\"\n",
              "            style=\"display:none;\">\n",
              "\n",
              "  <svg xmlns=\"http://www.w3.org/2000/svg\" height=\"24px\" viewBox=\"0 -960 960 960\">\n",
              "    <path d=\"M120-120v-720h720v720H120Zm60-500h600v-160H180v160Zm220 220h160v-160H400v160Zm0 220h160v-160H400v160ZM180-400h160v-160H180v160Zm440 0h160v-160H620v160ZM180-180h160v-160H180v160Zm440 0h160v-160H620v160Z\"/>\n",
              "  </svg>\n",
              "    </button>\n",
              "\n",
              "  <style>\n",
              "    .colab-df-container {\n",
              "      display:flex;\n",
              "      gap: 12px;\n",
              "    }\n",
              "\n",
              "    .colab-df-convert {\n",
              "      background-color: #E8F0FE;\n",
              "      border: none;\n",
              "      border-radius: 50%;\n",
              "      cursor: pointer;\n",
              "      display: none;\n",
              "      fill: #1967D2;\n",
              "      height: 32px;\n",
              "      padding: 0 0 0 0;\n",
              "      width: 32px;\n",
              "    }\n",
              "\n",
              "    .colab-df-convert:hover {\n",
              "      background-color: #E2EBFA;\n",
              "      box-shadow: 0px 1px 2px rgba(60, 64, 67, 0.3), 0px 1px 3px 1px rgba(60, 64, 67, 0.15);\n",
              "      fill: #174EA6;\n",
              "    }\n",
              "\n",
              "    .colab-df-buttons div {\n",
              "      margin-bottom: 4px;\n",
              "    }\n",
              "\n",
              "    [theme=dark] .colab-df-convert {\n",
              "      background-color: #3B4455;\n",
              "      fill: #D2E3FC;\n",
              "    }\n",
              "\n",
              "    [theme=dark] .colab-df-convert:hover {\n",
              "      background-color: #434B5C;\n",
              "      box-shadow: 0px 1px 3px 1px rgba(0, 0, 0, 0.15);\n",
              "      filter: drop-shadow(0px 1px 2px rgba(0, 0, 0, 0.3));\n",
              "      fill: #FFFFFF;\n",
              "    }\n",
              "  </style>\n",
              "\n",
              "    <script>\n",
              "      const buttonEl =\n",
              "        document.querySelector('#df-d9f8629e-d79b-453d-b946-df378c6fced9 button.colab-df-convert');\n",
              "      buttonEl.style.display =\n",
              "        google.colab.kernel.accessAllowed ? 'block' : 'none';\n",
              "\n",
              "      async function convertToInteractive(key) {\n",
              "        const element = document.querySelector('#df-d9f8629e-d79b-453d-b946-df378c6fced9');\n",
              "        const dataTable =\n",
              "          await google.colab.kernel.invokeFunction('convertToInteractive',\n",
              "                                                    [key], {});\n",
              "        if (!dataTable) return;\n",
              "\n",
              "        const docLinkHtml = 'Like what you see? Visit the ' +\n",
              "          '<a target=\"_blank\" href=https://colab.research.google.com/notebooks/data_table.ipynb>data table notebook</a>'\n",
              "          + ' to learn more about interactive tables.';\n",
              "        element.innerHTML = '';\n",
              "        dataTable['output_type'] = 'display_data';\n",
              "        await google.colab.output.renderOutput(dataTable, element);\n",
              "        const docLink = document.createElement('div');\n",
              "        docLink.innerHTML = docLinkHtml;\n",
              "        element.appendChild(docLink);\n",
              "      }\n",
              "    </script>\n",
              "  </div>\n",
              "\n",
              "    </div>\n",
              "  </div>\n"
            ]
          },
          "metadata": {},
          "execution_count": 66
        }
      ]
    },
    {
      "cell_type": "code",
      "source": [
        "# Очень мало целевого признака\n",
        "df_base_cat['is_neighbour'].sum()/df_base_cat.shape[0]"
      ],
      "metadata": {
        "colab": {
          "base_uri": "https://localhost:8080/"
        },
        "id": "57s-DX7ubPUy",
        "outputId": "8a1964c3-cc64-4793-a583-5c652272e10c"
      },
      "execution_count": 67,
      "outputs": [
        {
          "output_type": "execute_result",
          "data": {
            "text/plain": [
              "0.016"
            ]
          },
          "metadata": {},
          "execution_count": 67
        }
      ]
    },
    {
      "cell_type": "code",
      "source": [
        "X_train, X_test, y_train, y_test = train_test_split(\n",
        "    df_base_cat.drop(['is_neighbour'] , axis=1),\n",
        "    df_base_cat['is_neighbour'],\n",
        "    test_size=0.25,\n",
        "    random_state=2007,\n",
        "    stratify=df_base_cat['is_neighbour']\n",
        "    )"
      ],
      "metadata": {
        "id": "OZGMdN5qAQei"
      },
      "execution_count": 68,
      "outputs": []
    },
    {
      "cell_type": "code",
      "source": [
        "cat_features = []"
      ],
      "metadata": {
        "id": "0JcETi3VAMsC"
      },
      "execution_count": 69,
      "outputs": []
    },
    {
      "cell_type": "code",
      "source": [
        "train_data = Pool(data=X_train,\n",
        "                  label=y_train,\n",
        "                  cat_features=cat_features\n",
        "                 )"
      ],
      "metadata": {
        "id": "mJuYBKPFAMzN"
      },
      "execution_count": 70,
      "outputs": []
    },
    {
      "cell_type": "code",
      "source": [
        "test_data = Pool(data=X_test,\n",
        "                  label=y_test,\n",
        "                  cat_features=cat_features\n",
        "                 )"
      ],
      "metadata": {
        "id": "aySUvUboAXBF"
      },
      "execution_count": 71,
      "outputs": []
    },
    {
      "cell_type": "code",
      "source": [
        "params = {'cat_features': cat_features,\n",
        "          'eval_metric': 'AUC',\n",
        "          'loss_function': 'Logloss',\n",
        "          #'learning_rate': 0.01,\n",
        "          'random_seed': 2007,\n",
        "          'verbose':100\n",
        "          }"
      ],
      "metadata": {
        "id": "-nUpWEoaAZg6"
      },
      "execution_count": 72,
      "outputs": []
    },
    {
      "cell_type": "code",
      "source": [
        "cv_data = cv(\n",
        "    params = params,\n",
        "    pool = train_data,\n",
        "    fold_count=5,\n",
        "    shuffle=True,\n",
        "    partition_random_seed=0,\n",
        "    stratified=True,\n",
        "    verbose=False,\n",
        "    #early_stopping_rounds=200\n",
        ")"
      ],
      "metadata": {
        "id": "DHTFTIdeAbvw",
        "colab": {
          "base_uri": "https://localhost:8080/"
        },
        "outputId": "fb93fefb-b74f-487d-d11f-5a319497274b"
      },
      "execution_count": 73,
      "outputs": [
        {
          "output_type": "stream",
          "name": "stdout",
          "text": [
            "Training on fold [0/5]\n",
            "\n",
            "bestTest = 0.6408783784\n",
            "bestIteration = 1\n",
            "\n",
            "Training on fold [1/5]\n",
            "\n",
            "bestTest = 0.6291525424\n",
            "bestIteration = 30\n",
            "\n",
            "Training on fold [2/5]\n",
            "\n",
            "bestTest = 0.5196610169\n",
            "bestIteration = 0\n",
            "\n",
            "Training on fold [3/5]\n",
            "\n",
            "bestTest = 0.7640677966\n",
            "bestIteration = 23\n",
            "\n",
            "Training on fold [4/5]\n",
            "\n",
            "bestTest = 0.836440678\n",
            "bestIteration = 32\n",
            "\n"
          ]
        }
      ]
    },
    {
      "cell_type": "code",
      "source": [
        "model = CatBoostClassifier(**params)"
      ],
      "metadata": {
        "id": "7tFNJVnIAM83"
      },
      "execution_count": 74,
      "outputs": []
    },
    {
      "cell_type": "code",
      "source": [
        "model.fit(train_data)"
      ],
      "metadata": {
        "id": "N2t9No_kANBr",
        "colab": {
          "base_uri": "https://localhost:8080/"
        },
        "outputId": "91374d30-1527-40a3-ecb2-fe97ebeac2d9"
      },
      "execution_count": 75,
      "outputs": [
        {
          "output_type": "stream",
          "name": "stdout",
          "text": [
            "Learning rate set to 0.01225\n",
            "0:\ttotal: 48.3ms\tremaining: 48.2s\n",
            "100:\ttotal: 3.71s\tremaining: 33.1s\n",
            "200:\ttotal: 9.38s\tremaining: 37.3s\n",
            "300:\ttotal: 13s\tremaining: 30.2s\n",
            "400:\ttotal: 16.7s\tremaining: 24.9s\n",
            "500:\ttotal: 22.2s\tremaining: 22.1s\n",
            "600:\ttotal: 25.9s\tremaining: 17.2s\n",
            "700:\ttotal: 29.5s\tremaining: 12.6s\n",
            "800:\ttotal: 33.5s\tremaining: 8.32s\n",
            "900:\ttotal: 38.7s\tremaining: 4.25s\n",
            "999:\ttotal: 42.2s\tremaining: 0us\n"
          ]
        },
        {
          "output_type": "execute_result",
          "data": {
            "text/plain": [
              "<catboost.core.CatBoostClassifier at 0x7f1bf022f070>"
            ]
          },
          "metadata": {},
          "execution_count": 75
        }
      ]
    },
    {
      "cell_type": "code",
      "source": [
        "# может быть это будет полезно для оптимизации поиска. проверено.\n",
        "model.get_feature_importance(prettified=True).head(20)"
      ],
      "metadata": {
        "colab": {
          "base_uri": "https://localhost:8080/",
          "height": 677
        },
        "id": "DqvqnewFwEU2",
        "outputId": "d0f606b2-d56b-41b5-89cc-25d4041a27e2"
      },
      "execution_count": 76,
      "outputs": [
        {
          "output_type": "execute_result",
          "data": {
            "text/plain": [
              "   Feature Id  Importances\n",
              "0    7_search     3.808227\n",
              "1          17     2.604191\n",
              "2    3_search     1.976742\n",
              "3          28     1.938884\n",
              "4   34_search     1.839677\n",
              "5    4_search     1.802943\n",
              "6   42_search     1.528511\n",
              "7   27_search     1.522031\n",
              "8   13_search     1.435892\n",
              "9   49_search     1.304038\n",
              "10         20     1.266773\n",
              "11         10     1.239162\n",
              "12  29_search     1.238031\n",
              "13  41_search     1.160906\n",
              "14  55_search     1.144913\n",
              "15  62_search     1.100233\n",
              "16         58     1.043900\n",
              "17  24_search     1.017384\n",
              "18         16     1.009648\n",
              "19  53_search     0.965671"
            ],
            "text/html": [
              "\n",
              "  <div id=\"df-fadc7a4f-c1fd-4cfb-aaba-a2f5bb5eef67\" class=\"colab-df-container\">\n",
              "    <div>\n",
              "<style scoped>\n",
              "    .dataframe tbody tr th:only-of-type {\n",
              "        vertical-align: middle;\n",
              "    }\n",
              "\n",
              "    .dataframe tbody tr th {\n",
              "        vertical-align: top;\n",
              "    }\n",
              "\n",
              "    .dataframe thead th {\n",
              "        text-align: right;\n",
              "    }\n",
              "</style>\n",
              "<table border=\"1\" class=\"dataframe\">\n",
              "  <thead>\n",
              "    <tr style=\"text-align: right;\">\n",
              "      <th></th>\n",
              "      <th>Feature Id</th>\n",
              "      <th>Importances</th>\n",
              "    </tr>\n",
              "  </thead>\n",
              "  <tbody>\n",
              "    <tr>\n",
              "      <th>0</th>\n",
              "      <td>7_search</td>\n",
              "      <td>3.808227</td>\n",
              "    </tr>\n",
              "    <tr>\n",
              "      <th>1</th>\n",
              "      <td>17</td>\n",
              "      <td>2.604191</td>\n",
              "    </tr>\n",
              "    <tr>\n",
              "      <th>2</th>\n",
              "      <td>3_search</td>\n",
              "      <td>1.976742</td>\n",
              "    </tr>\n",
              "    <tr>\n",
              "      <th>3</th>\n",
              "      <td>28</td>\n",
              "      <td>1.938884</td>\n",
              "    </tr>\n",
              "    <tr>\n",
              "      <th>4</th>\n",
              "      <td>34_search</td>\n",
              "      <td>1.839677</td>\n",
              "    </tr>\n",
              "    <tr>\n",
              "      <th>5</th>\n",
              "      <td>4_search</td>\n",
              "      <td>1.802943</td>\n",
              "    </tr>\n",
              "    <tr>\n",
              "      <th>6</th>\n",
              "      <td>42_search</td>\n",
              "      <td>1.528511</td>\n",
              "    </tr>\n",
              "    <tr>\n",
              "      <th>7</th>\n",
              "      <td>27_search</td>\n",
              "      <td>1.522031</td>\n",
              "    </tr>\n",
              "    <tr>\n",
              "      <th>8</th>\n",
              "      <td>13_search</td>\n",
              "      <td>1.435892</td>\n",
              "    </tr>\n",
              "    <tr>\n",
              "      <th>9</th>\n",
              "      <td>49_search</td>\n",
              "      <td>1.304038</td>\n",
              "    </tr>\n",
              "    <tr>\n",
              "      <th>10</th>\n",
              "      <td>20</td>\n",
              "      <td>1.266773</td>\n",
              "    </tr>\n",
              "    <tr>\n",
              "      <th>11</th>\n",
              "      <td>10</td>\n",
              "      <td>1.239162</td>\n",
              "    </tr>\n",
              "    <tr>\n",
              "      <th>12</th>\n",
              "      <td>29_search</td>\n",
              "      <td>1.238031</td>\n",
              "    </tr>\n",
              "    <tr>\n",
              "      <th>13</th>\n",
              "      <td>41_search</td>\n",
              "      <td>1.160906</td>\n",
              "    </tr>\n",
              "    <tr>\n",
              "      <th>14</th>\n",
              "      <td>55_search</td>\n",
              "      <td>1.144913</td>\n",
              "    </tr>\n",
              "    <tr>\n",
              "      <th>15</th>\n",
              "      <td>62_search</td>\n",
              "      <td>1.100233</td>\n",
              "    </tr>\n",
              "    <tr>\n",
              "      <th>16</th>\n",
              "      <td>58</td>\n",
              "      <td>1.043900</td>\n",
              "    </tr>\n",
              "    <tr>\n",
              "      <th>17</th>\n",
              "      <td>24_search</td>\n",
              "      <td>1.017384</td>\n",
              "    </tr>\n",
              "    <tr>\n",
              "      <th>18</th>\n",
              "      <td>16</td>\n",
              "      <td>1.009648</td>\n",
              "    </tr>\n",
              "    <tr>\n",
              "      <th>19</th>\n",
              "      <td>53_search</td>\n",
              "      <td>0.965671</td>\n",
              "    </tr>\n",
              "  </tbody>\n",
              "</table>\n",
              "</div>\n",
              "    <div class=\"colab-df-buttons\">\n",
              "\n",
              "  <div class=\"colab-df-container\">\n",
              "    <button class=\"colab-df-convert\" onclick=\"convertToInteractive('df-fadc7a4f-c1fd-4cfb-aaba-a2f5bb5eef67')\"\n",
              "            title=\"Convert this dataframe to an interactive table.\"\n",
              "            style=\"display:none;\">\n",
              "\n",
              "  <svg xmlns=\"http://www.w3.org/2000/svg\" height=\"24px\" viewBox=\"0 -960 960 960\">\n",
              "    <path d=\"M120-120v-720h720v720H120Zm60-500h600v-160H180v160Zm220 220h160v-160H400v160Zm0 220h160v-160H400v160ZM180-400h160v-160H180v160Zm440 0h160v-160H620v160ZM180-180h160v-160H180v160Zm440 0h160v-160H620v160Z\"/>\n",
              "  </svg>\n",
              "    </button>\n",
              "\n",
              "  <style>\n",
              "    .colab-df-container {\n",
              "      display:flex;\n",
              "      gap: 12px;\n",
              "    }\n",
              "\n",
              "    .colab-df-convert {\n",
              "      background-color: #E8F0FE;\n",
              "      border: none;\n",
              "      border-radius: 50%;\n",
              "      cursor: pointer;\n",
              "      display: none;\n",
              "      fill: #1967D2;\n",
              "      height: 32px;\n",
              "      padding: 0 0 0 0;\n",
              "      width: 32px;\n",
              "    }\n",
              "\n",
              "    .colab-df-convert:hover {\n",
              "      background-color: #E2EBFA;\n",
              "      box-shadow: 0px 1px 2px rgba(60, 64, 67, 0.3), 0px 1px 3px 1px rgba(60, 64, 67, 0.15);\n",
              "      fill: #174EA6;\n",
              "    }\n",
              "\n",
              "    .colab-df-buttons div {\n",
              "      margin-bottom: 4px;\n",
              "    }\n",
              "\n",
              "    [theme=dark] .colab-df-convert {\n",
              "      background-color: #3B4455;\n",
              "      fill: #D2E3FC;\n",
              "    }\n",
              "\n",
              "    [theme=dark] .colab-df-convert:hover {\n",
              "      background-color: #434B5C;\n",
              "      box-shadow: 0px 1px 3px 1px rgba(0, 0, 0, 0.15);\n",
              "      filter: drop-shadow(0px 1px 2px rgba(0, 0, 0, 0.3));\n",
              "      fill: #FFFFFF;\n",
              "    }\n",
              "  </style>\n",
              "\n",
              "    <script>\n",
              "      const buttonEl =\n",
              "        document.querySelector('#df-fadc7a4f-c1fd-4cfb-aaba-a2f5bb5eef67 button.colab-df-convert');\n",
              "      buttonEl.style.display =\n",
              "        google.colab.kernel.accessAllowed ? 'block' : 'none';\n",
              "\n",
              "      async function convertToInteractive(key) {\n",
              "        const element = document.querySelector('#df-fadc7a4f-c1fd-4cfb-aaba-a2f5bb5eef67');\n",
              "        const dataTable =\n",
              "          await google.colab.kernel.invokeFunction('convertToInteractive',\n",
              "                                                    [key], {});\n",
              "        if (!dataTable) return;\n",
              "\n",
              "        const docLinkHtml = 'Like what you see? Visit the ' +\n",
              "          '<a target=\"_blank\" href=https://colab.research.google.com/notebooks/data_table.ipynb>data table notebook</a>'\n",
              "          + ' to learn more about interactive tables.';\n",
              "        element.innerHTML = '';\n",
              "        dataTable['output_type'] = 'display_data';\n",
              "        await google.colab.output.renderOutput(dataTable, element);\n",
              "        const docLink = document.createElement('div');\n",
              "        docLink.innerHTML = docLinkHtml;\n",
              "        element.appendChild(docLink);\n",
              "      }\n",
              "    </script>\n",
              "  </div>\n",
              "\n",
              "\n",
              "<div id=\"df-b96aaf94-a8cd-4ec1-bce2-9802ccf59fb9\">\n",
              "  <button class=\"colab-df-quickchart\" onclick=\"quickchart('df-b96aaf94-a8cd-4ec1-bce2-9802ccf59fb9')\"\n",
              "            title=\"Suggest charts.\"\n",
              "            style=\"display:none;\">\n",
              "\n",
              "<svg xmlns=\"http://www.w3.org/2000/svg\" height=\"24px\"viewBox=\"0 0 24 24\"\n",
              "     width=\"24px\">\n",
              "    <g>\n",
              "        <path d=\"M19 3H5c-1.1 0-2 .9-2 2v14c0 1.1.9 2 2 2h14c1.1 0 2-.9 2-2V5c0-1.1-.9-2-2-2zM9 17H7v-7h2v7zm4 0h-2V7h2v10zm4 0h-2v-4h2v4z\"/>\n",
              "    </g>\n",
              "</svg>\n",
              "  </button>\n",
              "\n",
              "<style>\n",
              "  .colab-df-quickchart {\n",
              "      --bg-color: #E8F0FE;\n",
              "      --fill-color: #1967D2;\n",
              "      --hover-bg-color: #E2EBFA;\n",
              "      --hover-fill-color: #174EA6;\n",
              "      --disabled-fill-color: #AAA;\n",
              "      --disabled-bg-color: #DDD;\n",
              "  }\n",
              "\n",
              "  [theme=dark] .colab-df-quickchart {\n",
              "      --bg-color: #3B4455;\n",
              "      --fill-color: #D2E3FC;\n",
              "      --hover-bg-color: #434B5C;\n",
              "      --hover-fill-color: #FFFFFF;\n",
              "      --disabled-bg-color: #3B4455;\n",
              "      --disabled-fill-color: #666;\n",
              "  }\n",
              "\n",
              "  .colab-df-quickchart {\n",
              "    background-color: var(--bg-color);\n",
              "    border: none;\n",
              "    border-radius: 50%;\n",
              "    cursor: pointer;\n",
              "    display: none;\n",
              "    fill: var(--fill-color);\n",
              "    height: 32px;\n",
              "    padding: 0;\n",
              "    width: 32px;\n",
              "  }\n",
              "\n",
              "  .colab-df-quickchart:hover {\n",
              "    background-color: var(--hover-bg-color);\n",
              "    box-shadow: 0 1px 2px rgba(60, 64, 67, 0.3), 0 1px 3px 1px rgba(60, 64, 67, 0.15);\n",
              "    fill: var(--button-hover-fill-color);\n",
              "  }\n",
              "\n",
              "  .colab-df-quickchart-complete:disabled,\n",
              "  .colab-df-quickchart-complete:disabled:hover {\n",
              "    background-color: var(--disabled-bg-color);\n",
              "    fill: var(--disabled-fill-color);\n",
              "    box-shadow: none;\n",
              "  }\n",
              "\n",
              "  .colab-df-spinner {\n",
              "    border: 2px solid var(--fill-color);\n",
              "    border-color: transparent;\n",
              "    border-bottom-color: var(--fill-color);\n",
              "    animation:\n",
              "      spin 1s steps(1) infinite;\n",
              "  }\n",
              "\n",
              "  @keyframes spin {\n",
              "    0% {\n",
              "      border-color: transparent;\n",
              "      border-bottom-color: var(--fill-color);\n",
              "      border-left-color: var(--fill-color);\n",
              "    }\n",
              "    20% {\n",
              "      border-color: transparent;\n",
              "      border-left-color: var(--fill-color);\n",
              "      border-top-color: var(--fill-color);\n",
              "    }\n",
              "    30% {\n",
              "      border-color: transparent;\n",
              "      border-left-color: var(--fill-color);\n",
              "      border-top-color: var(--fill-color);\n",
              "      border-right-color: var(--fill-color);\n",
              "    }\n",
              "    40% {\n",
              "      border-color: transparent;\n",
              "      border-right-color: var(--fill-color);\n",
              "      border-top-color: var(--fill-color);\n",
              "    }\n",
              "    60% {\n",
              "      border-color: transparent;\n",
              "      border-right-color: var(--fill-color);\n",
              "    }\n",
              "    80% {\n",
              "      border-color: transparent;\n",
              "      border-right-color: var(--fill-color);\n",
              "      border-bottom-color: var(--fill-color);\n",
              "    }\n",
              "    90% {\n",
              "      border-color: transparent;\n",
              "      border-bottom-color: var(--fill-color);\n",
              "    }\n",
              "  }\n",
              "</style>\n",
              "\n",
              "  <script>\n",
              "    async function quickchart(key) {\n",
              "      const quickchartButtonEl =\n",
              "        document.querySelector('#' + key + ' button');\n",
              "      quickchartButtonEl.disabled = true;  // To prevent multiple clicks.\n",
              "      quickchartButtonEl.classList.add('colab-df-spinner');\n",
              "      try {\n",
              "        const charts = await google.colab.kernel.invokeFunction(\n",
              "            'suggestCharts', [key], {});\n",
              "      } catch (error) {\n",
              "        console.error('Error during call to suggestCharts:', error);\n",
              "      }\n",
              "      quickchartButtonEl.classList.remove('colab-df-spinner');\n",
              "      quickchartButtonEl.classList.add('colab-df-quickchart-complete');\n",
              "    }\n",
              "    (() => {\n",
              "      let quickchartButtonEl =\n",
              "        document.querySelector('#df-b96aaf94-a8cd-4ec1-bce2-9802ccf59fb9 button');\n",
              "      quickchartButtonEl.style.display =\n",
              "        google.colab.kernel.accessAllowed ? 'block' : 'none';\n",
              "    })();\n",
              "  </script>\n",
              "</div>\n",
              "    </div>\n",
              "  </div>\n"
            ]
          },
          "metadata": {},
          "execution_count": 76
        }
      ]
    },
    {
      "cell_type": "code",
      "source": [
        "# Сохраним модель для будущего использования\n",
        "model_filename = f'/content/drive/MyDrive/cbm_1.cbm'\n",
        "model.save_model(model_filename,\n",
        "           format=\"cbm\",\n",
        "           export_parameters=None,\n",
        "           pool=None)"
      ],
      "metadata": {
        "id": "sxFhjXYavkWL"
      },
      "execution_count": 77,
      "outputs": []
    },
    {
      "cell_type": "code",
      "source": [
        "y_pr = model.predict_proba(test_data)[:, 1]\n",
        "#np.argsort(y_pr)"
      ],
      "metadata": {
        "id": "akSxuAGwAoRn"
      },
      "execution_count": 78,
      "outputs": []
    },
    {
      "cell_type": "code",
      "source": [
        "X_test['is_neighbour'] = y_test\n",
        "X_test['is_neighbour_proba'] = y_pr\n",
        "roc_auc_score(X_test['is_neighbour'],X_test['is_neighbour_proba'])"
      ],
      "metadata": {
        "colab": {
          "base_uri": "https://localhost:8080/"
        },
        "id": "YVolXX9k1QEh",
        "outputId": "c4da7b9f-f156-42d0-889b-f0f7837c8dd0"
      },
      "execution_count": 79,
      "outputs": [
        {
          "output_type": "execute_result",
          "data": {
            "text/plain": [
              "0.4994918699186992"
            ]
          },
          "metadata": {},
          "execution_count": 79
        }
      ]
    },
    {
      "cell_type": "markdown",
      "source": [
        "Модель требует дополнительной настройки и в данном виде неприменима для улучшения метрики."
      ],
      "metadata": {
        "id": "gWbxVz5_2gN1"
      }
    },
    {
      "cell_type": "markdown",
      "source": [
        "### Промежуточные результаты - 3"
      ],
      "metadata": {
        "id": "flsxcP00WYcw"
      }
    },
    {
      "cell_type": "code",
      "source": [
        "my_metrics = pd.DataFrame(overall_scores)\n",
        "my_metrics"
      ],
      "metadata": {
        "id": "_cAPVrzIWdKU",
        "colab": {
          "base_uri": "https://localhost:8080/",
          "height": 582
        },
        "outputId": "85b7753a-5ef4-4de5-8031-2ae9e210449a"
      },
      "execution_count": 80,
      "outputs": [
        {
          "output_type": "execute_result",
          "data": {
            "text/plain": [
              "    Кластеры  Поиск в соседних                             Опции  accuracy@5\n",
              "0        100                 1                          baseline       7.631\n",
              "1       1000                 1                            search       4.369\n",
              "2       1000                 2                            search       6.196\n",
              "3       1000                10                            search      11.190\n",
              "4        500                 1                            search       5.194\n",
              "5        500                 2                            search       7.368\n",
              "6        500                10                            search      12.288\n",
              "7        200                 1                            search       6.552\n",
              "8        200                 2                            search       8.980\n",
              "9        200                10                            search      13.260\n",
              "10      1000                10                      MinMaxScaler      20.330\n",
              "11      1000                10                     Drop Unnormal      25.903\n",
              "12      1000                10       Drop Unimportant (Catboost)      59.322\n",
              "13      1000                10                      RobustScaler      52.550\n",
              "14      1000                10                    StandardScaler      63.748\n",
              "15      1000                10  StandardScaler, Drop Unimportant      63.282\n",
              "16       200                20     StandardScaler, 50 Neighbours      80.000"
            ],
            "text/html": [
              "\n",
              "  <div id=\"df-c6e1b034-8d19-4e97-a019-09887c344f08\" class=\"colab-df-container\">\n",
              "    <div>\n",
              "<style scoped>\n",
              "    .dataframe tbody tr th:only-of-type {\n",
              "        vertical-align: middle;\n",
              "    }\n",
              "\n",
              "    .dataframe tbody tr th {\n",
              "        vertical-align: top;\n",
              "    }\n",
              "\n",
              "    .dataframe thead th {\n",
              "        text-align: right;\n",
              "    }\n",
              "</style>\n",
              "<table border=\"1\" class=\"dataframe\">\n",
              "  <thead>\n",
              "    <tr style=\"text-align: right;\">\n",
              "      <th></th>\n",
              "      <th>Кластеры</th>\n",
              "      <th>Поиск в соседних</th>\n",
              "      <th>Опции</th>\n",
              "      <th>accuracy@5</th>\n",
              "    </tr>\n",
              "  </thead>\n",
              "  <tbody>\n",
              "    <tr>\n",
              "      <th>0</th>\n",
              "      <td>100</td>\n",
              "      <td>1</td>\n",
              "      <td>baseline</td>\n",
              "      <td>7.631</td>\n",
              "    </tr>\n",
              "    <tr>\n",
              "      <th>1</th>\n",
              "      <td>1000</td>\n",
              "      <td>1</td>\n",
              "      <td>search</td>\n",
              "      <td>4.369</td>\n",
              "    </tr>\n",
              "    <tr>\n",
              "      <th>2</th>\n",
              "      <td>1000</td>\n",
              "      <td>2</td>\n",
              "      <td>search</td>\n",
              "      <td>6.196</td>\n",
              "    </tr>\n",
              "    <tr>\n",
              "      <th>3</th>\n",
              "      <td>1000</td>\n",
              "      <td>10</td>\n",
              "      <td>search</td>\n",
              "      <td>11.190</td>\n",
              "    </tr>\n",
              "    <tr>\n",
              "      <th>4</th>\n",
              "      <td>500</td>\n",
              "      <td>1</td>\n",
              "      <td>search</td>\n",
              "      <td>5.194</td>\n",
              "    </tr>\n",
              "    <tr>\n",
              "      <th>5</th>\n",
              "      <td>500</td>\n",
              "      <td>2</td>\n",
              "      <td>search</td>\n",
              "      <td>7.368</td>\n",
              "    </tr>\n",
              "    <tr>\n",
              "      <th>6</th>\n",
              "      <td>500</td>\n",
              "      <td>10</td>\n",
              "      <td>search</td>\n",
              "      <td>12.288</td>\n",
              "    </tr>\n",
              "    <tr>\n",
              "      <th>7</th>\n",
              "      <td>200</td>\n",
              "      <td>1</td>\n",
              "      <td>search</td>\n",
              "      <td>6.552</td>\n",
              "    </tr>\n",
              "    <tr>\n",
              "      <th>8</th>\n",
              "      <td>200</td>\n",
              "      <td>2</td>\n",
              "      <td>search</td>\n",
              "      <td>8.980</td>\n",
              "    </tr>\n",
              "    <tr>\n",
              "      <th>9</th>\n",
              "      <td>200</td>\n",
              "      <td>10</td>\n",
              "      <td>search</td>\n",
              "      <td>13.260</td>\n",
              "    </tr>\n",
              "    <tr>\n",
              "      <th>10</th>\n",
              "      <td>1000</td>\n",
              "      <td>10</td>\n",
              "      <td>MinMaxScaler</td>\n",
              "      <td>20.330</td>\n",
              "    </tr>\n",
              "    <tr>\n",
              "      <th>11</th>\n",
              "      <td>1000</td>\n",
              "      <td>10</td>\n",
              "      <td>Drop Unnormal</td>\n",
              "      <td>25.903</td>\n",
              "    </tr>\n",
              "    <tr>\n",
              "      <th>12</th>\n",
              "      <td>1000</td>\n",
              "      <td>10</td>\n",
              "      <td>Drop Unimportant (Catboost)</td>\n",
              "      <td>59.322</td>\n",
              "    </tr>\n",
              "    <tr>\n",
              "      <th>13</th>\n",
              "      <td>1000</td>\n",
              "      <td>10</td>\n",
              "      <td>RobustScaler</td>\n",
              "      <td>52.550</td>\n",
              "    </tr>\n",
              "    <tr>\n",
              "      <th>14</th>\n",
              "      <td>1000</td>\n",
              "      <td>10</td>\n",
              "      <td>StandardScaler</td>\n",
              "      <td>63.748</td>\n",
              "    </tr>\n",
              "    <tr>\n",
              "      <th>15</th>\n",
              "      <td>1000</td>\n",
              "      <td>10</td>\n",
              "      <td>StandardScaler, Drop Unimportant</td>\n",
              "      <td>63.282</td>\n",
              "    </tr>\n",
              "    <tr>\n",
              "      <th>16</th>\n",
              "      <td>200</td>\n",
              "      <td>20</td>\n",
              "      <td>StandardScaler, 50 Neighbours</td>\n",
              "      <td>80.000</td>\n",
              "    </tr>\n",
              "  </tbody>\n",
              "</table>\n",
              "</div>\n",
              "    <div class=\"colab-df-buttons\">\n",
              "\n",
              "  <div class=\"colab-df-container\">\n",
              "    <button class=\"colab-df-convert\" onclick=\"convertToInteractive('df-c6e1b034-8d19-4e97-a019-09887c344f08')\"\n",
              "            title=\"Convert this dataframe to an interactive table.\"\n",
              "            style=\"display:none;\">\n",
              "\n",
              "  <svg xmlns=\"http://www.w3.org/2000/svg\" height=\"24px\" viewBox=\"0 -960 960 960\">\n",
              "    <path d=\"M120-120v-720h720v720H120Zm60-500h600v-160H180v160Zm220 220h160v-160H400v160Zm0 220h160v-160H400v160ZM180-400h160v-160H180v160Zm440 0h160v-160H620v160ZM180-180h160v-160H180v160Zm440 0h160v-160H620v160Z\"/>\n",
              "  </svg>\n",
              "    </button>\n",
              "\n",
              "  <style>\n",
              "    .colab-df-container {\n",
              "      display:flex;\n",
              "      gap: 12px;\n",
              "    }\n",
              "\n",
              "    .colab-df-convert {\n",
              "      background-color: #E8F0FE;\n",
              "      border: none;\n",
              "      border-radius: 50%;\n",
              "      cursor: pointer;\n",
              "      display: none;\n",
              "      fill: #1967D2;\n",
              "      height: 32px;\n",
              "      padding: 0 0 0 0;\n",
              "      width: 32px;\n",
              "    }\n",
              "\n",
              "    .colab-df-convert:hover {\n",
              "      background-color: #E2EBFA;\n",
              "      box-shadow: 0px 1px 2px rgba(60, 64, 67, 0.3), 0px 1px 3px 1px rgba(60, 64, 67, 0.15);\n",
              "      fill: #174EA6;\n",
              "    }\n",
              "\n",
              "    .colab-df-buttons div {\n",
              "      margin-bottom: 4px;\n",
              "    }\n",
              "\n",
              "    [theme=dark] .colab-df-convert {\n",
              "      background-color: #3B4455;\n",
              "      fill: #D2E3FC;\n",
              "    }\n",
              "\n",
              "    [theme=dark] .colab-df-convert:hover {\n",
              "      background-color: #434B5C;\n",
              "      box-shadow: 0px 1px 3px 1px rgba(0, 0, 0, 0.15);\n",
              "      filter: drop-shadow(0px 1px 2px rgba(0, 0, 0, 0.3));\n",
              "      fill: #FFFFFF;\n",
              "    }\n",
              "  </style>\n",
              "\n",
              "    <script>\n",
              "      const buttonEl =\n",
              "        document.querySelector('#df-c6e1b034-8d19-4e97-a019-09887c344f08 button.colab-df-convert');\n",
              "      buttonEl.style.display =\n",
              "        google.colab.kernel.accessAllowed ? 'block' : 'none';\n",
              "\n",
              "      async function convertToInteractive(key) {\n",
              "        const element = document.querySelector('#df-c6e1b034-8d19-4e97-a019-09887c344f08');\n",
              "        const dataTable =\n",
              "          await google.colab.kernel.invokeFunction('convertToInteractive',\n",
              "                                                    [key], {});\n",
              "        if (!dataTable) return;\n",
              "\n",
              "        const docLinkHtml = 'Like what you see? Visit the ' +\n",
              "          '<a target=\"_blank\" href=https://colab.research.google.com/notebooks/data_table.ipynb>data table notebook</a>'\n",
              "          + ' to learn more about interactive tables.';\n",
              "        element.innerHTML = '';\n",
              "        dataTable['output_type'] = 'display_data';\n",
              "        await google.colab.output.renderOutput(dataTable, element);\n",
              "        const docLink = document.createElement('div');\n",
              "        docLink.innerHTML = docLinkHtml;\n",
              "        element.appendChild(docLink);\n",
              "      }\n",
              "    </script>\n",
              "  </div>\n",
              "\n",
              "\n",
              "<div id=\"df-fa5cc5c2-0edf-4933-9e39-2263c9331ae8\">\n",
              "  <button class=\"colab-df-quickchart\" onclick=\"quickchart('df-fa5cc5c2-0edf-4933-9e39-2263c9331ae8')\"\n",
              "            title=\"Suggest charts.\"\n",
              "            style=\"display:none;\">\n",
              "\n",
              "<svg xmlns=\"http://www.w3.org/2000/svg\" height=\"24px\"viewBox=\"0 0 24 24\"\n",
              "     width=\"24px\">\n",
              "    <g>\n",
              "        <path d=\"M19 3H5c-1.1 0-2 .9-2 2v14c0 1.1.9 2 2 2h14c1.1 0 2-.9 2-2V5c0-1.1-.9-2-2-2zM9 17H7v-7h2v7zm4 0h-2V7h2v10zm4 0h-2v-4h2v4z\"/>\n",
              "    </g>\n",
              "</svg>\n",
              "  </button>\n",
              "\n",
              "<style>\n",
              "  .colab-df-quickchart {\n",
              "      --bg-color: #E8F0FE;\n",
              "      --fill-color: #1967D2;\n",
              "      --hover-bg-color: #E2EBFA;\n",
              "      --hover-fill-color: #174EA6;\n",
              "      --disabled-fill-color: #AAA;\n",
              "      --disabled-bg-color: #DDD;\n",
              "  }\n",
              "\n",
              "  [theme=dark] .colab-df-quickchart {\n",
              "      --bg-color: #3B4455;\n",
              "      --fill-color: #D2E3FC;\n",
              "      --hover-bg-color: #434B5C;\n",
              "      --hover-fill-color: #FFFFFF;\n",
              "      --disabled-bg-color: #3B4455;\n",
              "      --disabled-fill-color: #666;\n",
              "  }\n",
              "\n",
              "  .colab-df-quickchart {\n",
              "    background-color: var(--bg-color);\n",
              "    border: none;\n",
              "    border-radius: 50%;\n",
              "    cursor: pointer;\n",
              "    display: none;\n",
              "    fill: var(--fill-color);\n",
              "    height: 32px;\n",
              "    padding: 0;\n",
              "    width: 32px;\n",
              "  }\n",
              "\n",
              "  .colab-df-quickchart:hover {\n",
              "    background-color: var(--hover-bg-color);\n",
              "    box-shadow: 0 1px 2px rgba(60, 64, 67, 0.3), 0 1px 3px 1px rgba(60, 64, 67, 0.15);\n",
              "    fill: var(--button-hover-fill-color);\n",
              "  }\n",
              "\n",
              "  .colab-df-quickchart-complete:disabled,\n",
              "  .colab-df-quickchart-complete:disabled:hover {\n",
              "    background-color: var(--disabled-bg-color);\n",
              "    fill: var(--disabled-fill-color);\n",
              "    box-shadow: none;\n",
              "  }\n",
              "\n",
              "  .colab-df-spinner {\n",
              "    border: 2px solid var(--fill-color);\n",
              "    border-color: transparent;\n",
              "    border-bottom-color: var(--fill-color);\n",
              "    animation:\n",
              "      spin 1s steps(1) infinite;\n",
              "  }\n",
              "\n",
              "  @keyframes spin {\n",
              "    0% {\n",
              "      border-color: transparent;\n",
              "      border-bottom-color: var(--fill-color);\n",
              "      border-left-color: var(--fill-color);\n",
              "    }\n",
              "    20% {\n",
              "      border-color: transparent;\n",
              "      border-left-color: var(--fill-color);\n",
              "      border-top-color: var(--fill-color);\n",
              "    }\n",
              "    30% {\n",
              "      border-color: transparent;\n",
              "      border-left-color: var(--fill-color);\n",
              "      border-top-color: var(--fill-color);\n",
              "      border-right-color: var(--fill-color);\n",
              "    }\n",
              "    40% {\n",
              "      border-color: transparent;\n",
              "      border-right-color: var(--fill-color);\n",
              "      border-top-color: var(--fill-color);\n",
              "    }\n",
              "    60% {\n",
              "      border-color: transparent;\n",
              "      border-right-color: var(--fill-color);\n",
              "    }\n",
              "    80% {\n",
              "      border-color: transparent;\n",
              "      border-right-color: var(--fill-color);\n",
              "      border-bottom-color: var(--fill-color);\n",
              "    }\n",
              "    90% {\n",
              "      border-color: transparent;\n",
              "      border-bottom-color: var(--fill-color);\n",
              "    }\n",
              "  }\n",
              "</style>\n",
              "\n",
              "  <script>\n",
              "    async function quickchart(key) {\n",
              "      const quickchartButtonEl =\n",
              "        document.querySelector('#' + key + ' button');\n",
              "      quickchartButtonEl.disabled = true;  // To prevent multiple clicks.\n",
              "      quickchartButtonEl.classList.add('colab-df-spinner');\n",
              "      try {\n",
              "        const charts = await google.colab.kernel.invokeFunction(\n",
              "            'suggestCharts', [key], {});\n",
              "      } catch (error) {\n",
              "        console.error('Error during call to suggestCharts:', error);\n",
              "      }\n",
              "      quickchartButtonEl.classList.remove('colab-df-spinner');\n",
              "      quickchartButtonEl.classList.add('colab-df-quickchart-complete');\n",
              "    }\n",
              "    (() => {\n",
              "      let quickchartButtonEl =\n",
              "        document.querySelector('#df-fa5cc5c2-0edf-4933-9e39-2263c9331ae8 button');\n",
              "      quickchartButtonEl.style.display =\n",
              "        google.colab.kernel.accessAllowed ? 'block' : 'none';\n",
              "    })();\n",
              "  </script>\n",
              "</div>\n",
              "    </div>\n",
              "  </div>\n"
            ]
          },
          "metadata": {},
          "execution_count": 80
        }
      ]
    },
    {
      "cell_type": "markdown",
      "source": [
        "Как показывает тестирование, модель в состоянии указать на наиболее важные признаки, которым можно будет уделять дополнительное внимание."
      ],
      "metadata": {
        "id": "fZo8uhcD25Nh"
      }
    },
    {
      "cell_type": "markdown",
      "source": [
        "## Решение задачи"
      ],
      "metadata": {
        "id": "HP-E9bcYWkhd"
      }
    },
    {
      "cell_type": "markdown",
      "source": [
        "Загрузим сохранённый ранее индекс и проведём поиск 5 ближайших соседей для всех товаров из `validation.csv`."
      ],
      "metadata": {
        "id": "8LPIn3cgJRC9"
      }
    },
    {
      "cell_type": "code",
      "source": [
        "idx_l2 = faiss.read_index('/content/drive/MyDrive/idx_l2_200_20.index')\n",
        "nprobe = idx_l2.nprobe"
      ],
      "metadata": {
        "id": "UlIMOXDwWs78"
      },
      "execution_count": 81,
      "outputs": []
    },
    {
      "cell_type": "code",
      "source": [
        "# ответы у нас уже есть\n",
        "answers = df_validation_answer.squeeze()\n",
        "# не забываем масштабирование\n",
        "scaler_SS=load(scaler_filename)\n",
        "df_validation_SS = scaler_SS.transform(df_validation)"
      ],
      "metadata": {
        "id": "ywQYMcf2noz4"
      },
      "execution_count": 99,
      "outputs": []
    },
    {
      "cell_type": "code",
      "source": [
        "%%time\n",
        "r, idx = idx_l2.search(np.ascontiguousarray(df_validation_SS).astype('float32'), 5)\n",
        "accuracy_aggregator(answers, idx, base_index, 200, nprobe, 'Validation')"
      ],
      "metadata": {
        "colab": {
          "base_uri": "https://localhost:8080/"
        },
        "id": "81O90Yncno4Y",
        "outputId": "30d62a51-ea9d-44ae-bb1d-6230f6c6bccf"
      },
      "execution_count": 86,
      "outputs": [
        {
          "output_type": "stream",
          "name": "stdout",
          "text": [
            "Кластеры: 200, nprobe: 20, accuracy@5: 64.801 %\n",
            "CPU times: user 25min 50s, sys: 2.45 s, total: 25min 53s\n",
            "Wall time: 16min 45s\n"
          ]
        }
      ]
    },
    {
      "cell_type": "code",
      "source": [
        "my_metrics = pd.DataFrame(overall_scores)\n",
        "my_metrics.tail(1)"
      ],
      "metadata": {
        "id": "j6UX0YNwno_6",
        "colab": {
          "base_uri": "https://localhost:8080/",
          "height": 81
        },
        "outputId": "24afbc55-36ab-4f26-a79c-190a13d4d183"
      },
      "execution_count": 92,
      "outputs": [
        {
          "output_type": "execute_result",
          "data": {
            "text/plain": [
              "    Кластеры  Поиск в соседних       Опции  accuracy@5\n",
              "17       200                20  Validation      64.801"
            ],
            "text/html": [
              "\n",
              "  <div id=\"df-2ebe1be5-814d-427d-abd4-0dcc5b19470f\" class=\"colab-df-container\">\n",
              "    <div>\n",
              "<style scoped>\n",
              "    .dataframe tbody tr th:only-of-type {\n",
              "        vertical-align: middle;\n",
              "    }\n",
              "\n",
              "    .dataframe tbody tr th {\n",
              "        vertical-align: top;\n",
              "    }\n",
              "\n",
              "    .dataframe thead th {\n",
              "        text-align: right;\n",
              "    }\n",
              "</style>\n",
              "<table border=\"1\" class=\"dataframe\">\n",
              "  <thead>\n",
              "    <tr style=\"text-align: right;\">\n",
              "      <th></th>\n",
              "      <th>Кластеры</th>\n",
              "      <th>Поиск в соседних</th>\n",
              "      <th>Опции</th>\n",
              "      <th>accuracy@5</th>\n",
              "    </tr>\n",
              "  </thead>\n",
              "  <tbody>\n",
              "    <tr>\n",
              "      <th>17</th>\n",
              "      <td>200</td>\n",
              "      <td>20</td>\n",
              "      <td>Validation</td>\n",
              "      <td>64.801</td>\n",
              "    </tr>\n",
              "  </tbody>\n",
              "</table>\n",
              "</div>\n",
              "    <div class=\"colab-df-buttons\">\n",
              "\n",
              "  <div class=\"colab-df-container\">\n",
              "    <button class=\"colab-df-convert\" onclick=\"convertToInteractive('df-2ebe1be5-814d-427d-abd4-0dcc5b19470f')\"\n",
              "            title=\"Convert this dataframe to an interactive table.\"\n",
              "            style=\"display:none;\">\n",
              "\n",
              "  <svg xmlns=\"http://www.w3.org/2000/svg\" height=\"24px\" viewBox=\"0 -960 960 960\">\n",
              "    <path d=\"M120-120v-720h720v720H120Zm60-500h600v-160H180v160Zm220 220h160v-160H400v160Zm0 220h160v-160H400v160ZM180-400h160v-160H180v160Zm440 0h160v-160H620v160ZM180-180h160v-160H180v160Zm440 0h160v-160H620v160Z\"/>\n",
              "  </svg>\n",
              "    </button>\n",
              "\n",
              "  <style>\n",
              "    .colab-df-container {\n",
              "      display:flex;\n",
              "      gap: 12px;\n",
              "    }\n",
              "\n",
              "    .colab-df-convert {\n",
              "      background-color: #E8F0FE;\n",
              "      border: none;\n",
              "      border-radius: 50%;\n",
              "      cursor: pointer;\n",
              "      display: none;\n",
              "      fill: #1967D2;\n",
              "      height: 32px;\n",
              "      padding: 0 0 0 0;\n",
              "      width: 32px;\n",
              "    }\n",
              "\n",
              "    .colab-df-convert:hover {\n",
              "      background-color: #E2EBFA;\n",
              "      box-shadow: 0px 1px 2px rgba(60, 64, 67, 0.3), 0px 1px 3px 1px rgba(60, 64, 67, 0.15);\n",
              "      fill: #174EA6;\n",
              "    }\n",
              "\n",
              "    .colab-df-buttons div {\n",
              "      margin-bottom: 4px;\n",
              "    }\n",
              "\n",
              "    [theme=dark] .colab-df-convert {\n",
              "      background-color: #3B4455;\n",
              "      fill: #D2E3FC;\n",
              "    }\n",
              "\n",
              "    [theme=dark] .colab-df-convert:hover {\n",
              "      background-color: #434B5C;\n",
              "      box-shadow: 0px 1px 3px 1px rgba(0, 0, 0, 0.15);\n",
              "      filter: drop-shadow(0px 1px 2px rgba(0, 0, 0, 0.3));\n",
              "      fill: #FFFFFF;\n",
              "    }\n",
              "  </style>\n",
              "\n",
              "    <script>\n",
              "      const buttonEl =\n",
              "        document.querySelector('#df-2ebe1be5-814d-427d-abd4-0dcc5b19470f button.colab-df-convert');\n",
              "      buttonEl.style.display =\n",
              "        google.colab.kernel.accessAllowed ? 'block' : 'none';\n",
              "\n",
              "      async function convertToInteractive(key) {\n",
              "        const element = document.querySelector('#df-2ebe1be5-814d-427d-abd4-0dcc5b19470f');\n",
              "        const dataTable =\n",
              "          await google.colab.kernel.invokeFunction('convertToInteractive',\n",
              "                                                    [key], {});\n",
              "        if (!dataTable) return;\n",
              "\n",
              "        const docLinkHtml = 'Like what you see? Visit the ' +\n",
              "          '<a target=\"_blank\" href=https://colab.research.google.com/notebooks/data_table.ipynb>data table notebook</a>'\n",
              "          + ' to learn more about interactive tables.';\n",
              "        element.innerHTML = '';\n",
              "        dataTable['output_type'] = 'display_data';\n",
              "        await google.colab.output.renderOutput(dataTable, element);\n",
              "        const docLink = document.createElement('div');\n",
              "        docLink.innerHTML = docLinkHtml;\n",
              "        element.appendChild(docLink);\n",
              "      }\n",
              "    </script>\n",
              "  </div>\n",
              "\n",
              "    </div>\n",
              "  </div>\n"
            ]
          },
          "metadata": {},
          "execution_count": 92
        }
      ]
    },
    {
      "cell_type": "markdown",
      "source": [
        "## Выводы"
      ],
      "metadata": {
        "id": "pz5DgBLgWuYd"
      }
    },
    {
      "cell_type": "markdown",
      "source": [
        "В проекте решалась **задача разработки алгоритма, который для всех товаров из `validation.csv` предложит несколько вариантов наиболее похожих товаров из `base.csv`**.\n",
        "\n",
        "При этом:\n",
        "- `base.csv` - анонимизированный набор товаров. Каждый товар представлен как уникальный id (0-base, 1-base, 2-base) и вектор признаков размерностью 72.\n",
        "- `validation.csv` - датасет с товарами (уникальный id и вектор признаков), для которых надо найти наиболее близкие товары из base.csv\n",
        "\n",
        "Для подбора оптимальных параметров приближенного поиска использовался обучающий датасет `target.csv`. Каждая строчка - один товар, для которого известен уникальный id (0-query, 1-query, …), вектор признаков и id товара из base.csv, который максимально похож на него (по мнению экспертов).\n",
        "\n",
        "- При решении задачи была использована библиотека для приближённого поиска ближайших соседей `FAISS`.\n",
        "\n",
        "- Проведён исследовательский анализ данных. В целях повышения метрики произведено масштабирование признаков с использованием `StandardScaler`.\n",
        "\n",
        "- Создан, обучен и сохранён на диск индекс для `FAISS` с оптимальными в рамках данного исследования параметрами.\n",
        "\n",
        "- В качестве демонстрации подхода обучена ранжирующая модель CatBoost. В дальнейшем модель позволит дополнительно оптимизировать поиск, а также выделить наиболее значимые признаки.\n",
        "\n",
        "- Время поиска 5 ближайших соседей для датасета `validation.csv` на этом индексе составило около **15 минут** (Colab, без подписки).\n",
        "\n",
        "- Качество предложенного алгоритма по метрике `accuracy@5` для датасета `validation.csv` составило **64,8%**.\n",
        "\n",
        "- Сохранённые индекс и модель позволяют реализовать развёртывание решения в виде микросервиса.\n"
      ],
      "metadata": {
        "id": "3wmVtWVTW1YX"
      }
    },
    {
      "cell_type": "code",
      "source": [],
      "metadata": {
        "id": "VeqCwRWTG_AG"
      },
      "execution_count": null,
      "outputs": []
    }
  ]
}